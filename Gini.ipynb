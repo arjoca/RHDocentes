{
  "nbformat": 4,
  "nbformat_minor": 0,
  "metadata": {
    "colab": {
      "name": "Untitled0.ipynb",
      "provenance": [],
      "authorship_tag": "ABX9TyN5oQ/bDW5MstM4PJEyYmij",
      "include_colab_link": true
    },
    "kernelspec": {
      "name": "python3",
      "display_name": "Python 3"
    },
    "language_info": {
      "name": "python"
    }
  },
  "cells": [
    {
      "cell_type": "markdown",
      "metadata": {
        "id": "view-in-github",
        "colab_type": "text"
      },
      "source": [
        "<a href=\"https://colab.research.google.com/github/arjoca/RHDocentes/blob/main/Gini.ipynb\" target=\"_parent\"><img src=\"https://colab.research.google.com/assets/colab-badge.svg\" alt=\"Open In Colab\"/></a>"
      ]
    },
    {
      "cell_type": "markdown",
      "source": [
        "https://github.com/oliviaguest/gini"
      ],
      "metadata": {
        "id": "LqcYAkQshBqT"
      }
    },
    {
      "cell_type": "code",
      "source": [
        "import numpy as np\n",
        "import pandas as pd"
      ],
      "metadata": {
        "id": "gA8KXzk0RI__"
      },
      "execution_count": 1,
      "outputs": []
    },
    {
      "cell_type": "code",
      "source": [
        "s1 = pd.Series(np.random.randn(7))\n",
        "s2 = pd.Series(np.ones(7))\n",
        "s3 = pd.Series(np.zeros(7))\n",
        "s3[3] = 1"
      ],
      "metadata": {
        "id": "NckcW35tRNK9"
      },
      "execution_count": 10,
      "outputs": []
    },
    {
      "cell_type": "code",
      "source": [
        "s3"
      ],
      "metadata": {
        "colab": {
          "base_uri": "https://localhost:8080/"
        },
        "id": "RLaK1PdlRVM0",
        "outputId": "0bb812a8-6d81-4917-bbd1-b719f5336244"
      },
      "execution_count": 11,
      "outputs": [
        {
          "output_type": "execute_result",
          "data": {
            "text/plain": [
              "0    0.0\n",
              "1    0.0\n",
              "2    0.0\n",
              "3    1.0\n",
              "4    0.0\n",
              "5    0.0\n",
              "6    0.0\n",
              "dtype: float64"
            ]
          },
          "metadata": {},
          "execution_count": 11
        }
      ]
    },
    {
      "cell_type": "code",
      "source": [
        "def gini_coefficient(x):\n",
        "    \"\"\"Compute Gini coefficient of array of values\"\"\"\n",
        "    diffsum = 0\n",
        "    for i, xi in enumerate(x[:-1], 1):\n",
        "        diffsum += np.sum(np.abs(xi - x[i:]))\n",
        "    return diffsum / (len(x)**2 * np.mean(x))"
      ],
      "metadata": {
        "id": "h3OmsA0qRV7j"
      },
      "execution_count": 4,
      "outputs": []
    },
    {
      "cell_type": "code",
      "source": [
        "gini_coefficient(s3)"
      ],
      "metadata": {
        "colab": {
          "base_uri": "https://localhost:8080/"
        },
        "id": "lOosAlESR2ls",
        "outputId": "9cfa15e0-c412-478e-fe31-cce6f29b9531"
      },
      "execution_count": 14,
      "outputs": [
        {
          "output_type": "execute_result",
          "data": {
            "text/plain": [
              "0.8571428571428571"
            ]
          },
          "metadata": {},
          "execution_count": 14
        }
      ]
    },
    {
      "cell_type": "markdown",
      "source": [
        "https://github.com/oliviaguest/gini/blob/master/gini.py"
      ],
      "metadata": {
        "id": "OcvGsM4uTNxc"
      }
    },
    {
      "cell_type": "code",
      "source": [
        "import numpy as np\n",
        "\n",
        "def gini(array):\n",
        "    \"\"\"Calculate the Gini coefficient of a numpy array.\"\"\"\n",
        "    # based on bottom eq:\n",
        "    # http://www.statsdirect.com/help/generatedimages/equations/equation154.svg\n",
        "    # from:\n",
        "    # http://www.statsdirect.com/help/default.htm#nonparametric_methods/gini.htm\n",
        "    # All values are treated equally, arrays must be 1d:\n",
        "    array = array.flatten()\n",
        "    if np.amin(array) < 0:\n",
        "        # Values cannot be negative:\n",
        "        array -= np.amin(array)\n",
        "    # Values cannot be 0:\n",
        "    array += 0.0000001\n",
        "    # Values must be sorted:\n",
        "    array = np.sort(array)\n",
        "    # Index per array element:\n",
        "    index = np.arange(1,array.shape[0]+1)\n",
        "    # Number of array elements:\n",
        "    n = array.shape[0]\n",
        "    # Gini coefficient:\n",
        "    return ((np.sum((2 * index - n  - 1) * array)) / (n * np.sum(array)))"
      ],
      "metadata": {
        "id": "TKCipXkbR6bF"
      },
      "execution_count": 15,
      "outputs": []
    },
    {
      "cell_type": "code",
      "source": [
        "a = np.zeros((1000))\n",
        "a[0] = 1.0"
      ],
      "metadata": {
        "id": "9ggWzjHATMbs"
      },
      "execution_count": 16,
      "outputs": []
    },
    {
      "cell_type": "code",
      "source": [
        "s = np.random.uniform(-1,0,1000)"
      ],
      "metadata": {
        "id": "EhjZLCLvTdak"
      },
      "execution_count": 17,
      "outputs": []
    },
    {
      "cell_type": "code",
      "source": [
        "b = np.ones((1000))"
      ],
      "metadata": {
        "id": "dtZgdhVvTmIb"
      },
      "execution_count": 18,
      "outputs": []
    },
    {
      "cell_type": "code",
      "source": [
        "gini(a)"
      ],
      "metadata": {
        "colab": {
          "base_uri": "https://localhost:8080/"
        },
        "id": "c8jQzogQTyPT",
        "outputId": "101be305-ff3b-49cd-f1cb-084f0eebc033"
      },
      "execution_count": 19,
      "outputs": [
        {
          "output_type": "execute_result",
          "data": {
            "text/plain": [
              "0.998900109989001"
            ]
          },
          "metadata": {},
          "execution_count": 19
        }
      ]
    },
    {
      "cell_type": "code",
      "source": [
        "gini(s)"
      ],
      "metadata": {
        "colab": {
          "base_uri": "https://localhost:8080/"
        },
        "id": "IWqgw88uT0Ur",
        "outputId": "5d93449a-b7b3-406a-d953-82741a102085"
      },
      "execution_count": 20,
      "outputs": [
        {
          "output_type": "execute_result",
          "data": {
            "text/plain": [
              "0.3199199190413252"
            ]
          },
          "metadata": {},
          "execution_count": 20
        }
      ]
    },
    {
      "cell_type": "code",
      "source": [
        "gini(b)"
      ],
      "metadata": {
        "colab": {
          "base_uri": "https://localhost:8080/"
        },
        "id": "s2GlmsWbT2Tb",
        "outputId": "eb589a71-90a1-4ec5-fdb4-dfdf431306b4"
      },
      "execution_count": 21,
      "outputs": [
        {
          "output_type": "execute_result",
          "data": {
            "text/plain": [
              "0.0"
            ]
          },
          "metadata": {},
          "execution_count": 21
        }
      ]
    },
    {
      "cell_type": "code",
      "source": [
        "gini_coefficient(b)"
      ],
      "metadata": {
        "colab": {
          "base_uri": "https://localhost:8080/"
        },
        "id": "P49iC3rgT5DD",
        "outputId": "6c666a83-31e7-4a79-cad8-d8fd7ff802bc"
      },
      "execution_count": 22,
      "outputs": [
        {
          "output_type": "execute_result",
          "data": {
            "text/plain": [
              "0.0"
            ]
          },
          "metadata": {},
          "execution_count": 22
        }
      ]
    },
    {
      "cell_type": "code",
      "source": [
        "gini(s3.values)"
      ],
      "metadata": {
        "colab": {
          "base_uri": "https://localhost:8080/"
        },
        "id": "HfHBWAEwT9bD",
        "outputId": "700a0e1f-3426-48f0-97b5-02601a47a9ba"
      },
      "execution_count": 29,
      "outputs": [
        {
          "output_type": "execute_result",
          "data": {
            "text/plain": [
              "0.8571422571432772"
            ]
          },
          "metadata": {},
          "execution_count": 29
        }
      ]
    },
    {
      "cell_type": "code",
      "source": [
        "def G(v):\n",
        "    bins = np.linspace(0., 100., 11)\n",
        "    total = float(np.sum(v))\n",
        "    yvals = []\n",
        "    for b in bins:\n",
        "        bin_vals = v[v <= np.percentile(v, b)]\n",
        "        bin_fraction = (np.sum(bin_vals) / total) * 100.0\n",
        "        yvals.append(bin_fraction)\n",
        "    # perfect equality area\n",
        "    pe_area = np.trapz(bins, x=bins)\n",
        "    # lorenz area\n",
        "    lorenz_area = np.trapz(yvals, x=bins)\n",
        "    gini_val = (pe_area - lorenz_area) / float(pe_area)\n",
        "    return bins, yvals, gini_val\n",
        "\n",
        "v = np.random.rand(500)\n",
        "bins, result, gini_val = G(v)\n",
        "plt.figure()\n",
        "plt.subplot(2, 1, 1)\n",
        "plt.plot(bins, result, label=\"observed\")\n",
        "plt.plot(bins, bins, '--', label=\"perfect eq.\")\n",
        "plt.xlabel(\"fraction of population\")\n",
        "plt.ylabel(\"fraction of wealth\")\n",
        "plt.title(\"GINI: %.4f\" %(gini_val))\n",
        "plt.legend()\n",
        "plt.subplot(2, 1, 2)\n",
        "plt.hist(v, bins=20)"
      ],
      "metadata": {
        "colab": {
          "base_uri": "https://localhost:8080/",
          "height": 437
        },
        "id": "y_ewwteaUBUM",
        "outputId": "ccedab66-2e18-49a5-8c29-2a3d2123e302"
      },
      "execution_count": 38,
      "outputs": [
        {
          "output_type": "execute_result",
          "data": {
            "text/plain": [
              "(array([23., 21., 21., 28., 17., 21., 24., 24., 35., 31., 28., 25., 31.,\n",
              "        21., 20., 26., 27., 21., 24., 32.]),\n",
              " array([3.73693316e-04, 5.02987002e-02, 1.00223707e-01, 1.50148714e-01,\n",
              "        2.00073721e-01, 2.49998728e-01, 2.99923735e-01, 3.49848742e-01,\n",
              "        3.99773748e-01, 4.49698755e-01, 4.99623762e-01, 5.49548769e-01,\n",
              "        5.99473776e-01, 6.49398783e-01, 6.99323790e-01, 7.49248797e-01,\n",
              "        7.99173804e-01, 8.49098811e-01, 8.99023817e-01, 9.48948824e-01,\n",
              "        9.98873831e-01]),\n",
              " <a list of 20 Patch objects>)"
            ]
          },
          "metadata": {},
          "execution_count": 38
        },
        {
          "output_type": "display_data",
          "data": {
            "image/png": "[encoded data removed]",
            "text/plain": [
              "<Figure size 432x288 with 2 Axes>"
            ]
          },
          "metadata": {
            "needs_background": "light"
          }
        }
      ]
    },
    {
      "cell_type": "code",
      "source": [
        "import matplotlib.pyplot as plt"
      ],
      "metadata": {
        "id": "PwVNkdyse1As"
      },
      "execution_count": 32,
      "outputs": []
    },
    {
      "cell_type": "code",
      "source": [
        "np.percentile??"
      ],
      "metadata": {
        "id": "jbJSA14ie9b0"
      },
      "execution_count": 35,
      "outputs": []
    },
    {
      "cell_type": "code",
      "source": [
        "def gini2(x):\n",
        "    # (Warning: This is a concise implementation, but it is O(n**2)\n",
        "    # in time and memory, where n = len(x).  *Don't* pass in huge\n",
        "    # samples!)\n",
        "\n",
        "    # Mean absolute difference\n",
        "    mad = np.abs(np.subtract.outer(x, x)).mean()\n",
        "    # Relative mean absolute difference\n",
        "    rmad = mad/np.mean(x)\n",
        "    # Gini coefficient\n",
        "    g = 0.5 * rmad\n",
        "    return g"
      ],
      "metadata": {
        "id": "gw4hruU1fOxr"
      },
      "execution_count": 39,
      "outputs": []
    },
    {
      "cell_type": "code",
      "source": [
        "gini2(b)"
      ],
      "metadata": {
        "colab": {
          "base_uri": "https://localhost:8080/"
        },
        "id": "iUtTELOngHaS",
        "outputId": "6d3d7777-b9ca-427d-e59c-da2421f2403a"
      },
      "execution_count": 46,
      "outputs": [
        {
          "output_type": "execute_result",
          "data": {
            "text/plain": [
              "0.0"
            ]
          },
          "metadata": {},
          "execution_count": 46
        }
      ]
    },
    {
      "cell_type": "code",
      "source": [
        ""
      ],
      "metadata": {
        "id": "1wqY4dXTgLYy"
      },
      "execution_count": null,
      "outputs": []
    }
  ]
}