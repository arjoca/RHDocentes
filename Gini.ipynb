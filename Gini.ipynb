{
  "nbformat": 4,
  "nbformat_minor": 0,
  "metadata": {
    "colab": {
      "name": "Untitled0.ipynb",
      "provenance": [],
      "authorship_tag": "ABX9TyNYq63Dz4sV8p5nP3gzPuCo",
      "include_colab_link": true
    },
    "kernelspec": {
      "name": "python3",
      "display_name": "Python 3"
    },
    "language_info": {
      "name": "python"
    }
  },
  "cells": [
    {
      "cell_type": "markdown",
      "metadata": {
        "id": "view-in-github",
        "colab_type": "text"
      },
      "source": [
        "<a href=\"https://colab.research.google.com/github/arjoca/RHDocentes/blob/main/Gini.ipynb\" target=\"_parent\"><img src=\"https://colab.research.google.com/assets/colab-badge.svg\" alt=\"Open In Colab\"/></a>"
      ]
    },
    {
      "cell_type": "code",
      "source": [
        "import numpy as np\n",
        "import pandas as pd"
      ],
      "metadata": {
        "id": "gA8KXzk0RI__"
      },
      "execution_count": 1,
      "outputs": []
    },
    {
      "cell_type": "code",
      "source": [
        "s1 = pd.Series(np.random.randn(7))\n",
        "s2 = pd.Series(np.ones(7))\n",
        "s3 = pd.Series(np.zeros(7))\n",
        "s3[3] = 1"
      ],
      "metadata": {
        "id": "NckcW35tRNK9"
      },
      "execution_count": 10,
      "outputs": []
    },
    {
      "cell_type": "code",
      "source": [
        "s3"
      ],
      "metadata": {
        "colab": {
          "base_uri": "https://localhost:8080/"
        },
        "id": "RLaK1PdlRVM0",
        "outputId": "0bb812a8-6d81-4917-bbd1-b719f5336244"
      },
      "execution_count": 11,
      "outputs": [
        {
          "output_type": "execute_result",
          "data": {
            "text/plain": [
              "0    0.0\n",
              "1    0.0\n",
              "2    0.0\n",
              "3    1.0\n",
              "4    0.0\n",
              "5    0.0\n",
              "6    0.0\n",
              "dtype: float64"
            ]
          },
          "metadata": {},
          "execution_count": 11
        }
      ]
    },
    {
      "cell_type": "code",
      "source": [
        "def gini_coefficient(x):\n",
        "    \"\"\"Compute Gini coefficient of array of values\"\"\"\n",
        "    diffsum = 0\n",
        "    for i, xi in enumerate(x[:-1], 1):\n",
        "        diffsum += np.sum(np.abs(xi - x[i:]))\n",
        "    return diffsum / (len(x)**2 * np.mean(x))"
      ],
      "metadata": {
        "id": "h3OmsA0qRV7j"
      },
      "execution_count": 4,
      "outputs": []
    },
    {
      "cell_type": "code",
      "source": [
        "gini_coefficient(s3)"
      ],
      "metadata": {
        "colab": {
          "base_uri": "https://localhost:8080/"
        },
        "id": "lOosAlESR2ls",
        "outputId": "9cfa15e0-c412-478e-fe31-cce6f29b9531"
      },
      "execution_count": 14,
      "outputs": [
        {
          "output_type": "execute_result",
          "data": {
            "text/plain": [
              "0.8571428571428571"
            ]
          },
          "metadata": {},
          "execution_count": 14
        }
      ]
    },
    {
      "cell_type": "markdown",
      "source": [
        "https://github.com/oliviaguest/gini/blob/master/gini.py"
      ],
      "metadata": {
        "id": "OcvGsM4uTNxc"
      }
    },
    {
      "cell_type": "code",
      "source": [
        "import numpy as np\n",
        "\n",
        "def gini(array):\n",
        "    \"\"\"Calculate the Gini coefficient of a numpy array.\"\"\"\n",
        "    # based on bottom eq:\n",
        "    # http://www.statsdirect.com/help/generatedimages/equations/equation154.svg\n",
        "    # from:\n",
        "    # http://www.statsdirect.com/help/default.htm#nonparametric_methods/gini.htm\n",
        "    # All values are treated equally, arrays must be 1d:\n",
        "    array = array.flatten()\n",
        "    if np.amin(array) < 0:\n",
        "        # Values cannot be negative:\n",
        "        array -= np.amin(array)\n",
        "    # Values cannot be 0:\n",
        "    array += 0.0000001\n",
        "    # Values must be sorted:\n",
        "    array = np.sort(array)\n",
        "    # Index per array element:\n",
        "    index = np.arange(1,array.shape[0]+1)\n",
        "    # Number of array elements:\n",
        "    n = array.shape[0]\n",
        "    # Gini coefficient:\n",
        "    return ((np.sum((2 * index - n  - 1) * array)) / (n * np.sum(array)))"
      ],
      "metadata": {
        "id": "TKCipXkbR6bF"
      },
      "execution_count": 15,
      "outputs": []
    },
    {
      "cell_type": "code",
      "source": [
        "a = np.zeros((1000))\n",
        "a[0] = 1.0"
      ],
      "metadata": {
        "id": "9ggWzjHATMbs"
      },
      "execution_count": 16,
      "outputs": []
    },
    {
      "cell_type": "code",
      "source": [
        "s = np.random.uniform(-1,0,1000)"
      ],
      "metadata": {
        "id": "EhjZLCLvTdak"
      },
      "execution_count": 17,
      "outputs": []
    },
    {
      "cell_type": "code",
      "source": [
        "b = np.ones((1000))"
      ],
      "metadata": {
        "id": "dtZgdhVvTmIb"
      },
      "execution_count": 18,
      "outputs": []
    },
    {
      "cell_type": "code",
      "source": [
        "gini(a)"
      ],
      "metadata": {
        "colab": {
          "base_uri": "https://localhost:8080/"
        },
        "id": "c8jQzogQTyPT",
        "outputId": "101be305-ff3b-49cd-f1cb-084f0eebc033"
      },
      "execution_count": 19,
      "outputs": [
        {
          "output_type": "execute_result",
          "data": {
            "text/plain": [
              "0.998900109989001"
            ]
          },
          "metadata": {},
          "execution_count": 19
        }
      ]
    },
    {
      "cell_type": "code",
      "source": [
        "gini(s)"
      ],
      "metadata": {
        "colab": {
          "base_uri": "https://localhost:8080/"
        },
        "id": "IWqgw88uT0Ur",
        "outputId": "5d93449a-b7b3-406a-d953-82741a102085"
      },
      "execution_count": 20,
      "outputs": [
        {
          "output_type": "execute_result",
          "data": {
            "text/plain": [
              "0.3199199190413252"
            ]
          },
          "metadata": {},
          "execution_count": 20
        }
      ]
    },
    {
      "cell_type": "code",
      "source": [
        "gini(b)"
      ],
      "metadata": {
        "colab": {
          "base_uri": "https://localhost:8080/"
        },
        "id": "s2GlmsWbT2Tb",
        "outputId": "eb589a71-90a1-4ec5-fdb4-dfdf431306b4"
      },
      "execution_count": 21,
      "outputs": [
        {
          "output_type": "execute_result",
          "data": {
            "text/plain": [
              "0.0"
            ]
          },
          "metadata": {},
          "execution_count": 21
        }
      ]
    },
    {
      "cell_type": "code",
      "source": [
        "gini_coefficient(b)"
      ],
      "metadata": {
        "colab": {
          "base_uri": "https://localhost:8080/"
        },
        "id": "P49iC3rgT5DD",
        "outputId": "6c666a83-31e7-4a79-cad8-d8fd7ff802bc"
      },
      "execution_count": 22,
      "outputs": [
        {
          "output_type": "execute_result",
          "data": {
            "text/plain": [
              "0.0"
            ]
          },
          "metadata": {},
          "execution_count": 22
        }
      ]
    },
    {
      "cell_type": "code",
      "source": [
        "gini(s3.values)"
      ],
      "metadata": {
        "colab": {
          "base_uri": "https://localhost:8080/"
        },
        "id": "HfHBWAEwT9bD",
        "outputId": "700a0e1f-3426-48f0-97b5-02601a47a9ba"
      },
      "execution_count": 29,
      "outputs": [
        {
          "output_type": "execute_result",
          "data": {
            "text/plain": [
              "0.8571422571432772"
            ]
          },
          "metadata": {},
          "execution_count": 29
        }
      ]
    },
    {
      "cell_type": "code",
      "source": [
        ""
      ],
      "metadata": {
        "id": "y_ewwteaUBUM"
      },
      "execution_count": null,
      "outputs": []
    }
  ]
}