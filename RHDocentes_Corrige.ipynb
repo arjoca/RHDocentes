{
  "nbformat": 4,
  "nbformat_minor": 0,
  "metadata": {
    "colab": {
      "name": "Copy of RHDocentes_Converge.ipynb",
      "provenance": [],
      "collapsed_sections": [],
      "authorship_tag": "ABX9TyPsWoNSgrDRlNleiRNpMeuf",
      "include_colab_link": true
    },
    "kernelspec": {
      "name": "python3",
      "display_name": "Python 3"
    },
    "language_info": {
      "name": "python"
    },
    "widgets": {
      "application/vnd.jupyter.widget-state+json": {
        "8d184d293ad0489fbf0aa54d56f8ebaa": {
          "model_module": "@jupyter-widgets/controls",
          "model_name": "VBoxModel",
          "model_module_version": "1.5.0",
          "state": {
            "_view_name": "VBoxView",
            "_dom_classes": [
              "widget-interact"
            ],
            "_model_name": "VBoxModel",
            "_view_module": "@jupyter-widgets/controls",
            "_model_module_version": "1.5.0",
            "_view_count": null,
            "_view_module_version": "1.5.0",
            "box_style": "",
            "layout": "IPY_MODEL_824ee9e8af554fb993ea804ad5d8ef8a",
            "_model_module": "@jupyter-widgets/controls",
            "children": [
              "IPY_MODEL_db4f8bfe384b43b4ab91448146d75a7e",
              "IPY_MODEL_2ddcbba4f95b4bd4bad29f4c34e8e312",
              "IPY_MODEL_d97aa33495e1441a8460faba22344d2a",
              "IPY_MODEL_92348054d59948179e8aae322d5e5a92",
              "IPY_MODEL_a17d3e07bbac4bb18dc346470a99102a",
              "IPY_MODEL_19cdfd6775684f68b471962a8c47f790",
              "IPY_MODEL_c0b40b760f3d4bd59b9c1d50c41709dc"
            ]
          }
        },
        "824ee9e8af554fb993ea804ad5d8ef8a": {
          "model_module": "@jupyter-widgets/base",
          "model_name": "LayoutModel",
          "model_module_version": "1.2.0",
          "state": {
            "_view_name": "LayoutView",
            "grid_template_rows": null,
            "right": null,
            "justify_content": null,
            "_view_module": "@jupyter-widgets/base",
            "overflow": null,
            "_model_module_version": "1.2.0",
            "_view_count": null,
            "flex_flow": null,
            "width": null,
            "min_width": null,
            "border": null,
            "align_items": null,
            "bottom": null,
            "_model_module": "@jupyter-widgets/base",
            "top": null,
            "grid_column": null,
            "overflow_y": null,
            "overflow_x": null,
            "grid_auto_flow": null,
            "grid_area": null,
            "grid_template_columns": null,
            "flex": null,
            "_model_name": "LayoutModel",
            "justify_items": null,
            "grid_row": null,
            "max_height": null,
            "align_content": null,
            "visibility": null,
            "align_self": null,
            "height": null,
            "min_height": null,
            "padding": null,
            "grid_auto_rows": null,
            "grid_gap": null,
            "max_width": null,
            "order": null,
            "_view_module_version": "1.2.0",
            "grid_template_areas": null,
            "object_position": null,
            "object_fit": null,
            "grid_auto_columns": null,
            "margin": null,
            "display": null,
            "left": null
          }
        },
        "db4f8bfe384b43b4ab91448146d75a7e": {
          "model_module": "@jupyter-widgets/controls",
          "model_name": "IntSliderModel",
          "model_module_version": "1.5.0",
          "state": {
            "_view_name": "IntSliderView",
            "style": "IPY_MODEL_bdf0329ad7934a3ba3cbad6185188191",
            "_dom_classes": [],
            "description": "bolo",
            "step": 1,
            "_model_name": "IntSliderModel",
            "orientation": "horizontal",
            "max": 26,
            "_view_module": "@jupyter-widgets/controls",
            "_model_module_version": "1.5.0",
            "value": 8,
            "_view_count": null,
            "disabled": false,
            "_view_module_version": "1.5.0",
            "min": 4,
            "continuous_update": true,
            "readout_format": "d",
            "description_tooltip": null,
            "readout": true,
            "_model_module": "@jupyter-widgets/controls",
            "layout": "IPY_MODEL_ed3017dd691144688a0f3e9b97f8fa3c"
          }
        },
        "2ddcbba4f95b4bd4bad29f4c34e8e312": {
          "model_module": "@jupyter-widgets/controls",
          "model_name": "FloatSliderModel",
          "model_module_version": "1.5.0",
          "state": {
            "_view_name": "FloatSliderView",
            "style": "IPY_MODEL_119bfb545e204f528b10e0a02664be4c",
            "_dom_classes": [],
            "description": "target",
            "step": 0.05,
            "_model_name": "FloatSliderModel",
            "orientation": "horizontal",
            "max": 0.5,
            "_view_module": "@jupyter-widgets/controls",
            "_model_module_version": "1.5.0",
            "value": 0.25,
            "_view_count": null,
            "disabled": false,
            "_view_module_version": "1.5.0",
            "min": 0.2,
            "continuous_update": true,
            "readout_format": ".2f",
            "description_tooltip": null,
            "readout": true,
            "_model_module": "@jupyter-widgets/controls",
            "layout": "IPY_MODEL_3198182f64de48c68338f1c6a767ac63"
          }
        },
        "d97aa33495e1441a8460faba22344d2a": {
          "model_module": "@jupyter-widgets/controls",
          "model_name": "IntSliderModel",
          "model_module_version": "1.5.0",
          "state": {
            "_view_name": "IntSliderView",
            "style": "IPY_MODEL_5c147a864767424ba407719669709faa",
            "_dom_classes": [],
            "description": "ano",
            "step": 1,
            "_model_name": "IntSliderModel",
            "orientation": "horizontal",
            "max": 2030,
            "_view_module": "@jupyter-widgets/controls",
            "_model_module_version": "1.5.0",
            "value": 2022,
            "_view_count": null,
            "disabled": false,
            "_view_module_version": "1.5.0",
            "min": 2022,
            "continuous_update": true,
            "readout_format": "d",
            "description_tooltip": null,
            "readout": true,
            "_model_module": "@jupyter-widgets/controls",
            "layout": "IPY_MODEL_acbbc65e6e184ec4819d6de59cf8432b"
          }
        },
        "92348054d59948179e8aae322d5e5a92": {
          "model_module": "@jupyter-widgets/controls",
          "model_name": "IntSliderModel",
          "model_module_version": "1.5.0",
          "state": {
            "_view_name": "IntSliderView",
            "style": "IPY_MODEL_1fd23ee55b1145ab996fcaa1a1b7e067",
            "_dom_classes": [],
            "description": "reforma",
            "step": 1,
            "_model_name": "IntSliderModel",
            "orientation": "horizontal",
            "max": 70,
            "_view_module": "@jupyter-widgets/controls",
            "_model_module_version": "1.5.0",
            "value": 68,
            "_view_count": null,
            "disabled": false,
            "_view_module_version": "1.5.0",
            "min": 67,
            "continuous_update": true,
            "readout_format": "d",
            "description_tooltip": null,
            "readout": true,
            "_model_module": "@jupyter-widgets/controls",
            "layout": "IPY_MODEL_5650a40e3d624a6d912ee9b74f09778b"
          }
        },
        "a17d3e07bbac4bb18dc346470a99102a": {
          "model_module": "@jupyter-widgets/controls",
          "model_name": "DropdownModel",
          "model_module_version": "1.5.0",
          "state": {
            "_options_labels": [
              "ETIs",
              "Quadro",
              "ETIs++"
            ],
            "_view_name": "DropdownView",
            "style": "IPY_MODEL_18511706078e4b13bb61beb50cd01195",
            "_dom_classes": [],
            "description": "denominador",
            "_model_name": "DropdownModel",
            "index": 2,
            "_view_module": "@jupyter-widgets/controls",
            "_model_module_version": "1.5.0",
            "_view_count": null,
            "disabled": false,
            "_view_module_version": "1.5.0",
            "description_tooltip": null,
            "_model_module": "@jupyter-widgets/controls",
            "layout": "IPY_MODEL_d0337006cdb845d6bc9b776699f6ad2e"
          }
        },
        "19cdfd6775684f68b471962a8c47f790": {
          "model_module": "@jupyter-widgets/controls",
          "model_name": "DropdownModel",
          "model_module_version": "1.5.0",
          "state": {
            "_options_labels": [
              "linear",
              "hondt",
              "step_by_step"
            ],
            "_view_name": "DropdownView",
            "style": "IPY_MODEL_663323718f4849e69f1300ab5c83a71f",
            "_dom_classes": [],
            "description": "metodo",
            "_model_name": "DropdownModel",
            "index": 1,
            "_view_module": "@jupyter-widgets/controls",
            "_model_module_version": "1.5.0",
            "_view_count": null,
            "disabled": false,
            "_view_module_version": "1.5.0",
            "description_tooltip": null,
            "_model_module": "@jupyter-widgets/controls",
            "layout": "IPY_MODEL_ed03b1e74a5445f182e1c2bda57c3a55"
          }
        },
        "c0b40b760f3d4bd59b9c1d50c41709dc": {
          "model_module": "@jupyter-widgets/output",
          "model_name": "OutputModel",
          "model_module_version": "1.0.0",
          "state": {
            "_view_name": "OutputView",
            "msg_id": "",
            "_dom_classes": [],
            "_model_name": "OutputModel",
            "outputs": [
              {
                "output_type": "display_data",
                "data": {
                  "image/png": "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\n",
                  "text/plain": "<Figure size 1224x576 with 4 Axes>"
                },
                "metadata": {
                  "needs_background": "light"
                }
              }
            ],
            "_view_module": "@jupyter-widgets/output",
            "_model_module_version": "1.0.0",
            "_view_count": null,
            "_view_module_version": "1.0.0",
            "layout": "IPY_MODEL_c941dae64bf04e59ac3767c9acd30cf3",
            "_model_module": "@jupyter-widgets/output"
          }
        },
        "bdf0329ad7934a3ba3cbad6185188191": {
          "model_module": "@jupyter-widgets/controls",
          "model_name": "SliderStyleModel",
          "model_module_version": "1.5.0",
          "state": {
            "_view_name": "StyleView",
            "handle_color": null,
            "_model_name": "SliderStyleModel",
            "description_width": "",
            "_view_module": "@jupyter-widgets/base",
            "_model_module_version": "1.5.0",
            "_view_count": null,
            "_view_module_version": "1.2.0",
            "_model_module": "@jupyter-widgets/controls"
          }
        },
        "ed3017dd691144688a0f3e9b97f8fa3c": {
          "model_module": "@jupyter-widgets/base",
          "model_name": "LayoutModel",
          "model_module_version": "1.2.0",
          "state": {
            "_view_name": "LayoutView",
            "grid_template_rows": null,
            "right": null,
            "justify_content": null,
            "_view_module": "@jupyter-widgets/base",
            "overflow": null,
            "_model_module_version": "1.2.0",
            "_view_count": null,
            "flex_flow": null,
            "width": null,
            "min_width": null,
            "border": null,
            "align_items": null,
            "bottom": null,
            "_model_module": "@jupyter-widgets/base",
            "top": null,
            "grid_column": null,
            "overflow_y": null,
            "overflow_x": null,
            "grid_auto_flow": null,
            "grid_area": null,
            "grid_template_columns": null,
            "flex": null,
            "_model_name": "LayoutModel",
            "justify_items": null,
            "grid_row": null,
            "max_height": null,
            "align_content": null,
            "visibility": null,
            "align_self": null,
            "height": null,
            "min_height": null,
            "padding": null,
            "grid_auto_rows": null,
            "grid_gap": null,
            "max_width": null,
            "order": null,
            "_view_module_version": "1.2.0",
            "grid_template_areas": null,
            "object_position": null,
            "object_fit": null,
            "grid_auto_columns": null,
            "margin": null,
            "display": null,
            "left": null
          }
        },
        "119bfb545e204f528b10e0a02664be4c": {
          "model_module": "@jupyter-widgets/controls",
          "model_name": "SliderStyleModel",
          "model_module_version": "1.5.0",
          "state": {
            "_view_name": "StyleView",
            "handle_color": null,
            "_model_name": "SliderStyleModel",
            "description_width": "",
            "_view_module": "@jupyter-widgets/base",
            "_model_module_version": "1.5.0",
            "_view_count": null,
            "_view_module_version": "1.2.0",
            "_model_module": "@jupyter-widgets/controls"
          }
        },
        "3198182f64de48c68338f1c6a767ac63": {
          "model_module": "@jupyter-widgets/base",
          "model_name": "LayoutModel",
          "model_module_version": "1.2.0",
          "state": {
            "_view_name": "LayoutView",
            "grid_template_rows": null,
            "right": null,
            "justify_content": null,
            "_view_module": "@jupyter-widgets/base",
            "overflow": null,
            "_model_module_version": "1.2.0",
            "_view_count": null,
            "flex_flow": null,
            "width": null,
            "min_width": null,
            "border": null,
            "align_items": null,
            "bottom": null,
            "_model_module": "@jupyter-widgets/base",
            "top": null,
            "grid_column": null,
            "overflow_y": null,
            "overflow_x": null,
            "grid_auto_flow": null,
            "grid_area": null,
            "grid_template_columns": null,
            "flex": null,
            "_model_name": "LayoutModel",
            "justify_items": null,
            "grid_row": null,
            "max_height": null,
            "align_content": null,
            "visibility": null,
            "align_self": null,
            "height": null,
            "min_height": null,
            "padding": null,
            "grid_auto_rows": null,
            "grid_gap": null,
            "max_width": null,
            "order": null,
            "_view_module_version": "1.2.0",
            "grid_template_areas": null,
            "object_position": null,
            "object_fit": null,
            "grid_auto_columns": null,
            "margin": null,
            "display": null,
            "left": null
          }
        },
        "5c147a864767424ba407719669709faa": {
          "model_module": "@jupyter-widgets/controls",
          "model_name": "SliderStyleModel",
          "model_module_version": "1.5.0",
          "state": {
            "_view_name": "StyleView",
            "handle_color": null,
            "_model_name": "SliderStyleModel",
            "description_width": "",
            "_view_module": "@jupyter-widgets/base",
            "_model_module_version": "1.5.0",
            "_view_count": null,
            "_view_module_version": "1.2.0",
            "_model_module": "@jupyter-widgets/controls"
          }
        },
        "acbbc65e6e184ec4819d6de59cf8432b": {
          "model_module": "@jupyter-widgets/base",
          "model_name": "LayoutModel",
          "model_module_version": "1.2.0",
          "state": {
            "_view_name": "LayoutView",
            "grid_template_rows": null,
            "right": null,
            "justify_content": null,
            "_view_module": "@jupyter-widgets/base",
            "overflow": null,
            "_model_module_version": "1.2.0",
            "_view_count": null,
            "flex_flow": null,
            "width": null,
            "min_width": null,
            "border": null,
            "align_items": null,
            "bottom": null,
            "_model_module": "@jupyter-widgets/base",
            "top": null,
            "grid_column": null,
            "overflow_y": null,
            "overflow_x": null,
            "grid_auto_flow": null,
            "grid_area": null,
            "grid_template_columns": null,
            "flex": null,
            "_model_name": "LayoutModel",
            "justify_items": null,
            "grid_row": null,
            "max_height": null,
            "align_content": null,
            "visibility": null,
            "align_self": null,
            "height": null,
            "min_height": null,
            "padding": null,
            "grid_auto_rows": null,
            "grid_gap": null,
            "max_width": null,
            "order": null,
            "_view_module_version": "1.2.0",
            "grid_template_areas": null,
            "object_position": null,
            "object_fit": null,
            "grid_auto_columns": null,
            "margin": null,
            "display": null,
            "left": null
          }
        },
        "1fd23ee55b1145ab996fcaa1a1b7e067": {
          "model_module": "@jupyter-widgets/controls",
          "model_name": "SliderStyleModel",
          "model_module_version": "1.5.0",
          "state": {
            "_view_name": "StyleView",
            "handle_color": null,
            "_model_name": "SliderStyleModel",
            "description_width": "",
            "_view_module": "@jupyter-widgets/base",
            "_model_module_version": "1.5.0",
            "_view_count": null,
            "_view_module_version": "1.2.0",
            "_model_module": "@jupyter-widgets/controls"
          }
        },
        "5650a40e3d624a6d912ee9b74f09778b": {
          "model_module": "@jupyter-widgets/base",
          "model_name": "LayoutModel",
          "model_module_version": "1.2.0",
          "state": {
            "_view_name": "LayoutView",
            "grid_template_rows": null,
            "right": null,
            "justify_content": null,
            "_view_module": "@jupyter-widgets/base",
            "overflow": null,
            "_model_module_version": "1.2.0",
            "_view_count": null,
            "flex_flow": null,
            "width": null,
            "min_width": null,
            "border": null,
            "align_items": null,
            "bottom": null,
            "_model_module": "@jupyter-widgets/base",
            "top": null,
            "grid_column": null,
            "overflow_y": null,
            "overflow_x": null,
            "grid_auto_flow": null,
            "grid_area": null,
            "grid_template_columns": null,
            "flex": null,
            "_model_name": "LayoutModel",
            "justify_items": null,
            "grid_row": null,
            "max_height": null,
            "align_content": null,
            "visibility": null,
            "align_self": null,
            "height": null,
            "min_height": null,
            "padding": null,
            "grid_auto_rows": null,
            "grid_gap": null,
            "max_width": null,
            "order": null,
            "_view_module_version": "1.2.0",
            "grid_template_areas": null,
            "object_position": null,
            "object_fit": null,
            "grid_auto_columns": null,
            "margin": null,
            "display": null,
            "left": null
          }
        },
        "18511706078e4b13bb61beb50cd01195": {
          "model_module": "@jupyter-widgets/controls",
          "model_name": "DescriptionStyleModel",
          "model_module_version": "1.5.0",
          "state": {
            "_view_name": "StyleView",
            "_model_name": "DescriptionStyleModel",
            "description_width": "",
            "_view_module": "@jupyter-widgets/base",
            "_model_module_version": "1.5.0",
            "_view_count": null,
            "_view_module_version": "1.2.0",
            "_model_module": "@jupyter-widgets/controls"
          }
        },
        "d0337006cdb845d6bc9b776699f6ad2e": {
          "model_module": "@jupyter-widgets/base",
          "model_name": "LayoutModel",
          "model_module_version": "1.2.0",
          "state": {
            "_view_name": "LayoutView",
            "grid_template_rows": null,
            "right": null,
            "justify_content": null,
            "_view_module": "@jupyter-widgets/base",
            "overflow": null,
            "_model_module_version": "1.2.0",
            "_view_count": null,
            "flex_flow": null,
            "width": null,
            "min_width": null,
            "border": null,
            "align_items": null,
            "bottom": null,
            "_model_module": "@jupyter-widgets/base",
            "top": null,
            "grid_column": null,
            "overflow_y": null,
            "overflow_x": null,
            "grid_auto_flow": null,
            "grid_area": null,
            "grid_template_columns": null,
            "flex": null,
            "_model_name": "LayoutModel",
            "justify_items": null,
            "grid_row": null,
            "max_height": null,
            "align_content": null,
            "visibility": null,
            "align_self": null,
            "height": null,
            "min_height": null,
            "padding": null,
            "grid_auto_rows": null,
            "grid_gap": null,
            "max_width": null,
            "order": null,
            "_view_module_version": "1.2.0",
            "grid_template_areas": null,
            "object_position": null,
            "object_fit": null,
            "grid_auto_columns": null,
            "margin": null,
            "display": null,
            "left": null
          }
        },
        "663323718f4849e69f1300ab5c83a71f": {
          "model_module": "@jupyter-widgets/controls",
          "model_name": "DescriptionStyleModel",
          "model_module_version": "1.5.0",
          "state": {
            "_view_name": "StyleView",
            "_model_name": "DescriptionStyleModel",
            "description_width": "",
            "_view_module": "@jupyter-widgets/base",
            "_model_module_version": "1.5.0",
            "_view_count": null,
            "_view_module_version": "1.2.0",
            "_model_module": "@jupyter-widgets/controls"
          }
        },
        "ed03b1e74a5445f182e1c2bda57c3a55": {
          "model_module": "@jupyter-widgets/base",
          "model_name": "LayoutModel",
          "model_module_version": "1.2.0",
          "state": {
            "_view_name": "LayoutView",
            "grid_template_rows": null,
            "right": null,
            "justify_content": null,
            "_view_module": "@jupyter-widgets/base",
            "overflow": null,
            "_model_module_version": "1.2.0",
            "_view_count": null,
            "flex_flow": null,
            "width": null,
            "min_width": null,
            "border": null,
            "align_items": null,
            "bottom": null,
            "_model_module": "@jupyter-widgets/base",
            "top": null,
            "grid_column": null,
            "overflow_y": null,
            "overflow_x": null,
            "grid_auto_flow": null,
            "grid_area": null,
            "grid_template_columns": null,
            "flex": null,
            "_model_name": "LayoutModel",
            "justify_items": null,
            "grid_row": null,
            "max_height": null,
            "align_content": null,
            "visibility": null,
            "align_self": null,
            "height": null,
            "min_height": null,
            "padding": null,
            "grid_auto_rows": null,
            "grid_gap": null,
            "max_width": null,
            "order": null,
            "_view_module_version": "1.2.0",
            "grid_template_areas": null,
            "object_position": null,
            "object_fit": null,
            "grid_auto_columns": null,
            "margin": null,
            "display": null,
            "left": null
          }
        },
        "c941dae64bf04e59ac3767c9acd30cf3": {
          "model_module": "@jupyter-widgets/base",
          "model_name": "LayoutModel",
          "model_module_version": "1.2.0",
          "state": {
            "_view_name": "LayoutView",
            "grid_template_rows": null,
            "right": null,
            "justify_content": null,
            "_view_module": "@jupyter-widgets/base",
            "overflow": null,
            "_model_module_version": "1.2.0",
            "_view_count": null,
            "flex_flow": null,
            "width": null,
            "min_width": null,
            "border": null,
            "align_items": null,
            "bottom": null,
            "_model_module": "@jupyter-widgets/base",
            "top": null,
            "grid_column": null,
            "overflow_y": null,
            "overflow_x": null,
            "grid_auto_flow": null,
            "grid_area": null,
            "grid_template_columns": null,
            "flex": null,
            "_model_name": "LayoutModel",
            "justify_items": null,
            "grid_row": null,
            "max_height": null,
            "align_content": null,
            "visibility": null,
            "align_self": null,
            "height": null,
            "min_height": null,
            "padding": null,
            "grid_auto_rows": null,
            "grid_gap": null,
            "max_width": null,
            "order": null,
            "_view_module_version": "1.2.0",
            "grid_template_areas": null,
            "object_position": null,
            "object_fit": null,
            "grid_auto_columns": null,
            "margin": null,
            "display": null,
            "left": null
          }
        }
      }
    }
  },
  "cells": [
    {
      "cell_type": "markdown",
      "metadata": {
        "id": "view-in-github",
        "colab_type": "text"
      },
      "source": [
        "<a href=\"https://colab.research.google.com/github/arjoca/RHDocentes/blob/main/RHDocentes_Corrige.ipynb\" target=\"_parent\"><img src=\"https://colab.research.google.com/assets/colab-badge.svg\" alt=\"Open In Colab\"/></a>"
      ]
    },
    {
      "cell_type": "markdown",
      "source": [
        "# RHDocentes - fevereiro 2022\n",
        "\n",
        "**Notebook 3** - Correção das Desigualdades\n",
        "\n",
        "\n",
        "Estudo organizado em 3 notebooks:\n",
        "*   [O primeiro](https://github.com/arjoca/RHDocentes/blob/main/RHDocentes_Fotografia.ipynb) - Fotografia do ISEL\n",
        "*   [O anterior](https://github.com/arjoca/RHDocentes/blob/main/RHDocentes_Futuro.ipynb) - O Futuro e a Dinâmica de Aposentações\n",
        "*   **Este notebook** - Correção das Desigualdades\n",
        "\n",
        "![perguntas](https://drive.google.com/uc?id=1mYVus5nQ9rpSmWy74gBXRmMopgJDgxEw)\n"
      ],
      "metadata": {
        "id": "tmkGz0DyDc2J"
      }
    },
    {
      "cell_type": "markdown",
      "source": [
        "# Metodologia proposta\n",
        "\n",
        "![metodologia](https://drive.google.com/uc?id=1titZiQYXqmheEc9SF7IJJk8DWsggl9M5)\n"
      ],
      "metadata": {
        "id": "jiN4M9uPZSzA"
      }
    },
    {
      "cell_type": "markdown",
      "source": [
        "# Fontes de informação\n",
        "\n",
        "*   Ficheiro \"Afetacao_Financeira_ADs_Cursos_2021_v01.xlsx\"\n",
        "*   Ficheiro \"RAIDES_0.xlsx\"\n",
        "\n",
        "Informação que depois de filtrada e anonimizada deu origem aos dados guardados no ficheiro [clean_data.xlsx](https://github.com/arjoca/RHDocentes/blob/main/data/clean_data.xlsx), usados neste estudo."
      ],
      "metadata": {
        "id": "D--VSWG109MQ"
      }
    },
    {
      "cell_type": "markdown",
      "source": [
        "# Preparação"
      ],
      "metadata": {
        "id": "25yEfwrF1hQd"
      }
    },
    {
      "cell_type": "markdown",
      "source": [
        "## Importação de módulos e leitura de dados"
      ],
      "metadata": {
        "id": "_baJCALaUHhc"
      }
    },
    {
      "cell_type": "code",
      "source": [
        "# Instalação de módulos\n",
        "!pip install kora -q\n",
        "!pip install -U kaleido"
      ],
      "metadata": {
        "id": "WbMde719TXix",
        "colab": {
          "base_uri": "https://localhost:8080/"
        },
        "outputId": "f429baad-525b-4e40-f88c-6963ef1ab695"
      },
      "execution_count": 1,
      "outputs": [
        {
          "output_type": "stream",
          "name": "stdout",
          "text": [
            "Requirement already satisfied: kaleido in /usr/local/lib/python3.7/dist-packages (0.2.1)\n"
          ]
        }
      ]
    },
    {
      "cell_type": "code",
      "source": [
        "# Importação de módulos\n",
        "import numpy as np\n",
        "import pandas as pd\n",
        "import matplotlib.pyplot as plt\n",
        "import seaborn as sns\n",
        "from datetime import datetime, timedelta\n",
        "from ipywidgets import widgets, interact, fixed\n",
        "from IPython.display import Image"
      ],
      "metadata": {
        "id": "UF6cJzSF0xSB"
      },
      "execution_count": 2,
      "outputs": []
    },
    {
      "cell_type": "code",
      "source": [
        "# Leitura de dados\n",
        "base_url = 'https://raw.githubusercontent.com/arjoca/RHDocentes/main/data/'\n",
        "docentes = pd.read_csv(base_url + 'docentes.csv', encoding= 'unicode_escape', \n",
        "                       parse_dates=['Data Nascimento'], infer_datetime_format=True)\n",
        "alunos_per_curso = pd.read_csv(base_url + 'alunos.csv', encoding= 'unicode_escape', index_col=0)\n",
        "horas = pd.read_csv(base_url + 'horas.csv', encoding= 'unicode_escape', index_col=0)"
      ],
      "metadata": {
        "id": "ptxmB1t613TV"
      },
      "execution_count": 3,
      "outputs": []
    },
    {
      "cell_type": "markdown",
      "source": [
        "## Inicializações"
      ],
      "metadata": {
        "id": "p65zNlZgUTeG"
      }
    },
    {
      "cell_type": "code",
      "source": [
        "# Designações dos cursos e departamentos\n",
        "LISTA_DEPTS = sorted(docentes['Departamento'].unique())\n",
        "LISTA_CURSOS = sorted(alunos_per_curso.index.unique())"
      ],
      "metadata": {
        "id": "w3ylNnDC-kXi"
      },
      "execution_count": 4,
      "outputs": []
    },
    {
      "cell_type": "code",
      "source": [
        "# Designações das categorias de docentes\n",
        "cat_prof_coord = ['Prof. Coordenador', 'Prof. Coordenador c/ Agreg. ', 'Professor Coordenador Principal']\n",
        "cat_convidado = ['Assistente Convidado', 'Professor Adjunto Convidado']\n",
        "cat_adjunto = ['Professor Adjunto']\n",
        "cat_assistente = ['Assistente do 2. Trienio', 'Assistente', 'Equiparado Assistente 2. Trienio']\n",
        "cat_monitor = ['Monitor']\n",
        "cat_quadro = cat_prof_coord + cat_adjunto\n",
        "cat_todas = cat_quadro + cat_convidado + cat_assistente + cat_monitor"
      ],
      "metadata": {
        "id": "wzavEGUX2Pew"
      },
      "execution_count": 5,
      "outputs": []
    },
    {
      "cell_type": "code",
      "source": [
        "# Dicionários com categorias de docentes e suas designações\n",
        "catgs = {'Coordenadores':cat_prof_coord, \n",
        "         'Adjuntos': cat_adjunto,\n",
        "         'Quadro': cat_quadro,\n",
        "         'Convidados': cat_convidado,\n",
        "         'ETIs': cat_todas,\n",
        "         'ETIs++': 'ETIs++'}\n",
        "inv_catgs = {tuple(v): k for k, v in catgs.items()}"
      ],
      "metadata": {
        "id": "Ax9OehgIRygL"
      },
      "execution_count": 6,
      "outputs": []
    },
    {
      "cell_type": "code",
      "source": [
        "# Horas de contacto usadas para determinar relações entre cursos e departamentos\n",
        "horas_per_curso = horas.sum(axis=1)\n",
        "pesos_dept_per_curso = horas.T / horas_per_curso\n",
        "\n",
        "# Alunos por departamento\n",
        "alunos_per_dept = pd.DataFrame(np.dot(pesos_dept_per_curso, alunos_per_curso),\n",
        "                              index=pesos_dept_per_curso.index, columns=['Alunos'])\n",
        "alunos_per_dept = alunos_per_dept['Alunos']\n",
        "alunos_per_dept.name = ''\n",
        "alunos_per_dept = alunos_per_dept.sort_index()"
      ],
      "metadata": {
        "id": "ztK7YjeuT75r"
      },
      "execution_count": 7,
      "outputs": []
    },
    {
      "cell_type": "code",
      "source": [
        "# Números globais\n",
        "alunos_per_eti_isel = alunos_per_curso.sum().sum() / docentes['ETI'].sum()\n",
        "eti_per_dept = docentes.groupby(['Departamento'])['ETI'].sum()"
      ],
      "metadata": {
        "id": "Sj3ZHMyv123k"
      },
      "execution_count": 8,
      "outputs": []
    },
    {
      "cell_type": "code",
      "source": [
        "# ETIs VIANA (Valor Ideal Atendendo ao Número de Alunos)\n",
        "viana = alunos_per_dept / alunos_per_eti_isel\n",
        "fana = viana - eti_per_dept"
      ],
      "metadata": {
        "id": "Xsuu-pqE1O1r"
      },
      "execution_count": 9,
      "outputs": []
    },
    {
      "cell_type": "markdown",
      "source": [
        "## Funções usadas nos anteriores notebooks "
      ],
      "metadata": {
        "id": "aDhoCFK6T9Bt"
      }
    },
    {
      "cell_type": "code",
      "source": [
        "# Filtragem de docentes atendendo à sua idade de aposentação \n",
        "def aposentados_e_ativos(df, ano, idade_reforma):\n",
        "  idade = (datetime(ano, 1, 1) - df['Data Nascimento'])/timedelta(days=365.25)\n",
        "  aposentados = df[idade > idade_reforma]\n",
        "  ativos = df.drop(index=aposentados.index)\n",
        "  return aposentados, ativos"
      ],
      "metadata": {
        "id": "l2mTrprr2S8p"
      },
      "execution_count": 10,
      "outputs": []
    },
    {
      "cell_type": "code",
      "source": [
        "# Filtragem de docentes atendendo à sua categoria\n",
        "def docentes_per_categoria(df, categoria):\n",
        "  s = df.groupby(['Departamento', 'Categoria'])['ETI'].sum()\n",
        "  s = s.loc[(slice(None), categoria)].droplevel(level=1)\n",
        "  s = s.groupby(s.index).sum()\n",
        "  s = pd.Series(s, index=LISTA_DEPTS)\n",
        "  return s.fillna(0)"
      ],
      "metadata": {
        "id": "ApJsbc5DUcfm"
      },
      "execution_count": 11,
      "outputs": []
    },
    {
      "cell_type": "markdown",
      "source": [
        "# Medição das desigualdades (coeficiente de Gini)\n",
        "\n",
        "$$G=\\frac{\\sum_{i=1}^n (2i-n-1)x_i}{n\\sum_{i=1}^n x_i}$$\n",
        "\n",
        "onde $\\{x_i\\}$ é o conjunto dos $n$ valores da distribuição, ordenados por ordem crescente ($i$ é o ranking de $x_i$)\n",
        "\n",
        "$$0 \\le G \\le 1$$\n",
        "$(G=0) \\Rightarrow$ **não há desigualdades** (valores da distribuição todos iguais)\n",
        "\n",
        "$(G \\approx 1) \\Rightarrow$ ***winner-takes-all*** (todos os valores a zero, exceto um)\n",
        "\n",
        "Fontes:\n",
        "*   [Statistical/Help - Gini Coefficient of Inequality](http://www.statsdirect.com/help/default.htm#nonparametric_methods/gini.htm)\n",
        "*   [GitHub - Olivia Guest](https://github.com/oliviaguest/gini)\n",
        "\n",
        "**Alternativa:** Usar definição de Entropia da Teoria de Informação, $E=-\\sum_{i=1}^n x_i log(x_i)$\n",
        "\n",
        "Neste caso, quanto maior é o valor da entropia, menores serão as desigualdades.\n"
      ],
      "metadata": {
        "id": "u42G1e8cuLWI"
      }
    },
    {
      "cell_type": "code",
      "source": [
        "# Função para calcular o coeficiente de Gini\n",
        "def gini(array):\n",
        "    array = array.flatten()\n",
        "    if np.amin(array) < 0:\n",
        "        array -= np.amin(array)\n",
        "    array += 0.0000001\n",
        "    array = np.sort(array)\n",
        "    index = np.arange(1,array.shape[0]+1)\n",
        "    n = array.shape[0]\n",
        "    return ((np.sum((2 * index - n  - 1) * array)) / (n * np.sum(array)))"
      ],
      "metadata": {
        "id": "8SG_X1jzuM2i"
      },
      "execution_count": 12,
      "outputs": []
    },
    {
      "cell_type": "markdown",
      "source": [
        "# Três métodos para fazer a distribuição"
      ],
      "metadata": {
        "id": "HSxvZNBj7SHX"
      }
    },
    {
      "cell_type": "code",
      "source": [
        "# Função auxiliar para determinar quanto falta para o target\n",
        "def how_many_to_target(target, numerator, denominator):\n",
        "  s = denominator * target - numerator\n",
        "  s.clip(lower=0, inplace=True)\n",
        "  return s"
      ],
      "metadata": {
        "id": "siOS9-9x5a2s"
      },
      "execution_count": 13,
      "outputs": []
    },
    {
      "cell_type": "code",
      "source": [
        "# METHOD 1 - Linear mapping\n",
        "def linear_map(target, cake, numerator, denominator):\n",
        "  s = how_many_to_target(target, numerator, denominator)\n",
        "  return s / s.sum() * cake"
      ],
      "metadata": {
        "id": "vjaZimoaNwkI"
      },
      "execution_count": 14,
      "outputs": []
    },
    {
      "cell_type": "code",
      "source": [
        "# METHOD 2 - D'Hondt\n",
        "def method_hondt(target, cake, numerator, denominator):\n",
        "  s = how_many_to_target(target, numerator, denominator)\n",
        "  list_of_series = [s/i for i in range(1, cake+1)]\n",
        "  df = pd.concat(list_of_series, axis=1)\n",
        "  vals = np.sort(np.ravel(df.to_numpy(copy=True)))[-1::-1]\n",
        "  df = df >= vals[cake-1]\n",
        "  return df.sum(axis=1)\n",
        "\n",
        "# METHOD 2a - D'Hondt\n",
        "def method_hondt_ordering(target, cake, numerator, denominator):\n",
        "  s = how_many_to_target(target, numerator, denominator)\n",
        "  list_of_series = [s/i for i in range(1, cake+1)]\n",
        "  df = pd.concat(list_of_series, axis=1)\n",
        "  vals = np.sort(np.ravel(df.to_numpy(copy=True)))[-1::-1]\n",
        "  df_ordering = pd.DataFrame(index=LISTA_DEPTS)\n",
        "  for i,v in enumerate(vals[:cake]):\n",
        "    ix = df[df==v].stack().index.get_level_values(0)\n",
        "    df_ordering.loc[ix, i+1] = 1\n",
        "  return df_ordering"
      ],
      "metadata": {
        "id": "VSNVnHCtNxF0"
      },
      "execution_count": 15,
      "outputs": []
    },
    {
      "cell_type": "code",
      "source": [
        "# METHOD 3 - One step iteration\n",
        "def step_by_step(cake, numerator, denominator):\n",
        "  df = pd.DataFrame(index=LISTA_DEPTS)\n",
        "  num = numerator.copy()\n",
        "  den = denominator.copy()\n",
        "  for i in range(cake):\n",
        "    ratio = num / den\n",
        "    ix = ratio.idxmin()\n",
        "    num[ix] += 1\n",
        "    df.loc[ix,i+1] = 1\n",
        "  return df"
      ],
      "metadata": {
        "id": "Le9GMZJiNw2_"
      },
      "execution_count": 16,
      "outputs": []
    },
    {
      "cell_type": "markdown",
      "source": [
        "# Exercício de comparação"
      ],
      "metadata": {
        "id": "704E0zY-N7TX"
      }
    },
    {
      "cell_type": "markdown",
      "source": [
        "## Funções de auxílio"
      ],
      "metadata": {
        "id": "d5dKkN09OStL"
      }
    },
    {
      "cell_type": "code",
      "source": [
        "# Mostrar resultados na forma de gráficos\n",
        "def show_results(num, den, s, df, bolo, target, ano, reforma, denominador, metodo):\n",
        "  fig, ax = plt.subplots(2, 2, figsize=(17,8))\n",
        "  fig.subplots_adjust(hspace=0.5)\n",
        "  title1 = f'Distribuição de {bolo} vagas - método {metodo}, '\n",
        "  title2 = ''\n",
        "  if metodo != 'step_by_step':\n",
        "    title2 += f'target= {target}, '\n",
        "  title3 = f'denominador={inv_catgs[tuple(denominador)]}, ano={ano}, idade_reforma={reforma}'\n",
        "  fig.suptitle(title1 + title2 + title3)\n",
        "\n",
        "  s.name=''\n",
        "  s.plot(kind='bar', ax=ax[0,0], table=np.round(s,1).to_frame().T, cmap='PuOr')\n",
        "  ax[0,0].set_title('Distribuição do bolo pelos departamentos')\n",
        "  ax[0,0].xaxis.set_visible(False)\n",
        "  if df is not None:\n",
        "    sns.heatmap(df, cbar=False, linewidths=2, linecolor='grey', ax=ax[0,1], cmap='PuOr')\n",
        "    ax[0,1].set_title('Ordenação da distribuição')\n",
        " \n",
        "  # Valores antes da distribuição\n",
        "  s1 = num/den\n",
        "  s1.name = ''\n",
        "  s1.plot(kind='bar', ax=ax[1,0], table=np.round(s1,2).to_frame().T)\n",
        "  ax[1,0].xaxis.set_visible(False)\n",
        "  ax[1,0].axhline(y=s1.mean(), linewidth=2, color='#d62728')\n",
        "  ax[1,0].set_title(f'Rácios antes da distribuição - Coef. Gini = {np.round(gini(s1.values),3)}')\n",
        "  # Valores depois da distribuição\n",
        "  s2 = (num+s)/den\n",
        "  s2.name = ''\n",
        "  s2.plot(kind='bar', ax=ax[1,1], table=np.round(s2,2).to_frame().T)\n",
        "  ax[1,1].xaxis.set_visible(False)\n",
        "  ax[1,1].axhline(y=s2.mean(), linewidth=2, color='#d62728')\n",
        "  ax[1,1].set_title(f'Rácios depois da distribuição - Coef. Gini = {np.round(gini(s2.values),3)}')\n",
        "\n",
        "  fig.savefig('temp_image.png')"
      ],
      "metadata": {
        "id": "reIqsuau89If"
      },
      "execution_count": 17,
      "outputs": []
    },
    {
      "cell_type": "code",
      "source": [
        "# Função chamada de forma interativa usando widgets\n",
        "def main_func(bolo=8, target=0.25, ano=2022, reforma=68, denominador='ETIs++', \n",
        "        metodo='hondt'):\n",
        "  _, ativos = aposentados_e_ativos(docentes, ano, reforma)\n",
        "  num = docentes_per_categoria(ativos, cat_prof_coord)\n",
        "  \n",
        "  if denominador != 'ETIs++':\n",
        "    den = docentes_per_categoria(ativos, denominador)\n",
        "  else:\n",
        "    den = docentes_per_categoria(ativos, cat_todas) + fana\n",
        "\n",
        "  if metodo == 'linear':\n",
        "    df = None\n",
        "    s = linear_map(target, bolo, num, den)\n",
        "  elif metodo == 'hondt':\n",
        "    df = method_hondt_ordering(target, bolo, num, den)\n",
        "    s = df.sum(axis=1)\n",
        "  elif metodo == 'step_by_step':\n",
        "    df = step_by_step(bolo, num, den)\n",
        "    s = df.sum(axis=1)\n",
        "  else: print('Erro: método inexistente')  \n",
        "  \n",
        "  show_results(num, den, s, df, bolo, target, ano, reforma, denominador, metodo)"
      ],
      "metadata": {
        "id": "atU7tgbfrbef"
      },
      "execution_count": 18,
      "outputs": []
    },
    {
      "cell_type": "markdown",
      "source": [
        "## Simulação interativa"
      ],
      "metadata": {
        "id": "4h_gmfiA-zzk"
      }
    },
    {
      "cell_type": "code",
      "source": [
        "# Simulação interativa\n",
        "interact(main_func, bolo=(4,26,1), target=(0.2,0.5,0.05), ano=(2022,2030,1), \n",
        "         reforma=(67,70,1), denominador={'ETIs':cat_todas, \n",
        "                                         'Quadro': cat_quadro, \n",
        "                                         'ETIs++': 'ETIs++'}, \n",
        "         metodo=['linear','hondt','step_by_step'])"
      ],
      "metadata": {
        "colab": {
          "base_uri": "https://localhost:8080/",
          "height": 756,
          "referenced_widgets": [
            "8d184d293ad0489fbf0aa54d56f8ebaa",
            "824ee9e8af554fb993ea804ad5d8ef8a",
            "db4f8bfe384b43b4ab91448146d75a7e",
            "2ddcbba4f95b4bd4bad29f4c34e8e312",
            "d97aa33495e1441a8460faba22344d2a",
            "92348054d59948179e8aae322d5e5a92",
            "a17d3e07bbac4bb18dc346470a99102a",
            "19cdfd6775684f68b471962a8c47f790",
            "c0b40b760f3d4bd59b9c1d50c41709dc",
            "bdf0329ad7934a3ba3cbad6185188191",
            "ed3017dd691144688a0f3e9b97f8fa3c",
            "119bfb545e204f528b10e0a02664be4c",
            "3198182f64de48c68338f1c6a767ac63",
            "5c147a864767424ba407719669709faa",
            "acbbc65e6e184ec4819d6de59cf8432b",
            "1fd23ee55b1145ab996fcaa1a1b7e067",
            "5650a40e3d624a6d912ee9b74f09778b",
            "18511706078e4b13bb61beb50cd01195",
            "d0337006cdb845d6bc9b776699f6ad2e",
            "663323718f4849e69f1300ab5c83a71f",
            "ed03b1e74a5445f182e1c2bda57c3a55",
            "c941dae64bf04e59ac3767c9acd30cf3"
          ]
        },
        "id": "N27bjBuK7o13",
        "outputId": "2ae0e9f5-4602-43f7-90b1-716571d1c98b"
      },
      "execution_count": 19,
      "outputs": [
        {
          "output_type": "display_data",
          "data": {
            "application/vnd.jupyter.widget-view+json": {
              "model_id": "8d184d293ad0489fbf0aa54d56f8ebaa",
              "version_minor": 0,
              "version_major": 2
            },
            "text/plain": [
              "interactive(children=(IntSlider(value=8, description='bolo', max=26, min=4), FloatSlider(value=0.25, descripti…"
            ]
          },
          "metadata": {}
        },
        {
          "output_type": "execute_result",
          "data": {
            "text/plain": [
              "<function __main__.main_func>"
            ]
          },
          "metadata": {},
          "execution_count": 19
        }
      ]
    },
    {
      "cell_type": "code",
      "source": [
        "Image('temp_image.png')"
      ],
      "metadata": {
        "colab": {
          "base_uri": "https://localhost:8080/",
          "height": 593
        },
        "id": "qYXdwYI8OlD8",
        "outputId": "5bd27971-d29c-4fd4-b91d-4e17080e9f2b"
      },
      "execution_count": 20,
      "outputs": [
        {
          "output_type": "execute_result",
          "data": {
            "image/png": "[encoded data removed]",
            "text/plain": [
              "<IPython.core.display.Image object>"
            ]
          },
          "metadata": {},
          "execution_count": 20
        }
      ]
    }
  ]
}