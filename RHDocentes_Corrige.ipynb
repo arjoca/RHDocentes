{
  "nbformat": 4,
  "nbformat_minor": 0,
  "metadata": {
    "colab": {
      "name": "RHDocentes_Converge.ipynb",
      "provenance": [],
      "toc_visible": true,
      "collapsed_sections": [],
      "authorship_tag": "ABX9TyPTmoBQra+PTZhn/RlyCpQM",
      "include_colab_link": true
    },
    "kernelspec": {
      "name": "python3",
      "display_name": "Python 3"
    },
    "language_info": {
      "name": "python"
    },
    "widgets": {
      "application/vnd.jupyter.widget-state+json": {
        "cf266d1bf4c54e5aa4958518202ae7d4": {
          "model_module": "@jupyter-widgets/controls",
          "model_name": "VBoxModel",
          "model_module_version": "1.5.0",
          "state": {
            "_view_name": "VBoxView",
            "_dom_classes": [
              "widget-interact"
            ],
            "_model_name": "VBoxModel",
            "_view_module": "@jupyter-widgets/controls",
            "_model_module_version": "1.5.0",
            "_view_count": null,
            "_view_module_version": "1.5.0",
            "box_style": "",
            "layout": "IPY_MODEL_fd36f0ff354847d788474061e4d85591",
            "_model_module": "@jupyter-widgets/controls",
            "children": [
              "IPY_MODEL_0f1e732f80674b9392806bd4b2b4c1ea",
              "IPY_MODEL_e0de1af1bc39458bba0b56a95737620b",
              "IPY_MODEL_85af324aa2124d4e84822dfe493cb851",
              "IPY_MODEL_022f5c7d821f4d6dbc62ba8da0a04784",
              "IPY_MODEL_d79757f384f944d882f5bc3c9827836b",
              "IPY_MODEL_8eda4416b0c1430d84857c7ac710deb9",
              "IPY_MODEL_2f7fa47bc7284c09bdde585b36450b3b"
            ]
          }
        },
        "fd36f0ff354847d788474061e4d85591": {
          "model_module": "@jupyter-widgets/base",
          "model_name": "LayoutModel",
          "model_module_version": "1.2.0",
          "state": {
            "_view_name": "LayoutView",
            "grid_template_rows": null,
            "right": null,
            "justify_content": null,
            "_view_module": "@jupyter-widgets/base",
            "overflow": null,
            "_model_module_version": "1.2.0",
            "_view_count": null,
            "flex_flow": null,
            "width": null,
            "min_width": null,
            "border": null,
            "align_items": null,
            "bottom": null,
            "_model_module": "@jupyter-widgets/base",
            "top": null,
            "grid_column": null,
            "overflow_y": null,
            "overflow_x": null,
            "grid_auto_flow": null,
            "grid_area": null,
            "grid_template_columns": null,
            "flex": null,
            "_model_name": "LayoutModel",
            "justify_items": null,
            "grid_row": null,
            "max_height": null,
            "align_content": null,
            "visibility": null,
            "align_self": null,
            "height": null,
            "min_height": null,
            "padding": null,
            "grid_auto_rows": null,
            "grid_gap": null,
            "max_width": null,
            "order": null,
            "_view_module_version": "1.2.0",
            "grid_template_areas": null,
            "object_position": null,
            "object_fit": null,
            "grid_auto_columns": null,
            "margin": null,
            "display": null,
            "left": null
          }
        },
        "0f1e732f80674b9392806bd4b2b4c1ea": {
          "model_module": "@jupyter-widgets/controls",
          "model_name": "IntSliderModel",
          "model_module_version": "1.5.0",
          "state": {
            "_view_name": "IntSliderView",
            "style": "IPY_MODEL_b8f0e1f1c1054729beaeb7317fb11fbe",
            "_dom_classes": [],
            "description": "bolo",
            "step": 1,
            "_model_name": "IntSliderModel",
            "orientation": "horizontal",
            "max": 26,
            "_view_module": "@jupyter-widgets/controls",
            "_model_module_version": "1.5.0",
            "value": 8,
            "_view_count": null,
            "disabled": false,
            "_view_module_version": "1.5.0",
            "min": 4,
            "continuous_update": true,
            "readout_format": "d",
            "description_tooltip": null,
            "readout": true,
            "_model_module": "@jupyter-widgets/controls",
            "layout": "IPY_MODEL_8dd48c9c9783481281260e2008e283ef"
          }
        },
        "e0de1af1bc39458bba0b56a95737620b": {
          "model_module": "@jupyter-widgets/controls",
          "model_name": "FloatSliderModel",
          "model_module_version": "1.5.0",
          "state": {
            "_view_name": "FloatSliderView",
            "style": "IPY_MODEL_d3b23482b3214c18b1d23b573a91e03a",
            "_dom_classes": [],
            "description": "target",
            "step": 0.05,
            "_model_name": "FloatSliderModel",
            "orientation": "horizontal",
            "max": 0.5,
            "_view_module": "@jupyter-widgets/controls",
            "_model_module_version": "1.5.0",
            "value": 0.25,
            "_view_count": null,
            "disabled": false,
            "_view_module_version": "1.5.0",
            "min": 0.2,
            "continuous_update": true,
            "readout_format": ".2f",
            "description_tooltip": null,
            "readout": true,
            "_model_module": "@jupyter-widgets/controls",
            "layout": "IPY_MODEL_ac0da855102948c98536b661af037f59"
          }
        },
        "85af324aa2124d4e84822dfe493cb851": {
          "model_module": "@jupyter-widgets/controls",
          "model_name": "IntSliderModel",
          "model_module_version": "1.5.0",
          "state": {
            "_view_name": "IntSliderView",
            "style": "IPY_MODEL_be2def961f84413681a96bfaa0b52b72",
            "_dom_classes": [],
            "description": "ano",
            "step": 1,
            "_model_name": "IntSliderModel",
            "orientation": "horizontal",
            "max": 2030,
            "_view_module": "@jupyter-widgets/controls",
            "_model_module_version": "1.5.0",
            "value": 2022,
            "_view_count": null,
            "disabled": false,
            "_view_module_version": "1.5.0",
            "min": 2022,
            "continuous_update": true,
            "readout_format": "d",
            "description_tooltip": null,
            "readout": true,
            "_model_module": "@jupyter-widgets/controls",
            "layout": "IPY_MODEL_4fb897c84ad645bcb108d85bc442442b"
          }
        },
        "022f5c7d821f4d6dbc62ba8da0a04784": {
          "model_module": "@jupyter-widgets/controls",
          "model_name": "IntSliderModel",
          "model_module_version": "1.5.0",
          "state": {
            "_view_name": "IntSliderView",
            "style": "IPY_MODEL_c39086980ac645b980ba457d8d419968",
            "_dom_classes": [],
            "description": "reforma",
            "step": 1,
            "_model_name": "IntSliderModel",
            "orientation": "horizontal",
            "max": 70,
            "_view_module": "@jupyter-widgets/controls",
            "_model_module_version": "1.5.0",
            "value": 68,
            "_view_count": null,
            "disabled": false,
            "_view_module_version": "1.5.0",
            "min": 67,
            "continuous_update": true,
            "readout_format": "d",
            "description_tooltip": null,
            "readout": true,
            "_model_module": "@jupyter-widgets/controls",
            "layout": "IPY_MODEL_4ed2c880b0ce428a92e372288b3930cc"
          }
        },
        "d79757f384f944d882f5bc3c9827836b": {
          "model_module": "@jupyter-widgets/controls",
          "model_name": "DropdownModel",
          "model_module_version": "1.5.0",
          "state": {
            "_options_labels": [
              "ETIs",
              "Quadro",
              "ETIs++"
            ],
            "_view_name": "DropdownView",
            "style": "IPY_MODEL_b1eb7632360240dea3bc54e083d6767e",
            "_dom_classes": [],
            "description": "denominador",
            "_model_name": "DropdownModel",
            "index": 2,
            "_view_module": "@jupyter-widgets/controls",
            "_model_module_version": "1.5.0",
            "_view_count": null,
            "disabled": false,
            "_view_module_version": "1.5.0",
            "description_tooltip": null,
            "_model_module": "@jupyter-widgets/controls",
            "layout": "IPY_MODEL_b9312da8f3a04ff983ef75efe45b1a75"
          }
        },
        "8eda4416b0c1430d84857c7ac710deb9": {
          "model_module": "@jupyter-widgets/controls",
          "model_name": "DropdownModel",
          "model_module_version": "1.5.0",
          "state": {
            "_options_labels": [
              "linear",
              "hondt",
              "step_by_step"
            ],
            "_view_name": "DropdownView",
            "style": "IPY_MODEL_d4687943bf6e46a68865efe75224034b",
            "_dom_classes": [],
            "description": "metodo",
            "_model_name": "DropdownModel",
            "index": 1,
            "_view_module": "@jupyter-widgets/controls",
            "_model_module_version": "1.5.0",
            "_view_count": null,
            "disabled": false,
            "_view_module_version": "1.5.0",
            "description_tooltip": null,
            "_model_module": "@jupyter-widgets/controls",
            "layout": "IPY_MODEL_0fbc64ff86684950a4c5a6625f1cf88c"
          }
        },
        "2f7fa47bc7284c09bdde585b36450b3b": {
          "model_module": "@jupyter-widgets/output",
          "model_name": "OutputModel",
          "model_module_version": "1.0.0",
          "state": {
            "_view_name": "OutputView",
            "msg_id": "",
            "_dom_classes": [],
            "_model_name": "OutputModel",
            "outputs": [
              {
                "output_type": "display_data",
                "data": {
                  "image/png": "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\n",
                  "text/plain": "<Figure size 1224x576 with 4 Axes>"
                },
                "metadata": {
                  "needs_background": "light"
                }
              }
            ],
            "_view_module": "@jupyter-widgets/output",
            "_model_module_version": "1.0.0",
            "_view_count": null,
            "_view_module_version": "1.0.0",
            "layout": "IPY_MODEL_8dde9923270443e18e129044a209196e",
            "_model_module": "@jupyter-widgets/output"
          }
        },
        "b8f0e1f1c1054729beaeb7317fb11fbe": {
          "model_module": "@jupyter-widgets/controls",
          "model_name": "SliderStyleModel",
          "model_module_version": "1.5.0",
          "state": {
            "_view_name": "StyleView",
            "handle_color": null,
            "_model_name": "SliderStyleModel",
            "description_width": "",
            "_view_module": "@jupyter-widgets/base",
            "_model_module_version": "1.5.0",
            "_view_count": null,
            "_view_module_version": "1.2.0",
            "_model_module": "@jupyter-widgets/controls"
          }
        },
        "8dd48c9c9783481281260e2008e283ef": {
          "model_module": "@jupyter-widgets/base",
          "model_name": "LayoutModel",
          "model_module_version": "1.2.0",
          "state": {
            "_view_name": "LayoutView",
            "grid_template_rows": null,
            "right": null,
            "justify_content": null,
            "_view_module": "@jupyter-widgets/base",
            "overflow": null,
            "_model_module_version": "1.2.0",
            "_view_count": null,
            "flex_flow": null,
            "width": null,
            "min_width": null,
            "border": null,
            "align_items": null,
            "bottom": null,
            "_model_module": "@jupyter-widgets/base",
            "top": null,
            "grid_column": null,
            "overflow_y": null,
            "overflow_x": null,
            "grid_auto_flow": null,
            "grid_area": null,
            "grid_template_columns": null,
            "flex": null,
            "_model_name": "LayoutModel",
            "justify_items": null,
            "grid_row": null,
            "max_height": null,
            "align_content": null,
            "visibility": null,
            "align_self": null,
            "height": null,
            "min_height": null,
            "padding": null,
            "grid_auto_rows": null,
            "grid_gap": null,
            "max_width": null,
            "order": null,
            "_view_module_version": "1.2.0",
            "grid_template_areas": null,
            "object_position": null,
            "object_fit": null,
            "grid_auto_columns": null,
            "margin": null,
            "display": null,
            "left": null
          }
        },
        "d3b23482b3214c18b1d23b573a91e03a": {
          "model_module": "@jupyter-widgets/controls",
          "model_name": "SliderStyleModel",
          "model_module_version": "1.5.0",
          "state": {
            "_view_name": "StyleView",
            "handle_color": null,
            "_model_name": "SliderStyleModel",
            "description_width": "",
            "_view_module": "@jupyter-widgets/base",
            "_model_module_version": "1.5.0",
            "_view_count": null,
            "_view_module_version": "1.2.0",
            "_model_module": "@jupyter-widgets/controls"
          }
        },
        "ac0da855102948c98536b661af037f59": {
          "model_module": "@jupyter-widgets/base",
          "model_name": "LayoutModel",
          "model_module_version": "1.2.0",
          "state": {
            "_view_name": "LayoutView",
            "grid_template_rows": null,
            "right": null,
            "justify_content": null,
            "_view_module": "@jupyter-widgets/base",
            "overflow": null,
            "_model_module_version": "1.2.0",
            "_view_count": null,
            "flex_flow": null,
            "width": null,
            "min_width": null,
            "border": null,
            "align_items": null,
            "bottom": null,
            "_model_module": "@jupyter-widgets/base",
            "top": null,
            "grid_column": null,
            "overflow_y": null,
            "overflow_x": null,
            "grid_auto_flow": null,
            "grid_area": null,
            "grid_template_columns": null,
            "flex": null,
            "_model_name": "LayoutModel",
            "justify_items": null,
            "grid_row": null,
            "max_height": null,
            "align_content": null,
            "visibility": null,
            "align_self": null,
            "height": null,
            "min_height": null,
            "padding": null,
            "grid_auto_rows": null,
            "grid_gap": null,
            "max_width": null,
            "order": null,
            "_view_module_version": "1.2.0",
            "grid_template_areas": null,
            "object_position": null,
            "object_fit": null,
            "grid_auto_columns": null,
            "margin": null,
            "display": null,
            "left": null
          }
        },
        "be2def961f84413681a96bfaa0b52b72": {
          "model_module": "@jupyter-widgets/controls",
          "model_name": "SliderStyleModel",
          "model_module_version": "1.5.0",
          "state": {
            "_view_name": "StyleView",
            "handle_color": null,
            "_model_name": "SliderStyleModel",
            "description_width": "",
            "_view_module": "@jupyter-widgets/base",
            "_model_module_version": "1.5.0",
            "_view_count": null,
            "_view_module_version": "1.2.0",
            "_model_module": "@jupyter-widgets/controls"
          }
        },
        "4fb897c84ad645bcb108d85bc442442b": {
          "model_module": "@jupyter-widgets/base",
          "model_name": "LayoutModel",
          "model_module_version": "1.2.0",
          "state": {
            "_view_name": "LayoutView",
            "grid_template_rows": null,
            "right": null,
            "justify_content": null,
            "_view_module": "@jupyter-widgets/base",
            "overflow": null,
            "_model_module_version": "1.2.0",
            "_view_count": null,
            "flex_flow": null,
            "width": null,
            "min_width": null,
            "border": null,
            "align_items": null,
            "bottom": null,
            "_model_module": "@jupyter-widgets/base",
            "top": null,
            "grid_column": null,
            "overflow_y": null,
            "overflow_x": null,
            "grid_auto_flow": null,
            "grid_area": null,
            "grid_template_columns": null,
            "flex": null,
            "_model_name": "LayoutModel",
            "justify_items": null,
            "grid_row": null,
            "max_height": null,
            "align_content": null,
            "visibility": null,
            "align_self": null,
            "height": null,
            "min_height": null,
            "padding": null,
            "grid_auto_rows": null,
            "grid_gap": null,
            "max_width": null,
            "order": null,
            "_view_module_version": "1.2.0",
            "grid_template_areas": null,
            "object_position": null,
            "object_fit": null,
            "grid_auto_columns": null,
            "margin": null,
            "display": null,
            "left": null
          }
        },
        "c39086980ac645b980ba457d8d419968": {
          "model_module": "@jupyter-widgets/controls",
          "model_name": "SliderStyleModel",
          "model_module_version": "1.5.0",
          "state": {
            "_view_name": "StyleView",
            "handle_color": null,
            "_model_name": "SliderStyleModel",
            "description_width": "",
            "_view_module": "@jupyter-widgets/base",
            "_model_module_version": "1.5.0",
            "_view_count": null,
            "_view_module_version": "1.2.0",
            "_model_module": "@jupyter-widgets/controls"
          }
        },
        "4ed2c880b0ce428a92e372288b3930cc": {
          "model_module": "@jupyter-widgets/base",
          "model_name": "LayoutModel",
          "model_module_version": "1.2.0",
          "state": {
            "_view_name": "LayoutView",
            "grid_template_rows": null,
            "right": null,
            "justify_content": null,
            "_view_module": "@jupyter-widgets/base",
            "overflow": null,
            "_model_module_version": "1.2.0",
            "_view_count": null,
            "flex_flow": null,
            "width": null,
            "min_width": null,
            "border": null,
            "align_items": null,
            "bottom": null,
            "_model_module": "@jupyter-widgets/base",
            "top": null,
            "grid_column": null,
            "overflow_y": null,
            "overflow_x": null,
            "grid_auto_flow": null,
            "grid_area": null,
            "grid_template_columns": null,
            "flex": null,
            "_model_name": "LayoutModel",
            "justify_items": null,
            "grid_row": null,
            "max_height": null,
            "align_content": null,
            "visibility": null,
            "align_self": null,
            "height": null,
            "min_height": null,
            "padding": null,
            "grid_auto_rows": null,
            "grid_gap": null,
            "max_width": null,
            "order": null,
            "_view_module_version": "1.2.0",
            "grid_template_areas": null,
            "object_position": null,
            "object_fit": null,
            "grid_auto_columns": null,
            "margin": null,
            "display": null,
            "left": null
          }
        },
        "b1eb7632360240dea3bc54e083d6767e": {
          "model_module": "@jupyter-widgets/controls",
          "model_name": "DescriptionStyleModel",
          "model_module_version": "1.5.0",
          "state": {
            "_view_name": "StyleView",
            "_model_name": "DescriptionStyleModel",
            "description_width": "",
            "_view_module": "@jupyter-widgets/base",
            "_model_module_version": "1.5.0",
            "_view_count": null,
            "_view_module_version": "1.2.0",
            "_model_module": "@jupyter-widgets/controls"
          }
        },
        "b9312da8f3a04ff983ef75efe45b1a75": {
          "model_module": "@jupyter-widgets/base",
          "model_name": "LayoutModel",
          "model_module_version": "1.2.0",
          "state": {
            "_view_name": "LayoutView",
            "grid_template_rows": null,
            "right": null,
            "justify_content": null,
            "_view_module": "@jupyter-widgets/base",
            "overflow": null,
            "_model_module_version": "1.2.0",
            "_view_count": null,
            "flex_flow": null,
            "width": null,
            "min_width": null,
            "border": null,
            "align_items": null,
            "bottom": null,
            "_model_module": "@jupyter-widgets/base",
            "top": null,
            "grid_column": null,
            "overflow_y": null,
            "overflow_x": null,
            "grid_auto_flow": null,
            "grid_area": null,
            "grid_template_columns": null,
            "flex": null,
            "_model_name": "LayoutModel",
            "justify_items": null,
            "grid_row": null,
            "max_height": null,
            "align_content": null,
            "visibility": null,
            "align_self": null,
            "height": null,
            "min_height": null,
            "padding": null,
            "grid_auto_rows": null,
            "grid_gap": null,
            "max_width": null,
            "order": null,
            "_view_module_version": "1.2.0",
            "grid_template_areas": null,
            "object_position": null,
            "object_fit": null,
            "grid_auto_columns": null,
            "margin": null,
            "display": null,
            "left": null
          }
        },
        "d4687943bf6e46a68865efe75224034b": {
          "model_module": "@jupyter-widgets/controls",
          "model_name": "DescriptionStyleModel",
          "model_module_version": "1.5.0",
          "state": {
            "_view_name": "StyleView",
            "_model_name": "DescriptionStyleModel",
            "description_width": "",
            "_view_module": "@jupyter-widgets/base",
            "_model_module_version": "1.5.0",
            "_view_count": null,
            "_view_module_version": "1.2.0",
            "_model_module": "@jupyter-widgets/controls"
          }
        },
        "0fbc64ff86684950a4c5a6625f1cf88c": {
          "model_module": "@jupyter-widgets/base",
          "model_name": "LayoutModel",
          "model_module_version": "1.2.0",
          "state": {
            "_view_name": "LayoutView",
            "grid_template_rows": null,
            "right": null,
            "justify_content": null,
            "_view_module": "@jupyter-widgets/base",
            "overflow": null,
            "_model_module_version": "1.2.0",
            "_view_count": null,
            "flex_flow": null,
            "width": null,
            "min_width": null,
            "border": null,
            "align_items": null,
            "bottom": null,
            "_model_module": "@jupyter-widgets/base",
            "top": null,
            "grid_column": null,
            "overflow_y": null,
            "overflow_x": null,
            "grid_auto_flow": null,
            "grid_area": null,
            "grid_template_columns": null,
            "flex": null,
            "_model_name": "LayoutModel",
            "justify_items": null,
            "grid_row": null,
            "max_height": null,
            "align_content": null,
            "visibility": null,
            "align_self": null,
            "height": null,
            "min_height": null,
            "padding": null,
            "grid_auto_rows": null,
            "grid_gap": null,
            "max_width": null,
            "order": null,
            "_view_module_version": "1.2.0",
            "grid_template_areas": null,
            "object_position": null,
            "object_fit": null,
            "grid_auto_columns": null,
            "margin": null,
            "display": null,
            "left": null
          }
        },
        "8dde9923270443e18e129044a209196e": {
          "model_module": "@jupyter-widgets/base",
          "model_name": "LayoutModel",
          "model_module_version": "1.2.0",
          "state": {
            "_view_name": "LayoutView",
            "grid_template_rows": null,
            "right": null,
            "justify_content": null,
            "_view_module": "@jupyter-widgets/base",
            "overflow": null,
            "_model_module_version": "1.2.0",
            "_view_count": null,
            "flex_flow": null,
            "width": null,
            "min_width": null,
            "border": null,
            "align_items": null,
            "bottom": null,
            "_model_module": "@jupyter-widgets/base",
            "top": null,
            "grid_column": null,
            "overflow_y": null,
            "overflow_x": null,
            "grid_auto_flow": null,
            "grid_area": null,
            "grid_template_columns": null,
            "flex": null,
            "_model_name": "LayoutModel",
            "justify_items": null,
            "grid_row": null,
            "max_height": null,
            "align_content": null,
            "visibility": null,
            "align_self": null,
            "height": null,
            "min_height": null,
            "padding": null,
            "grid_auto_rows": null,
            "grid_gap": null,
            "max_width": null,
            "order": null,
            "_view_module_version": "1.2.0",
            "grid_template_areas": null,
            "object_position": null,
            "object_fit": null,
            "grid_auto_columns": null,
            "margin": null,
            "display": null,
            "left": null
          }
        }
      }
    }
  },
  "cells": [
    {
      "cell_type": "markdown",
      "metadata": {
        "id": "view-in-github",
        "colab_type": "text"
      },
      "source": [
        "<a href=\"https://colab.research.google.com/github/arjoca/RHDocentes/blob/main/RHDocentes_Corrige.ipynb\" target=\"_parent\"><img src=\"https://colab.research.google.com/assets/colab-badge.svg\" alt=\"Open In Colab\"/></a>"
      ]
    },
    {
      "cell_type": "markdown",
      "source": [
        "# RHDocentes - fevereiro 2022\n",
        "\n",
        "**Notebook 3** - Correção das Desigualdades\n",
        "\n",
        "![logo_isel.png](data:image/png;base64,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)\n",
        "\n",
        "Estudo organizado em 3 notebooks:\n",
        "*   [O primeiro](https://github.com/arjoca/RHDocentes/blob/main/RHDocentes_Hoje.ipynb) - O ISEL Hoje e as Desigualdades \n",
        "*   [O anterior](https://github.com/arjoca/RHDocentes/blob/main/RHDocentes_Futuro.ipynb) - O Futuro e a Dinâmica de Aposentações\n",
        "*   **Este notebook** - Correção das Desigualdades"
      ],
      "metadata": {
        "id": "tmkGz0DyDc2J"
      }
    },
    {
      "cell_type": "markdown",
      "source": [
        "# Fontes de informação\n",
        "\n",
        "*   Ficheiro \"Afetacao_Financeira_ADs_Cursos_2021_v01.xlsx\"\n",
        "*   Ficheiro \"RAIDES_0.xlsx\"\n",
        "\n",
        "Informação que depois de filtrada e anonimizada deu origem aos dados guardados no ficheiro [clean_data.xlsx](https://github.com/arjoca/RHDocentes/blob/main/clean_data.xlsx), usados neste estudo."
      ],
      "metadata": {
        "id": "D--VSWG109MQ"
      }
    },
    {
      "cell_type": "markdown",
      "source": [
        "# Preparação"
      ],
      "metadata": {
        "id": "25yEfwrF1hQd"
      }
    },
    {
      "cell_type": "markdown",
      "source": [
        "## Importação de módulos e leitura de dados"
      ],
      "metadata": {
        "id": "_baJCALaUHhc"
      }
    },
    {
      "cell_type": "code",
      "source": [
        "# Instalação de módulos\n",
        "!pip install kora -q\n",
        "!pip install -U kaleido"
      ],
      "metadata": {
        "id": "WbMde719TXix",
        "colab": {
          "base_uri": "https://localhost:8080/"
        },
        "outputId": "8d126587-f1e5-4afb-d08a-5e71fd69de8e"
      },
      "execution_count": null,
      "outputs": [
        {
          "output_type": "stream",
          "name": "stdout",
          "text": [
            "Requirement already satisfied: kaleido in /usr/local/lib/python3.7/dist-packages (0.2.1)\n"
          ]
        }
      ]
    },
    {
      "cell_type": "code",
      "source": [
        "# Importação de módulos\n",
        "import numpy as np\n",
        "import pandas as pd\n",
        "import matplotlib.pyplot as plt\n",
        "import seaborn as sns\n",
        "from datetime import datetime, timedelta\n",
        "from ipywidgets import widgets, interact, fixed\n",
        "from IPython.display import Image"
      ],
      "metadata": {
        "id": "UF6cJzSF0xSB"
      },
      "execution_count": null,
      "outputs": []
    },
    {
      "cell_type": "code",
      "source": [
        "# Leitura de dados\n",
        "base_url = 'https://raw.githubusercontent.com/arjoca/RHDocentes/main/data/'\n",
        "docentes = pd.read_csv(base_url + 'docentes.csv', encoding= 'unicode_escape', \n",
        "                       parse_dates=['Data Nascimento'], infer_datetime_format=True)\n",
        "alunos_per_curso = pd.read_csv(base_url + 'alunos.csv', encoding= 'unicode_escape', index_col=0)\n",
        "horas = pd.read_csv(base_url + 'horas.csv', encoding= 'unicode_escape', index_col=0)"
      ],
      "metadata": {
        "id": "ptxmB1t613TV"
      },
      "execution_count": null,
      "outputs": []
    },
    {
      "cell_type": "markdown",
      "source": [
        "## Inicializações"
      ],
      "metadata": {
        "id": "p65zNlZgUTeG"
      }
    },
    {
      "cell_type": "code",
      "source": [
        "# Designações dos cursos e departamentos\n",
        "LISTA_DEPTS = sorted(docentes['Departamento'].unique())\n",
        "LISTA_CURSOS = sorted(alunos_per_curso.index.unique())"
      ],
      "metadata": {
        "id": "w3ylNnDC-kXi"
      },
      "execution_count": null,
      "outputs": []
    },
    {
      "cell_type": "code",
      "source": [
        "# Designações das categorias de docentes\n",
        "cat_prof_coord = ['Prof. Coordenador', 'Prof. Coordenador c/ Agreg. ', 'Professor Coordenador Principal']\n",
        "cat_convidado = ['Assistente Convidado', 'Professor Adjunto Convidado']\n",
        "cat_adjunto = ['Professor Adjunto']\n",
        "cat_assistente = ['Assistente do 2. Trienio', 'Assistente', 'Equiparado Assistente 2. Trienio']\n",
        "cat_monitor = ['Monitor']\n",
        "cat_quadro = cat_prof_coord + cat_adjunto\n",
        "cat_todas = cat_quadro + cat_convidado + cat_assistente + cat_monitor"
      ],
      "metadata": {
        "id": "wzavEGUX2Pew"
      },
      "execution_count": null,
      "outputs": []
    },
    {
      "cell_type": "code",
      "source": [
        "# Dicionários com categorias de docentes e suas designações\n",
        "catgs = {'Coordenadores':cat_prof_coord, \n",
        "         'Adjuntos': cat_adjunto,\n",
        "         'Quadro': cat_quadro,\n",
        "         'Convidados': cat_convidado,\n",
        "         'ETIs': cat_todas,\n",
        "         'ETIs++': 'ETIs++'}\n",
        "inv_catgs = {tuple(v): k for k, v in catgs.items()}"
      ],
      "metadata": {
        "id": "Ax9OehgIRygL"
      },
      "execution_count": null,
      "outputs": []
    },
    {
      "cell_type": "code",
      "source": [
        "# Horas de contacto usadas para determinar relações entre cursos e departamentos\n",
        "horas_per_curso = horas.sum(axis=1)\n",
        "pesos_dept_per_curso = horas.T / horas_per_curso\n",
        "\n",
        "# Alunos por departamento\n",
        "alunos_per_dept = pd.DataFrame(np.dot(pesos_dept_per_curso, alunos_per_curso),\n",
        "                              index=pesos_dept_per_curso.index, columns=['Alunos'])\n",
        "alunos_per_dept = alunos_per_dept['Alunos']\n",
        "alunos_per_dept.name = ''\n",
        "alunos_per_dept = alunos_per_dept.sort_index()"
      ],
      "metadata": {
        "id": "ztK7YjeuT75r"
      },
      "execution_count": null,
      "outputs": []
    },
    {
      "cell_type": "code",
      "source": [
        "# Números globais\n",
        "alunos_per_eti_isel = alunos_per_curso.sum().sum() / docentes['ETI'].sum()\n",
        "eti_per_dept = docentes.groupby(['Departamento'])['ETI'].sum()"
      ],
      "metadata": {
        "id": "Sj3ZHMyv123k"
      },
      "execution_count": null,
      "outputs": []
    },
    {
      "cell_type": "code",
      "source": [
        "# ETIs VIANA (Valor Ideal Atendendo ao Número de Alunos)\n",
        "viana = alunos_per_dept / alunos_per_eti_isel\n",
        "fana = viana - eti_per_dept"
      ],
      "metadata": {
        "id": "Xsuu-pqE1O1r"
      },
      "execution_count": null,
      "outputs": []
    },
    {
      "cell_type": "markdown",
      "source": [
        "## Funções usadas nos anteriores notebooks "
      ],
      "metadata": {
        "id": "aDhoCFK6T9Bt"
      }
    },
    {
      "cell_type": "code",
      "source": [
        "# Filtragem de docentes atendendo à sua idade de aposentação \n",
        "def aposentados_e_ativos(df, ano, idade_reforma):\n",
        "  idade = (datetime(ano, 1, 1) - df['Data Nascimento'])/timedelta(days=365.25)\n",
        "  aposentados = df[idade > idade_reforma]\n",
        "  ativos = df.drop(index=aposentados.index)\n",
        "  return aposentados, ativos"
      ],
      "metadata": {
        "id": "l2mTrprr2S8p"
      },
      "execution_count": null,
      "outputs": []
    },
    {
      "cell_type": "code",
      "source": [
        "# Filtragem de docentes atendendo à sua categoria\n",
        "def docentes_per_categoria(df, categoria):\n",
        "  s = df.groupby(['Departamento', 'Categoria'])['ETI'].sum()\n",
        "  s = s.loc[(slice(None), categoria)].droplevel(level=1)\n",
        "  s = s.groupby(s.index).sum()\n",
        "  s = pd.Series(s, index=LISTA_DEPTS)\n",
        "  return s.fillna(0)"
      ],
      "metadata": {
        "id": "ApJsbc5DUcfm"
      },
      "execution_count": null,
      "outputs": []
    },
    {
      "cell_type": "markdown",
      "source": [
        "# Medição das desigualdades (coeficiente de Gini)\n",
        "\n",
        "$$G=\\frac{\\sum_{i=1}^n (2i-n-1)x_i}{n\\sum_{i=1}^n x_i}$$\n",
        "\n",
        "onde $\\{x_i\\}$ é o conjunto dos $n$ valores da distribuição, ordenados por ordem crescente ($i$ é o ranking de $x_i$)\n",
        "\n",
        "$$0 \\le G \\le 1$$\n",
        "$(G=0) \\Rightarrow$ **não há desigualdades** (valores da distribuição todos iguais)\n",
        "\n",
        "$(G \\approx 1) \\Rightarrow$ ***winner-takes-all*** (todos os valores a zero, exceto um)\n",
        "\n",
        "Fontes:\n",
        "*   [Statistical/Help - Gini Coefficient of Inequality](http://www.statsdirect.com/help/default.htm#nonparametric_methods/gini.htm)\n",
        "*   [GitHub - Olivia Guest](https://github.com/oliviaguest/gini)\n",
        "\n",
        "**Alternativa:** Usar definição de Entropia da Teoria de Informação, $E=-\\sum_{i=1}^n x_i log(x_i)$\n",
        "\n",
        "Neste caso, quanto maior é o valor da entropia, menores serão as desigualdades.\n"
      ],
      "metadata": {
        "id": "u42G1e8cuLWI"
      }
    },
    {
      "cell_type": "code",
      "source": [
        "# Função para calcular o coeficiente de Gini\n",
        "def gini(array):\n",
        "    array = array.flatten()\n",
        "    if np.amin(array) < 0:\n",
        "        array -= np.amin(array)\n",
        "    array += 0.0000001\n",
        "    array = np.sort(array)\n",
        "    index = np.arange(1,array.shape[0]+1)\n",
        "    n = array.shape[0]\n",
        "    return ((np.sum((2 * index - n  - 1) * array)) / (n * np.sum(array)))"
      ],
      "metadata": {
        "id": "8SG_X1jzuM2i"
      },
      "execution_count": null,
      "outputs": []
    },
    {
      "cell_type": "markdown",
      "source": [
        "# Três métodos para fazer a distribuição"
      ],
      "metadata": {
        "id": "HSxvZNBj7SHX"
      }
    },
    {
      "cell_type": "code",
      "source": [
        "# Função auxiliar para determinar quanto falta para o target\n",
        "def how_many_to_target(target, numerator, denominator):\n",
        "  s = denominator * target - numerator\n",
        "  s.clip(lower=0, inplace=True)\n",
        "  return s"
      ],
      "metadata": {
        "id": "siOS9-9x5a2s"
      },
      "execution_count": null,
      "outputs": []
    },
    {
      "cell_type": "code",
      "source": [
        "# METHOD 1 - Linear mapping\n",
        "def linear_map(target, cake, numerator, denominator):\n",
        "  s = how_many_to_target(target, numerator, denominator)\n",
        "  return s / s.sum() * cake"
      ],
      "metadata": {
        "id": "vjaZimoaNwkI"
      },
      "execution_count": null,
      "outputs": []
    },
    {
      "cell_type": "code",
      "source": [
        "# METHOD 2 - D'Hondt\n",
        "def method_hondt(target, cake, numerator, denominator):\n",
        "  s = how_many_to_target(target, numerator, denominator)\n",
        "  list_of_series = [s/i for i in range(1, cake+1)]\n",
        "  df = pd.concat(list_of_series, axis=1)\n",
        "  vals = np.sort(np.ravel(df.to_numpy(copy=True)))[-1::-1]\n",
        "  df = df >= vals[cake-1]\n",
        "  return df.sum(axis=1)\n",
        "\n",
        "# METHOD 2a - D'Hondt\n",
        "def method_hondt_ordering(target, cake, numerator, denominator):\n",
        "  s = how_many_to_target(target, numerator, denominator)\n",
        "  list_of_series = [s/i for i in range(1, cake+1)]\n",
        "  df = pd.concat(list_of_series, axis=1)\n",
        "  vals = np.sort(np.ravel(df.to_numpy(copy=True)))[-1::-1]\n",
        "  df_ordering = pd.DataFrame(index=LISTA_DEPTS)\n",
        "  for i,v in enumerate(vals[:cake]):\n",
        "    ix = df[df==v].stack().index.get_level_values(0)\n",
        "    df_ordering.loc[ix, i+1] = 1\n",
        "  return df_ordering"
      ],
      "metadata": {
        "id": "VSNVnHCtNxF0"
      },
      "execution_count": null,
      "outputs": []
    },
    {
      "cell_type": "code",
      "source": [
        "# METHOD 3 - One step iteration\n",
        "def step_by_step(cake, numerator, denominator):\n",
        "  df = pd.DataFrame(index=LISTA_DEPTS)\n",
        "  num = numerator.copy()\n",
        "  den = denominator.copy()\n",
        "  for i in range(cake):\n",
        "    ratio = num / den\n",
        "    ix = ratio.idxmin()\n",
        "    num[ix] += 1\n",
        "    df.loc[ix,i+1] = 1\n",
        "  return df"
      ],
      "metadata": {
        "id": "Le9GMZJiNw2_"
      },
      "execution_count": null,
      "outputs": []
    },
    {
      "cell_type": "markdown",
      "source": [
        "# Exercício de comparação"
      ],
      "metadata": {
        "id": "704E0zY-N7TX"
      }
    },
    {
      "cell_type": "markdown",
      "source": [
        "## Funções de auxílio"
      ],
      "metadata": {
        "id": "d5dKkN09OStL"
      }
    },
    {
      "cell_type": "code",
      "source": [
        "# Mostrar resultados na forma de gráficos\n",
        "def show_results(num, den, s, df, bolo, target, ano, reforma, denominador, metodo):\n",
        "  fig, ax = plt.subplots(2, 2, figsize=(17,8))\n",
        "  fig.subplots_adjust(hspace=0.5)\n",
        "  title1 = f'Distribuição de {bolo} vagas - método {metodo}, '\n",
        "  title2 = ''\n",
        "  if metodo != 'step_by_step':\n",
        "    title2 += f'target= {target}, '\n",
        "  title3 = f'denominador={inv_catgs[tuple(denominador)]}, ano={ano}, idade_reforma={reforma}'\n",
        "  fig.suptitle(title1 + title2 + title3)\n",
        "\n",
        "  s.name=''\n",
        "  s.plot(kind='bar', ax=ax[0,0], table=np.round(s,1).to_frame().T, cmap='PuOr')\n",
        "  ax[0,0].set_title('Distribuição do bolo pelos departamentos')\n",
        "  ax[0,0].xaxis.set_visible(False)\n",
        "  if df is not None:\n",
        "    sns.heatmap(df, cbar=False, linewidths=2, linecolor='grey', ax=ax[0,1], cmap='PuOr')\n",
        "    ax[0,1].set_title('Ordenação da distribuição')\n",
        " \n",
        "  # Valores antes da distribuição\n",
        "  s_antes = num/den\n",
        "  s_antes.plot(kind='bar', ax=ax[1,0])\n",
        "  ax[1,0].axhline(y=s_antes.mean(), linewidth=2, color='#d62728')\n",
        "  ax[1,0].set_title(f'Rácios antes da distribuição - Coef. Gini = {np.round(gini(s_antes.values),3)}')\n",
        "  # Valores depois da distribuição\n",
        "  s_depois = (num+s)/den\n",
        "  s_depois.plot(kind='bar', ax=ax[1,1])\n",
        "  ax[1,1].axhline(y=s_depois.mean(), linewidth=2, color='#d62728')\n",
        "  ax[1,1].set_title(f'Rácios depois da distribuição - Coef. Gini = {np.round(gini(s_depois.values),3)}')\n",
        "\n",
        "  fig.savefig('temp_image.png')"
      ],
      "metadata": {
        "id": "reIqsuau89If"
      },
      "execution_count": null,
      "outputs": []
    },
    {
      "cell_type": "code",
      "source": [
        "# Função chamada de forma interativa usando widgets\n",
        "def main_func(bolo=8, target=0.25, ano=2022, reforma=68, denominador='ETIs++', \n",
        "        metodo='hondt'):\n",
        "  _, ativos = aposentados_e_ativos(docentes, ano, reforma)\n",
        "  num = docentes_per_categoria(ativos, cat_prof_coord)\n",
        "  \n",
        "  if denominador != 'ETIs++':\n",
        "    den = docentes_per_categoria(ativos, denominador)\n",
        "  else:\n",
        "    den = docentes_per_categoria(ativos, cat_todas) + fana\n",
        "\n",
        "  if metodo == 'linear':\n",
        "    df = None\n",
        "    s = linear_map(target, bolo, num, den)\n",
        "  elif metodo == 'hondt':\n",
        "    df = method_hondt_ordering(target, bolo, num, den)\n",
        "    s = df.sum(axis=1)\n",
        "  elif metodo == 'step_by_step':\n",
        "    df = step_by_step(bolo, num, den)\n",
        "    s = df.sum(axis=1)\n",
        "  else: print('Erro: método inexistente')  \n",
        "  \n",
        "  show_results(num, den, s, df, bolo, target, ano, reforma, denominador, metodo)"
      ],
      "metadata": {
        "id": "atU7tgbfrbef"
      },
      "execution_count": null,
      "outputs": []
    },
    {
      "cell_type": "markdown",
      "source": [
        "## Simulação interativa"
      ],
      "metadata": {
        "id": "4h_gmfiA-zzk"
      }
    },
    {
      "cell_type": "code",
      "source": [
        "# Simulação interativa\n",
        "interact(main_func, bolo=(4,26,1), target=(0.2,0.5,0.05), ano=(2022,2030,1), \n",
        "         reforma=(67,70,1), denominador={'ETIs':cat_todas, \n",
        "                                         'Quadro': cat_quadro, \n",
        "                                         'ETIs++': 'ETIs++'}, \n",
        "         metodo=['linear','hondt','step_by_step'])"
      ],
      "metadata": {
        "colab": {
          "base_uri": "https://localhost:8080/",
          "height": 773,
          "referenced_widgets": [
            "cf266d1bf4c54e5aa4958518202ae7d4",
            "fd36f0ff354847d788474061e4d85591",
            "0f1e732f80674b9392806bd4b2b4c1ea",
            "e0de1af1bc39458bba0b56a95737620b",
            "85af324aa2124d4e84822dfe493cb851",
            "022f5c7d821f4d6dbc62ba8da0a04784",
            "d79757f384f944d882f5bc3c9827836b",
            "8eda4416b0c1430d84857c7ac710deb9",
            "2f7fa47bc7284c09bdde585b36450b3b",
            "b8f0e1f1c1054729beaeb7317fb11fbe",
            "8dd48c9c9783481281260e2008e283ef",
            "d3b23482b3214c18b1d23b573a91e03a",
            "ac0da855102948c98536b661af037f59",
            "be2def961f84413681a96bfaa0b52b72",
            "4fb897c84ad645bcb108d85bc442442b",
            "c39086980ac645b980ba457d8d419968",
            "4ed2c880b0ce428a92e372288b3930cc",
            "b1eb7632360240dea3bc54e083d6767e",
            "b9312da8f3a04ff983ef75efe45b1a75",
            "d4687943bf6e46a68865efe75224034b",
            "0fbc64ff86684950a4c5a6625f1cf88c",
            "8dde9923270443e18e129044a209196e"
          ]
        },
        "id": "N27bjBuK7o13",
        "outputId": "c0e9924a-01bb-4b05-94d0-c08ff977bdc5"
      },
      "execution_count": null,
      "outputs": [
        {
          "output_type": "display_data",
          "data": {
            "application/vnd.jupyter.widget-view+json": {
              "model_id": "cf266d1bf4c54e5aa4958518202ae7d4",
              "version_minor": 0,
              "version_major": 2
            },
            "text/plain": [
              "interactive(children=(IntSlider(value=8, description='bolo', max=26, min=4), FloatSlider(value=0.25, descripti…"
            ]
          },
          "metadata": {}
        },
        {
          "output_type": "execute_result",
          "data": {
            "text/plain": [
              "<function __main__.main_func>"
            ]
          },
          "metadata": {},
          "execution_count": 19
        }
      ]
    },
    {
      "cell_type": "code",
      "source": [
        "Image('temp_image.png')"
      ],
      "metadata": {
        "colab": {
          "base_uri": "https://localhost:8080/",
          "height": 593
        },
        "id": "qYXdwYI8OlD8",
        "outputId": "9188a46f-def6-45ba-a6a8-2f2a35dbe4e5"
      },
      "execution_count": null,
      "outputs": [
        {
          "output_type": "execute_result",
          "data": {
            "image/png": "[encoded data removed]",
            "text/plain": [
              "<IPython.core.display.Image object>"
            ]
          },
          "metadata": {},
          "execution_count": 20
        }
      ]
    }
  ]
}