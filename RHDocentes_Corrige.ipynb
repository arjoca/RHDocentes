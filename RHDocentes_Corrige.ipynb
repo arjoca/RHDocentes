{
  "nbformat": 4,
  "nbformat_minor": 0,
  "metadata": {
    "colab": {
      "name": "Copy of RHDocentes_Converge.ipynb",
      "provenance": [],
      "collapsed_sections": [],
      "authorship_tag": "ABX9TyN5eByvuqNT1m8PkwUtAb+K",
      "include_colab_link": true
    },
    "kernelspec": {
      "name": "python3",
      "display_name": "Python 3"
    },
    "language_info": {
      "name": "python"
    },
    "widgets": {
      "application/vnd.jupyter.widget-state+json": {
        "dc948bd23e5f432dae4a074ef2265711": {
          "model_module": "@jupyter-widgets/controls",
          "model_name": "VBoxModel",
          "model_module_version": "1.5.0",
          "state": {
            "_view_name": "VBoxView",
            "_dom_classes": [
              "widget-interact"
            ],
            "_model_name": "VBoxModel",
            "_view_module": "@jupyter-widgets/controls",
            "_model_module_version": "1.5.0",
            "_view_count": null,
            "_view_module_version": "1.5.0",
            "box_style": "",
            "layout": "IPY_MODEL_59fd2f37c4ad42ec951d83bfaf16751c",
            "_model_module": "@jupyter-widgets/controls",
            "children": [
              "IPY_MODEL_c0e07d30e2b248df812e9961e2d24545",
              "IPY_MODEL_7b01c72aa27d46df97a1809c89d84e95",
              "IPY_MODEL_940684027bf3461d861835c605ca401c",
              "IPY_MODEL_0658e039e4e0495a871f0a2ff6e56c77",
              "IPY_MODEL_2adc117d88bd47af87ec10dd15685fa7",
              "IPY_MODEL_47eef90a0c154fc18faf29a4ae6d9dfe",
              "IPY_MODEL_9e99aa7f8c894a60ac2ae3ef2d8bccea"
            ]
          }
        },
        "59fd2f37c4ad42ec951d83bfaf16751c": {
          "model_module": "@jupyter-widgets/base",
          "model_name": "LayoutModel",
          "model_module_version": "1.2.0",
          "state": {
            "_view_name": "LayoutView",
            "grid_template_rows": null,
            "right": null,
            "justify_content": null,
            "_view_module": "@jupyter-widgets/base",
            "overflow": null,
            "_model_module_version": "1.2.0",
            "_view_count": null,
            "flex_flow": null,
            "width": null,
            "min_width": null,
            "border": null,
            "align_items": null,
            "bottom": null,
            "_model_module": "@jupyter-widgets/base",
            "top": null,
            "grid_column": null,
            "overflow_y": null,
            "overflow_x": null,
            "grid_auto_flow": null,
            "grid_area": null,
            "grid_template_columns": null,
            "flex": null,
            "_model_name": "LayoutModel",
            "justify_items": null,
            "grid_row": null,
            "max_height": null,
            "align_content": null,
            "visibility": null,
            "align_self": null,
            "height": null,
            "min_height": null,
            "padding": null,
            "grid_auto_rows": null,
            "grid_gap": null,
            "max_width": null,
            "order": null,
            "_view_module_version": "1.2.0",
            "grid_template_areas": null,
            "object_position": null,
            "object_fit": null,
            "grid_auto_columns": null,
            "margin": null,
            "display": null,
            "left": null
          }
        },
        "c0e07d30e2b248df812e9961e2d24545": {
          "model_module": "@jupyter-widgets/controls",
          "model_name": "IntSliderModel",
          "model_module_version": "1.5.0",
          "state": {
            "_view_name": "IntSliderView",
            "style": "IPY_MODEL_f0f69777fe554fe49e373c91218f5b4a",
            "_dom_classes": [],
            "description": "bolo",
            "step": 1,
            "_model_name": "IntSliderModel",
            "orientation": "horizontal",
            "max": 80,
            "_view_module": "@jupyter-widgets/controls",
            "_model_module_version": "1.5.0",
            "value": 18,
            "_view_count": null,
            "disabled": false,
            "_view_module_version": "1.5.0",
            "min": 4,
            "continuous_update": true,
            "readout_format": "d",
            "description_tooltip": null,
            "readout": true,
            "_model_module": "@jupyter-widgets/controls",
            "layout": "IPY_MODEL_a551f322eedf49e3867e243fbb7584ef"
          }
        },
        "7b01c72aa27d46df97a1809c89d84e95": {
          "model_module": "@jupyter-widgets/controls",
          "model_name": "FloatSliderModel",
          "model_module_version": "1.5.0",
          "state": {
            "_view_name": "FloatSliderView",
            "style": "IPY_MODEL_785fffcbe9104ecca1581bbadb42f6fa",
            "_dom_classes": [],
            "description": "target",
            "step": 0.05,
            "_model_name": "FloatSliderModel",
            "orientation": "horizontal",
            "max": 0.75,
            "_view_module": "@jupyter-widgets/controls",
            "_model_module_version": "1.5.0",
            "value": 0.25,
            "_view_count": null,
            "disabled": false,
            "_view_module_version": "1.5.0",
            "min": 0.15,
            "continuous_update": true,
            "readout_format": ".2f",
            "description_tooltip": null,
            "readout": true,
            "_model_module": "@jupyter-widgets/controls",
            "layout": "IPY_MODEL_9e7dce1fa62d438c84f4eabf675a32a9"
          }
        },
        "940684027bf3461d861835c605ca401c": {
          "model_module": "@jupyter-widgets/controls",
          "model_name": "IntSliderModel",
          "model_module_version": "1.5.0",
          "state": {
            "_view_name": "IntSliderView",
            "style": "IPY_MODEL_5f1b767a0b6c4de2809bfc6f43d23048",
            "_dom_classes": [],
            "description": "ano",
            "step": 1,
            "_model_name": "IntSliderModel",
            "orientation": "horizontal",
            "max": 2030,
            "_view_module": "@jupyter-widgets/controls",
            "_model_module_version": "1.5.0",
            "value": 2022,
            "_view_count": null,
            "disabled": false,
            "_view_module_version": "1.5.0",
            "min": 2022,
            "continuous_update": true,
            "readout_format": "d",
            "description_tooltip": null,
            "readout": true,
            "_model_module": "@jupyter-widgets/controls",
            "layout": "IPY_MODEL_1d7a4773b49a4cb5a2e2a14e3d13133b"
          }
        },
        "0658e039e4e0495a871f0a2ff6e56c77": {
          "model_module": "@jupyter-widgets/controls",
          "model_name": "IntSliderModel",
          "model_module_version": "1.5.0",
          "state": {
            "_view_name": "IntSliderView",
            "style": "IPY_MODEL_dc9fc08df4c64b67bbf58980b1e1b907",
            "_dom_classes": [],
            "description": "reforma",
            "step": 1,
            "_model_name": "IntSliderModel",
            "orientation": "horizontal",
            "max": 70,
            "_view_module": "@jupyter-widgets/controls",
            "_model_module_version": "1.5.0",
            "value": 68,
            "_view_count": null,
            "disabled": false,
            "_view_module_version": "1.5.0",
            "min": 67,
            "continuous_update": true,
            "readout_format": "d",
            "description_tooltip": null,
            "readout": true,
            "_model_module": "@jupyter-widgets/controls",
            "layout": "IPY_MODEL_5bffbfd12b0e4b1aaf810c896a7d0a4d"
          }
        },
        "2adc117d88bd47af87ec10dd15685fa7": {
          "model_module": "@jupyter-widgets/controls",
          "model_name": "DropdownModel",
          "model_module_version": "1.5.0",
          "state": {
            "_options_labels": [
              "ETIs",
              "Quadro",
              "ETIs++"
            ],
            "_view_name": "DropdownView",
            "style": "IPY_MODEL_acac5d67cf894c4681e210f002c5635b",
            "_dom_classes": [],
            "description": "denominador",
            "_model_name": "DropdownModel",
            "index": 2,
            "_view_module": "@jupyter-widgets/controls",
            "_model_module_version": "1.5.0",
            "_view_count": null,
            "disabled": false,
            "_view_module_version": "1.5.0",
            "description_tooltip": null,
            "_model_module": "@jupyter-widgets/controls",
            "layout": "IPY_MODEL_75bd476485824a9fa74a0f04a0f81aa5"
          }
        },
        "47eef90a0c154fc18faf29a4ae6d9dfe": {
          "model_module": "@jupyter-widgets/controls",
          "model_name": "DropdownModel",
          "model_module_version": "1.5.0",
          "state": {
            "_options_labels": [
              "linear",
              "hondt",
              "step_by_step"
            ],
            "_view_name": "DropdownView",
            "style": "IPY_MODEL_21a1632a0d5a494a85101c5511377532",
            "_dom_classes": [],
            "description": "metodo",
            "_model_name": "DropdownModel",
            "index": 2,
            "_view_module": "@jupyter-widgets/controls",
            "_model_module_version": "1.5.0",
            "_view_count": null,
            "disabled": false,
            "_view_module_version": "1.5.0",
            "description_tooltip": null,
            "_model_module": "@jupyter-widgets/controls",
            "layout": "IPY_MODEL_1a1d9022373c45f1a9140b3ebfcaafc8"
          }
        },
        "9e99aa7f8c894a60ac2ae3ef2d8bccea": {
          "model_module": "@jupyter-widgets/output",
          "model_name": "OutputModel",
          "model_module_version": "1.0.0",
          "state": {
            "_view_name": "OutputView",
            "msg_id": "",
            "_dom_classes": [],
            "_model_name": "OutputModel",
            "outputs": [
              {
                "output_type": "display_data",
                "data": {
                  "image/png": "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\n",
                  "text/plain": "<Figure size 1224x576 with 4 Axes>"
                },
                "metadata": {
                  "needs_background": "light"
                }
              }
            ],
            "_view_module": "@jupyter-widgets/output",
            "_model_module_version": "1.0.0",
            "_view_count": null,
            "_view_module_version": "1.0.0",
            "layout": "IPY_MODEL_1bd6b4eba9e44cf6a4351f7e78edcba3",
            "_model_module": "@jupyter-widgets/output"
          }
        },
        "f0f69777fe554fe49e373c91218f5b4a": {
          "model_module": "@jupyter-widgets/controls",
          "model_name": "SliderStyleModel",
          "model_module_version": "1.5.0",
          "state": {
            "_view_name": "StyleView",
            "handle_color": null,
            "_model_name": "SliderStyleModel",
            "description_width": "",
            "_view_module": "@jupyter-widgets/base",
            "_model_module_version": "1.5.0",
            "_view_count": null,
            "_view_module_version": "1.2.0",
            "_model_module": "@jupyter-widgets/controls"
          }
        },
        "a551f322eedf49e3867e243fbb7584ef": {
          "model_module": "@jupyter-widgets/base",
          "model_name": "LayoutModel",
          "model_module_version": "1.2.0",
          "state": {
            "_view_name": "LayoutView",
            "grid_template_rows": null,
            "right": null,
            "justify_content": null,
            "_view_module": "@jupyter-widgets/base",
            "overflow": null,
            "_model_module_version": "1.2.0",
            "_view_count": null,
            "flex_flow": null,
            "width": null,
            "min_width": null,
            "border": null,
            "align_items": null,
            "bottom": null,
            "_model_module": "@jupyter-widgets/base",
            "top": null,
            "grid_column": null,
            "overflow_y": null,
            "overflow_x": null,
            "grid_auto_flow": null,
            "grid_area": null,
            "grid_template_columns": null,
            "flex": null,
            "_model_name": "LayoutModel",
            "justify_items": null,
            "grid_row": null,
            "max_height": null,
            "align_content": null,
            "visibility": null,
            "align_self": null,
            "height": null,
            "min_height": null,
            "padding": null,
            "grid_auto_rows": null,
            "grid_gap": null,
            "max_width": null,
            "order": null,
            "_view_module_version": "1.2.0",
            "grid_template_areas": null,
            "object_position": null,
            "object_fit": null,
            "grid_auto_columns": null,
            "margin": null,
            "display": null,
            "left": null
          }
        },
        "785fffcbe9104ecca1581bbadb42f6fa": {
          "model_module": "@jupyter-widgets/controls",
          "model_name": "SliderStyleModel",
          "model_module_version": "1.5.0",
          "state": {
            "_view_name": "StyleView",
            "handle_color": null,
            "_model_name": "SliderStyleModel",
            "description_width": "",
            "_view_module": "@jupyter-widgets/base",
            "_model_module_version": "1.5.0",
            "_view_count": null,
            "_view_module_version": "1.2.0",
            "_model_module": "@jupyter-widgets/controls"
          }
        },
        "9e7dce1fa62d438c84f4eabf675a32a9": {
          "model_module": "@jupyter-widgets/base",
          "model_name": "LayoutModel",
          "model_module_version": "1.2.0",
          "state": {
            "_view_name": "LayoutView",
            "grid_template_rows": null,
            "right": null,
            "justify_content": null,
            "_view_module": "@jupyter-widgets/base",
            "overflow": null,
            "_model_module_version": "1.2.0",
            "_view_count": null,
            "flex_flow": null,
            "width": null,
            "min_width": null,
            "border": null,
            "align_items": null,
            "bottom": null,
            "_model_module": "@jupyter-widgets/base",
            "top": null,
            "grid_column": null,
            "overflow_y": null,
            "overflow_x": null,
            "grid_auto_flow": null,
            "grid_area": null,
            "grid_template_columns": null,
            "flex": null,
            "_model_name": "LayoutModel",
            "justify_items": null,
            "grid_row": null,
            "max_height": null,
            "align_content": null,
            "visibility": null,
            "align_self": null,
            "height": null,
            "min_height": null,
            "padding": null,
            "grid_auto_rows": null,
            "grid_gap": null,
            "max_width": null,
            "order": null,
            "_view_module_version": "1.2.0",
            "grid_template_areas": null,
            "object_position": null,
            "object_fit": null,
            "grid_auto_columns": null,
            "margin": null,
            "display": null,
            "left": null
          }
        },
        "5f1b767a0b6c4de2809bfc6f43d23048": {
          "model_module": "@jupyter-widgets/controls",
          "model_name": "SliderStyleModel",
          "model_module_version": "1.5.0",
          "state": {
            "_view_name": "StyleView",
            "handle_color": null,
            "_model_name": "SliderStyleModel",
            "description_width": "",
            "_view_module": "@jupyter-widgets/base",
            "_model_module_version": "1.5.0",
            "_view_count": null,
            "_view_module_version": "1.2.0",
            "_model_module": "@jupyter-widgets/controls"
          }
        },
        "1d7a4773b49a4cb5a2e2a14e3d13133b": {
          "model_module": "@jupyter-widgets/base",
          "model_name": "LayoutModel",
          "model_module_version": "1.2.0",
          "state": {
            "_view_name": "LayoutView",
            "grid_template_rows": null,
            "right": null,
            "justify_content": null,
            "_view_module": "@jupyter-widgets/base",
            "overflow": null,
            "_model_module_version": "1.2.0",
            "_view_count": null,
            "flex_flow": null,
            "width": null,
            "min_width": null,
            "border": null,
            "align_items": null,
            "bottom": null,
            "_model_module": "@jupyter-widgets/base",
            "top": null,
            "grid_column": null,
            "overflow_y": null,
            "overflow_x": null,
            "grid_auto_flow": null,
            "grid_area": null,
            "grid_template_columns": null,
            "flex": null,
            "_model_name": "LayoutModel",
            "justify_items": null,
            "grid_row": null,
            "max_height": null,
            "align_content": null,
            "visibility": null,
            "align_self": null,
            "height": null,
            "min_height": null,
            "padding": null,
            "grid_auto_rows": null,
            "grid_gap": null,
            "max_width": null,
            "order": null,
            "_view_module_version": "1.2.0",
            "grid_template_areas": null,
            "object_position": null,
            "object_fit": null,
            "grid_auto_columns": null,
            "margin": null,
            "display": null,
            "left": null
          }
        },
        "dc9fc08df4c64b67bbf58980b1e1b907": {
          "model_module": "@jupyter-widgets/controls",
          "model_name": "SliderStyleModel",
          "model_module_version": "1.5.0",
          "state": {
            "_view_name": "StyleView",
            "handle_color": null,
            "_model_name": "SliderStyleModel",
            "description_width": "",
            "_view_module": "@jupyter-widgets/base",
            "_model_module_version": "1.5.0",
            "_view_count": null,
            "_view_module_version": "1.2.0",
            "_model_module": "@jupyter-widgets/controls"
          }
        },
        "5bffbfd12b0e4b1aaf810c896a7d0a4d": {
          "model_module": "@jupyter-widgets/base",
          "model_name": "LayoutModel",
          "model_module_version": "1.2.0",
          "state": {
            "_view_name": "LayoutView",
            "grid_template_rows": null,
            "right": null,
            "justify_content": null,
            "_view_module": "@jupyter-widgets/base",
            "overflow": null,
            "_model_module_version": "1.2.0",
            "_view_count": null,
            "flex_flow": null,
            "width": null,
            "min_width": null,
            "border": null,
            "align_items": null,
            "bottom": null,
            "_model_module": "@jupyter-widgets/base",
            "top": null,
            "grid_column": null,
            "overflow_y": null,
            "overflow_x": null,
            "grid_auto_flow": null,
            "grid_area": null,
            "grid_template_columns": null,
            "flex": null,
            "_model_name": "LayoutModel",
            "justify_items": null,
            "grid_row": null,
            "max_height": null,
            "align_content": null,
            "visibility": null,
            "align_self": null,
            "height": null,
            "min_height": null,
            "padding": null,
            "grid_auto_rows": null,
            "grid_gap": null,
            "max_width": null,
            "order": null,
            "_view_module_version": "1.2.0",
            "grid_template_areas": null,
            "object_position": null,
            "object_fit": null,
            "grid_auto_columns": null,
            "margin": null,
            "display": null,
            "left": null
          }
        },
        "acac5d67cf894c4681e210f002c5635b": {
          "model_module": "@jupyter-widgets/controls",
          "model_name": "DescriptionStyleModel",
          "model_module_version": "1.5.0",
          "state": {
            "_view_name": "StyleView",
            "_model_name": "DescriptionStyleModel",
            "description_width": "",
            "_view_module": "@jupyter-widgets/base",
            "_model_module_version": "1.5.0",
            "_view_count": null,
            "_view_module_version": "1.2.0",
            "_model_module": "@jupyter-widgets/controls"
          }
        },
        "75bd476485824a9fa74a0f04a0f81aa5": {
          "model_module": "@jupyter-widgets/base",
          "model_name": "LayoutModel",
          "model_module_version": "1.2.0",
          "state": {
            "_view_name": "LayoutView",
            "grid_template_rows": null,
            "right": null,
            "justify_content": null,
            "_view_module": "@jupyter-widgets/base",
            "overflow": null,
            "_model_module_version": "1.2.0",
            "_view_count": null,
            "flex_flow": null,
            "width": null,
            "min_width": null,
            "border": null,
            "align_items": null,
            "bottom": null,
            "_model_module": "@jupyter-widgets/base",
            "top": null,
            "grid_column": null,
            "overflow_y": null,
            "overflow_x": null,
            "grid_auto_flow": null,
            "grid_area": null,
            "grid_template_columns": null,
            "flex": null,
            "_model_name": "LayoutModel",
            "justify_items": null,
            "grid_row": null,
            "max_height": null,
            "align_content": null,
            "visibility": null,
            "align_self": null,
            "height": null,
            "min_height": null,
            "padding": null,
            "grid_auto_rows": null,
            "grid_gap": null,
            "max_width": null,
            "order": null,
            "_view_module_version": "1.2.0",
            "grid_template_areas": null,
            "object_position": null,
            "object_fit": null,
            "grid_auto_columns": null,
            "margin": null,
            "display": null,
            "left": null
          }
        },
        "21a1632a0d5a494a85101c5511377532": {
          "model_module": "@jupyter-widgets/controls",
          "model_name": "DescriptionStyleModel",
          "model_module_version": "1.5.0",
          "state": {
            "_view_name": "StyleView",
            "_model_name": "DescriptionStyleModel",
            "description_width": "",
            "_view_module": "@jupyter-widgets/base",
            "_model_module_version": "1.5.0",
            "_view_count": null,
            "_view_module_version": "1.2.0",
            "_model_module": "@jupyter-widgets/controls"
          }
        },
        "1a1d9022373c45f1a9140b3ebfcaafc8": {
          "model_module": "@jupyter-widgets/base",
          "model_name": "LayoutModel",
          "model_module_version": "1.2.0",
          "state": {
            "_view_name": "LayoutView",
            "grid_template_rows": null,
            "right": null,
            "justify_content": null,
            "_view_module": "@jupyter-widgets/base",
            "overflow": null,
            "_model_module_version": "1.2.0",
            "_view_count": null,
            "flex_flow": null,
            "width": null,
            "min_width": null,
            "border": null,
            "align_items": null,
            "bottom": null,
            "_model_module": "@jupyter-widgets/base",
            "top": null,
            "grid_column": null,
            "overflow_y": null,
            "overflow_x": null,
            "grid_auto_flow": null,
            "grid_area": null,
            "grid_template_columns": null,
            "flex": null,
            "_model_name": "LayoutModel",
            "justify_items": null,
            "grid_row": null,
            "max_height": null,
            "align_content": null,
            "visibility": null,
            "align_self": null,
            "height": null,
            "min_height": null,
            "padding": null,
            "grid_auto_rows": null,
            "grid_gap": null,
            "max_width": null,
            "order": null,
            "_view_module_version": "1.2.0",
            "grid_template_areas": null,
            "object_position": null,
            "object_fit": null,
            "grid_auto_columns": null,
            "margin": null,
            "display": null,
            "left": null
          }
        },
        "1bd6b4eba9e44cf6a4351f7e78edcba3": {
          "model_module": "@jupyter-widgets/base",
          "model_name": "LayoutModel",
          "model_module_version": "1.2.0",
          "state": {
            "_view_name": "LayoutView",
            "grid_template_rows": null,
            "right": null,
            "justify_content": null,
            "_view_module": "@jupyter-widgets/base",
            "overflow": null,
            "_model_module_version": "1.2.0",
            "_view_count": null,
            "flex_flow": null,
            "width": null,
            "min_width": null,
            "border": null,
            "align_items": null,
            "bottom": null,
            "_model_module": "@jupyter-widgets/base",
            "top": null,
            "grid_column": null,
            "overflow_y": null,
            "overflow_x": null,
            "grid_auto_flow": null,
            "grid_area": null,
            "grid_template_columns": null,
            "flex": null,
            "_model_name": "LayoutModel",
            "justify_items": null,
            "grid_row": null,
            "max_height": null,
            "align_content": null,
            "visibility": null,
            "align_self": null,
            "height": null,
            "min_height": null,
            "padding": null,
            "grid_auto_rows": null,
            "grid_gap": null,
            "max_width": null,
            "order": null,
            "_view_module_version": "1.2.0",
            "grid_template_areas": null,
            "object_position": null,
            "object_fit": null,
            "grid_auto_columns": null,
            "margin": null,
            "display": null,
            "left": null
          }
        }
      }
    }
  },
  "cells": [
    {
      "cell_type": "markdown",
      "metadata": {
        "id": "view-in-github",
        "colab_type": "text"
      },
      "source": [
        "<a href=\"https://colab.research.google.com/github/arjoca/RHDocentes/blob/main/RHDocentes_Corrige.ipynb\" target=\"_parent\"><img src=\"https://colab.research.google.com/assets/colab-badge.svg\" alt=\"Open In Colab\"/></a>"
      ]
    },
    {
      "cell_type": "markdown",
      "source": [
        "# RHDocentes - fevereiro 2022\n",
        "\n",
        "**Notebook 3** - Correção das Desigualdades\n",
        "\n",
        "\n",
        "Estudo organizado em 3 notebooks:\n",
        "*   [O primeiro](https://github.com/arjoca/RHDocentes/blob/main/RHDocentes_Fotografia.ipynb) - Fotografia do ISEL\n",
        "*   [O anterior](https://github.com/arjoca/RHDocentes/blob/main/RHDocentes_Futuro.ipynb) - O Futuro e a Dinâmica de Aposentações\n",
        "*   **Este notebook** - Correção das Desigualdades\n",
        "\n",
        "![perguntas](https://raw.githubusercontent.com/arjoca/RHDocentes/main/images/fluxograma.svg)\n"
      ],
      "metadata": {
        "id": "tmkGz0DyDc2J"
      }
    },
    {
      "cell_type": "markdown",
      "source": [
        "# Metodologia proposta\n",
        "\n",
        "![metodologia](https://raw.githubusercontent.com/arjoca/RHDocentes/main/images/metodologia.svg)\n"
      ],
      "metadata": {
        "id": "jiN4M9uPZSzA"
      }
    },
    {
      "cell_type": "markdown",
      "source": [
        "# Fontes de informação\n",
        "\n",
        "*   Ficheiro \"Afetacao_Financeira_ADs_Cursos_2021_v01.xlsx\"\n",
        "*   Ficheiro \"RAIDES_0.xlsx\"\n",
        "\n",
        "Informação que depois de filtrada e anonimizada deu origem aos dados guardados no ficheiro [clean_data.xlsx](https://github.com/arjoca/RHDocentes/blob/main/data/clean_data.xlsx), usados neste estudo."
      ],
      "metadata": {
        "id": "D--VSWG109MQ"
      }
    },
    {
      "cell_type": "markdown",
      "source": [
        "# Preparação"
      ],
      "metadata": {
        "id": "25yEfwrF1hQd"
      }
    },
    {
      "cell_type": "markdown",
      "source": [
        "## Importação de módulos e leitura de dados"
      ],
      "metadata": {
        "id": "_baJCALaUHhc"
      }
    },
    {
      "cell_type": "code",
      "source": [
        "# Instalação de módulos\n",
        "!pip install kora -q\n",
        "!pip install -U kaleido"
      ],
      "metadata": {
        "id": "WbMde719TXix",
        "colab": {
          "base_uri": "https://localhost:8080/"
        },
        "outputId": "4baa625c-aa7e-4b36-891f-5b6561bca8a0"
      },
      "execution_count": null,
      "outputs": [
        {
          "output_type": "stream",
          "name": "stdout",
          "text": [
            "Requirement already satisfied: kaleido in /usr/local/lib/python3.7/dist-packages (0.2.1)\n"
          ]
        }
      ]
    },
    {
      "cell_type": "code",
      "source": [
        "# Importação de módulos\n",
        "import numpy as np\n",
        "import pandas as pd\n",
        "import matplotlib.pyplot as plt\n",
        "import seaborn as sns\n",
        "from datetime import datetime, timedelta\n",
        "from ipywidgets import widgets, interact, fixed\n",
        "from IPython.display import Image"
      ],
      "metadata": {
        "id": "UF6cJzSF0xSB"
      },
      "execution_count": null,
      "outputs": []
    },
    {
      "cell_type": "code",
      "source": [
        "# Leitura de dados\n",
        "base_url = 'https://raw.githubusercontent.com/arjoca/RHDocentes/main/data/'\n",
        "docentes = pd.read_csv(base_url + 'docentes.csv', encoding= 'unicode_escape', \n",
        "                       parse_dates=['Data Nascimento'], infer_datetime_format=True)\n",
        "alunos_per_curso = pd.read_csv(base_url + 'alunos.csv', encoding= 'unicode_escape', index_col=0)\n",
        "horas = pd.read_csv(base_url + 'horas.csv', encoding= 'unicode_escape', index_col=0)"
      ],
      "metadata": {
        "id": "ptxmB1t613TV"
      },
      "execution_count": null,
      "outputs": []
    },
    {
      "cell_type": "markdown",
      "source": [
        "## Inicializações"
      ],
      "metadata": {
        "id": "p65zNlZgUTeG"
      }
    },
    {
      "cell_type": "code",
      "source": [
        "# Designações dos cursos e departamentos\n",
        "LISTA_DEPTS = sorted(docentes['Departamento'].unique())\n",
        "LISTA_CURSOS = sorted(alunos_per_curso.index.unique())"
      ],
      "metadata": {
        "id": "w3ylNnDC-kXi"
      },
      "execution_count": null,
      "outputs": []
    },
    {
      "cell_type": "code",
      "source": [
        "# Designações das categorias de docentes\n",
        "cat_prof_coord = ['Prof. Coordenador', 'Prof. Coordenador c/ Agreg. ', 'Professor Coordenador Principal']\n",
        "cat_convidado = ['Assistente Convidado', 'Professor Adjunto Convidado']\n",
        "cat_adjunto = ['Professor Adjunto']\n",
        "cat_assistente = ['Assistente do 2. Trienio', 'Assistente', 'Equiparado Assistente 2. Trienio']\n",
        "cat_monitor = ['Monitor']\n",
        "cat_quadro = cat_prof_coord + cat_adjunto\n",
        "cat_todas = cat_quadro + cat_convidado + cat_assistente + cat_monitor"
      ],
      "metadata": {
        "id": "wzavEGUX2Pew"
      },
      "execution_count": null,
      "outputs": []
    },
    {
      "cell_type": "code",
      "source": [
        "# Dicionários com categorias de docentes e suas designações\n",
        "catgs = {'Coordenadores':cat_prof_coord, \n",
        "         'Adjuntos': cat_adjunto,\n",
        "         'Quadro': cat_quadro,\n",
        "         'Convidados': cat_convidado,\n",
        "         'ETIs': cat_todas,\n",
        "         'ETIs++': 'ETIs++'}\n",
        "inv_catgs = {tuple(v): k for k, v in catgs.items()}"
      ],
      "metadata": {
        "id": "Ax9OehgIRygL"
      },
      "execution_count": null,
      "outputs": []
    },
    {
      "cell_type": "code",
      "source": [
        "# Horas de contacto usadas para determinar relações entre cursos e departamentos\n",
        "horas_per_curso = horas.sum(axis=1)\n",
        "pesos_dept_per_curso = horas.T / horas_per_curso\n",
        "\n",
        "# Alunos por departamento\n",
        "alunos_per_dept = pd.DataFrame(np.dot(pesos_dept_per_curso, alunos_per_curso),\n",
        "                              index=pesos_dept_per_curso.index, columns=['Alunos'])\n",
        "alunos_per_dept = alunos_per_dept['Alunos']\n",
        "alunos_per_dept.name = ''\n",
        "alunos_per_dept = alunos_per_dept.sort_index()"
      ],
      "metadata": {
        "id": "ztK7YjeuT75r"
      },
      "execution_count": null,
      "outputs": []
    },
    {
      "cell_type": "code",
      "source": [
        "# Números globais\n",
        "alunos_per_eti_isel = alunos_per_curso.sum().sum() / docentes['ETI'].sum()\n",
        "eti_per_dept = docentes.groupby(['Departamento'])['ETI'].sum()"
      ],
      "metadata": {
        "id": "Sj3ZHMyv123k"
      },
      "execution_count": null,
      "outputs": []
    },
    {
      "cell_type": "code",
      "source": [
        "# ETIs VIANA (Valor Ideal Atendendo ao Número de Alunos)\n",
        "viana = alunos_per_dept / alunos_per_eti_isel\n",
        "fana = viana - eti_per_dept"
      ],
      "metadata": {
        "id": "Xsuu-pqE1O1r"
      },
      "execution_count": null,
      "outputs": []
    },
    {
      "cell_type": "markdown",
      "source": [
        "## Funções usadas nos anteriores notebooks "
      ],
      "metadata": {
        "id": "aDhoCFK6T9Bt"
      }
    },
    {
      "cell_type": "code",
      "source": [
        "# Filtragem de docentes atendendo à sua idade de aposentação \n",
        "def aposentados_e_ativos(df, ano, idade_reforma):\n",
        "  idade = (datetime(ano, 1, 1) - df['Data Nascimento'])/timedelta(days=365.25)\n",
        "  aposentados = df[idade > idade_reforma]\n",
        "  ativos = df.drop(index=aposentados.index)\n",
        "  return aposentados, ativos"
      ],
      "metadata": {
        "id": "l2mTrprr2S8p"
      },
      "execution_count": null,
      "outputs": []
    },
    {
      "cell_type": "code",
      "source": [
        "# Filtragem de docentes atendendo à sua categoria\n",
        "def docentes_per_categoria(df, categoria):\n",
        "  s = df.groupby(['Departamento', 'Categoria'])['ETI'].sum()\n",
        "  s = s.loc[(slice(None), categoria)].droplevel(level=1)\n",
        "  s = s.groupby(s.index).sum()\n",
        "  s = pd.Series(s, index=LISTA_DEPTS)\n",
        "  return s.fillna(0)"
      ],
      "metadata": {
        "id": "ApJsbc5DUcfm"
      },
      "execution_count": null,
      "outputs": []
    },
    {
      "cell_type": "markdown",
      "source": [
        "# Medição das desigualdades (coeficiente de Gini)\n",
        "\n",
        "$$G=\\frac{\\sum_{i=1}^n (2i-n-1)x_i}{n\\sum_{i=1}^n x_i}$$\n",
        "\n",
        "onde $\\{x_i\\}$ é o conjunto dos $n$ valores da distribuição, ordenados por ordem crescente ($i$ é o ranking de $x_i$)\n",
        "\n",
        "$$0 \\le G \\le 1$$\n",
        "$(G=0) \\Rightarrow$ **não há desigualdades** (valores da distribuição todos iguais)\n",
        "\n",
        "$(G \\approx 1) \\Rightarrow$ ***winner-takes-all*** (todos os valores a zero, exceto um)\n",
        "\n",
        "Fontes:\n",
        "*   [Statistical/Help - Gini Coefficient of Inequality](http://www.statsdirect.com/help/default.htm#nonparametric_methods/gini.htm)\n",
        "*   [GitHub - Olivia Guest](https://github.com/oliviaguest/gini)\n",
        "\n",
        "**Alternativa:** Usar definição de Entropia da Teoria de Informação, $E=-\\sum_{i=1}^n x_i log(x_i)$\n",
        "\n",
        "Neste caso, quanto maior é o valor da entropia, menores serão as desigualdades.\n"
      ],
      "metadata": {
        "id": "u42G1e8cuLWI"
      }
    },
    {
      "cell_type": "code",
      "source": [
        "# Função para calcular o coeficiente de Gini\n",
        "def gini(array):\n",
        "    array = array.flatten()\n",
        "    if np.amin(array) < 0:\n",
        "        array -= np.amin(array)\n",
        "    array += 0.0000001\n",
        "    array = np.sort(array)\n",
        "    index = np.arange(1,array.shape[0]+1)\n",
        "    n = array.shape[0]\n",
        "    return ((np.sum((2 * index - n  - 1) * array)) / (n * np.sum(array)))"
      ],
      "metadata": {
        "id": "8SG_X1jzuM2i"
      },
      "execution_count": null,
      "outputs": []
    },
    {
      "cell_type": "markdown",
      "source": [
        "# Três métodos para fazer a distribuição"
      ],
      "metadata": {
        "id": "HSxvZNBj7SHX"
      }
    },
    {
      "cell_type": "code",
      "source": [
        "# Função auxiliar para determinar quanto falta para o target\n",
        "def how_many_to_target(target, numerator, denominator):\n",
        "  s = denominator * target - numerator\n",
        "  s.clip(lower=0, inplace=True)\n",
        "  return s"
      ],
      "metadata": {
        "id": "siOS9-9x5a2s"
      },
      "execution_count": null,
      "outputs": []
    },
    {
      "cell_type": "code",
      "source": [
        "# METHOD 1 - Linear mapping\n",
        "def linear_map(target, cake, numerator, denominator):\n",
        "  s = how_many_to_target(target, numerator, denominator)\n",
        "  return s / s.sum() * cake"
      ],
      "metadata": {
        "id": "vjaZimoaNwkI"
      },
      "execution_count": null,
      "outputs": []
    },
    {
      "cell_type": "code",
      "source": [
        "# METHOD 2 - D'Hondt\n",
        "def method_hondt(target, cake, numerator, denominator):\n",
        "  s = how_many_to_target(target, numerator, denominator)\n",
        "  list_of_series = [s/i for i in range(1, cake+1)]\n",
        "  df = pd.concat(list_of_series, axis=1)\n",
        "  vals = np.sort(np.ravel(df.to_numpy(copy=True)))[-1::-1]\n",
        "  df = df >= vals[cake-1]\n",
        "  return df.sum(axis=1)\n",
        "\n",
        "# METHOD 2a - D'Hondt\n",
        "def method_hondt_ordering(target, cake, numerator, denominator):\n",
        "  s = how_many_to_target(target, numerator, denominator)\n",
        "  list_of_series = [s/i for i in range(1, cake+1)]\n",
        "  df = pd.concat(list_of_series, axis=1)\n",
        "  vals = np.sort(np.ravel(df.to_numpy(copy=True)))[-1::-1]\n",
        "  df_ordering = pd.DataFrame(index=LISTA_DEPTS)\n",
        "  for i,v in enumerate(vals[:cake]):\n",
        "    ix = df[df==v].stack().index.get_level_values(0)\n",
        "    df_ordering.loc[ix, i+1] = 1\n",
        "  return df_ordering"
      ],
      "metadata": {
        "id": "VSNVnHCtNxF0"
      },
      "execution_count": null,
      "outputs": []
    },
    {
      "cell_type": "code",
      "source": [
        "# METHOD 3 - One step iteration\n",
        "def step_by_step(cake, numerator, denominator):\n",
        "  df = pd.DataFrame(index=LISTA_DEPTS)\n",
        "  num = numerator.copy()\n",
        "  den = denominator.copy()\n",
        "  for i in range(cake):\n",
        "    ratio = num / den\n",
        "    ix = ratio.idxmin()\n",
        "    num[ix] += 1\n",
        "    df.loc[ix,i+1] = 1\n",
        "  return df"
      ],
      "metadata": {
        "id": "Le9GMZJiNw2_"
      },
      "execution_count": null,
      "outputs": []
    },
    {
      "cell_type": "markdown",
      "source": [
        "# Exercício de comparação"
      ],
      "metadata": {
        "id": "704E0zY-N7TX"
      }
    },
    {
      "cell_type": "markdown",
      "source": [
        "## Funções de auxílio"
      ],
      "metadata": {
        "id": "d5dKkN09OStL"
      }
    },
    {
      "cell_type": "code",
      "source": [
        "# Mostrar resultados na forma de gráficos\n",
        "def show_results(num, den, s, df, bolo, target, ano, reforma, denominador, metodo):\n",
        "  fig, ax = plt.subplots(2, 2, figsize=(17,8))\n",
        "  fig.subplots_adjust(hspace=0.5)\n",
        "  title1 = f'Distribuição de {bolo} vagas - método {metodo}, '\n",
        "  title2 = ''\n",
        "  if metodo != 'step_by_step':\n",
        "    title2 += f'target= {target}, '\n",
        "  title3 = f'denominador={inv_catgs[tuple(denominador)]}, ano={ano}, idade_reforma={reforma}'\n",
        "  fig.suptitle(title1 + title2 + title3)\n",
        "\n",
        "  s.name=''\n",
        "  s.plot(kind='bar', ax=ax[0,0], table=np.round(s,1).to_frame().T, cmap='PuOr')\n",
        "  ax[0,0].set_title('Distribuição do bolo pelos departamentos')\n",
        "  ax[0,0].xaxis.set_visible(False)\n",
        "  if df is not None:\n",
        "    sns.heatmap(df, cbar=False, linewidths=2, linecolor='grey', ax=ax[0,1], cmap='PuOr')\n",
        "    ax[0,1].set_title('Ordenação da distribuição')\n",
        " \n",
        "  # Valores antes da distribuição\n",
        "  s1 = num/den\n",
        "  s1.name = ''\n",
        "  s1.plot(kind='bar', ax=ax[1,0], table=np.round(s1,2).to_frame().T)\n",
        "  ax[1,0].xaxis.set_visible(False)\n",
        "  ax[1,0].axhline(y=s1.mean(), linewidth=2, color='#d62728')\n",
        "  ax[1,0].set_title(f'Rácios antes da distribuição - Coef. Gini = {np.round(gini(s1.values),3)}')\n",
        "  # Valores depois da distribuição\n",
        "  s2 = (num+s)/den\n",
        "  s2.name = ''\n",
        "  s2.plot(kind='bar', ax=ax[1,1], table=np.round(s2,2).to_frame().T)\n",
        "  ax[1,1].xaxis.set_visible(False)\n",
        "  ax[1,1].axhline(y=s2.mean(), linewidth=2, color='#d62728')\n",
        "  ax[1,1].set_title(f'Rácios depois da distribuição - Coef. Gini = {np.round(gini(s2.values),3)}')\n",
        "\n",
        "  fig.savefig('temp_image.png')"
      ],
      "metadata": {
        "id": "reIqsuau89If"
      },
      "execution_count": null,
      "outputs": []
    },
    {
      "cell_type": "code",
      "source": [
        "# Função chamada de forma interativa usando widgets\n",
        "def main_func(bolo=18, target=0.25, ano=2022, reforma=68, denominador='ETIs++', \n",
        "        metodo='step_by_step'):\n",
        "  _, ativos = aposentados_e_ativos(docentes, ano, reforma)\n",
        "  num = docentes_per_categoria(ativos, cat_prof_coord)\n",
        "  \n",
        "  if denominador != 'ETIs++':\n",
        "    den = docentes_per_categoria(ativos, denominador)\n",
        "  else:\n",
        "    den = docentes_per_categoria(ativos, cat_todas) + fana\n",
        "\n",
        "  if metodo == 'linear':\n",
        "    df = None\n",
        "    s = linear_map(target, bolo, num, den)\n",
        "  elif metodo == 'hondt':\n",
        "    df = method_hondt_ordering(target, bolo, num, den)\n",
        "    s = df.sum(axis=1)\n",
        "  elif metodo == 'step_by_step':\n",
        "    df = step_by_step(bolo, num, den)\n",
        "    s = df.sum(axis=1)\n",
        "  else: print('Erro: método inexistente')  \n",
        "  \n",
        "  show_results(num, den, s, df, bolo, target, ano, reforma, denominador, metodo)"
      ],
      "metadata": {
        "id": "atU7tgbfrbef"
      },
      "execution_count": null,
      "outputs": []
    },
    {
      "cell_type": "markdown",
      "source": [
        "## Simulação interativa"
      ],
      "metadata": {
        "id": "4h_gmfiA-zzk"
      }
    },
    {
      "cell_type": "code",
      "source": [
        "# Simulação interativa\n",
        "interact(main_func, bolo=(4,80,1), target=(0.15,0.75,0.05), ano=(2022,2030,1), \n",
        "         reforma=(67,70,1), denominador={'ETIs':cat_todas, \n",
        "                                         'Quadro': cat_quadro, \n",
        "                                         'ETIs++': 'ETIs++'}, \n",
        "         metodo=['linear','hondt','step_by_step'])"
      ],
      "metadata": {
        "colab": {
          "base_uri": "https://localhost:8080/",
          "height": 756,
          "referenced_widgets": [
            "dc948bd23e5f432dae4a074ef2265711",
            "59fd2f37c4ad42ec951d83bfaf16751c",
            "c0e07d30e2b248df812e9961e2d24545",
            "7b01c72aa27d46df97a1809c89d84e95",
            "940684027bf3461d861835c605ca401c",
            "0658e039e4e0495a871f0a2ff6e56c77",
            "2adc117d88bd47af87ec10dd15685fa7",
            "47eef90a0c154fc18faf29a4ae6d9dfe",
            "9e99aa7f8c894a60ac2ae3ef2d8bccea",
            "f0f69777fe554fe49e373c91218f5b4a",
            "a551f322eedf49e3867e243fbb7584ef",
            "785fffcbe9104ecca1581bbadb42f6fa",
            "9e7dce1fa62d438c84f4eabf675a32a9",
            "5f1b767a0b6c4de2809bfc6f43d23048",
            "1d7a4773b49a4cb5a2e2a14e3d13133b",
            "dc9fc08df4c64b67bbf58980b1e1b907",
            "5bffbfd12b0e4b1aaf810c896a7d0a4d",
            "acac5d67cf894c4681e210f002c5635b",
            "75bd476485824a9fa74a0f04a0f81aa5",
            "21a1632a0d5a494a85101c5511377532",
            "1a1d9022373c45f1a9140b3ebfcaafc8",
            "1bd6b4eba9e44cf6a4351f7e78edcba3"
          ]
        },
        "id": "N27bjBuK7o13",
        "outputId": "07899f70-520b-45c7-b6c1-e284ea71f2ad"
      },
      "execution_count": null,
      "outputs": [
        {
          "output_type": "display_data",
          "data": {
            "application/vnd.jupyter.widget-view+json": {
              "model_id": "dc948bd23e5f432dae4a074ef2265711",
              "version_minor": 0,
              "version_major": 2
            },
            "text/plain": [
              "interactive(children=(IntSlider(value=18, description='bolo', max=80, min=4), FloatSlider(value=0.25, descript…"
            ]
          },
          "metadata": {}
        },
        {
          "output_type": "execute_result",
          "data": {
            "text/plain": [
              "<function __main__.main_func>"
            ]
          },
          "metadata": {},
          "execution_count": 59
        }
      ]
    },
    {
      "cell_type": "code",
      "source": [
        "Image('temp_image.png')"
      ],
      "metadata": {
        "colab": {
          "base_uri": "https://localhost:8080/",
          "height": 593
        },
        "id": "qYXdwYI8OlD8",
        "outputId": "10ba608a-c216-4a3a-844f-c3e5fda40c6c"
      },
      "execution_count": null,
      "outputs": [
        {
          "output_type": "execute_result",
          "data": {
            "image/png": "[encoded data removed]",
            "text/plain": [
              "<IPython.core.display.Image object>"
            ]
          },
          "metadata": {},
          "execution_count": 60
        }
      ]
    }
  ]
}