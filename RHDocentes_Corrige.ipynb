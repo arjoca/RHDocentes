{
  "nbformat": 4,
  "nbformat_minor": 0,
  "metadata": {
    "colab": {
      "name": "Copy of RHDocentes_Converge.ipynb",
      "provenance": [],
      "collapsed_sections": [],
      "authorship_tag": "ABX9TyNdMjgOR6nv1lE81Ws3CQR/",
      "include_colab_link": true
    },
    "kernelspec": {
      "name": "python3",
      "display_name": "Python 3"
    },
    "language_info": {
      "name": "python"
    },
    "widgets": {
      "application/vnd.jupyter.widget-state+json": {
        "9699af335b7148ddafcdfd372bd389b5": {
          "model_module": "@jupyter-widgets/controls",
          "model_name": "VBoxModel",
          "model_module_version": "1.5.0",
          "state": {
            "_view_name": "VBoxView",
            "_dom_classes": [
              "widget-interact"
            ],
            "_model_name": "VBoxModel",
            "_view_module": "@jupyter-widgets/controls",
            "_model_module_version": "1.5.0",
            "_view_count": null,
            "_view_module_version": "1.5.0",
            "box_style": "",
            "layout": "IPY_MODEL_826ef336eba243a4ba66c92fe86ade02",
            "_model_module": "@jupyter-widgets/controls",
            "children": [
              "IPY_MODEL_8b8440bf3660416f957635c3c29d8ee3",
              "IPY_MODEL_a4ab0bf6b7a44c9a832bf34e9440f5e7",
              "IPY_MODEL_06bccc26daf04eb68fdced0dfcff2207",
              "IPY_MODEL_f47b1e1fabce4c2fb1104331dbf81b46",
              "IPY_MODEL_ae0407045ac143e59552e46738e1c91a",
              "IPY_MODEL_14e939ed18b84fdda976874fc631ff65",
              "IPY_MODEL_2e0c5694028f4b33805549e290f4e920"
            ]
          }
        },
        "826ef336eba243a4ba66c92fe86ade02": {
          "model_module": "@jupyter-widgets/base",
          "model_name": "LayoutModel",
          "model_module_version": "1.2.0",
          "state": {
            "_view_name": "LayoutView",
            "grid_template_rows": null,
            "right": null,
            "justify_content": null,
            "_view_module": "@jupyter-widgets/base",
            "overflow": null,
            "_model_module_version": "1.2.0",
            "_view_count": null,
            "flex_flow": null,
            "width": null,
            "min_width": null,
            "border": null,
            "align_items": null,
            "bottom": null,
            "_model_module": "@jupyter-widgets/base",
            "top": null,
            "grid_column": null,
            "overflow_y": null,
            "overflow_x": null,
            "grid_auto_flow": null,
            "grid_area": null,
            "grid_template_columns": null,
            "flex": null,
            "_model_name": "LayoutModel",
            "justify_items": null,
            "grid_row": null,
            "max_height": null,
            "align_content": null,
            "visibility": null,
            "align_self": null,
            "height": null,
            "min_height": null,
            "padding": null,
            "grid_auto_rows": null,
            "grid_gap": null,
            "max_width": null,
            "order": null,
            "_view_module_version": "1.2.0",
            "grid_template_areas": null,
            "object_position": null,
            "object_fit": null,
            "grid_auto_columns": null,
            "margin": null,
            "display": null,
            "left": null
          }
        },
        "8b8440bf3660416f957635c3c29d8ee3": {
          "model_module": "@jupyter-widgets/controls",
          "model_name": "IntSliderModel",
          "model_module_version": "1.5.0",
          "state": {
            "_view_name": "IntSliderView",
            "style": "IPY_MODEL_b71f74fb2f1d4a4f8acf1e7e90ea046b",
            "_dom_classes": [],
            "description": "bolo",
            "step": 1,
            "_model_name": "IntSliderModel",
            "orientation": "horizontal",
            "max": 80,
            "_view_module": "@jupyter-widgets/controls",
            "_model_module_version": "1.5.0",
            "value": 16,
            "_view_count": null,
            "disabled": false,
            "_view_module_version": "1.5.0",
            "min": 4,
            "continuous_update": true,
            "readout_format": "d",
            "description_tooltip": null,
            "readout": true,
            "_model_module": "@jupyter-widgets/controls",
            "layout": "IPY_MODEL_f24201dce76e482583e663dcee1fdad2"
          }
        },
        "a4ab0bf6b7a44c9a832bf34e9440f5e7": {
          "model_module": "@jupyter-widgets/controls",
          "model_name": "FloatSliderModel",
          "model_module_version": "1.5.0",
          "state": {
            "_view_name": "FloatSliderView",
            "style": "IPY_MODEL_6ce3ee654e50486ca3d69a1809cf7ff3",
            "_dom_classes": [],
            "description": "target",
            "step": 0.05,
            "_model_name": "FloatSliderModel",
            "orientation": "horizontal",
            "max": 0.75,
            "_view_module": "@jupyter-widgets/controls",
            "_model_module_version": "1.5.0",
            "value": 0.25,
            "_view_count": null,
            "disabled": false,
            "_view_module_version": "1.5.0",
            "min": 0.15,
            "continuous_update": true,
            "readout_format": ".2f",
            "description_tooltip": null,
            "readout": true,
            "_model_module": "@jupyter-widgets/controls",
            "layout": "IPY_MODEL_f6f1b62b68144573ba676f46aa4704d1"
          }
        },
        "06bccc26daf04eb68fdced0dfcff2207": {
          "model_module": "@jupyter-widgets/controls",
          "model_name": "IntSliderModel",
          "model_module_version": "1.5.0",
          "state": {
            "_view_name": "IntSliderView",
            "style": "IPY_MODEL_e6964fd99e6d4344ab56992d697407d0",
            "_dom_classes": [],
            "description": "ano",
            "step": 1,
            "_model_name": "IntSliderModel",
            "orientation": "horizontal",
            "max": 2030,
            "_view_module": "@jupyter-widgets/controls",
            "_model_module_version": "1.5.0",
            "value": 2022,
            "_view_count": null,
            "disabled": false,
            "_view_module_version": "1.5.0",
            "min": 2022,
            "continuous_update": true,
            "readout_format": "d",
            "description_tooltip": null,
            "readout": true,
            "_model_module": "@jupyter-widgets/controls",
            "layout": "IPY_MODEL_edea0a97f91844dfa4cf0afdb8b46299"
          }
        },
        "f47b1e1fabce4c2fb1104331dbf81b46": {
          "model_module": "@jupyter-widgets/controls",
          "model_name": "IntSliderModel",
          "model_module_version": "1.5.0",
          "state": {
            "_view_name": "IntSliderView",
            "style": "IPY_MODEL_7b04979160614141a8ec580e86355c4e",
            "_dom_classes": [],
            "description": "reforma",
            "step": 1,
            "_model_name": "IntSliderModel",
            "orientation": "horizontal",
            "max": 70,
            "_view_module": "@jupyter-widgets/controls",
            "_model_module_version": "1.5.0",
            "value": 68,
            "_view_count": null,
            "disabled": false,
            "_view_module_version": "1.5.0",
            "min": 67,
            "continuous_update": true,
            "readout_format": "d",
            "description_tooltip": null,
            "readout": true,
            "_model_module": "@jupyter-widgets/controls",
            "layout": "IPY_MODEL_37f3a3571c8048f194bc47d6909c0220"
          }
        },
        "ae0407045ac143e59552e46738e1c91a": {
          "model_module": "@jupyter-widgets/controls",
          "model_name": "DropdownModel",
          "model_module_version": "1.5.0",
          "state": {
            "_options_labels": [
              "ETIs",
              "Quadro",
              "ETIs++"
            ],
            "_view_name": "DropdownView",
            "style": "IPY_MODEL_a3861841ede84b93a2aa62e807362de2",
            "_dom_classes": [],
            "description": "denominador",
            "_model_name": "DropdownModel",
            "index": 2,
            "_view_module": "@jupyter-widgets/controls",
            "_model_module_version": "1.5.0",
            "_view_count": null,
            "disabled": false,
            "_view_module_version": "1.5.0",
            "description_tooltip": null,
            "_model_module": "@jupyter-widgets/controls",
            "layout": "IPY_MODEL_3cc75861a34c45998e8e5ec5ece8266f"
          }
        },
        "14e939ed18b84fdda976874fc631ff65": {
          "model_module": "@jupyter-widgets/controls",
          "model_name": "DropdownModel",
          "model_module_version": "1.5.0",
          "state": {
            "_options_labels": [
              "linear",
              "hondt",
              "step_by_step"
            ],
            "_view_name": "DropdownView",
            "style": "IPY_MODEL_ec0cbdb1ce294bda9dd34bc850592bf1",
            "_dom_classes": [],
            "description": "metodo",
            "_model_name": "DropdownModel",
            "index": 2,
            "_view_module": "@jupyter-widgets/controls",
            "_model_module_version": "1.5.0",
            "_view_count": null,
            "disabled": false,
            "_view_module_version": "1.5.0",
            "description_tooltip": null,
            "_model_module": "@jupyter-widgets/controls",
            "layout": "IPY_MODEL_3c04c8a08f3f4efc8728c485c4ace109"
          }
        },
        "2e0c5694028f4b33805549e290f4e920": {
          "model_module": "@jupyter-widgets/output",
          "model_name": "OutputModel",
          "model_module_version": "1.0.0",
          "state": {
            "_view_name": "OutputView",
            "msg_id": "",
            "_dom_classes": [],
            "_model_name": "OutputModel",
            "outputs": [
              {
                "output_type": "display_data",
                "data": {
                  "image/png": "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\n",
                  "text/plain": "<Figure size 1224x576 with 4 Axes>"
                },
                "metadata": {
                  "needs_background": "light"
                }
              }
            ],
            "_view_module": "@jupyter-widgets/output",
            "_model_module_version": "1.0.0",
            "_view_count": null,
            "_view_module_version": "1.0.0",
            "layout": "IPY_MODEL_f86fd99fe8784d80aa191f912a0e9a25",
            "_model_module": "@jupyter-widgets/output"
          }
        },
        "b71f74fb2f1d4a4f8acf1e7e90ea046b": {
          "model_module": "@jupyter-widgets/controls",
          "model_name": "SliderStyleModel",
          "model_module_version": "1.5.0",
          "state": {
            "_view_name": "StyleView",
            "handle_color": null,
            "_model_name": "SliderStyleModel",
            "description_width": "",
            "_view_module": "@jupyter-widgets/base",
            "_model_module_version": "1.5.0",
            "_view_count": null,
            "_view_module_version": "1.2.0",
            "_model_module": "@jupyter-widgets/controls"
          }
        },
        "f24201dce76e482583e663dcee1fdad2": {
          "model_module": "@jupyter-widgets/base",
          "model_name": "LayoutModel",
          "model_module_version": "1.2.0",
          "state": {
            "_view_name": "LayoutView",
            "grid_template_rows": null,
            "right": null,
            "justify_content": null,
            "_view_module": "@jupyter-widgets/base",
            "overflow": null,
            "_model_module_version": "1.2.0",
            "_view_count": null,
            "flex_flow": null,
            "width": null,
            "min_width": null,
            "border": null,
            "align_items": null,
            "bottom": null,
            "_model_module": "@jupyter-widgets/base",
            "top": null,
            "grid_column": null,
            "overflow_y": null,
            "overflow_x": null,
            "grid_auto_flow": null,
            "grid_area": null,
            "grid_template_columns": null,
            "flex": null,
            "_model_name": "LayoutModel",
            "justify_items": null,
            "grid_row": null,
            "max_height": null,
            "align_content": null,
            "visibility": null,
            "align_self": null,
            "height": null,
            "min_height": null,
            "padding": null,
            "grid_auto_rows": null,
            "grid_gap": null,
            "max_width": null,
            "order": null,
            "_view_module_version": "1.2.0",
            "grid_template_areas": null,
            "object_position": null,
            "object_fit": null,
            "grid_auto_columns": null,
            "margin": null,
            "display": null,
            "left": null
          }
        },
        "6ce3ee654e50486ca3d69a1809cf7ff3": {
          "model_module": "@jupyter-widgets/controls",
          "model_name": "SliderStyleModel",
          "model_module_version": "1.5.0",
          "state": {
            "_view_name": "StyleView",
            "handle_color": null,
            "_model_name": "SliderStyleModel",
            "description_width": "",
            "_view_module": "@jupyter-widgets/base",
            "_model_module_version": "1.5.0",
            "_view_count": null,
            "_view_module_version": "1.2.0",
            "_model_module": "@jupyter-widgets/controls"
          }
        },
        "f6f1b62b68144573ba676f46aa4704d1": {
          "model_module": "@jupyter-widgets/base",
          "model_name": "LayoutModel",
          "model_module_version": "1.2.0",
          "state": {
            "_view_name": "LayoutView",
            "grid_template_rows": null,
            "right": null,
            "justify_content": null,
            "_view_module": "@jupyter-widgets/base",
            "overflow": null,
            "_model_module_version": "1.2.0",
            "_view_count": null,
            "flex_flow": null,
            "width": null,
            "min_width": null,
            "border": null,
            "align_items": null,
            "bottom": null,
            "_model_module": "@jupyter-widgets/base",
            "top": null,
            "grid_column": null,
            "overflow_y": null,
            "overflow_x": null,
            "grid_auto_flow": null,
            "grid_area": null,
            "grid_template_columns": null,
            "flex": null,
            "_model_name": "LayoutModel",
            "justify_items": null,
            "grid_row": null,
            "max_height": null,
            "align_content": null,
            "visibility": null,
            "align_self": null,
            "height": null,
            "min_height": null,
            "padding": null,
            "grid_auto_rows": null,
            "grid_gap": null,
            "max_width": null,
            "order": null,
            "_view_module_version": "1.2.0",
            "grid_template_areas": null,
            "object_position": null,
            "object_fit": null,
            "grid_auto_columns": null,
            "margin": null,
            "display": null,
            "left": null
          }
        },
        "e6964fd99e6d4344ab56992d697407d0": {
          "model_module": "@jupyter-widgets/controls",
          "model_name": "SliderStyleModel",
          "model_module_version": "1.5.0",
          "state": {
            "_view_name": "StyleView",
            "handle_color": null,
            "_model_name": "SliderStyleModel",
            "description_width": "",
            "_view_module": "@jupyter-widgets/base",
            "_model_module_version": "1.5.0",
            "_view_count": null,
            "_view_module_version": "1.2.0",
            "_model_module": "@jupyter-widgets/controls"
          }
        },
        "edea0a97f91844dfa4cf0afdb8b46299": {
          "model_module": "@jupyter-widgets/base",
          "model_name": "LayoutModel",
          "model_module_version": "1.2.0",
          "state": {
            "_view_name": "LayoutView",
            "grid_template_rows": null,
            "right": null,
            "justify_content": null,
            "_view_module": "@jupyter-widgets/base",
            "overflow": null,
            "_model_module_version": "1.2.0",
            "_view_count": null,
            "flex_flow": null,
            "width": null,
            "min_width": null,
            "border": null,
            "align_items": null,
            "bottom": null,
            "_model_module": "@jupyter-widgets/base",
            "top": null,
            "grid_column": null,
            "overflow_y": null,
            "overflow_x": null,
            "grid_auto_flow": null,
            "grid_area": null,
            "grid_template_columns": null,
            "flex": null,
            "_model_name": "LayoutModel",
            "justify_items": null,
            "grid_row": null,
            "max_height": null,
            "align_content": null,
            "visibility": null,
            "align_self": null,
            "height": null,
            "min_height": null,
            "padding": null,
            "grid_auto_rows": null,
            "grid_gap": null,
            "max_width": null,
            "order": null,
            "_view_module_version": "1.2.0",
            "grid_template_areas": null,
            "object_position": null,
            "object_fit": null,
            "grid_auto_columns": null,
            "margin": null,
            "display": null,
            "left": null
          }
        },
        "7b04979160614141a8ec580e86355c4e": {
          "model_module": "@jupyter-widgets/controls",
          "model_name": "SliderStyleModel",
          "model_module_version": "1.5.0",
          "state": {
            "_view_name": "StyleView",
            "handle_color": null,
            "_model_name": "SliderStyleModel",
            "description_width": "",
            "_view_module": "@jupyter-widgets/base",
            "_model_module_version": "1.5.0",
            "_view_count": null,
            "_view_module_version": "1.2.0",
            "_model_module": "@jupyter-widgets/controls"
          }
        },
        "37f3a3571c8048f194bc47d6909c0220": {
          "model_module": "@jupyter-widgets/base",
          "model_name": "LayoutModel",
          "model_module_version": "1.2.0",
          "state": {
            "_view_name": "LayoutView",
            "grid_template_rows": null,
            "right": null,
            "justify_content": null,
            "_view_module": "@jupyter-widgets/base",
            "overflow": null,
            "_model_module_version": "1.2.0",
            "_view_count": null,
            "flex_flow": null,
            "width": null,
            "min_width": null,
            "border": null,
            "align_items": null,
            "bottom": null,
            "_model_module": "@jupyter-widgets/base",
            "top": null,
            "grid_column": null,
            "overflow_y": null,
            "overflow_x": null,
            "grid_auto_flow": null,
            "grid_area": null,
            "grid_template_columns": null,
            "flex": null,
            "_model_name": "LayoutModel",
            "justify_items": null,
            "grid_row": null,
            "max_height": null,
            "align_content": null,
            "visibility": null,
            "align_self": null,
            "height": null,
            "min_height": null,
            "padding": null,
            "grid_auto_rows": null,
            "grid_gap": null,
            "max_width": null,
            "order": null,
            "_view_module_version": "1.2.0",
            "grid_template_areas": null,
            "object_position": null,
            "object_fit": null,
            "grid_auto_columns": null,
            "margin": null,
            "display": null,
            "left": null
          }
        },
        "a3861841ede84b93a2aa62e807362de2": {
          "model_module": "@jupyter-widgets/controls",
          "model_name": "DescriptionStyleModel",
          "model_module_version": "1.5.0",
          "state": {
            "_view_name": "StyleView",
            "_model_name": "DescriptionStyleModel",
            "description_width": "",
            "_view_module": "@jupyter-widgets/base",
            "_model_module_version": "1.5.0",
            "_view_count": null,
            "_view_module_version": "1.2.0",
            "_model_module": "@jupyter-widgets/controls"
          }
        },
        "3cc75861a34c45998e8e5ec5ece8266f": {
          "model_module": "@jupyter-widgets/base",
          "model_name": "LayoutModel",
          "model_module_version": "1.2.0",
          "state": {
            "_view_name": "LayoutView",
            "grid_template_rows": null,
            "right": null,
            "justify_content": null,
            "_view_module": "@jupyter-widgets/base",
            "overflow": null,
            "_model_module_version": "1.2.0",
            "_view_count": null,
            "flex_flow": null,
            "width": null,
            "min_width": null,
            "border": null,
            "align_items": null,
            "bottom": null,
            "_model_module": "@jupyter-widgets/base",
            "top": null,
            "grid_column": null,
            "overflow_y": null,
            "overflow_x": null,
            "grid_auto_flow": null,
            "grid_area": null,
            "grid_template_columns": null,
            "flex": null,
            "_model_name": "LayoutModel",
            "justify_items": null,
            "grid_row": null,
            "max_height": null,
            "align_content": null,
            "visibility": null,
            "align_self": null,
            "height": null,
            "min_height": null,
            "padding": null,
            "grid_auto_rows": null,
            "grid_gap": null,
            "max_width": null,
            "order": null,
            "_view_module_version": "1.2.0",
            "grid_template_areas": null,
            "object_position": null,
            "object_fit": null,
            "grid_auto_columns": null,
            "margin": null,
            "display": null,
            "left": null
          }
        },
        "ec0cbdb1ce294bda9dd34bc850592bf1": {
          "model_module": "@jupyter-widgets/controls",
          "model_name": "DescriptionStyleModel",
          "model_module_version": "1.5.0",
          "state": {
            "_view_name": "StyleView",
            "_model_name": "DescriptionStyleModel",
            "description_width": "",
            "_view_module": "@jupyter-widgets/base",
            "_model_module_version": "1.5.0",
            "_view_count": null,
            "_view_module_version": "1.2.0",
            "_model_module": "@jupyter-widgets/controls"
          }
        },
        "3c04c8a08f3f4efc8728c485c4ace109": {
          "model_module": "@jupyter-widgets/base",
          "model_name": "LayoutModel",
          "model_module_version": "1.2.0",
          "state": {
            "_view_name": "LayoutView",
            "grid_template_rows": null,
            "right": null,
            "justify_content": null,
            "_view_module": "@jupyter-widgets/base",
            "overflow": null,
            "_model_module_version": "1.2.0",
            "_view_count": null,
            "flex_flow": null,
            "width": null,
            "min_width": null,
            "border": null,
            "align_items": null,
            "bottom": null,
            "_model_module": "@jupyter-widgets/base",
            "top": null,
            "grid_column": null,
            "overflow_y": null,
            "overflow_x": null,
            "grid_auto_flow": null,
            "grid_area": null,
            "grid_template_columns": null,
            "flex": null,
            "_model_name": "LayoutModel",
            "justify_items": null,
            "grid_row": null,
            "max_height": null,
            "align_content": null,
            "visibility": null,
            "align_self": null,
            "height": null,
            "min_height": null,
            "padding": null,
            "grid_auto_rows": null,
            "grid_gap": null,
            "max_width": null,
            "order": null,
            "_view_module_version": "1.2.0",
            "grid_template_areas": null,
            "object_position": null,
            "object_fit": null,
            "grid_auto_columns": null,
            "margin": null,
            "display": null,
            "left": null
          }
        },
        "f86fd99fe8784d80aa191f912a0e9a25": {
          "model_module": "@jupyter-widgets/base",
          "model_name": "LayoutModel",
          "model_module_version": "1.2.0",
          "state": {
            "_view_name": "LayoutView",
            "grid_template_rows": null,
            "right": null,
            "justify_content": null,
            "_view_module": "@jupyter-widgets/base",
            "overflow": null,
            "_model_module_version": "1.2.0",
            "_view_count": null,
            "flex_flow": null,
            "width": null,
            "min_width": null,
            "border": null,
            "align_items": null,
            "bottom": null,
            "_model_module": "@jupyter-widgets/base",
            "top": null,
            "grid_column": null,
            "overflow_y": null,
            "overflow_x": null,
            "grid_auto_flow": null,
            "grid_area": null,
            "grid_template_columns": null,
            "flex": null,
            "_model_name": "LayoutModel",
            "justify_items": null,
            "grid_row": null,
            "max_height": null,
            "align_content": null,
            "visibility": null,
            "align_self": null,
            "height": null,
            "min_height": null,
            "padding": null,
            "grid_auto_rows": null,
            "grid_gap": null,
            "max_width": null,
            "order": null,
            "_view_module_version": "1.2.0",
            "grid_template_areas": null,
            "object_position": null,
            "object_fit": null,
            "grid_auto_columns": null,
            "margin": null,
            "display": null,
            "left": null
          }
        }
      }
    }
  },
  "cells": [
    {
      "cell_type": "markdown",
      "metadata": {
        "id": "view-in-github",
        "colab_type": "text"
      },
      "source": [
        "<a href=\"https://colab.research.google.com/github/arjoca/RHDocentes/blob/main/RHDocentes_Corrige.ipynb\" target=\"_parent\"><img src=\"https://colab.research.google.com/assets/colab-badge.svg\" alt=\"Open In Colab\"/></a>"
      ]
    },
    {
      "cell_type": "markdown",
      "source": [
        "# RHDocentes - fevereiro 2022\n",
        "\n",
        "**Notebook 3** - Correção das Desigualdades\n",
        "\n",
        "\n",
        "Estudo organizado em 3 notebooks:\n",
        "*   [O primeiro](https://github.com/arjoca/RHDocentes/blob/main/RHDocentes_Fotografia.ipynb) - Fotografia do ISEL\n",
        "*   [O anterior](https://github.com/arjoca/RHDocentes/blob/main/RHDocentes_Futuro.ipynb) - O Futuro e a Dinâmica de Aposentações\n",
        "*   **Este notebook** - Correção das Desigualdades\n",
        "\n",
        "![perguntas](https://raw.githubusercontent.com/arjoca/RHDocentes/main/images/perguntas.svg)\n"
      ],
      "metadata": {
        "id": "tmkGz0DyDc2J"
      }
    },
    {
      "cell_type": "markdown",
      "source": [
        "# Metodologia proposta\n",
        "\n",
        "![metodologia](https://raw.githubusercontent.com/arjoca/RHDocentes/main/images/algoritmo.svg)\n"
      ],
      "metadata": {
        "id": "jiN4M9uPZSzA"
      }
    },
    {
      "cell_type": "markdown",
      "source": [
        "# Fontes de informação\n",
        "\n",
        "*   Ficheiro \"Afetacao_Financeira_ADs_Cursos_2021_v01.xlsx\"\n",
        "*   Ficheiro \"RAIDES_0.xlsx\"\n",
        "\n",
        "Informação que depois de filtrada e anonimizada deu origem aos dados guardados no ficheiro [clean_data.xlsx](https://github.com/arjoca/RHDocentes/blob/main/data/clean_data.xlsx), usados neste estudo."
      ],
      "metadata": {
        "id": "D--VSWG109MQ"
      }
    },
    {
      "cell_type": "markdown",
      "source": [
        "# Preparação"
      ],
      "metadata": {
        "id": "25yEfwrF1hQd"
      }
    },
    {
      "cell_type": "markdown",
      "source": [
        "## Importação de módulos e leitura de dados"
      ],
      "metadata": {
        "id": "_baJCALaUHhc"
      }
    },
    {
      "cell_type": "code",
      "source": [
        "# Instalação de módulos\n",
        "!pip install kora -q\n",
        "!pip install -U kaleido"
      ],
      "metadata": {
        "id": "WbMde719TXix",
        "colab": {
          "base_uri": "https://localhost:8080/"
        },
        "outputId": "25daf071-dda3-4c14-b94c-0cc79e324749"
      },
      "execution_count": 21,
      "outputs": [
        {
          "output_type": "stream",
          "name": "stdout",
          "text": [
            "Requirement already satisfied: kaleido in /usr/local/lib/python3.7/dist-packages (0.2.1)\n"
          ]
        }
      ]
    },
    {
      "cell_type": "code",
      "source": [
        "# Importação de módulos\n",
        "import numpy as np\n",
        "import pandas as pd\n",
        "import matplotlib.pyplot as plt\n",
        "import seaborn as sns\n",
        "from datetime import datetime, timedelta\n",
        "from ipywidgets import widgets, interact, fixed\n",
        "from IPython.display import Image"
      ],
      "metadata": {
        "id": "UF6cJzSF0xSB"
      },
      "execution_count": 22,
      "outputs": []
    },
    {
      "cell_type": "code",
      "source": [
        "# Leitura de dados\n",
        "base_url = 'https://raw.githubusercontent.com/arjoca/RHDocentes/main/data/'\n",
        "docentes = pd.read_csv(base_url + 'docentes.csv', encoding= 'unicode_escape', \n",
        "                       parse_dates=['Data Nascimento'], infer_datetime_format=True)\n",
        "alunos_per_curso = pd.read_csv(base_url + 'alunos.csv', encoding= 'unicode_escape', index_col=0)\n",
        "horas = pd.read_csv(base_url + 'horas.csv', encoding= 'unicode_escape', index_col=0)"
      ],
      "metadata": {
        "id": "ptxmB1t613TV"
      },
      "execution_count": 23,
      "outputs": []
    },
    {
      "cell_type": "markdown",
      "source": [
        "## Inicializações"
      ],
      "metadata": {
        "id": "p65zNlZgUTeG"
      }
    },
    {
      "cell_type": "code",
      "source": [
        "# Designações dos cursos e departamentos\n",
        "LISTA_DEPTS = sorted(docentes['Departamento'].unique())\n",
        "LISTA_CURSOS = sorted(alunos_per_curso.index.unique())"
      ],
      "metadata": {
        "id": "w3ylNnDC-kXi"
      },
      "execution_count": 24,
      "outputs": []
    },
    {
      "cell_type": "code",
      "source": [
        "# Designações das categorias de docentes\n",
        "cat_prof_coord = ['Prof. Coordenador', 'Prof. Coordenador c/ Agreg. ', 'Professor Coordenador Principal']\n",
        "cat_convidado = ['Assistente Convidado', 'Professor Adjunto Convidado']\n",
        "cat_adjunto = ['Professor Adjunto']\n",
        "cat_assistente = ['Assistente do 2. Trienio', 'Assistente', 'Equiparado Assistente 2. Trienio']\n",
        "cat_monitor = ['Monitor']\n",
        "cat_quadro = cat_prof_coord + cat_adjunto\n",
        "cat_todas = cat_quadro + cat_convidado + cat_assistente + cat_monitor"
      ],
      "metadata": {
        "id": "wzavEGUX2Pew"
      },
      "execution_count": 25,
      "outputs": []
    },
    {
      "cell_type": "code",
      "source": [
        "# Dicionários com categorias de docentes e suas designações\n",
        "catgs = {'Coordenadores':cat_prof_coord, \n",
        "         'Adjuntos': cat_adjunto,\n",
        "         'Quadro': cat_quadro,\n",
        "         'Convidados': cat_convidado,\n",
        "         'ETIs': cat_todas,\n",
        "         'ETIs++': 'ETIs++'}\n",
        "inv_catgs = {tuple(v): k for k, v in catgs.items()}"
      ],
      "metadata": {
        "id": "Ax9OehgIRygL"
      },
      "execution_count": 26,
      "outputs": []
    },
    {
      "cell_type": "code",
      "source": [
        "# Horas de contacto usadas para determinar relações entre cursos e departamentos\n",
        "horas_per_curso = horas.sum(axis=1)\n",
        "pesos_dept_per_curso = horas.T / horas_per_curso\n",
        "\n",
        "# Alunos por departamento\n",
        "alunos_per_dept = pd.DataFrame(np.dot(pesos_dept_per_curso, alunos_per_curso),\n",
        "                              index=pesos_dept_per_curso.index, columns=['Alunos'])\n",
        "alunos_per_dept = alunos_per_dept['Alunos']\n",
        "alunos_per_dept.name = ''\n",
        "alunos_per_dept = alunos_per_dept.sort_index()"
      ],
      "metadata": {
        "id": "ztK7YjeuT75r"
      },
      "execution_count": 27,
      "outputs": []
    },
    {
      "cell_type": "code",
      "source": [
        "# Números globais\n",
        "alunos_per_eti_isel = alunos_per_curso.sum().sum() / docentes['ETI'].sum()\n",
        "eti_per_dept = docentes.groupby(['Departamento'])['ETI'].sum()"
      ],
      "metadata": {
        "id": "Sj3ZHMyv123k"
      },
      "execution_count": 28,
      "outputs": []
    },
    {
      "cell_type": "code",
      "source": [
        "# ETIs VIANA (Valor Ideal Atendendo ao Número de Alunos)\n",
        "viana = alunos_per_dept / alunos_per_eti_isel\n",
        "fana = viana - eti_per_dept"
      ],
      "metadata": {
        "id": "Xsuu-pqE1O1r"
      },
      "execution_count": 29,
      "outputs": []
    },
    {
      "cell_type": "markdown",
      "source": [
        "## Funções usadas nos anteriores notebooks "
      ],
      "metadata": {
        "id": "aDhoCFK6T9Bt"
      }
    },
    {
      "cell_type": "code",
      "source": [
        "# Filtragem de docentes atendendo à sua idade de aposentação \n",
        "def aposentados_e_ativos(df, ano, idade_reforma):\n",
        "  idade = (datetime(ano, 1, 1) - df['Data Nascimento'])/timedelta(days=365.25)\n",
        "  aposentados = df[idade > idade_reforma]\n",
        "  ativos = df.drop(index=aposentados.index)\n",
        "  return aposentados, ativos"
      ],
      "metadata": {
        "id": "l2mTrprr2S8p"
      },
      "execution_count": 30,
      "outputs": []
    },
    {
      "cell_type": "code",
      "source": [
        "# Filtragem de docentes atendendo à sua categoria\n",
        "def docentes_per_categoria(df, categoria):\n",
        "  s = df.groupby(['Departamento', 'Categoria'])['ETI'].sum()\n",
        "  s = s.loc[(slice(None), categoria)].droplevel(level=1)\n",
        "  s = s.groupby(s.index).sum()\n",
        "  s = pd.Series(s, index=LISTA_DEPTS)\n",
        "  return s.fillna(0)"
      ],
      "metadata": {
        "id": "ApJsbc5DUcfm"
      },
      "execution_count": 31,
      "outputs": []
    },
    {
      "cell_type": "markdown",
      "source": [
        "# Medição das desigualdades (coeficiente de Gini)\n",
        "\n",
        "$$G=\\frac{\\sum_{i=1}^n (2i-n-1)x_i}{n\\sum_{i=1}^n x_i}$$\n",
        "\n",
        "onde $\\{x_i\\}$ é o conjunto dos $n$ valores da distribuição, ordenados por ordem crescente ($i$ é o ranking de $x_i$)\n",
        "\n",
        "$$0 \\le G \\le 1$$\n",
        "$(G=0) \\Rightarrow$ **não há desigualdades** (valores da distribuição todos iguais)\n",
        "\n",
        "$(G \\approx 1) \\Rightarrow$ ***winner-takes-all*** (todos os valores a zero, exceto um)\n",
        "\n",
        "Fontes:\n",
        "*   [Statistical/Help - Gini Coefficient of Inequality](http://www.statsdirect.com/help/default.htm#nonparametric_methods/gini.htm)\n",
        "*   [GitHub - Olivia Guest](https://github.com/oliviaguest/gini)\n",
        "\n",
        "**Alternativa:** Usar definição de Entropia da Teoria de Informação, $E=-\\sum_{i=1}^n x_i log(x_i)$\n",
        "\n",
        "Neste caso, quanto maior é o valor da entropia, menores serão as desigualdades.\n"
      ],
      "metadata": {
        "id": "u42G1e8cuLWI"
      }
    },
    {
      "cell_type": "code",
      "source": [
        "# Função para calcular o coeficiente de Gini\n",
        "def gini(array):\n",
        "    array = array.flatten()\n",
        "    if np.amin(array) < 0:\n",
        "        array -= np.amin(array)\n",
        "    array += 0.0000001\n",
        "    array = np.sort(array)\n",
        "    index = np.arange(1,array.shape[0]+1)\n",
        "    n = array.shape[0]\n",
        "    return ((np.sum((2 * index - n  - 1) * array)) / (n * np.sum(array)))"
      ],
      "metadata": {
        "id": "8SG_X1jzuM2i"
      },
      "execution_count": 32,
      "outputs": []
    },
    {
      "cell_type": "markdown",
      "source": [
        "# Três métodos para fazer a distribuição"
      ],
      "metadata": {
        "id": "HSxvZNBj7SHX"
      }
    },
    {
      "cell_type": "code",
      "source": [
        "# Função auxiliar para determinar quanto falta para o target\n",
        "def how_many_to_target(target, numerator, denominator):\n",
        "  s = denominator * target - numerator\n",
        "  s.clip(lower=0, inplace=True)\n",
        "  return s"
      ],
      "metadata": {
        "id": "siOS9-9x5a2s"
      },
      "execution_count": 33,
      "outputs": []
    },
    {
      "cell_type": "code",
      "source": [
        "# METHOD 1 - Linear mapping\n",
        "def linear_map(target, cake, numerator, denominator):\n",
        "  s = how_many_to_target(target, numerator, denominator)\n",
        "  return s / s.sum() * cake"
      ],
      "metadata": {
        "id": "vjaZimoaNwkI"
      },
      "execution_count": 34,
      "outputs": []
    },
    {
      "cell_type": "code",
      "source": [
        "# METHOD 2 - D'Hondt\n",
        "def method_hondt(target, cake, numerator, denominator):\n",
        "  s = how_many_to_target(target, numerator, denominator)\n",
        "  list_of_series = [s/i for i in range(1, cake+1)]\n",
        "  df = pd.concat(list_of_series, axis=1)\n",
        "  vals = np.sort(np.ravel(df.to_numpy(copy=True)))[-1::-1]\n",
        "  df = df >= vals[cake-1]\n",
        "  return df.sum(axis=1)\n",
        "\n",
        "# METHOD 2a - D'Hondt\n",
        "def method_hondt_ordering(target, cake, numerator, denominator):\n",
        "  s = how_many_to_target(target, numerator, denominator)\n",
        "  list_of_series = [s/i for i in range(1, cake+1)]\n",
        "  df = pd.concat(list_of_series, axis=1)\n",
        "  vals = np.sort(np.ravel(df.to_numpy(copy=True)))[-1::-1]\n",
        "  df_ordering = pd.DataFrame(index=LISTA_DEPTS)\n",
        "  for i,v in enumerate(vals[:cake]):\n",
        "    ix = df[df==v].stack().index.get_level_values(0)\n",
        "    df_ordering.loc[ix, i+1] = 1\n",
        "  return df_ordering"
      ],
      "metadata": {
        "id": "VSNVnHCtNxF0"
      },
      "execution_count": 35,
      "outputs": []
    },
    {
      "cell_type": "code",
      "source": [
        "# METHOD 3 - One step iteration\n",
        "def step_by_step(cake, numerator, denominator):\n",
        "  df = pd.DataFrame(index=LISTA_DEPTS)\n",
        "  num = numerator.copy()\n",
        "  den = denominator.copy()\n",
        "  for i in range(cake):\n",
        "    ratio = num / den\n",
        "    ix = ratio.idxmin()\n",
        "    num[ix] += 1\n",
        "    df.loc[ix,i+1] = 1\n",
        "  return df"
      ],
      "metadata": {
        "id": "Le9GMZJiNw2_"
      },
      "execution_count": 36,
      "outputs": []
    },
    {
      "cell_type": "markdown",
      "source": [
        "# Exercício de comparação"
      ],
      "metadata": {
        "id": "704E0zY-N7TX"
      }
    },
    {
      "cell_type": "markdown",
      "source": [
        "## Funções de auxílio"
      ],
      "metadata": {
        "id": "d5dKkN09OStL"
      }
    },
    {
      "cell_type": "code",
      "source": [
        "# Mostrar resultados na forma de gráficos\n",
        "def show_results(num, den, s, df, bolo, target, ano, reforma, denominador, metodo):\n",
        "  fig, ax = plt.subplots(2, 2, figsize=(17,8))\n",
        "  fig.subplots_adjust(hspace=0.5)\n",
        "  title1 = f'Distribuição de {bolo} vagas - método {metodo}, '\n",
        "  title2 = ''\n",
        "  if metodo != 'step_by_step':\n",
        "    title2 += f'target= {target}, '\n",
        "  title3 = f'denominador={inv_catgs[tuple(denominador)]}, ano={ano}, idade_reforma={reforma}'\n",
        "  fig.suptitle(title1 + title2 + title3)\n",
        "\n",
        "  s.name=''\n",
        "  s.plot(kind='bar', ax=ax[0,0], table=np.round(s,1).to_frame().T, cmap='PuOr')\n",
        "  ax[0,0].set_title('Distribuição do bolo pelos departamentos')\n",
        "  ax[0,0].xaxis.set_visible(False)\n",
        "  if df is not None:\n",
        "    sns.heatmap(df, cbar=False, linewidths=2, linecolor='grey', ax=ax[0,1], cmap='PuOr')\n",
        "    ax[0,1].set_title('Ordenação da distribuição')\n",
        " \n",
        "  # Valores antes da distribuição\n",
        "  s1 = num/den\n",
        "  s1.name = ''\n",
        "  s1.plot(kind='bar', ax=ax[1,0], table=np.round(s1,2).to_frame().T)\n",
        "  ax[1,0].xaxis.set_visible(False)\n",
        "  ax[1,0].axhline(y=s1.mean(), linewidth=2, color='#d62728')\n",
        "  ax[1,0].set_title(f'Rácios antes da distribuição - Coef. Gini = {np.round(gini(s1.values),3)}')\n",
        "  # Valores depois da distribuição\n",
        "  s2 = (num+s)/den\n",
        "  s2.name = ''\n",
        "  s2.plot(kind='bar', ax=ax[1,1], table=np.round(s2,2).to_frame().T)\n",
        "  ax[1,1].xaxis.set_visible(False)\n",
        "  ax[1,1].axhline(y=s2.mean(), linewidth=2, color='#d62728')\n",
        "  ax[1,1].set_title(f'Rácios depois da distribuição - Coef. Gini = {np.round(gini(s2.values),3)}')\n",
        "\n",
        "  fig.savefig('temp_image.png')"
      ],
      "metadata": {
        "id": "reIqsuau89If"
      },
      "execution_count": 37,
      "outputs": []
    },
    {
      "cell_type": "code",
      "source": [
        "# Função chamada de forma interativa usando widgets\n",
        "def main_func(bolo=16, target=0.25, ano=2022, reforma=68, denominador='ETIs++', \n",
        "        metodo='step_by_step'):\n",
        "  _, ativos = aposentados_e_ativos(docentes, ano, reforma)\n",
        "  num = docentes_per_categoria(ativos, cat_prof_coord)\n",
        "  \n",
        "  if denominador != 'ETIs++':\n",
        "    den = docentes_per_categoria(ativos, denominador)\n",
        "  else:\n",
        "    den = docentes_per_categoria(ativos, cat_todas) + fana\n",
        "\n",
        "  if metodo == 'linear':\n",
        "    df = None\n",
        "    s = linear_map(target, bolo, num, den)\n",
        "  elif metodo == 'hondt':\n",
        "    df = method_hondt_ordering(target, bolo, num, den)\n",
        "    s = df.sum(axis=1)\n",
        "  elif metodo == 'step_by_step':\n",
        "    df = step_by_step(bolo, num, den)\n",
        "    s = df.sum(axis=1)\n",
        "  else: print('Erro: método inexistente')  \n",
        "  \n",
        "  show_results(num, den, s, df, bolo, target, ano, reforma, denominador, metodo)"
      ],
      "metadata": {
        "id": "atU7tgbfrbef"
      },
      "execution_count": 38,
      "outputs": []
    },
    {
      "cell_type": "markdown",
      "source": [
        "## Simulação interativa"
      ],
      "metadata": {
        "id": "4h_gmfiA-zzk"
      }
    },
    {
      "cell_type": "code",
      "source": [
        "# Simulação interativa\n",
        "interact(main_func, bolo=(4,80,1), target=(0.15,0.75,0.05), ano=(2022,2030,1), \n",
        "         reforma=(67,70,1), denominador={'ETIs':cat_todas, \n",
        "                                         'Quadro': cat_quadro, \n",
        "                                         'ETIs++': 'ETIs++'}, \n",
        "         metodo=['linear','hondt','step_by_step'])"
      ],
      "metadata": {
        "colab": {
          "base_uri": "https://localhost:8080/",
          "height": 757,
          "referenced_widgets": [
            "9699af335b7148ddafcdfd372bd389b5",
            "826ef336eba243a4ba66c92fe86ade02",
            "8b8440bf3660416f957635c3c29d8ee3",
            "a4ab0bf6b7a44c9a832bf34e9440f5e7",
            "06bccc26daf04eb68fdced0dfcff2207",
            "f47b1e1fabce4c2fb1104331dbf81b46",
            "ae0407045ac143e59552e46738e1c91a",
            "14e939ed18b84fdda976874fc631ff65",
            "2e0c5694028f4b33805549e290f4e920",
            "b71f74fb2f1d4a4f8acf1e7e90ea046b",
            "f24201dce76e482583e663dcee1fdad2",
            "6ce3ee654e50486ca3d69a1809cf7ff3",
            "f6f1b62b68144573ba676f46aa4704d1",
            "e6964fd99e6d4344ab56992d697407d0",
            "edea0a97f91844dfa4cf0afdb8b46299",
            "7b04979160614141a8ec580e86355c4e",
            "37f3a3571c8048f194bc47d6909c0220",
            "a3861841ede84b93a2aa62e807362de2",
            "3cc75861a34c45998e8e5ec5ece8266f",
            "ec0cbdb1ce294bda9dd34bc850592bf1",
            "3c04c8a08f3f4efc8728c485c4ace109",
            "f86fd99fe8784d80aa191f912a0e9a25"
          ]
        },
        "id": "N27bjBuK7o13",
        "outputId": "9416cc88-a508-4eb0-dd77-0e6eded055eb"
      },
      "execution_count": 39,
      "outputs": [
        {
          "output_type": "display_data",
          "data": {
            "application/vnd.jupyter.widget-view+json": {
              "model_id": "9699af335b7148ddafcdfd372bd389b5",
              "version_minor": 0,
              "version_major": 2
            },
            "text/plain": [
              "interactive(children=(IntSlider(value=16, description='bolo', max=80, min=4), FloatSlider(value=0.25, descript…"
            ]
          },
          "metadata": {}
        },
        {
          "output_type": "execute_result",
          "data": {
            "text/plain": [
              "<function __main__.main_func>"
            ]
          },
          "metadata": {},
          "execution_count": 39
        }
      ]
    },
    {
      "cell_type": "code",
      "source": [
        "Image('temp_image.png')"
      ],
      "metadata": {
        "colab": {
          "base_uri": "https://localhost:8080/",
          "height": 593
        },
        "id": "qYXdwYI8OlD8",
        "outputId": "24947945-f8e2-4520-ebbd-181c91628c8a"
      },
      "execution_count": 40,
      "outputs": [
        {
          "output_type": "execute_result",
          "data": {
            "image/png": "[encoded data removed]",
            "text/plain": [
              "<IPython.core.display.Image object>"
            ]
          },
          "metadata": {},
          "execution_count": 40
        }
      ]
    }
  ]
}