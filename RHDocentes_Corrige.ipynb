{
  "nbformat": 4,
  "nbformat_minor": 0,
  "metadata": {
    "colab": {
      "name": "Copy of RHDocentes_Converge.ipynb",
      "provenance": [],
      "collapsed_sections": [],
      "authorship_tag": "ABX9TyMXJXpwenAa7iyVVWHNSHF6",
      "include_colab_link": true
    },
    "kernelspec": {
      "name": "python3",
      "display_name": "Python 3"
    },
    "language_info": {
      "name": "python"
    },
    "widgets": {
      "application/vnd.jupyter.widget-state+json": {
        "bd129d7f226b43f7973d0f8ecfbae5fc": {
          "model_module": "@jupyter-widgets/controls",
          "model_name": "VBoxModel",
          "model_module_version": "1.5.0",
          "state": {
            "_view_name": "VBoxView",
            "_dom_classes": [
              "widget-interact"
            ],
            "_model_name": "VBoxModel",
            "_view_module": "@jupyter-widgets/controls",
            "_model_module_version": "1.5.0",
            "_view_count": null,
            "_view_module_version": "1.5.0",
            "box_style": "",
            "layout": "IPY_MODEL_4325981a4bc74aba94b5fc9e3641132d",
            "_model_module": "@jupyter-widgets/controls",
            "children": [
              "IPY_MODEL_8c2c1e6630ab4d68990f542912e66cf6",
              "IPY_MODEL_887c31b554d24ef7894c60d299e2507d",
              "IPY_MODEL_ae070e5f077645c490123bbf9c611223",
              "IPY_MODEL_df2706c87b3b486cac6f10674373309e",
              "IPY_MODEL_0633e881d79b4c059e7323b9f5bac0e1",
              "IPY_MODEL_f8f35c1081fe4c948b4a3ce91099d680",
              "IPY_MODEL_bc4ddac6c41c44e9b0f08733d21a9b14"
            ]
          }
        },
        "4325981a4bc74aba94b5fc9e3641132d": {
          "model_module": "@jupyter-widgets/base",
          "model_name": "LayoutModel",
          "model_module_version": "1.2.0",
          "state": {
            "_view_name": "LayoutView",
            "grid_template_rows": null,
            "right": null,
            "justify_content": null,
            "_view_module": "@jupyter-widgets/base",
            "overflow": null,
            "_model_module_version": "1.2.0",
            "_view_count": null,
            "flex_flow": null,
            "width": null,
            "min_width": null,
            "border": null,
            "align_items": null,
            "bottom": null,
            "_model_module": "@jupyter-widgets/base",
            "top": null,
            "grid_column": null,
            "overflow_y": null,
            "overflow_x": null,
            "grid_auto_flow": null,
            "grid_area": null,
            "grid_template_columns": null,
            "flex": null,
            "_model_name": "LayoutModel",
            "justify_items": null,
            "grid_row": null,
            "max_height": null,
            "align_content": null,
            "visibility": null,
            "align_self": null,
            "height": null,
            "min_height": null,
            "padding": null,
            "grid_auto_rows": null,
            "grid_gap": null,
            "max_width": null,
            "order": null,
            "_view_module_version": "1.2.0",
            "grid_template_areas": null,
            "object_position": null,
            "object_fit": null,
            "grid_auto_columns": null,
            "margin": null,
            "display": null,
            "left": null
          }
        },
        "8c2c1e6630ab4d68990f542912e66cf6": {
          "model_module": "@jupyter-widgets/controls",
          "model_name": "IntSliderModel",
          "model_module_version": "1.5.0",
          "state": {
            "_view_name": "IntSliderView",
            "style": "IPY_MODEL_cee61a0aab8442cfb6f236814886591e",
            "_dom_classes": [],
            "description": "bolo",
            "step": 1,
            "_model_name": "IntSliderModel",
            "orientation": "horizontal",
            "max": 26,
            "_view_module": "@jupyter-widgets/controls",
            "_model_module_version": "1.5.0",
            "value": 26,
            "_view_count": null,
            "disabled": false,
            "_view_module_version": "1.5.0",
            "min": 4,
            "continuous_update": true,
            "readout_format": "d",
            "description_tooltip": null,
            "readout": true,
            "_model_module": "@jupyter-widgets/controls",
            "layout": "IPY_MODEL_f4f5dd4b4a034080ba0e9a72fc00d604"
          }
        },
        "887c31b554d24ef7894c60d299e2507d": {
          "model_module": "@jupyter-widgets/controls",
          "model_name": "FloatSliderModel",
          "model_module_version": "1.5.0",
          "state": {
            "_view_name": "FloatSliderView",
            "style": "IPY_MODEL_2785cbe87c854eb19704ca44f3782d4d",
            "_dom_classes": [],
            "description": "target",
            "step": 0.05,
            "_model_name": "FloatSliderModel",
            "orientation": "horizontal",
            "max": 0.5,
            "_view_module": "@jupyter-widgets/controls",
            "_model_module_version": "1.5.0",
            "value": 0.25,
            "_view_count": null,
            "disabled": false,
            "_view_module_version": "1.5.0",
            "min": 0.2,
            "continuous_update": true,
            "readout_format": ".2f",
            "description_tooltip": null,
            "readout": true,
            "_model_module": "@jupyter-widgets/controls",
            "layout": "IPY_MODEL_2c14129d3c4344cf95e541ecbda02163"
          }
        },
        "ae070e5f077645c490123bbf9c611223": {
          "model_module": "@jupyter-widgets/controls",
          "model_name": "IntSliderModel",
          "model_module_version": "1.5.0",
          "state": {
            "_view_name": "IntSliderView",
            "style": "IPY_MODEL_d7e879e420b642d089c8801ee0be9365",
            "_dom_classes": [],
            "description": "ano",
            "step": 1,
            "_model_name": "IntSliderModel",
            "orientation": "horizontal",
            "max": 2030,
            "_view_module": "@jupyter-widgets/controls",
            "_model_module_version": "1.5.0",
            "value": 2022,
            "_view_count": null,
            "disabled": false,
            "_view_module_version": "1.5.0",
            "min": 2022,
            "continuous_update": true,
            "readout_format": "d",
            "description_tooltip": null,
            "readout": true,
            "_model_module": "@jupyter-widgets/controls",
            "layout": "IPY_MODEL_0294e6e9fb6744339b2be7bdd6a87115"
          }
        },
        "df2706c87b3b486cac6f10674373309e": {
          "model_module": "@jupyter-widgets/controls",
          "model_name": "IntSliderModel",
          "model_module_version": "1.5.0",
          "state": {
            "_view_name": "IntSliderView",
            "style": "IPY_MODEL_980bdd0ebf9444ab8fa7ce0529974661",
            "_dom_classes": [],
            "description": "reforma",
            "step": 1,
            "_model_name": "IntSliderModel",
            "orientation": "horizontal",
            "max": 70,
            "_view_module": "@jupyter-widgets/controls",
            "_model_module_version": "1.5.0",
            "value": 68,
            "_view_count": null,
            "disabled": false,
            "_view_module_version": "1.5.0",
            "min": 67,
            "continuous_update": true,
            "readout_format": "d",
            "description_tooltip": null,
            "readout": true,
            "_model_module": "@jupyter-widgets/controls",
            "layout": "IPY_MODEL_d02f7c8406d04fae9f93691cae17779a"
          }
        },
        "0633e881d79b4c059e7323b9f5bac0e1": {
          "model_module": "@jupyter-widgets/controls",
          "model_name": "DropdownModel",
          "model_module_version": "1.5.0",
          "state": {
            "_options_labels": [
              "ETIs",
              "Quadro",
              "ETIs++"
            ],
            "_view_name": "DropdownView",
            "style": "IPY_MODEL_ceb6e7ce81294001931a937a2897b391",
            "_dom_classes": [],
            "description": "denominador",
            "_model_name": "DropdownModel",
            "index": 0,
            "_view_module": "@jupyter-widgets/controls",
            "_model_module_version": "1.5.0",
            "_view_count": null,
            "disabled": false,
            "_view_module_version": "1.5.0",
            "description_tooltip": null,
            "_model_module": "@jupyter-widgets/controls",
            "layout": "IPY_MODEL_2a459709427d4487b776bdb80e930c1c"
          }
        },
        "f8f35c1081fe4c948b4a3ce91099d680": {
          "model_module": "@jupyter-widgets/controls",
          "model_name": "DropdownModel",
          "model_module_version": "1.5.0",
          "state": {
            "_options_labels": [
              "linear",
              "hondt",
              "step_by_step"
            ],
            "_view_name": "DropdownView",
            "style": "IPY_MODEL_fd370b4932ea4eeba33223dbf65be243",
            "_dom_classes": [],
            "description": "metodo",
            "_model_name": "DropdownModel",
            "index": 2,
            "_view_module": "@jupyter-widgets/controls",
            "_model_module_version": "1.5.0",
            "_view_count": null,
            "disabled": false,
            "_view_module_version": "1.5.0",
            "description_tooltip": null,
            "_model_module": "@jupyter-widgets/controls",
            "layout": "IPY_MODEL_51c8421133a74c3bbab4ea64f9abd64d"
          }
        },
        "bc4ddac6c41c44e9b0f08733d21a9b14": {
          "model_module": "@jupyter-widgets/output",
          "model_name": "OutputModel",
          "model_module_version": "1.0.0",
          "state": {
            "_view_name": "OutputView",
            "msg_id": "",
            "_dom_classes": [],
            "_model_name": "OutputModel",
            "outputs": [
              {
                "output_type": "display_data",
                "data": {
                  "image/png": "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\n",
                  "text/plain": "<Figure size 1224x576 with 4 Axes>"
                },
                "metadata": {
                  "needs_background": "light"
                }
              }
            ],
            "_view_module": "@jupyter-widgets/output",
            "_model_module_version": "1.0.0",
            "_view_count": null,
            "_view_module_version": "1.0.0",
            "layout": "IPY_MODEL_2ce2ed047161472c92bd66563aaaf58e",
            "_model_module": "@jupyter-widgets/output"
          }
        },
        "cee61a0aab8442cfb6f236814886591e": {
          "model_module": "@jupyter-widgets/controls",
          "model_name": "SliderStyleModel",
          "model_module_version": "1.5.0",
          "state": {
            "_view_name": "StyleView",
            "handle_color": null,
            "_model_name": "SliderStyleModel",
            "description_width": "",
            "_view_module": "@jupyter-widgets/base",
            "_model_module_version": "1.5.0",
            "_view_count": null,
            "_view_module_version": "1.2.0",
            "_model_module": "@jupyter-widgets/controls"
          }
        },
        "f4f5dd4b4a034080ba0e9a72fc00d604": {
          "model_module": "@jupyter-widgets/base",
          "model_name": "LayoutModel",
          "model_module_version": "1.2.0",
          "state": {
            "_view_name": "LayoutView",
            "grid_template_rows": null,
            "right": null,
            "justify_content": null,
            "_view_module": "@jupyter-widgets/base",
            "overflow": null,
            "_model_module_version": "1.2.0",
            "_view_count": null,
            "flex_flow": null,
            "width": null,
            "min_width": null,
            "border": null,
            "align_items": null,
            "bottom": null,
            "_model_module": "@jupyter-widgets/base",
            "top": null,
            "grid_column": null,
            "overflow_y": null,
            "overflow_x": null,
            "grid_auto_flow": null,
            "grid_area": null,
            "grid_template_columns": null,
            "flex": null,
            "_model_name": "LayoutModel",
            "justify_items": null,
            "grid_row": null,
            "max_height": null,
            "align_content": null,
            "visibility": null,
            "align_self": null,
            "height": null,
            "min_height": null,
            "padding": null,
            "grid_auto_rows": null,
            "grid_gap": null,
            "max_width": null,
            "order": null,
            "_view_module_version": "1.2.0",
            "grid_template_areas": null,
            "object_position": null,
            "object_fit": null,
            "grid_auto_columns": null,
            "margin": null,
            "display": null,
            "left": null
          }
        },
        "2785cbe87c854eb19704ca44f3782d4d": {
          "model_module": "@jupyter-widgets/controls",
          "model_name": "SliderStyleModel",
          "model_module_version": "1.5.0",
          "state": {
            "_view_name": "StyleView",
            "handle_color": null,
            "_model_name": "SliderStyleModel",
            "description_width": "",
            "_view_module": "@jupyter-widgets/base",
            "_model_module_version": "1.5.0",
            "_view_count": null,
            "_view_module_version": "1.2.0",
            "_model_module": "@jupyter-widgets/controls"
          }
        },
        "2c14129d3c4344cf95e541ecbda02163": {
          "model_module": "@jupyter-widgets/base",
          "model_name": "LayoutModel",
          "model_module_version": "1.2.0",
          "state": {
            "_view_name": "LayoutView",
            "grid_template_rows": null,
            "right": null,
            "justify_content": null,
            "_view_module": "@jupyter-widgets/base",
            "overflow": null,
            "_model_module_version": "1.2.0",
            "_view_count": null,
            "flex_flow": null,
            "width": null,
            "min_width": null,
            "border": null,
            "align_items": null,
            "bottom": null,
            "_model_module": "@jupyter-widgets/base",
            "top": null,
            "grid_column": null,
            "overflow_y": null,
            "overflow_x": null,
            "grid_auto_flow": null,
            "grid_area": null,
            "grid_template_columns": null,
            "flex": null,
            "_model_name": "LayoutModel",
            "justify_items": null,
            "grid_row": null,
            "max_height": null,
            "align_content": null,
            "visibility": null,
            "align_self": null,
            "height": null,
            "min_height": null,
            "padding": null,
            "grid_auto_rows": null,
            "grid_gap": null,
            "max_width": null,
            "order": null,
            "_view_module_version": "1.2.0",
            "grid_template_areas": null,
            "object_position": null,
            "object_fit": null,
            "grid_auto_columns": null,
            "margin": null,
            "display": null,
            "left": null
          }
        },
        "d7e879e420b642d089c8801ee0be9365": {
          "model_module": "@jupyter-widgets/controls",
          "model_name": "SliderStyleModel",
          "model_module_version": "1.5.0",
          "state": {
            "_view_name": "StyleView",
            "handle_color": null,
            "_model_name": "SliderStyleModel",
            "description_width": "",
            "_view_module": "@jupyter-widgets/base",
            "_model_module_version": "1.5.0",
            "_view_count": null,
            "_view_module_version": "1.2.0",
            "_model_module": "@jupyter-widgets/controls"
          }
        },
        "0294e6e9fb6744339b2be7bdd6a87115": {
          "model_module": "@jupyter-widgets/base",
          "model_name": "LayoutModel",
          "model_module_version": "1.2.0",
          "state": {
            "_view_name": "LayoutView",
            "grid_template_rows": null,
            "right": null,
            "justify_content": null,
            "_view_module": "@jupyter-widgets/base",
            "overflow": null,
            "_model_module_version": "1.2.0",
            "_view_count": null,
            "flex_flow": null,
            "width": null,
            "min_width": null,
            "border": null,
            "align_items": null,
            "bottom": null,
            "_model_module": "@jupyter-widgets/base",
            "top": null,
            "grid_column": null,
            "overflow_y": null,
            "overflow_x": null,
            "grid_auto_flow": null,
            "grid_area": null,
            "grid_template_columns": null,
            "flex": null,
            "_model_name": "LayoutModel",
            "justify_items": null,
            "grid_row": null,
            "max_height": null,
            "align_content": null,
            "visibility": null,
            "align_self": null,
            "height": null,
            "min_height": null,
            "padding": null,
            "grid_auto_rows": null,
            "grid_gap": null,
            "max_width": null,
            "order": null,
            "_view_module_version": "1.2.0",
            "grid_template_areas": null,
            "object_position": null,
            "object_fit": null,
            "grid_auto_columns": null,
            "margin": null,
            "display": null,
            "left": null
          }
        },
        "980bdd0ebf9444ab8fa7ce0529974661": {
          "model_module": "@jupyter-widgets/controls",
          "model_name": "SliderStyleModel",
          "model_module_version": "1.5.0",
          "state": {
            "_view_name": "StyleView",
            "handle_color": null,
            "_model_name": "SliderStyleModel",
            "description_width": "",
            "_view_module": "@jupyter-widgets/base",
            "_model_module_version": "1.5.0",
            "_view_count": null,
            "_view_module_version": "1.2.0",
            "_model_module": "@jupyter-widgets/controls"
          }
        },
        "d02f7c8406d04fae9f93691cae17779a": {
          "model_module": "@jupyter-widgets/base",
          "model_name": "LayoutModel",
          "model_module_version": "1.2.0",
          "state": {
            "_view_name": "LayoutView",
            "grid_template_rows": null,
            "right": null,
            "justify_content": null,
            "_view_module": "@jupyter-widgets/base",
            "overflow": null,
            "_model_module_version": "1.2.0",
            "_view_count": null,
            "flex_flow": null,
            "width": null,
            "min_width": null,
            "border": null,
            "align_items": null,
            "bottom": null,
            "_model_module": "@jupyter-widgets/base",
            "top": null,
            "grid_column": null,
            "overflow_y": null,
            "overflow_x": null,
            "grid_auto_flow": null,
            "grid_area": null,
            "grid_template_columns": null,
            "flex": null,
            "_model_name": "LayoutModel",
            "justify_items": null,
            "grid_row": null,
            "max_height": null,
            "align_content": null,
            "visibility": null,
            "align_self": null,
            "height": null,
            "min_height": null,
            "padding": null,
            "grid_auto_rows": null,
            "grid_gap": null,
            "max_width": null,
            "order": null,
            "_view_module_version": "1.2.0",
            "grid_template_areas": null,
            "object_position": null,
            "object_fit": null,
            "grid_auto_columns": null,
            "margin": null,
            "display": null,
            "left": null
          }
        },
        "ceb6e7ce81294001931a937a2897b391": {
          "model_module": "@jupyter-widgets/controls",
          "model_name": "DescriptionStyleModel",
          "model_module_version": "1.5.0",
          "state": {
            "_view_name": "StyleView",
            "_model_name": "DescriptionStyleModel",
            "description_width": "",
            "_view_module": "@jupyter-widgets/base",
            "_model_module_version": "1.5.0",
            "_view_count": null,
            "_view_module_version": "1.2.0",
            "_model_module": "@jupyter-widgets/controls"
          }
        },
        "2a459709427d4487b776bdb80e930c1c": {
          "model_module": "@jupyter-widgets/base",
          "model_name": "LayoutModel",
          "model_module_version": "1.2.0",
          "state": {
            "_view_name": "LayoutView",
            "grid_template_rows": null,
            "right": null,
            "justify_content": null,
            "_view_module": "@jupyter-widgets/base",
            "overflow": null,
            "_model_module_version": "1.2.0",
            "_view_count": null,
            "flex_flow": null,
            "width": null,
            "min_width": null,
            "border": null,
            "align_items": null,
            "bottom": null,
            "_model_module": "@jupyter-widgets/base",
            "top": null,
            "grid_column": null,
            "overflow_y": null,
            "overflow_x": null,
            "grid_auto_flow": null,
            "grid_area": null,
            "grid_template_columns": null,
            "flex": null,
            "_model_name": "LayoutModel",
            "justify_items": null,
            "grid_row": null,
            "max_height": null,
            "align_content": null,
            "visibility": null,
            "align_self": null,
            "height": null,
            "min_height": null,
            "padding": null,
            "grid_auto_rows": null,
            "grid_gap": null,
            "max_width": null,
            "order": null,
            "_view_module_version": "1.2.0",
            "grid_template_areas": null,
            "object_position": null,
            "object_fit": null,
            "grid_auto_columns": null,
            "margin": null,
            "display": null,
            "left": null
          }
        },
        "fd370b4932ea4eeba33223dbf65be243": {
          "model_module": "@jupyter-widgets/controls",
          "model_name": "DescriptionStyleModel",
          "model_module_version": "1.5.0",
          "state": {
            "_view_name": "StyleView",
            "_model_name": "DescriptionStyleModel",
            "description_width": "",
            "_view_module": "@jupyter-widgets/base",
            "_model_module_version": "1.5.0",
            "_view_count": null,
            "_view_module_version": "1.2.0",
            "_model_module": "@jupyter-widgets/controls"
          }
        },
        "51c8421133a74c3bbab4ea64f9abd64d": {
          "model_module": "@jupyter-widgets/base",
          "model_name": "LayoutModel",
          "model_module_version": "1.2.0",
          "state": {
            "_view_name": "LayoutView",
            "grid_template_rows": null,
            "right": null,
            "justify_content": null,
            "_view_module": "@jupyter-widgets/base",
            "overflow": null,
            "_model_module_version": "1.2.0",
            "_view_count": null,
            "flex_flow": null,
            "width": null,
            "min_width": null,
            "border": null,
            "align_items": null,
            "bottom": null,
            "_model_module": "@jupyter-widgets/base",
            "top": null,
            "grid_column": null,
            "overflow_y": null,
            "overflow_x": null,
            "grid_auto_flow": null,
            "grid_area": null,
            "grid_template_columns": null,
            "flex": null,
            "_model_name": "LayoutModel",
            "justify_items": null,
            "grid_row": null,
            "max_height": null,
            "align_content": null,
            "visibility": null,
            "align_self": null,
            "height": null,
            "min_height": null,
            "padding": null,
            "grid_auto_rows": null,
            "grid_gap": null,
            "max_width": null,
            "order": null,
            "_view_module_version": "1.2.0",
            "grid_template_areas": null,
            "object_position": null,
            "object_fit": null,
            "grid_auto_columns": null,
            "margin": null,
            "display": null,
            "left": null
          }
        },
        "2ce2ed047161472c92bd66563aaaf58e": {
          "model_module": "@jupyter-widgets/base",
          "model_name": "LayoutModel",
          "model_module_version": "1.2.0",
          "state": {
            "_view_name": "LayoutView",
            "grid_template_rows": null,
            "right": null,
            "justify_content": null,
            "_view_module": "@jupyter-widgets/base",
            "overflow": null,
            "_model_module_version": "1.2.0",
            "_view_count": null,
            "flex_flow": null,
            "width": null,
            "min_width": null,
            "border": null,
            "align_items": null,
            "bottom": null,
            "_model_module": "@jupyter-widgets/base",
            "top": null,
            "grid_column": null,
            "overflow_y": null,
            "overflow_x": null,
            "grid_auto_flow": null,
            "grid_area": null,
            "grid_template_columns": null,
            "flex": null,
            "_model_name": "LayoutModel",
            "justify_items": null,
            "grid_row": null,
            "max_height": null,
            "align_content": null,
            "visibility": null,
            "align_self": null,
            "height": null,
            "min_height": null,
            "padding": null,
            "grid_auto_rows": null,
            "grid_gap": null,
            "max_width": null,
            "order": null,
            "_view_module_version": "1.2.0",
            "grid_template_areas": null,
            "object_position": null,
            "object_fit": null,
            "grid_auto_columns": null,
            "margin": null,
            "display": null,
            "left": null
          }
        }
      }
    }
  },
  "cells": [
    {
      "cell_type": "markdown",
      "metadata": {
        "id": "view-in-github",
        "colab_type": "text"
      },
      "source": [
        "<a href=\"https://colab.research.google.com/github/arjoca/RHDocentes/blob/main/RHDocentes_Corrige.ipynb\" target=\"_parent\"><img src=\"https://colab.research.google.com/assets/colab-badge.svg\" alt=\"Open In Colab\"/></a>"
      ]
    },
    {
      "cell_type": "markdown",
      "source": [
        "# RHDocentes - fevereiro 2022\n",
        "\n",
        "**Notebook 3** - Correção das Desigualdades\n",
        "\n",
        "\n",
        "Estudo organizado em 3 notebooks:\n",
        "*   [O primeiro](https://github.com/arjoca/RHDocentes/blob/main/RHDocentes_Fotografia.ipynb) - Fotografia do ISEL\n",
        "*   [O anterior](https://github.com/arjoca/RHDocentes/blob/main/RHDocentes_Futuro.ipynb) - O Futuro e a Dinâmica de Aposentações\n",
        "*   **Este notebook** - Correção das Desigualdades\n",
        "\n",
        "![perguntas](https://raw.githubusercontent.com/arjoca/RHDocentes/main/images/perguntas.svg)\n"
      ],
      "metadata": {
        "id": "tmkGz0DyDc2J"
      }
    },
    {
      "cell_type": "markdown",
      "source": [
        "# Metodologia proposta\n",
        "\n",
        "![metodologia](https://raw.githubusercontent.com/arjoca/RHDocentes/main/images/algoritmo.svg)\n"
      ],
      "metadata": {
        "id": "jiN4M9uPZSzA"
      }
    },
    {
      "cell_type": "markdown",
      "source": [
        "# Fontes de informação\n",
        "\n",
        "*   Ficheiro \"Afetacao_Financeira_ADs_Cursos_2021_v01.xlsx\"\n",
        "*   Ficheiro \"RAIDES_0.xlsx\"\n",
        "\n",
        "Informação que depois de filtrada e anonimizada deu origem aos dados guardados no ficheiro [clean_data.xlsx](https://github.com/arjoca/RHDocentes/blob/main/data/clean_data.xlsx), usados neste estudo."
      ],
      "metadata": {
        "id": "D--VSWG109MQ"
      }
    },
    {
      "cell_type": "markdown",
      "source": [
        "# Preparação"
      ],
      "metadata": {
        "id": "25yEfwrF1hQd"
      }
    },
    {
      "cell_type": "markdown",
      "source": [
        "## Importação de módulos e leitura de dados"
      ],
      "metadata": {
        "id": "_baJCALaUHhc"
      }
    },
    {
      "cell_type": "code",
      "source": [
        "# Instalação de módulos\n",
        "!pip install kora -q\n",
        "!pip install -U kaleido"
      ],
      "metadata": {
        "id": "WbMde719TXix",
        "colab": {
          "base_uri": "https://localhost:8080/"
        },
        "outputId": "f9776ef7-edcc-4841-d10a-dce5089f5b43"
      },
      "execution_count": 21,
      "outputs": [
        {
          "output_type": "stream",
          "name": "stdout",
          "text": [
            "Requirement already satisfied: kaleido in /usr/local/lib/python3.7/dist-packages (0.2.1)\n"
          ]
        }
      ]
    },
    {
      "cell_type": "code",
      "source": [
        "# Importação de módulos\n",
        "import numpy as np\n",
        "import pandas as pd\n",
        "import matplotlib.pyplot as plt\n",
        "import seaborn as sns\n",
        "from datetime import datetime, timedelta\n",
        "from ipywidgets import widgets, interact, fixed\n",
        "from IPython.display import Image"
      ],
      "metadata": {
        "id": "UF6cJzSF0xSB"
      },
      "execution_count": 22,
      "outputs": []
    },
    {
      "cell_type": "code",
      "source": [
        "# Leitura de dados\n",
        "base_url = 'https://raw.githubusercontent.com/arjoca/RHDocentes/main/data/'\n",
        "docentes = pd.read_csv(base_url + 'docentes.csv', encoding= 'unicode_escape', \n",
        "                       parse_dates=['Data Nascimento'], infer_datetime_format=True)\n",
        "alunos_per_curso = pd.read_csv(base_url + 'alunos.csv', encoding= 'unicode_escape', index_col=0)\n",
        "horas = pd.read_csv(base_url + 'horas.csv', encoding= 'unicode_escape', index_col=0)"
      ],
      "metadata": {
        "id": "ptxmB1t613TV"
      },
      "execution_count": 23,
      "outputs": []
    },
    {
      "cell_type": "markdown",
      "source": [
        "## Inicializações"
      ],
      "metadata": {
        "id": "p65zNlZgUTeG"
      }
    },
    {
      "cell_type": "code",
      "source": [
        "# Designações dos cursos e departamentos\n",
        "LISTA_DEPTS = sorted(docentes['Departamento'].unique())\n",
        "LISTA_CURSOS = sorted(alunos_per_curso.index.unique())"
      ],
      "metadata": {
        "id": "w3ylNnDC-kXi"
      },
      "execution_count": 24,
      "outputs": []
    },
    {
      "cell_type": "code",
      "source": [
        "# Designações das categorias de docentes\n",
        "cat_prof_coord = ['Prof. Coordenador', 'Prof. Coordenador c/ Agreg. ', 'Professor Coordenador Principal']\n",
        "cat_convidado = ['Assistente Convidado', 'Professor Adjunto Convidado']\n",
        "cat_adjunto = ['Professor Adjunto']\n",
        "cat_assistente = ['Assistente do 2. Trienio', 'Assistente', 'Equiparado Assistente 2. Trienio']\n",
        "cat_monitor = ['Monitor']\n",
        "cat_quadro = cat_prof_coord + cat_adjunto\n",
        "cat_todas = cat_quadro + cat_convidado + cat_assistente + cat_monitor"
      ],
      "metadata": {
        "id": "wzavEGUX2Pew"
      },
      "execution_count": 25,
      "outputs": []
    },
    {
      "cell_type": "code",
      "source": [
        "# Dicionários com categorias de docentes e suas designações\n",
        "catgs = {'Coordenadores':cat_prof_coord, \n",
        "         'Adjuntos': cat_adjunto,\n",
        "         'Quadro': cat_quadro,\n",
        "         'Convidados': cat_convidado,\n",
        "         'ETIs': cat_todas,\n",
        "         'ETIs++': 'ETIs++'}\n",
        "inv_catgs = {tuple(v): k for k, v in catgs.items()}"
      ],
      "metadata": {
        "id": "Ax9OehgIRygL"
      },
      "execution_count": 26,
      "outputs": []
    },
    {
      "cell_type": "code",
      "source": [
        "# Horas de contacto usadas para determinar relações entre cursos e departamentos\n",
        "horas_per_curso = horas.sum(axis=1)\n",
        "pesos_dept_per_curso = horas.T / horas_per_curso\n",
        "\n",
        "# Alunos por departamento\n",
        "alunos_per_dept = pd.DataFrame(np.dot(pesos_dept_per_curso, alunos_per_curso),\n",
        "                              index=pesos_dept_per_curso.index, columns=['Alunos'])\n",
        "alunos_per_dept = alunos_per_dept['Alunos']\n",
        "alunos_per_dept.name = ''\n",
        "alunos_per_dept = alunos_per_dept.sort_index()"
      ],
      "metadata": {
        "id": "ztK7YjeuT75r"
      },
      "execution_count": 27,
      "outputs": []
    },
    {
      "cell_type": "code",
      "source": [
        "# Números globais\n",
        "alunos_per_eti_isel = alunos_per_curso.sum().sum() / docentes['ETI'].sum()\n",
        "eti_per_dept = docentes.groupby(['Departamento'])['ETI'].sum()"
      ],
      "metadata": {
        "id": "Sj3ZHMyv123k"
      },
      "execution_count": 28,
      "outputs": []
    },
    {
      "cell_type": "code",
      "source": [
        "# ETIs VIANA (Valor Ideal Atendendo ao Número de Alunos)\n",
        "viana = alunos_per_dept / alunos_per_eti_isel\n",
        "fana = viana - eti_per_dept"
      ],
      "metadata": {
        "id": "Xsuu-pqE1O1r"
      },
      "execution_count": 29,
      "outputs": []
    },
    {
      "cell_type": "markdown",
      "source": [
        "## Funções usadas nos anteriores notebooks "
      ],
      "metadata": {
        "id": "aDhoCFK6T9Bt"
      }
    },
    {
      "cell_type": "code",
      "source": [
        "# Filtragem de docentes atendendo à sua idade de aposentação \n",
        "def aposentados_e_ativos(df, ano, idade_reforma):\n",
        "  idade = (datetime(ano, 1, 1) - df['Data Nascimento'])/timedelta(days=365.25)\n",
        "  aposentados = df[idade > idade_reforma]\n",
        "  ativos = df.drop(index=aposentados.index)\n",
        "  return aposentados, ativos"
      ],
      "metadata": {
        "id": "l2mTrprr2S8p"
      },
      "execution_count": 30,
      "outputs": []
    },
    {
      "cell_type": "code",
      "source": [
        "# Filtragem de docentes atendendo à sua categoria\n",
        "def docentes_per_categoria(df, categoria):\n",
        "  s = df.groupby(['Departamento', 'Categoria'])['ETI'].sum()\n",
        "  s = s.loc[(slice(None), categoria)].droplevel(level=1)\n",
        "  s = s.groupby(s.index).sum()\n",
        "  s = pd.Series(s, index=LISTA_DEPTS)\n",
        "  return s.fillna(0)"
      ],
      "metadata": {
        "id": "ApJsbc5DUcfm"
      },
      "execution_count": 31,
      "outputs": []
    },
    {
      "cell_type": "markdown",
      "source": [
        "# Medição das desigualdades (coeficiente de Gini)\n",
        "\n",
        "$$G=\\frac{\\sum_{i=1}^n (2i-n-1)x_i}{n\\sum_{i=1}^n x_i}$$\n",
        "\n",
        "onde $\\{x_i\\}$ é o conjunto dos $n$ valores da distribuição, ordenados por ordem crescente ($i$ é o ranking de $x_i$)\n",
        "\n",
        "$$0 \\le G \\le 1$$\n",
        "$(G=0) \\Rightarrow$ **não há desigualdades** (valores da distribuição todos iguais)\n",
        "\n",
        "$(G \\approx 1) \\Rightarrow$ ***winner-takes-all*** (todos os valores a zero, exceto um)\n",
        "\n",
        "Fontes:\n",
        "*   [Statistical/Help - Gini Coefficient of Inequality](http://www.statsdirect.com/help/default.htm#nonparametric_methods/gini.htm)\n",
        "*   [GitHub - Olivia Guest](https://github.com/oliviaguest/gini)\n",
        "\n",
        "**Alternativa:** Usar definição de Entropia da Teoria de Informação, $E=-\\sum_{i=1}^n x_i log(x_i)$\n",
        "\n",
        "Neste caso, quanto maior é o valor da entropia, menores serão as desigualdades.\n"
      ],
      "metadata": {
        "id": "u42G1e8cuLWI"
      }
    },
    {
      "cell_type": "code",
      "source": [
        "# Função para calcular o coeficiente de Gini\n",
        "def gini(array):\n",
        "    array = array.flatten()\n",
        "    if np.amin(array) < 0:\n",
        "        array -= np.amin(array)\n",
        "    array += 0.0000001\n",
        "    array = np.sort(array)\n",
        "    index = np.arange(1,array.shape[0]+1)\n",
        "    n = array.shape[0]\n",
        "    return ((np.sum((2 * index - n  - 1) * array)) / (n * np.sum(array)))"
      ],
      "metadata": {
        "id": "8SG_X1jzuM2i"
      },
      "execution_count": 32,
      "outputs": []
    },
    {
      "cell_type": "markdown",
      "source": [
        "# Três métodos para fazer a distribuição"
      ],
      "metadata": {
        "id": "HSxvZNBj7SHX"
      }
    },
    {
      "cell_type": "code",
      "source": [
        "# Função auxiliar para determinar quanto falta para o target\n",
        "def how_many_to_target(target, numerator, denominator):\n",
        "  s = denominator * target - numerator\n",
        "  s.clip(lower=0, inplace=True)\n",
        "  return s"
      ],
      "metadata": {
        "id": "siOS9-9x5a2s"
      },
      "execution_count": 33,
      "outputs": []
    },
    {
      "cell_type": "code",
      "source": [
        "# METHOD 1 - Linear mapping\n",
        "def linear_map(target, cake, numerator, denominator):\n",
        "  s = how_many_to_target(target, numerator, denominator)\n",
        "  return s / s.sum() * cake"
      ],
      "metadata": {
        "id": "vjaZimoaNwkI"
      },
      "execution_count": 34,
      "outputs": []
    },
    {
      "cell_type": "code",
      "source": [
        "# METHOD 2 - D'Hondt\n",
        "def method_hondt(target, cake, numerator, denominator):\n",
        "  s = how_many_to_target(target, numerator, denominator)\n",
        "  list_of_series = [s/i for i in range(1, cake+1)]\n",
        "  df = pd.concat(list_of_series, axis=1)\n",
        "  vals = np.sort(np.ravel(df.to_numpy(copy=True)))[-1::-1]\n",
        "  df = df >= vals[cake-1]\n",
        "  return df.sum(axis=1)\n",
        "\n",
        "# METHOD 2a - D'Hondt\n",
        "def method_hondt_ordering(target, cake, numerator, denominator):\n",
        "  s = how_many_to_target(target, numerator, denominator)\n",
        "  list_of_series = [s/i for i in range(1, cake+1)]\n",
        "  df = pd.concat(list_of_series, axis=1)\n",
        "  vals = np.sort(np.ravel(df.to_numpy(copy=True)))[-1::-1]\n",
        "  df_ordering = pd.DataFrame(index=LISTA_DEPTS)\n",
        "  for i,v in enumerate(vals[:cake]):\n",
        "    ix = df[df==v].stack().index.get_level_values(0)\n",
        "    df_ordering.loc[ix, i+1] = 1\n",
        "  return df_ordering"
      ],
      "metadata": {
        "id": "VSNVnHCtNxF0"
      },
      "execution_count": 35,
      "outputs": []
    },
    {
      "cell_type": "code",
      "source": [
        "# METHOD 3 - One step iteration\n",
        "def step_by_step(cake, numerator, denominator):\n",
        "  df = pd.DataFrame(index=LISTA_DEPTS)\n",
        "  num = numerator.copy()\n",
        "  den = denominator.copy()\n",
        "  for i in range(cake):\n",
        "    ratio = num / den\n",
        "    ix = ratio.idxmin()\n",
        "    num[ix] += 1\n",
        "    df.loc[ix,i+1] = 1\n",
        "  return df"
      ],
      "metadata": {
        "id": "Le9GMZJiNw2_"
      },
      "execution_count": 36,
      "outputs": []
    },
    {
      "cell_type": "markdown",
      "source": [
        "# Exercício de comparação"
      ],
      "metadata": {
        "id": "704E0zY-N7TX"
      }
    },
    {
      "cell_type": "markdown",
      "source": [
        "## Funções de auxílio"
      ],
      "metadata": {
        "id": "d5dKkN09OStL"
      }
    },
    {
      "cell_type": "code",
      "source": [
        "# Mostrar resultados na forma de gráficos\n",
        "def show_results(num, den, s, df, bolo, target, ano, reforma, denominador, metodo):\n",
        "  fig, ax = plt.subplots(2, 2, figsize=(17,8))\n",
        "  fig.subplots_adjust(hspace=0.5)\n",
        "  title1 = f'Distribuição de {bolo} vagas - método {metodo}, '\n",
        "  title2 = ''\n",
        "  if metodo != 'step_by_step':\n",
        "    title2 += f'target= {target}, '\n",
        "  title3 = f'denominador={inv_catgs[tuple(denominador)]}, ano={ano}, idade_reforma={reforma}'\n",
        "  fig.suptitle(title1 + title2 + title3)\n",
        "\n",
        "  s.name=''\n",
        "  s.plot(kind='bar', ax=ax[0,0], table=np.round(s,1).to_frame().T, cmap='PuOr')\n",
        "  ax[0,0].set_title('Distribuição do bolo pelos departamentos')\n",
        "  ax[0,0].xaxis.set_visible(False)\n",
        "  if df is not None:\n",
        "    sns.heatmap(df, cbar=False, linewidths=2, linecolor='grey', ax=ax[0,1], cmap='PuOr')\n",
        "    ax[0,1].set_title('Ordenação da distribuição')\n",
        " \n",
        "  # Valores antes da distribuição\n",
        "  s1 = num/den\n",
        "  s1.name = ''\n",
        "  s1.plot(kind='bar', ax=ax[1,0], table=np.round(s1,2).to_frame().T)\n",
        "  ax[1,0].xaxis.set_visible(False)\n",
        "  ax[1,0].axhline(y=s1.mean(), linewidth=2, color='#d62728')\n",
        "  ax[1,0].set_title(f'Rácios antes da distribuição - Coef. Gini = {np.round(gini(s1.values),3)}')\n",
        "  # Valores depois da distribuição\n",
        "  s2 = (num+s)/den\n",
        "  s2.name = ''\n",
        "  s2.plot(kind='bar', ax=ax[1,1], table=np.round(s2,2).to_frame().T)\n",
        "  ax[1,1].xaxis.set_visible(False)\n",
        "  ax[1,1].axhline(y=s2.mean(), linewidth=2, color='#d62728')\n",
        "  ax[1,1].set_title(f'Rácios depois da distribuição - Coef. Gini = {np.round(gini(s2.values),3)}')\n",
        "\n",
        "  fig.savefig('temp_image.png')"
      ],
      "metadata": {
        "id": "reIqsuau89If"
      },
      "execution_count": 37,
      "outputs": []
    },
    {
      "cell_type": "code",
      "source": [
        "# Função chamada de forma interativa usando widgets\n",
        "def main_func(bolo=8, target=0.25, ano=2022, reforma=68, denominador='ETIs++', \n",
        "        metodo='hondt'):\n",
        "  _, ativos = aposentados_e_ativos(docentes, ano, reforma)\n",
        "  num = docentes_per_categoria(ativos, cat_prof_coord)\n",
        "  \n",
        "  if denominador != 'ETIs++':\n",
        "    den = docentes_per_categoria(ativos, denominador)\n",
        "  else:\n",
        "    den = docentes_per_categoria(ativos, cat_todas) + fana\n",
        "\n",
        "  if metodo == 'linear':\n",
        "    df = None\n",
        "    s = linear_map(target, bolo, num, den)\n",
        "  elif metodo == 'hondt':\n",
        "    df = method_hondt_ordering(target, bolo, num, den)\n",
        "    s = df.sum(axis=1)\n",
        "  elif metodo == 'step_by_step':\n",
        "    df = step_by_step(bolo, num, den)\n",
        "    s = df.sum(axis=1)\n",
        "  else: print('Erro: método inexistente')  \n",
        "  \n",
        "  show_results(num, den, s, df, bolo, target, ano, reforma, denominador, metodo)"
      ],
      "metadata": {
        "id": "atU7tgbfrbef"
      },
      "execution_count": 38,
      "outputs": []
    },
    {
      "cell_type": "markdown",
      "source": [
        "## Simulação interativa"
      ],
      "metadata": {
        "id": "4h_gmfiA-zzk"
      }
    },
    {
      "cell_type": "code",
      "source": [
        "# Simulação interativa\n",
        "interact(main_func, bolo=(4,26,1), target=(0.2,0.5,0.05), ano=(2022,2030,1), \n",
        "         reforma=(67,70,1), denominador={'ETIs':cat_todas, \n",
        "                                         'Quadro': cat_quadro, \n",
        "                                         'ETIs++': 'ETIs++'}, \n",
        "         metodo=['linear','hondt','step_by_step'])"
      ],
      "metadata": {
        "colab": {
          "base_uri": "https://localhost:8080/",
          "height": 756,
          "referenced_widgets": [
            "bd129d7f226b43f7973d0f8ecfbae5fc",
            "4325981a4bc74aba94b5fc9e3641132d",
            "8c2c1e6630ab4d68990f542912e66cf6",
            "887c31b554d24ef7894c60d299e2507d",
            "ae070e5f077645c490123bbf9c611223",
            "df2706c87b3b486cac6f10674373309e",
            "0633e881d79b4c059e7323b9f5bac0e1",
            "f8f35c1081fe4c948b4a3ce91099d680",
            "bc4ddac6c41c44e9b0f08733d21a9b14",
            "cee61a0aab8442cfb6f236814886591e",
            "f4f5dd4b4a034080ba0e9a72fc00d604",
            "2785cbe87c854eb19704ca44f3782d4d",
            "2c14129d3c4344cf95e541ecbda02163",
            "d7e879e420b642d089c8801ee0be9365",
            "0294e6e9fb6744339b2be7bdd6a87115",
            "980bdd0ebf9444ab8fa7ce0529974661",
            "d02f7c8406d04fae9f93691cae17779a",
            "ceb6e7ce81294001931a937a2897b391",
            "2a459709427d4487b776bdb80e930c1c",
            "fd370b4932ea4eeba33223dbf65be243",
            "51c8421133a74c3bbab4ea64f9abd64d",
            "2ce2ed047161472c92bd66563aaaf58e"
          ]
        },
        "id": "N27bjBuK7o13",
        "outputId": "25de61cb-b3db-482e-e2fe-f9d005df1508"
      },
      "execution_count": 39,
      "outputs": [
        {
          "output_type": "display_data",
          "data": {
            "application/vnd.jupyter.widget-view+json": {
              "model_id": "bd129d7f226b43f7973d0f8ecfbae5fc",
              "version_minor": 0,
              "version_major": 2
            },
            "text/plain": [
              "interactive(children=(IntSlider(value=8, description='bolo', max=26, min=4), FloatSlider(value=0.25, descripti…"
            ]
          },
          "metadata": {}
        },
        {
          "output_type": "execute_result",
          "data": {
            "text/plain": [
              "<function __main__.main_func>"
            ]
          },
          "metadata": {},
          "execution_count": 39
        }
      ]
    },
    {
      "cell_type": "code",
      "source": [
        "Image('temp_image.png')"
      ],
      "metadata": {
        "colab": {
          "base_uri": "https://localhost:8080/",
          "height": 593
        },
        "id": "qYXdwYI8OlD8",
        "outputId": "deb5352b-0999-494f-86ab-71e69c8458ba"
      },
      "execution_count": 40,
      "outputs": [
        {
          "output_type": "execute_result",
          "data": {
            "image/png": "[encoded data removed]",
            "text/plain": [
              "<IPython.core.display.Image object>"
            ]
          },
          "metadata": {},
          "execution_count": 40
        }
      ]
    }
  ]
}