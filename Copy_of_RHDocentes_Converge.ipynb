{
  "nbformat": 4,
  "nbformat_minor": 0,
  "metadata": {
    "colab": {
      "name": "Copy of RHDocentes_Converge.ipynb",
      "provenance": [],
      "toc_visible": true,
      "authorship_tag": "ABX9TyNmubYHEGPDUeMs+DFoM+xa",
      "include_colab_link": true
    },
    "kernelspec": {
      "name": "python3",
      "display_name": "Python 3"
    },
    "language_info": {
      "name": "python"
    },
    "widgets": {
      "application/vnd.jupyter.widget-state+json": {
        "abe5e5b2fbd94b6992372b6c990437bd": {
          "model_module": "@jupyter-widgets/controls",
          "model_name": "VBoxModel",
          "model_module_version": "1.5.0",
          "state": {
            "_view_name": "VBoxView",
            "_dom_classes": [
              "widget-interact"
            ],
            "_model_name": "VBoxModel",
            "_view_module": "@jupyter-widgets/controls",
            "_model_module_version": "1.5.0",
            "_view_count": null,
            "_view_module_version": "1.5.0",
            "box_style": "",
            "layout": "IPY_MODEL_003b7b36562a430c9c779498e1c29ed8",
            "_model_module": "@jupyter-widgets/controls",
            "children": [
              "IPY_MODEL_83cf127ce31240dfb71202784c82bd7f",
              "IPY_MODEL_cbb0ae23f5374737a860ee88e56deebb",
              "IPY_MODEL_561cc10d7b4a470490256ff501dfe878",
              "IPY_MODEL_6a8ff0df892d4d34b2d65ccfa61c32a8",
              "IPY_MODEL_65cc806e555947bb8383e591919369ae",
              "IPY_MODEL_bc134099c1eb4de297af884c8d38c75b",
              "IPY_MODEL_21bddbf7daaa4f9aa81137845f0b3a07"
            ]
          }
        },
        "003b7b36562a430c9c779498e1c29ed8": {
          "model_module": "@jupyter-widgets/base",
          "model_name": "LayoutModel",
          "model_module_version": "1.2.0",
          "state": {
            "_view_name": "LayoutView",
            "grid_template_rows": null,
            "right": null,
            "justify_content": null,
            "_view_module": "@jupyter-widgets/base",
            "overflow": null,
            "_model_module_version": "1.2.0",
            "_view_count": null,
            "flex_flow": null,
            "width": null,
            "min_width": null,
            "border": null,
            "align_items": null,
            "bottom": null,
            "_model_module": "@jupyter-widgets/base",
            "top": null,
            "grid_column": null,
            "overflow_y": null,
            "overflow_x": null,
            "grid_auto_flow": null,
            "grid_area": null,
            "grid_template_columns": null,
            "flex": null,
            "_model_name": "LayoutModel",
            "justify_items": null,
            "grid_row": null,
            "max_height": null,
            "align_content": null,
            "visibility": null,
            "align_self": null,
            "height": null,
            "min_height": null,
            "padding": null,
            "grid_auto_rows": null,
            "grid_gap": null,
            "max_width": null,
            "order": null,
            "_view_module_version": "1.2.0",
            "grid_template_areas": null,
            "object_position": null,
            "object_fit": null,
            "grid_auto_columns": null,
            "margin": null,
            "display": null,
            "left": null
          }
        },
        "83cf127ce31240dfb71202784c82bd7f": {
          "model_module": "@jupyter-widgets/controls",
          "model_name": "IntSliderModel",
          "model_module_version": "1.5.0",
          "state": {
            "_view_name": "IntSliderView",
            "style": "IPY_MODEL_86cec809ec4f48d982b7a43f3b329da0",
            "_dom_classes": [],
            "description": "cake",
            "step": 2,
            "_model_name": "IntSliderModel",
            "orientation": "horizontal",
            "max": 26,
            "_view_module": "@jupyter-widgets/controls",
            "_model_module_version": "1.5.0",
            "value": 6,
            "_view_count": null,
            "disabled": false,
            "_view_module_version": "1.5.0",
            "min": 2,
            "continuous_update": true,
            "readout_format": "d",
            "description_tooltip": null,
            "readout": true,
            "_model_module": "@jupyter-widgets/controls",
            "layout": "IPY_MODEL_5eecd71c660241fc8b40da5954eba6e9"
          }
        },
        "cbb0ae23f5374737a860ee88e56deebb": {
          "model_module": "@jupyter-widgets/controls",
          "model_name": "FloatSliderModel",
          "model_module_version": "1.5.0",
          "state": {
            "_view_name": "FloatSliderView",
            "style": "IPY_MODEL_efe42fa43c4e4b4089ed64ef45409672",
            "_dom_classes": [],
            "description": "target",
            "step": 0.05,
            "_model_name": "FloatSliderModel",
            "orientation": "horizontal",
            "max": 0.5,
            "_view_module": "@jupyter-widgets/controls",
            "_model_module_version": "1.5.0",
            "value": 0.25,
            "_view_count": null,
            "disabled": false,
            "_view_module_version": "1.5.0",
            "min": 0.2,
            "continuous_update": true,
            "readout_format": ".2f",
            "description_tooltip": null,
            "readout": true,
            "_model_module": "@jupyter-widgets/controls",
            "layout": "IPY_MODEL_cdbaa14c68854f40b3c6b98d9a5fe1b5"
          }
        },
        "561cc10d7b4a470490256ff501dfe878": {
          "model_module": "@jupyter-widgets/controls",
          "model_name": "IntSliderModel",
          "model_module_version": "1.5.0",
          "state": {
            "_view_name": "IntSliderView",
            "style": "IPY_MODEL_9b2ea6b953054776aa431ff79de825ec",
            "_dom_classes": [],
            "description": "ano",
            "step": 1,
            "_model_name": "IntSliderModel",
            "orientation": "horizontal",
            "max": 2030,
            "_view_module": "@jupyter-widgets/controls",
            "_model_module_version": "1.5.0",
            "value": 2022,
            "_view_count": null,
            "disabled": false,
            "_view_module_version": "1.5.0",
            "min": 2022,
            "continuous_update": true,
            "readout_format": "d",
            "description_tooltip": null,
            "readout": true,
            "_model_module": "@jupyter-widgets/controls",
            "layout": "IPY_MODEL_d79da0fdd7e9472e8e2b284bc92f705e"
          }
        },
        "6a8ff0df892d4d34b2d65ccfa61c32a8": {
          "model_module": "@jupyter-widgets/controls",
          "model_name": "IntSliderModel",
          "model_module_version": "1.5.0",
          "state": {
            "_view_name": "IntSliderView",
            "style": "IPY_MODEL_11a03320650e465d9a8f9c309375ed2d",
            "_dom_classes": [],
            "description": "reforma",
            "step": 1,
            "_model_name": "IntSliderModel",
            "orientation": "horizontal",
            "max": 70,
            "_view_module": "@jupyter-widgets/controls",
            "_model_module_version": "1.5.0",
            "value": 70,
            "_view_count": null,
            "disabled": false,
            "_view_module_version": "1.5.0",
            "min": 67,
            "continuous_update": true,
            "readout_format": "d",
            "description_tooltip": null,
            "readout": true,
            "_model_module": "@jupyter-widgets/controls",
            "layout": "IPY_MODEL_5bbe5da614c844ecb09db92b95e66161"
          }
        },
        "65cc806e555947bb8383e591919369ae": {
          "model_module": "@jupyter-widgets/controls",
          "model_name": "CheckboxModel",
          "model_module_version": "1.5.0",
          "state": {
            "_view_name": "CheckboxView",
            "style": "IPY_MODEL_4937437c6f654460a6056390f2ee6b2b",
            "_dom_classes": [],
            "description": "corrige_fana",
            "_model_name": "CheckboxModel",
            "_view_module": "@jupyter-widgets/controls",
            "_model_module_version": "1.5.0",
            "value": true,
            "_view_count": null,
            "disabled": false,
            "_view_module_version": "1.5.0",
            "indent": true,
            "description_tooltip": null,
            "_model_module": "@jupyter-widgets/controls",
            "layout": "IPY_MODEL_4d2be1f08af7437d97461d90345e4248"
          }
        },
        "bc134099c1eb4de297af884c8d38c75b": {
          "model_module": "@jupyter-widgets/controls",
          "model_name": "DropdownModel",
          "model_module_version": "1.5.0",
          "state": {
            "_options_labels": [
              "linear",
              "hondt",
              "step_by_step"
            ],
            "_view_name": "DropdownView",
            "style": "IPY_MODEL_adc41f65c10642e0ac1ff54c32a39073",
            "_dom_classes": [],
            "description": "method",
            "_model_name": "DropdownModel",
            "index": 1,
            "_view_module": "@jupyter-widgets/controls",
            "_model_module_version": "1.5.0",
            "_view_count": null,
            "disabled": false,
            "_view_module_version": "1.5.0",
            "description_tooltip": null,
            "_model_module": "@jupyter-widgets/controls",
            "layout": "IPY_MODEL_7613a47520da44e8bda9505d2f9b8e5d"
          }
        },
        "21bddbf7daaa4f9aa81137845f0b3a07": {
          "model_module": "@jupyter-widgets/output",
          "model_name": "OutputModel",
          "model_module_version": "1.0.0",
          "state": {
            "_view_name": "OutputView",
            "msg_id": "",
            "_dom_classes": [],
            "_model_name": "OutputModel",
            "outputs": [
              {
                "output_type": "stream",
                "name": "stdout",
                "text": [
                  "[15.0482451   7.52412255  5.24201883  5.0160817   3.76206128  3.62460191]\n",
                  "         ETI    ETI    ETI    ETI    ETI    ETI\n",
                  "DEC    False  False  False  False  False  False\n",
                  "DEEEA  False  False  False  False  False  False\n",
                  "DEETC   True   True   True   True  False  False\n",
                  "DEM     True  False  False  False  False  False\n",
                  "DEQ    False  False  False  False  False  False\n",
                  "DF     False  False  False  False  False  False\n",
                  "DM      True  False  False  False  False  False\n"
                ]
              },
              {
                "output_type": "display_data",
                "data": {
                  "image/png": "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\n",
                  "text/plain": "<Figure size 864x360 with 1 Axes>"
                },
                "metadata": {
                  "needs_background": "light"
                }
              }
            ],
            "_view_module": "@jupyter-widgets/output",
            "_model_module_version": "1.0.0",
            "_view_count": null,
            "_view_module_version": "1.0.0",
            "layout": "IPY_MODEL_75b7b45adb0a47cb932ae3be52e9b3d1",
            "_model_module": "@jupyter-widgets/output"
          }
        },
        "86cec809ec4f48d982b7a43f3b329da0": {
          "model_module": "@jupyter-widgets/controls",
          "model_name": "SliderStyleModel",
          "model_module_version": "1.5.0",
          "state": {
            "_view_name": "StyleView",
            "handle_color": null,
            "_model_name": "SliderStyleModel",
            "description_width": "",
            "_view_module": "@jupyter-widgets/base",
            "_model_module_version": "1.5.0",
            "_view_count": null,
            "_view_module_version": "1.2.0",
            "_model_module": "@jupyter-widgets/controls"
          }
        },
        "5eecd71c660241fc8b40da5954eba6e9": {
          "model_module": "@jupyter-widgets/base",
          "model_name": "LayoutModel",
          "model_module_version": "1.2.0",
          "state": {
            "_view_name": "LayoutView",
            "grid_template_rows": null,
            "right": null,
            "justify_content": null,
            "_view_module": "@jupyter-widgets/base",
            "overflow": null,
            "_model_module_version": "1.2.0",
            "_view_count": null,
            "flex_flow": null,
            "width": null,
            "min_width": null,
            "border": null,
            "align_items": null,
            "bottom": null,
            "_model_module": "@jupyter-widgets/base",
            "top": null,
            "grid_column": null,
            "overflow_y": null,
            "overflow_x": null,
            "grid_auto_flow": null,
            "grid_area": null,
            "grid_template_columns": null,
            "flex": null,
            "_model_name": "LayoutModel",
            "justify_items": null,
            "grid_row": null,
            "max_height": null,
            "align_content": null,
            "visibility": null,
            "align_self": null,
            "height": null,
            "min_height": null,
            "padding": null,
            "grid_auto_rows": null,
            "grid_gap": null,
            "max_width": null,
            "order": null,
            "_view_module_version": "1.2.0",
            "grid_template_areas": null,
            "object_position": null,
            "object_fit": null,
            "grid_auto_columns": null,
            "margin": null,
            "display": null,
            "left": null
          }
        },
        "efe42fa43c4e4b4089ed64ef45409672": {
          "model_module": "@jupyter-widgets/controls",
          "model_name": "SliderStyleModel",
          "model_module_version": "1.5.0",
          "state": {
            "_view_name": "StyleView",
            "handle_color": null,
            "_model_name": "SliderStyleModel",
            "description_width": "",
            "_view_module": "@jupyter-widgets/base",
            "_model_module_version": "1.5.0",
            "_view_count": null,
            "_view_module_version": "1.2.0",
            "_model_module": "@jupyter-widgets/controls"
          }
        },
        "cdbaa14c68854f40b3c6b98d9a5fe1b5": {
          "model_module": "@jupyter-widgets/base",
          "model_name": "LayoutModel",
          "model_module_version": "1.2.0",
          "state": {
            "_view_name": "LayoutView",
            "grid_template_rows": null,
            "right": null,
            "justify_content": null,
            "_view_module": "@jupyter-widgets/base",
            "overflow": null,
            "_model_module_version": "1.2.0",
            "_view_count": null,
            "flex_flow": null,
            "width": null,
            "min_width": null,
            "border": null,
            "align_items": null,
            "bottom": null,
            "_model_module": "@jupyter-widgets/base",
            "top": null,
            "grid_column": null,
            "overflow_y": null,
            "overflow_x": null,
            "grid_auto_flow": null,
            "grid_area": null,
            "grid_template_columns": null,
            "flex": null,
            "_model_name": "LayoutModel",
            "justify_items": null,
            "grid_row": null,
            "max_height": null,
            "align_content": null,
            "visibility": null,
            "align_self": null,
            "height": null,
            "min_height": null,
            "padding": null,
            "grid_auto_rows": null,
            "grid_gap": null,
            "max_width": null,
            "order": null,
            "_view_module_version": "1.2.0",
            "grid_template_areas": null,
            "object_position": null,
            "object_fit": null,
            "grid_auto_columns": null,
            "margin": null,
            "display": null,
            "left": null
          }
        },
        "9b2ea6b953054776aa431ff79de825ec": {
          "model_module": "@jupyter-widgets/controls",
          "model_name": "SliderStyleModel",
          "model_module_version": "1.5.0",
          "state": {
            "_view_name": "StyleView",
            "handle_color": null,
            "_model_name": "SliderStyleModel",
            "description_width": "",
            "_view_module": "@jupyter-widgets/base",
            "_model_module_version": "1.5.0",
            "_view_count": null,
            "_view_module_version": "1.2.0",
            "_model_module": "@jupyter-widgets/controls"
          }
        },
        "d79da0fdd7e9472e8e2b284bc92f705e": {
          "model_module": "@jupyter-widgets/base",
          "model_name": "LayoutModel",
          "model_module_version": "1.2.0",
          "state": {
            "_view_name": "LayoutView",
            "grid_template_rows": null,
            "right": null,
            "justify_content": null,
            "_view_module": "@jupyter-widgets/base",
            "overflow": null,
            "_model_module_version": "1.2.0",
            "_view_count": null,
            "flex_flow": null,
            "width": null,
            "min_width": null,
            "border": null,
            "align_items": null,
            "bottom": null,
            "_model_module": "@jupyter-widgets/base",
            "top": null,
            "grid_column": null,
            "overflow_y": null,
            "overflow_x": null,
            "grid_auto_flow": null,
            "grid_area": null,
            "grid_template_columns": null,
            "flex": null,
            "_model_name": "LayoutModel",
            "justify_items": null,
            "grid_row": null,
            "max_height": null,
            "align_content": null,
            "visibility": null,
            "align_self": null,
            "height": null,
            "min_height": null,
            "padding": null,
            "grid_auto_rows": null,
            "grid_gap": null,
            "max_width": null,
            "order": null,
            "_view_module_version": "1.2.0",
            "grid_template_areas": null,
            "object_position": null,
            "object_fit": null,
            "grid_auto_columns": null,
            "margin": null,
            "display": null,
            "left": null
          }
        },
        "11a03320650e465d9a8f9c309375ed2d": {
          "model_module": "@jupyter-widgets/controls",
          "model_name": "SliderStyleModel",
          "model_module_version": "1.5.0",
          "state": {
            "_view_name": "StyleView",
            "handle_color": null,
            "_model_name": "SliderStyleModel",
            "description_width": "",
            "_view_module": "@jupyter-widgets/base",
            "_model_module_version": "1.5.0",
            "_view_count": null,
            "_view_module_version": "1.2.0",
            "_model_module": "@jupyter-widgets/controls"
          }
        },
        "5bbe5da614c844ecb09db92b95e66161": {
          "model_module": "@jupyter-widgets/base",
          "model_name": "LayoutModel",
          "model_module_version": "1.2.0",
          "state": {
            "_view_name": "LayoutView",
            "grid_template_rows": null,
            "right": null,
            "justify_content": null,
            "_view_module": "@jupyter-widgets/base",
            "overflow": null,
            "_model_module_version": "1.2.0",
            "_view_count": null,
            "flex_flow": null,
            "width": null,
            "min_width": null,
            "border": null,
            "align_items": null,
            "bottom": null,
            "_model_module": "@jupyter-widgets/base",
            "top": null,
            "grid_column": null,
            "overflow_y": null,
            "overflow_x": null,
            "grid_auto_flow": null,
            "grid_area": null,
            "grid_template_columns": null,
            "flex": null,
            "_model_name": "LayoutModel",
            "justify_items": null,
            "grid_row": null,
            "max_height": null,
            "align_content": null,
            "visibility": null,
            "align_self": null,
            "height": null,
            "min_height": null,
            "padding": null,
            "grid_auto_rows": null,
            "grid_gap": null,
            "max_width": null,
            "order": null,
            "_view_module_version": "1.2.0",
            "grid_template_areas": null,
            "object_position": null,
            "object_fit": null,
            "grid_auto_columns": null,
            "margin": null,
            "display": null,
            "left": null
          }
        },
        "4937437c6f654460a6056390f2ee6b2b": {
          "model_module": "@jupyter-widgets/controls",
          "model_name": "DescriptionStyleModel",
          "model_module_version": "1.5.0",
          "state": {
            "_view_name": "StyleView",
            "_model_name": "DescriptionStyleModel",
            "description_width": "",
            "_view_module": "@jupyter-widgets/base",
            "_model_module_version": "1.5.0",
            "_view_count": null,
            "_view_module_version": "1.2.0",
            "_model_module": "@jupyter-widgets/controls"
          }
        },
        "4d2be1f08af7437d97461d90345e4248": {
          "model_module": "@jupyter-widgets/base",
          "model_name": "LayoutModel",
          "model_module_version": "1.2.0",
          "state": {
            "_view_name": "LayoutView",
            "grid_template_rows": null,
            "right": null,
            "justify_content": null,
            "_view_module": "@jupyter-widgets/base",
            "overflow": null,
            "_model_module_version": "1.2.0",
            "_view_count": null,
            "flex_flow": null,
            "width": null,
            "min_width": null,
            "border": null,
            "align_items": null,
            "bottom": null,
            "_model_module": "@jupyter-widgets/base",
            "top": null,
            "grid_column": null,
            "overflow_y": null,
            "overflow_x": null,
            "grid_auto_flow": null,
            "grid_area": null,
            "grid_template_columns": null,
            "flex": null,
            "_model_name": "LayoutModel",
            "justify_items": null,
            "grid_row": null,
            "max_height": null,
            "align_content": null,
            "visibility": null,
            "align_self": null,
            "height": null,
            "min_height": null,
            "padding": null,
            "grid_auto_rows": null,
            "grid_gap": null,
            "max_width": null,
            "order": null,
            "_view_module_version": "1.2.0",
            "grid_template_areas": null,
            "object_position": null,
            "object_fit": null,
            "grid_auto_columns": null,
            "margin": null,
            "display": null,
            "left": null
          }
        },
        "adc41f65c10642e0ac1ff54c32a39073": {
          "model_module": "@jupyter-widgets/controls",
          "model_name": "DescriptionStyleModel",
          "model_module_version": "1.5.0",
          "state": {
            "_view_name": "StyleView",
            "_model_name": "DescriptionStyleModel",
            "description_width": "",
            "_view_module": "@jupyter-widgets/base",
            "_model_module_version": "1.5.0",
            "_view_count": null,
            "_view_module_version": "1.2.0",
            "_model_module": "@jupyter-widgets/controls"
          }
        },
        "7613a47520da44e8bda9505d2f9b8e5d": {
          "model_module": "@jupyter-widgets/base",
          "model_name": "LayoutModel",
          "model_module_version": "1.2.0",
          "state": {
            "_view_name": "LayoutView",
            "grid_template_rows": null,
            "right": null,
            "justify_content": null,
            "_view_module": "@jupyter-widgets/base",
            "overflow": null,
            "_model_module_version": "1.2.0",
            "_view_count": null,
            "flex_flow": null,
            "width": null,
            "min_width": null,
            "border": null,
            "align_items": null,
            "bottom": null,
            "_model_module": "@jupyter-widgets/base",
            "top": null,
            "grid_column": null,
            "overflow_y": null,
            "overflow_x": null,
            "grid_auto_flow": null,
            "grid_area": null,
            "grid_template_columns": null,
            "flex": null,
            "_model_name": "LayoutModel",
            "justify_items": null,
            "grid_row": null,
            "max_height": null,
            "align_content": null,
            "visibility": null,
            "align_self": null,
            "height": null,
            "min_height": null,
            "padding": null,
            "grid_auto_rows": null,
            "grid_gap": null,
            "max_width": null,
            "order": null,
            "_view_module_version": "1.2.0",
            "grid_template_areas": null,
            "object_position": null,
            "object_fit": null,
            "grid_auto_columns": null,
            "margin": null,
            "display": null,
            "left": null
          }
        },
        "75b7b45adb0a47cb932ae3be52e9b3d1": {
          "model_module": "@jupyter-widgets/base",
          "model_name": "LayoutModel",
          "model_module_version": "1.2.0",
          "state": {
            "_view_name": "LayoutView",
            "grid_template_rows": null,
            "right": null,
            "justify_content": null,
            "_view_module": "@jupyter-widgets/base",
            "overflow": null,
            "_model_module_version": "1.2.0",
            "_view_count": null,
            "flex_flow": null,
            "width": null,
            "min_width": null,
            "border": null,
            "align_items": null,
            "bottom": null,
            "_model_module": "@jupyter-widgets/base",
            "top": null,
            "grid_column": null,
            "overflow_y": null,
            "overflow_x": null,
            "grid_auto_flow": null,
            "grid_area": null,
            "grid_template_columns": null,
            "flex": null,
            "_model_name": "LayoutModel",
            "justify_items": null,
            "grid_row": null,
            "max_height": null,
            "align_content": null,
            "visibility": null,
            "align_self": null,
            "height": null,
            "min_height": null,
            "padding": null,
            "grid_auto_rows": null,
            "grid_gap": null,
            "max_width": null,
            "order": null,
            "_view_module_version": "1.2.0",
            "grid_template_areas": null,
            "object_position": null,
            "object_fit": null,
            "grid_auto_columns": null,
            "margin": null,
            "display": null,
            "left": null
          }
        }
      }
    }
  },
  "cells": [
    {
      "cell_type": "markdown",
      "metadata": {
        "id": "view-in-github",
        "colab_type": "text"
      },
      "source": [
        "<a href=\"https://colab.research.google.com/github/arjoca/RHDocentes/blob/main/Copy_of_RHDocentes_Converge.ipynb\" target=\"_parent\"><img src=\"https://colab.research.google.com/assets/colab-badge.svg\" alt=\"Open In Colab\"/></a>"
      ]
    },
    {
      "cell_type": "markdown",
      "source": [
        "# RHDocentes - fevereiro 2022\n",
        "\n",
        "**Notebook 3** - Convergência (Correção das assimetrias)\n",
        "\n",
        "![logo_isel.png](data:image/png;base64,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)\n",
        "\n",
        "Estudo organizado em 3 notebooks:\n",
        "*   [O primeiro](https://github.com/arjoca/RHDocentes/blob/main/RHDocentes_Fotografia.ipynb) - Fotografia do ISEL hoje (Assimetrias) \n",
        "*   [O anterior](https://github.com/arjoca/RHDocentes/blob/main/RHDocentes_Futuro.ipynb) - Olhar para o Futuro (Dinâmica de aposentações)\n",
        "*   **Este notebook** - Convergência (Correção das assimetrias)"
      ],
      "metadata": {
        "id": "tmkGz0DyDc2J"
      }
    },
    {
      "cell_type": "markdown",
      "source": [
        "# Fontes de informação\n",
        "\n",
        "*   Ficheiro \"Afetacao_Financeira_ADs_Cursos_2021_v01.xlsx\"\n",
        "*   Ficheiro \"RAIDES_0.xlsx\"\n",
        "\n",
        "Informação que depois de filtrada e anonimizada deu origem aos dados guardados no ficheiro [clean_data.xlsx](https://github.com/arjoca/RHDocentes/blob/main/clean_data.xlsx), usados neste estudo."
      ],
      "metadata": {
        "id": "D--VSWG109MQ"
      }
    },
    {
      "cell_type": "markdown",
      "source": [
        "# Preparação"
      ],
      "metadata": {
        "id": "25yEfwrF1hQd"
      }
    },
    {
      "cell_type": "markdown",
      "source": [
        "## Importação de módulos e leitura de dados"
      ],
      "metadata": {
        "id": "_baJCALaUHhc"
      }
    },
    {
      "cell_type": "code",
      "source": [
        "# Instalação de módulos\n",
        "!pip install kora -q\n",
        "!pip install -U kaleido"
      ],
      "metadata": {
        "id": "WbMde719TXix",
        "colab": {
          "base_uri": "https://localhost:8080/"
        },
        "outputId": "bcc81224-8e06-45a8-dca9-4489495b35c8"
      },
      "execution_count": 1,
      "outputs": [
        {
          "output_type": "stream",
          "name": "stdout",
          "text": [
            "\u001b[?25l\r\u001b[K     |█████▊                          | 10 kB 16.8 MB/s eta 0:00:01\r\u001b[K     |███████████▍                    | 20 kB 16.5 MB/s eta 0:00:01\r\u001b[K     |█████████████████               | 30 kB 10.5 MB/s eta 0:00:01\r\u001b[K     |██████████████████████▊         | 40 kB 8.7 MB/s eta 0:00:01\r\u001b[K     |████████████████████████████▍   | 51 kB 4.0 MB/s eta 0:00:01\r\u001b[K     |████████████████████████████████| 57 kB 2.4 MB/s \n",
            "\u001b[K     |████████████████████████████████| 56 kB 3.4 MB/s \n",
            "\u001b[?25hCollecting kaleido\n",
            "  Downloading kaleido-0.2.1-py2.py3-none-manylinux1_x86_64.whl (79.9 MB)\n",
            "\u001b[K     |████████████████████████████████| 79.9 MB 102 kB/s \n",
            "\u001b[?25hInstalling collected packages: kaleido\n",
            "Successfully installed kaleido-0.2.1\n"
          ]
        }
      ]
    },
    {
      "cell_type": "code",
      "source": [
        "# Importação de módulos\n",
        "import numpy as np\n",
        "import pandas as pd\n",
        "import matplotlib.pyplot as plt\n",
        "from datetime import datetime, timedelta\n",
        "from ipywidgets import widgets, interact, fixed\n",
        "from IPython.display import Image"
      ],
      "metadata": {
        "id": "UF6cJzSF0xSB"
      },
      "execution_count": 2,
      "outputs": []
    },
    {
      "cell_type": "code",
      "source": [
        "# Leitura de dados\n",
        "base_url = 'https://raw.githubusercontent.com/arjoca/RHDocentes/main/data/'\n",
        "docentes = pd.read_csv(base_url + 'docentes.csv', encoding= 'unicode_escape', \n",
        "                       parse_dates=['Data Nascimento'], infer_datetime_format=True)\n",
        "alunos_per_curso = pd.read_csv(base_url + 'alunos.csv', encoding= 'unicode_escape', index_col=0)\n",
        "horas = pd.read_csv(base_url + 'horas.csv', encoding= 'unicode_escape', index_col=0)"
      ],
      "metadata": {
        "id": "ptxmB1t613TV"
      },
      "execution_count": 3,
      "outputs": []
    },
    {
      "cell_type": "markdown",
      "source": [
        "## Inicializações"
      ],
      "metadata": {
        "id": "p65zNlZgUTeG"
      }
    },
    {
      "cell_type": "code",
      "source": [
        "# Designações dos cursos e departamentos\n",
        "LISTA_DEPTS = sorted(docentes['Departamento'].unique())\n",
        "LISTA_CURSOS = sorted(alunos_per_curso.index.unique())"
      ],
      "metadata": {
        "id": "w3ylNnDC-kXi"
      },
      "execution_count": 4,
      "outputs": []
    },
    {
      "cell_type": "code",
      "source": [
        "# Designações das categorias de docentes\n",
        "cat_prof_coord = ['Prof. Coordenador', 'Prof. Coordenador c/ Agreg. ', 'Professor Coordenador Principal']\n",
        "cat_convidado = ['Assistente Convidado', 'Professor Adjunto Convidado']\n",
        "cat_adjunto = ['Professor Adjunto']\n",
        "cat_assistente = ['Assistente do 2. Trienio', 'Assistente', 'Equiparado Assistente 2. Trienio']\n",
        "cat_monitor = ['Monitor']\n",
        "cat_quadro = cat_prof_coord + cat_adjunto\n",
        "cat_todas = cat_quadro + cat_convidado + cat_assistente + cat_monitor"
      ],
      "metadata": {
        "id": "wzavEGUX2Pew"
      },
      "execution_count": 5,
      "outputs": []
    },
    {
      "cell_type": "code",
      "source": [
        "# Horas de contacto usadas para determinar relações entre cursos e departamentos\n",
        "horas_per_curso = horas.sum(axis=1)\n",
        "pesos_dept_per_curso = horas.T / horas_per_curso\n",
        "\n",
        "# Alunos por departamento\n",
        "alunos_per_dept = pd.DataFrame(np.dot(pesos_dept_per_curso, alunos_per_curso),\n",
        "                              index=pesos_dept_per_curso.index, columns=['Alunos'])\n",
        "alunos_per_dept = alunos_per_dept['Alunos']\n",
        "alunos_per_dept.name = ''\n",
        "alunos_per_dept = alunos_per_dept.sort_index()"
      ],
      "metadata": {
        "id": "ztK7YjeuT75r"
      },
      "execution_count": 6,
      "outputs": []
    },
    {
      "cell_type": "code",
      "source": [
        "# Números globais\n",
        "alunos_per_eti_isel = alunos_per_curso.sum().sum() / docentes['ETI'].sum()\n",
        "eti_per_dept = docentes.groupby(['Departamento'])['ETI'].sum()"
      ],
      "metadata": {
        "id": "Sj3ZHMyv123k"
      },
      "execution_count": 7,
      "outputs": []
    },
    {
      "cell_type": "code",
      "source": [
        "# VIANA (Valor Ideal Atendendo ao Número de Alunos)\n",
        "viana = alunos_per_dept / alunos_per_eti_isel\n",
        "fana = viana - eti_per_dept"
      ],
      "metadata": {
        "id": "Xsuu-pqE1O1r"
      },
      "execution_count": 8,
      "outputs": []
    },
    {
      "cell_type": "markdown",
      "source": [
        "## Definição de funções"
      ],
      "metadata": {
        "id": "aDhoCFK6T9Bt"
      }
    },
    {
      "cell_type": "code",
      "source": [
        "# Filtragem de docentes atendendo à sua idade de aposentação \n",
        "def aposentados_e_ativos(df, ano, idade_reforma):\n",
        "  idade = (datetime(ano, 1, 1) - df['Data Nascimento'])/timedelta(days=365.25)\n",
        "  aposentados = df[idade > idade_reforma]\n",
        "  ativos = df.drop(index=aposentados.index)\n",
        "  return aposentados, ativos"
      ],
      "metadata": {
        "id": "l2mTrprr2S8p"
      },
      "execution_count": 9,
      "outputs": []
    },
    {
      "cell_type": "code",
      "source": [
        "# Filtragem de docentes atendendo à sua categoria\n",
        "def docentes_per_categoria(df, categoria):\n",
        "  s = df.groupby(['Departamento', 'Categoria'])['ETI'].sum()\n",
        "  s = s.loc[(slice(None), categoria)].droplevel(level=1)\n",
        "  s = s.groupby(s.index).sum()\n",
        "  s = pd.Series(s, index=LISTA_DEPTS)\n",
        "  return s.fillna(0)"
      ],
      "metadata": {
        "id": "ApJsbc5DUcfm"
      },
      "execution_count": 10,
      "outputs": []
    },
    {
      "cell_type": "markdown",
      "source": [
        "# Correção de assimetrias"
      ],
      "metadata": {
        "id": "zrt_O1rK67aW"
      }
    },
    {
      "cell_type": "markdown",
      "source": [
        "## Bolo a distribuir"
      ],
      "metadata": {
        "id": "r2b3od_X7idV"
      }
    },
    {
      "cell_type": "markdown",
      "source": [
        "## Três métodos de distribuição"
      ],
      "metadata": {
        "id": "HSxvZNBj7SHX"
      }
    },
    {
      "cell_type": "code",
      "source": [
        "# Função auxiliar para determinar quanto falta para o target\n",
        "def how_many_to_target(target, numerator, denominator):\n",
        "  s = denominator * target - numerator\n",
        "  s.clip(lower=0, inplace=True)\n",
        "  return s"
      ],
      "metadata": {
        "id": "siOS9-9x5a2s"
      },
      "execution_count": 11,
      "outputs": []
    },
    {
      "cell_type": "code",
      "source": [
        "# METHOD 1 - Linear mapping\n",
        "def linear_map(target, cake, numerator, denominator):\n",
        "  s = how_many_to_target(target, numerator, denominator)\n",
        "  return s / s.sum() * cake "
      ],
      "metadata": {
        "id": "-eTluZTq5NYy"
      },
      "execution_count": 12,
      "outputs": []
    },
    {
      "cell_type": "code",
      "source": [
        "# METHOD 2 - D'Hondt\n",
        "def method_hondt(target, cake, numerator, denominator):\n",
        "  s = how_many_to_target(target, numerator, denominator)\n",
        "  list_of_series = [s/i for i in range(1, cake+1)]\n",
        "  df = pd.concat(list_of_series, axis=1)\n",
        "  vals = np.sort(np.ravel(df.to_numpy(copy=True)))[-1::-1]\n",
        "  print(vals[:cake])\n",
        "  df = df >= vals[cake-1]\n",
        "  print(df)\n",
        "  return df.sum(axis=1)"
      ],
      "metadata": {
        "id": "8RvZyNmh5gTd"
      },
      "execution_count": 52,
      "outputs": []
    },
    {
      "cell_type": "code",
      "source": [
        "# METHOD 3 - One step iteration\n",
        "def step_by_step(cake, numerator, denominator):\n",
        "  vagas = {k : [] for k in LISTA_DEPTS}\n",
        "  num = numerator\n",
        "  den = denominator\n",
        "  s = pd.Series(data=0, index=LISTA_DEPTS)\n",
        "  for i in range(cake):\n",
        "    ratio = num / den\n",
        "    ix = ratio.idxmin()\n",
        "    s[ix] += 1\n",
        "    num[ix] += 1\n",
        "    vagas[ix].append(i+1)\n",
        "  print(vagas)\n",
        "  return s"
      ],
      "metadata": {
        "id": "xIWTVo915jfy"
      },
      "execution_count": 26,
      "outputs": []
    },
    {
      "cell_type": "code",
      "source": [
        "{k : [] for k in LISTA_DEPTS}"
      ],
      "metadata": {
        "colab": {
          "base_uri": "https://localhost:8080/"
        },
        "id": "l5nU-u9pEWeM",
        "outputId": "ea1985f0-d641-4049-bca6-76dac4d46d1c"
      },
      "execution_count": 22,
      "outputs": [
        {
          "output_type": "execute_result",
          "data": {
            "text/plain": [
              "{'DEC': [], 'DEEEA': [], 'DEETC': [], 'DEM': [], 'DEQ': [], 'DF': [], 'DM': []}"
            ]
          },
          "metadata": {},
          "execution_count": 22
        }
      ]
    },
    {
      "cell_type": "markdown",
      "source": [
        "## Simulação"
      ],
      "metadata": {
        "id": "4h_gmfiA-zzk"
      }
    },
    {
      "cell_type": "code",
      "source": [
        "@interact(cake=(2,26,2), target=(0.2,0.5,0.05), ano=(2022,2030,1), \n",
        "          reforma=(67,70,1), corrige_fana=True, method=['linear','hondt','step_by_step'])\n",
        "def fun(cake=16, target=0.25, ano=2022, reforma=70, corrige_fana=True, method='linear'):\n",
        "  _, ativos = aposentados_e_ativos(docentes, ano, reforma)\n",
        "  numerator = docentes_per_categoria(ativos, cat_prof_coord)\n",
        "  denominator = docentes_per_categoria(ativos, cat_todas)\n",
        "  if corrige_fana:\n",
        "    denominator += fana\n",
        "  if method == 'linear':\n",
        "    s = linear_map(target, cake, numerator, denominator)\n",
        "  elif method == 'hondt':\n",
        "    s = method_hondt(target, cake, numerator, denominator)\n",
        "  elif method == 'step_by_step':\n",
        "    s = step_by_step(cake, numerator, denominator)\n",
        "  else: print('ERRO!')\n",
        "  \n",
        "  fig, ax = plt.subplots(1, 1, figsize=(12,5))\n",
        "  s.name=''\n",
        "  s.plot(kind='bar', ax=ax, table=np.round(s,1).to_frame().T)\n",
        "  title1 = f'Distribui {cake} vagas - método={method}, '\n",
        "  title2 = ''\n",
        "  if method != 'step_by_step':\n",
        "    title2 += f'target= {target}, '\n",
        "  title3 = f'corrige_fana={corrige_fana}, ano={ano}, idade_reforma={reforma}'\n",
        "  ax.set_title(title1 + title2 + title3)\n",
        "  ax.xaxis.set_visible(False)\n",
        "  fig.savefig('temp_image.png')"
      ],
      "metadata": {
        "colab": {
          "base_uri": "https://localhost:8080/",
          "height": 691,
          "referenced_widgets": [
            "abe5e5b2fbd94b6992372b6c990437bd",
            "003b7b36562a430c9c779498e1c29ed8",
            "83cf127ce31240dfb71202784c82bd7f",
            "cbb0ae23f5374737a860ee88e56deebb",
            "561cc10d7b4a470490256ff501dfe878",
            "6a8ff0df892d4d34b2d65ccfa61c32a8",
            "65cc806e555947bb8383e591919369ae",
            "bc134099c1eb4de297af884c8d38c75b",
            "21bddbf7daaa4f9aa81137845f0b3a07",
            "86cec809ec4f48d982b7a43f3b329da0",
            "5eecd71c660241fc8b40da5954eba6e9",
            "efe42fa43c4e4b4089ed64ef45409672",
            "cdbaa14c68854f40b3c6b98d9a5fe1b5",
            "9b2ea6b953054776aa431ff79de825ec",
            "d79da0fdd7e9472e8e2b284bc92f705e",
            "11a03320650e465d9a8f9c309375ed2d",
            "5bbe5da614c844ecb09db92b95e66161",
            "4937437c6f654460a6056390f2ee6b2b",
            "4d2be1f08af7437d97461d90345e4248",
            "adc41f65c10642e0ac1ff54c32a39073",
            "7613a47520da44e8bda9505d2f9b8e5d",
            "75b7b45adb0a47cb932ae3be52e9b3d1"
          ]
        },
        "id": "N27bjBuK7o13",
        "outputId": "70eeaae5-074f-4dec-aebc-5171fd09dbe6"
      },
      "execution_count": 53,
      "outputs": [
        {
          "output_type": "display_data",
          "data": {
            "application/vnd.jupyter.widget-view+json": {
              "model_id": "abe5e5b2fbd94b6992372b6c990437bd",
              "version_minor": 0,
              "version_major": 2
            },
            "text/plain": [
              "interactive(children=(IntSlider(value=16, description='cake', max=26, min=2, step=2), FloatSlider(value=0.25, …"
            ]
          },
          "metadata": {}
        }
      ]
    },
    {
      "cell_type": "code",
      "source": [
        "d1 = pd.DataFrame(np.random.randn(3,5))\n",
        "d2 = d1 > 0"
      ],
      "metadata": {
        "id": "unr0b2iUF5cH"
      },
      "execution_count": 33,
      "outputs": []
    },
    {
      "cell_type": "code",
      "source": [
        "d1"
      ],
      "metadata": {
        "colab": {
          "base_uri": "https://localhost:8080/",
          "height": 143
        },
        "id": "6SBMwlE7GK6-",
        "outputId": "c277be77-0bab-412a-c456-c37d1f7479da"
      },
      "execution_count": 34,
      "outputs": [
        {
          "output_type": "execute_result",
          "data": {
            "text/html": [
              "\n",
              "  <div id=\"df-f485a2ba-934e-4377-937a-849c81ec0898\">\n",
              "    <div class=\"colab-df-container\">\n",
              "      <div>\n",
              "<style scoped>\n",
              "    .dataframe tbody tr th:only-of-type {\n",
              "        vertical-align: middle;\n",
              "    }\n",
              "\n",
              "    .dataframe tbody tr th {\n",
              "        vertical-align: top;\n",
              "    }\n",
              "\n",
              "    .dataframe thead th {\n",
              "        text-align: right;\n",
              "    }\n",
              "</style>\n",
              "<table border=\"1\" class=\"dataframe\">\n",
              "  <thead>\n",
              "    <tr style=\"text-align: right;\">\n",
              "      <th></th>\n",
              "      <th>0</th>\n",
              "      <th>1</th>\n",
              "      <th>2</th>\n",
              "      <th>3</th>\n",
              "      <th>4</th>\n",
              "    </tr>\n",
              "  </thead>\n",
              "  <tbody>\n",
              "    <tr>\n",
              "      <th>0</th>\n",
              "      <td>-1.192807</td>\n",
              "      <td>-0.937176</td>\n",
              "      <td>-0.118896</td>\n",
              "      <td>0.708438</td>\n",
              "      <td>-1.384448</td>\n",
              "    </tr>\n",
              "    <tr>\n",
              "      <th>1</th>\n",
              "      <td>-0.786636</td>\n",
              "      <td>-1.131058</td>\n",
              "      <td>-1.211576</td>\n",
              "      <td>-0.086510</td>\n",
              "      <td>-0.047308</td>\n",
              "    </tr>\n",
              "    <tr>\n",
              "      <th>2</th>\n",
              "      <td>-0.712186</td>\n",
              "      <td>-0.274346</td>\n",
              "      <td>0.451992</td>\n",
              "      <td>0.339682</td>\n",
              "      <td>-0.213439</td>\n",
              "    </tr>\n",
              "  </tbody>\n",
              "</table>\n",
              "</div>\n",
              "      <button class=\"colab-df-convert\" onclick=\"convertToInteractive('df-f485a2ba-934e-4377-937a-849c81ec0898')\"\n",
              "              title=\"Convert this dataframe to an interactive table.\"\n",
              "              style=\"display:none;\">\n",
              "        \n",
              "  <svg xmlns=\"http://www.w3.org/2000/svg\" height=\"24px\"viewBox=\"0 0 24 24\"\n",
              "       width=\"24px\">\n",
              "    <path d=\"M0 0h24v24H0V0z\" fill=\"none\"/>\n",
              "    <path d=\"M18.56 5.44l.94 2.06.94-2.06 2.06-.94-2.06-.94-.94-2.06-.94 2.06-2.06.94zm-11 1L8.5 8.5l.94-2.06 2.06-.94-2.06-.94L8.5 2.5l-.94 2.06-2.06.94zm10 10l.94 2.06.94-2.06 2.06-.94-2.06-.94-.94-2.06-.94 2.06-2.06.94z\"/><path d=\"M17.41 7.96l-1.37-1.37c-.4-.4-.92-.59-1.43-.59-.52 0-1.04.2-1.43.59L10.3 9.45l-7.72 7.72c-.78.78-.78 2.05 0 2.83L4 21.41c.39.39.9.59 1.41.59.51 0 1.02-.2 1.41-.59l7.78-7.78 2.81-2.81c.8-.78.8-2.07 0-2.86zM5.41 20L4 18.59l7.72-7.72 1.47 1.35L5.41 20z\"/>\n",
              "  </svg>\n",
              "      </button>\n",
              "      \n",
              "  <style>\n",
              "    .colab-df-container {\n",
              "      display:flex;\n",
              "      flex-wrap:wrap;\n",
              "      gap: 12px;\n",
              "    }\n",
              "\n",
              "    .colab-df-convert {\n",
              "      background-color: #E8F0FE;\n",
              "      border: none;\n",
              "      border-radius: 50%;\n",
              "      cursor: pointer;\n",
              "      display: none;\n",
              "      fill: #1967D2;\n",
              "      height: 32px;\n",
              "      padding: 0 0 0 0;\n",
              "      width: 32px;\n",
              "    }\n",
              "\n",
              "    .colab-df-convert:hover {\n",
              "      background-color: #E2EBFA;\n",
              "      box-shadow: 0px 1px 2px rgba(60, 64, 67, 0.3), 0px 1px 3px 1px rgba(60, 64, 67, 0.15);\n",
              "      fill: #174EA6;\n",
              "    }\n",
              "\n",
              "    [theme=dark] .colab-df-convert {\n",
              "      background-color: #3B4455;\n",
              "      fill: #D2E3FC;\n",
              "    }\n",
              "\n",
              "    [theme=dark] .colab-df-convert:hover {\n",
              "      background-color: #434B5C;\n",
              "      box-shadow: 0px 1px 3px 1px rgba(0, 0, 0, 0.15);\n",
              "      filter: drop-shadow(0px 1px 2px rgba(0, 0, 0, 0.3));\n",
              "      fill: #FFFFFF;\n",
              "    }\n",
              "  </style>\n",
              "\n",
              "      <script>\n",
              "        const buttonEl =\n",
              "          document.querySelector('#df-f485a2ba-934e-4377-937a-849c81ec0898 button.colab-df-convert');\n",
              "        buttonEl.style.display =\n",
              "          google.colab.kernel.accessAllowed ? 'block' : 'none';\n",
              "\n",
              "        async function convertToInteractive(key) {\n",
              "          const element = document.querySelector('#df-f485a2ba-934e-4377-937a-849c81ec0898');\n",
              "          const dataTable =\n",
              "            await google.colab.kernel.invokeFunction('convertToInteractive',\n",
              "                                                     [key], {});\n",
              "          if (!dataTable) return;\n",
              "\n",
              "          const docLinkHtml = 'Like what you see? Visit the ' +\n",
              "            '<a target=\"_blank\" href=https://colab.research.google.com/notebooks/data_table.ipynb>data table notebook</a>'\n",
              "            + ' to learn more about interactive tables.';\n",
              "          element.innerHTML = '';\n",
              "          dataTable['output_type'] = 'display_data';\n",
              "          await google.colab.output.renderOutput(dataTable, element);\n",
              "          const docLink = document.createElement('div');\n",
              "          docLink.innerHTML = docLinkHtml;\n",
              "          element.appendChild(docLink);\n",
              "        }\n",
              "      </script>\n",
              "    </div>\n",
              "  </div>\n",
              "  "
            ],
            "text/plain": [
              "          0         1         2         3         4\n",
              "0 -1.192807 -0.937176 -0.118896  0.708438 -1.384448\n",
              "1 -0.786636 -1.131058 -1.211576 -0.086510 -0.047308\n",
              "2 -0.712186 -0.274346  0.451992  0.339682 -0.213439"
            ]
          },
          "metadata": {},
          "execution_count": 34
        }
      ]
    },
    {
      "cell_type": "code",
      "source": [
        "d2"
      ],
      "metadata": {
        "colab": {
          "base_uri": "https://localhost:8080/",
          "height": 143
        },
        "id": "2DZrhf72GMwN",
        "outputId": "5974bf30-c4b1-4716-ff2d-2f467e5f2896"
      },
      "execution_count": 35,
      "outputs": [
        {
          "output_type": "execute_result",
          "data": {
            "text/html": [
              "\n",
              "  <div id=\"df-7093b62c-d15f-477b-9fa8-64e39657af39\">\n",
              "    <div class=\"colab-df-container\">\n",
              "      <div>\n",
              "<style scoped>\n",
              "    .dataframe tbody tr th:only-of-type {\n",
              "        vertical-align: middle;\n",
              "    }\n",
              "\n",
              "    .dataframe tbody tr th {\n",
              "        vertical-align: top;\n",
              "    }\n",
              "\n",
              "    .dataframe thead th {\n",
              "        text-align: right;\n",
              "    }\n",
              "</style>\n",
              "<table border=\"1\" class=\"dataframe\">\n",
              "  <thead>\n",
              "    <tr style=\"text-align: right;\">\n",
              "      <th></th>\n",
              "      <th>0</th>\n",
              "      <th>1</th>\n",
              "      <th>2</th>\n",
              "      <th>3</th>\n",
              "      <th>4</th>\n",
              "    </tr>\n",
              "  </thead>\n",
              "  <tbody>\n",
              "    <tr>\n",
              "      <th>0</th>\n",
              "      <td>False</td>\n",
              "      <td>False</td>\n",
              "      <td>False</td>\n",
              "      <td>True</td>\n",
              "      <td>False</td>\n",
              "    </tr>\n",
              "    <tr>\n",
              "      <th>1</th>\n",
              "      <td>False</td>\n",
              "      <td>False</td>\n",
              "      <td>False</td>\n",
              "      <td>False</td>\n",
              "      <td>False</td>\n",
              "    </tr>\n",
              "    <tr>\n",
              "      <th>2</th>\n",
              "      <td>False</td>\n",
              "      <td>False</td>\n",
              "      <td>True</td>\n",
              "      <td>True</td>\n",
              "      <td>False</td>\n",
              "    </tr>\n",
              "  </tbody>\n",
              "</table>\n",
              "</div>\n",
              "      <button class=\"colab-df-convert\" onclick=\"convertToInteractive('df-7093b62c-d15f-477b-9fa8-64e39657af39')\"\n",
              "              title=\"Convert this dataframe to an interactive table.\"\n",
              "              style=\"display:none;\">\n",
              "        \n",
              "  <svg xmlns=\"http://www.w3.org/2000/svg\" height=\"24px\"viewBox=\"0 0 24 24\"\n",
              "       width=\"24px\">\n",
              "    <path d=\"M0 0h24v24H0V0z\" fill=\"none\"/>\n",
              "    <path d=\"M18.56 5.44l.94 2.06.94-2.06 2.06-.94-2.06-.94-.94-2.06-.94 2.06-2.06.94zm-11 1L8.5 8.5l.94-2.06 2.06-.94-2.06-.94L8.5 2.5l-.94 2.06-2.06.94zm10 10l.94 2.06.94-2.06 2.06-.94-2.06-.94-.94-2.06-.94 2.06-2.06.94z\"/><path d=\"M17.41 7.96l-1.37-1.37c-.4-.4-.92-.59-1.43-.59-.52 0-1.04.2-1.43.59L10.3 9.45l-7.72 7.72c-.78.78-.78 2.05 0 2.83L4 21.41c.39.39.9.59 1.41.59.51 0 1.02-.2 1.41-.59l7.78-7.78 2.81-2.81c.8-.78.8-2.07 0-2.86zM5.41 20L4 18.59l7.72-7.72 1.47 1.35L5.41 20z\"/>\n",
              "  </svg>\n",
              "      </button>\n",
              "      \n",
              "  <style>\n",
              "    .colab-df-container {\n",
              "      display:flex;\n",
              "      flex-wrap:wrap;\n",
              "      gap: 12px;\n",
              "    }\n",
              "\n",
              "    .colab-df-convert {\n",
              "      background-color: #E8F0FE;\n",
              "      border: none;\n",
              "      border-radius: 50%;\n",
              "      cursor: pointer;\n",
              "      display: none;\n",
              "      fill: #1967D2;\n",
              "      height: 32px;\n",
              "      padding: 0 0 0 0;\n",
              "      width: 32px;\n",
              "    }\n",
              "\n",
              "    .colab-df-convert:hover {\n",
              "      background-color: #E2EBFA;\n",
              "      box-shadow: 0px 1px 2px rgba(60, 64, 67, 0.3), 0px 1px 3px 1px rgba(60, 64, 67, 0.15);\n",
              "      fill: #174EA6;\n",
              "    }\n",
              "\n",
              "    [theme=dark] .colab-df-convert {\n",
              "      background-color: #3B4455;\n",
              "      fill: #D2E3FC;\n",
              "    }\n",
              "\n",
              "    [theme=dark] .colab-df-convert:hover {\n",
              "      background-color: #434B5C;\n",
              "      box-shadow: 0px 1px 3px 1px rgba(0, 0, 0, 0.15);\n",
              "      filter: drop-shadow(0px 1px 2px rgba(0, 0, 0, 0.3));\n",
              "      fill: #FFFFFF;\n",
              "    }\n",
              "  </style>\n",
              "\n",
              "      <script>\n",
              "        const buttonEl =\n",
              "          document.querySelector('#df-7093b62c-d15f-477b-9fa8-64e39657af39 button.colab-df-convert');\n",
              "        buttonEl.style.display =\n",
              "          google.colab.kernel.accessAllowed ? 'block' : 'none';\n",
              "\n",
              "        async function convertToInteractive(key) {\n",
              "          const element = document.querySelector('#df-7093b62c-d15f-477b-9fa8-64e39657af39');\n",
              "          const dataTable =\n",
              "            await google.colab.kernel.invokeFunction('convertToInteractive',\n",
              "                                                     [key], {});\n",
              "          if (!dataTable) return;\n",
              "\n",
              "          const docLinkHtml = 'Like what you see? Visit the ' +\n",
              "            '<a target=\"_blank\" href=https://colab.research.google.com/notebooks/data_table.ipynb>data table notebook</a>'\n",
              "            + ' to learn more about interactive tables.';\n",
              "          element.innerHTML = '';\n",
              "          dataTable['output_type'] = 'display_data';\n",
              "          await google.colab.output.renderOutput(dataTable, element);\n",
              "          const docLink = document.createElement('div');\n",
              "          docLink.innerHTML = docLinkHtml;\n",
              "          element.appendChild(docLink);\n",
              "        }\n",
              "      </script>\n",
              "    </div>\n",
              "  </div>\n",
              "  "
            ],
            "text/plain": [
              "       0      1      2      3      4\n",
              "0  False  False  False   True  False\n",
              "1  False  False  False  False  False\n",
              "2  False  False   True   True  False"
            ]
          },
          "metadata": {},
          "execution_count": 35
        }
      ]
    },
    {
      "cell_type": "code",
      "source": [
        "d3 = d1 * d2"
      ],
      "metadata": {
        "id": "3MvF3oA0GOmk"
      },
      "execution_count": 37,
      "outputs": []
    },
    {
      "cell_type": "code",
      "source": [
        "sorted(d3.values.flatten())[::-1]"
      ],
      "metadata": {
        "colab": {
          "base_uri": "https://localhost:8080/"
        },
        "id": "ewOQO4bwGWp7",
        "outputId": "8549c3a5-cfd5-4d94-cb50-3cd01ad54062"
      },
      "execution_count": 49,
      "outputs": [
        {
          "output_type": "execute_result",
          "data": {
            "text/plain": [
              "[0.708438133573549,\n",
              " 0.4519919724517887,\n",
              " 0.33968159334586506,\n",
              " -0.0,\n",
              " -0.0,\n",
              " -0.0,\n",
              " -0.0,\n",
              " -0.0,\n",
              " -0.0,\n",
              " -0.0,\n",
              " -0.0,\n",
              " -0.0,\n",
              " -0.0,\n",
              " -0.0,\n",
              " -0.0]"
            ]
          },
          "metadata": {},
          "execution_count": 49
        }
      ]
    },
    {
      "cell_type": "code",
      "source": [
        "Image('temp_image.png')"
      ],
      "metadata": {
        "colab": {
          "base_uri": "https://localhost:8080/",
          "height": 377
        },
        "id": "qYXdwYI8OlD8",
        "outputId": "0ae412fc-e42c-475a-96ed-4636f163c332"
      },
      "execution_count": 16,
      "outputs": [
        {
          "output_type": "execute_result",
          "data": {
            "image/png": "[encoded data removed]",
            "text/plain": [
              "<IPython.core.display.Image object>"
            ]
          },
          "metadata": {},
          "execution_count": 16
        }
      ]
    },
    {
      "cell_type": "code",
      "source": [
        "#antes (com e sem fana)\n",
        "numerator = docentes_per_categoria(docentes, cat_prof_coord)\n",
        "denominator = docentes_per_categoria(docentes, cat_todas)"
      ],
      "metadata": {
        "id": "EIExQULGXhb2"
      },
      "execution_count": 17,
      "outputs": []
    },
    {
      "cell_type": "code",
      "source": [
        "#depois\n",
        "s = step_by_step(16, numerator, denominator)\n",
        "numerator += s"
      ],
      "metadata": {
        "id": "vTcRzfr2Xprp"
      },
      "execution_count": 18,
      "outputs": []
    },
    {
      "cell_type": "code",
      "source": [
        "numerator"
      ],
      "metadata": {
        "colab": {
          "base_uri": "https://localhost:8080/"
        },
        "id": "JCXPsbnAXx5O",
        "outputId": "8765f4a8-3a9a-40be-944d-d890c684dff9"
      },
      "execution_count": 19,
      "outputs": [
        {
          "output_type": "execute_result",
          "data": {
            "text/plain": [
              "DEC      11.0\n",
              "DEEEA     9.0\n",
              "DEETC    26.0\n",
              "DEM      10.0\n",
              "DEQ       8.0\n",
              "DF        7.0\n",
              "DM       15.0\n",
              "Name: ETI, dtype: float64"
            ]
          },
          "metadata": {},
          "execution_count": 19
        }
      ]
    },
    {
      "cell_type": "code",
      "source": [
        "numerator"
      ],
      "metadata": {
        "colab": {
          "base_uri": "https://localhost:8080/"
        },
        "id": "DwL0daKJX3I2",
        "outputId": "0c09c66c-be23-485e-decf-78cf0769f15d"
      },
      "execution_count": 20,
      "outputs": [
        {
          "output_type": "execute_result",
          "data": {
            "text/plain": [
              "DEC      11.0\n",
              "DEEEA     9.0\n",
              "DEETC    26.0\n",
              "DEM      10.0\n",
              "DEQ       8.0\n",
              "DF        7.0\n",
              "DM       15.0\n",
              "Name: ETI, dtype: float64"
            ]
          },
          "metadata": {},
          "execution_count": 20
        }
      ]
    },
    {
      "cell_type": "code",
      "source": [
        "# Calcular entropia antes e depois e ter a diferença como critério"
      ],
      "metadata": {
        "id": "RS8IccEOmKcZ"
      },
      "execution_count": 21,
      "outputs": []
    }
  ]
}