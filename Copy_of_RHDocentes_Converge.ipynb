{
  "nbformat": 4,
  "nbformat_minor": 0,
  "metadata": {
    "colab": {
      "name": "Copy of Copy of RHDocentes_Converge.ipynb",
      "provenance": [],
      "toc_visible": true,
      "authorship_tag": "ABX9TyMhCgFLwsDyQCtaSxLuxp2H",
      "include_colab_link": true
    },
    "kernelspec": {
      "name": "python3",
      "display_name": "Python 3"
    },
    "language_info": {
      "name": "python"
    },
    "widgets": {
      "application/vnd.jupyter.widget-state+json": {
        "c875aad627b546ce851f304d1d735f5c": {
          "model_module": "@jupyter-widgets/controls",
          "model_name": "VBoxModel",
          "model_module_version": "1.5.0",
          "state": {
            "_view_name": "VBoxView",
            "_dom_classes": [
              "widget-interact"
            ],
            "_model_name": "VBoxModel",
            "_view_module": "@jupyter-widgets/controls",
            "_model_module_version": "1.5.0",
            "_view_count": null,
            "_view_module_version": "1.5.0",
            "box_style": "",
            "layout": "IPY_MODEL_169d767069cb47de9e3f5d694332b76e",
            "_model_module": "@jupyter-widgets/controls",
            "children": [
              "IPY_MODEL_b85f1ea307a04ca498b59c88397582a2",
              "IPY_MODEL_eb5aafaf498c42f0afd1bde3cb1927dd",
              "IPY_MODEL_86ddb0f61dbe469f98b5fde0ed06f462",
              "IPY_MODEL_d21b03b62a9a422c825eee5f235ab1c0",
              "IPY_MODEL_a4c91ccfcc0642d3a1747b6af7415d21",
              "IPY_MODEL_33e302c7af4e45498230f304a6323e74",
              "IPY_MODEL_0655099c56364010b8486002ab800a7c"
            ]
          }
        },
        "169d767069cb47de9e3f5d694332b76e": {
          "model_module": "@jupyter-widgets/base",
          "model_name": "LayoutModel",
          "model_module_version": "1.2.0",
          "state": {
            "_view_name": "LayoutView",
            "grid_template_rows": null,
            "right": null,
            "justify_content": null,
            "_view_module": "@jupyter-widgets/base",
            "overflow": null,
            "_model_module_version": "1.2.0",
            "_view_count": null,
            "flex_flow": null,
            "width": null,
            "min_width": null,
            "border": null,
            "align_items": null,
            "bottom": null,
            "_model_module": "@jupyter-widgets/base",
            "top": null,
            "grid_column": null,
            "overflow_y": null,
            "overflow_x": null,
            "grid_auto_flow": null,
            "grid_area": null,
            "grid_template_columns": null,
            "flex": null,
            "_model_name": "LayoutModel",
            "justify_items": null,
            "grid_row": null,
            "max_height": null,
            "align_content": null,
            "visibility": null,
            "align_self": null,
            "height": null,
            "min_height": null,
            "padding": null,
            "grid_auto_rows": null,
            "grid_gap": null,
            "max_width": null,
            "order": null,
            "_view_module_version": "1.2.0",
            "grid_template_areas": null,
            "object_position": null,
            "object_fit": null,
            "grid_auto_columns": null,
            "margin": null,
            "display": null,
            "left": null
          }
        },
        "b85f1ea307a04ca498b59c88397582a2": {
          "model_module": "@jupyter-widgets/controls",
          "model_name": "IntSliderModel",
          "model_module_version": "1.5.0",
          "state": {
            "_view_name": "IntSliderView",
            "style": "IPY_MODEL_0759d1749cdb4d43b86e91c850d32a68",
            "_dom_classes": [],
            "description": "cake",
            "step": 2,
            "_model_name": "IntSliderModel",
            "orientation": "horizontal",
            "max": 26,
            "_view_module": "@jupyter-widgets/controls",
            "_model_module_version": "1.5.0",
            "value": 10,
            "_view_count": null,
            "disabled": false,
            "_view_module_version": "1.5.0",
            "min": 2,
            "continuous_update": true,
            "readout_format": "d",
            "description_tooltip": null,
            "readout": true,
            "_model_module": "@jupyter-widgets/controls",
            "layout": "IPY_MODEL_bd93954ca85e42a4bf2f6beb4b1b3474"
          }
        },
        "eb5aafaf498c42f0afd1bde3cb1927dd": {
          "model_module": "@jupyter-widgets/controls",
          "model_name": "FloatSliderModel",
          "model_module_version": "1.5.0",
          "state": {
            "_view_name": "FloatSliderView",
            "style": "IPY_MODEL_8253c70e5c70456c84789cd5c29dd74a",
            "_dom_classes": [],
            "description": "target",
            "step": 0.05,
            "_model_name": "FloatSliderModel",
            "orientation": "horizontal",
            "max": 0.5,
            "_view_module": "@jupyter-widgets/controls",
            "_model_module_version": "1.5.0",
            "value": 0.25,
            "_view_count": null,
            "disabled": false,
            "_view_module_version": "1.5.0",
            "min": 0.2,
            "continuous_update": true,
            "readout_format": ".2f",
            "description_tooltip": null,
            "readout": true,
            "_model_module": "@jupyter-widgets/controls",
            "layout": "IPY_MODEL_dc7b3ed4d6f94b7da8a514342f719563"
          }
        },
        "86ddb0f61dbe469f98b5fde0ed06f462": {
          "model_module": "@jupyter-widgets/controls",
          "model_name": "IntSliderModel",
          "model_module_version": "1.5.0",
          "state": {
            "_view_name": "IntSliderView",
            "style": "IPY_MODEL_8c0d6b53f2594ddfa9d59d4a6be8039c",
            "_dom_classes": [],
            "description": "ano",
            "step": 1,
            "_model_name": "IntSliderModel",
            "orientation": "horizontal",
            "max": 2030,
            "_view_module": "@jupyter-widgets/controls",
            "_model_module_version": "1.5.0",
            "value": 2022,
            "_view_count": null,
            "disabled": false,
            "_view_module_version": "1.5.0",
            "min": 2022,
            "continuous_update": true,
            "readout_format": "d",
            "description_tooltip": null,
            "readout": true,
            "_model_module": "@jupyter-widgets/controls",
            "layout": "IPY_MODEL_0a9bdff7f01d40b391e6022e44cf1c30"
          }
        },
        "d21b03b62a9a422c825eee5f235ab1c0": {
          "model_module": "@jupyter-widgets/controls",
          "model_name": "IntSliderModel",
          "model_module_version": "1.5.0",
          "state": {
            "_view_name": "IntSliderView",
            "style": "IPY_MODEL_4cf602259eeb4174bff6c58fc5254822",
            "_dom_classes": [],
            "description": "reforma",
            "step": 1,
            "_model_name": "IntSliderModel",
            "orientation": "horizontal",
            "max": 70,
            "_view_module": "@jupyter-widgets/controls",
            "_model_module_version": "1.5.0",
            "value": 70,
            "_view_count": null,
            "disabled": false,
            "_view_module_version": "1.5.0",
            "min": 67,
            "continuous_update": true,
            "readout_format": "d",
            "description_tooltip": null,
            "readout": true,
            "_model_module": "@jupyter-widgets/controls",
            "layout": "IPY_MODEL_9c98b39794ee474e8c4a05f36c73b6ae"
          }
        },
        "a4c91ccfcc0642d3a1747b6af7415d21": {
          "model_module": "@jupyter-widgets/controls",
          "model_name": "CheckboxModel",
          "model_module_version": "1.5.0",
          "state": {
            "_view_name": "CheckboxView",
            "style": "IPY_MODEL_4f3e4302dec643e89c2616f1e171e9ab",
            "_dom_classes": [],
            "description": "corrige_fana",
            "_model_name": "CheckboxModel",
            "_view_module": "@jupyter-widgets/controls",
            "_model_module_version": "1.5.0",
            "value": true,
            "_view_count": null,
            "disabled": false,
            "_view_module_version": "1.5.0",
            "indent": true,
            "description_tooltip": null,
            "_model_module": "@jupyter-widgets/controls",
            "layout": "IPY_MODEL_e812b08cc1ca4b008299029f86a6f8cf"
          }
        },
        "33e302c7af4e45498230f304a6323e74": {
          "model_module": "@jupyter-widgets/controls",
          "model_name": "DropdownModel",
          "model_module_version": "1.5.0",
          "state": {
            "_options_labels": [
              "linear",
              "hondt",
              "step_by_step"
            ],
            "_view_name": "DropdownView",
            "style": "IPY_MODEL_96fd1f18b0274741a1e6f67fcf1538ec",
            "_dom_classes": [],
            "description": "method",
            "_model_name": "DropdownModel",
            "index": 1,
            "_view_module": "@jupyter-widgets/controls",
            "_model_module_version": "1.5.0",
            "_view_count": null,
            "disabled": false,
            "_view_module_version": "1.5.0",
            "description_tooltip": null,
            "_model_module": "@jupyter-widgets/controls",
            "layout": "IPY_MODEL_e0a82c23f5424c81977940086f51f442"
          }
        },
        "0655099c56364010b8486002ab800a7c": {
          "model_module": "@jupyter-widgets/output",
          "model_name": "OutputModel",
          "model_module_version": "1.0.0",
          "state": {
            "_view_name": "OutputView",
            "msg_id": "",
            "_dom_classes": [],
            "_model_name": "OutputModel",
            "outputs": [
              {
                "output_type": "stream",
                "name": "stdout",
                "text": [
                  "DEC      1\n",
                  "DEEEA    0\n",
                  "DEETC    6\n",
                  "DEM      1\n",
                  "DEQ      0\n",
                  "DF       0\n",
                  "DM       2\n",
                  "dtype: int64\n"
                ]
              },
              {
                "output_type": "display_data",
                "data": {
                  "image/png": "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\n",
                  "text/plain": "<Figure size 432x288 with 1 Axes>"
                },
                "metadata": {
                  "needs_background": "light"
                }
              },
              {
                "output_type": "display_data",
                "data": {
                  "image/png": "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\n",
                  "text/plain": "<Figure size 864x360 with 1 Axes>"
                },
                "metadata": {
                  "needs_background": "light"
                }
              }
            ],
            "_view_module": "@jupyter-widgets/output",
            "_model_module_version": "1.0.0",
            "_view_count": null,
            "_view_module_version": "1.0.0",
            "layout": "IPY_MODEL_ee8cfd98f2474f2dab13e37321c53fdd",
            "_model_module": "@jupyter-widgets/output"
          }
        },
        "0759d1749cdb4d43b86e91c850d32a68": {
          "model_module": "@jupyter-widgets/controls",
          "model_name": "SliderStyleModel",
          "model_module_version": "1.5.0",
          "state": {
            "_view_name": "StyleView",
            "handle_color": null,
            "_model_name": "SliderStyleModel",
            "description_width": "",
            "_view_module": "@jupyter-widgets/base",
            "_model_module_version": "1.5.0",
            "_view_count": null,
            "_view_module_version": "1.2.0",
            "_model_module": "@jupyter-widgets/controls"
          }
        },
        "bd93954ca85e42a4bf2f6beb4b1b3474": {
          "model_module": "@jupyter-widgets/base",
          "model_name": "LayoutModel",
          "model_module_version": "1.2.0",
          "state": {
            "_view_name": "LayoutView",
            "grid_template_rows": null,
            "right": null,
            "justify_content": null,
            "_view_module": "@jupyter-widgets/base",
            "overflow": null,
            "_model_module_version": "1.2.0",
            "_view_count": null,
            "flex_flow": null,
            "width": null,
            "min_width": null,
            "border": null,
            "align_items": null,
            "bottom": null,
            "_model_module": "@jupyter-widgets/base",
            "top": null,
            "grid_column": null,
            "overflow_y": null,
            "overflow_x": null,
            "grid_auto_flow": null,
            "grid_area": null,
            "grid_template_columns": null,
            "flex": null,
            "_model_name": "LayoutModel",
            "justify_items": null,
            "grid_row": null,
            "max_height": null,
            "align_content": null,
            "visibility": null,
            "align_self": null,
            "height": null,
            "min_height": null,
            "padding": null,
            "grid_auto_rows": null,
            "grid_gap": null,
            "max_width": null,
            "order": null,
            "_view_module_version": "1.2.0",
            "grid_template_areas": null,
            "object_position": null,
            "object_fit": null,
            "grid_auto_columns": null,
            "margin": null,
            "display": null,
            "left": null
          }
        },
        "8253c70e5c70456c84789cd5c29dd74a": {
          "model_module": "@jupyter-widgets/controls",
          "model_name": "SliderStyleModel",
          "model_module_version": "1.5.0",
          "state": {
            "_view_name": "StyleView",
            "handle_color": null,
            "_model_name": "SliderStyleModel",
            "description_width": "",
            "_view_module": "@jupyter-widgets/base",
            "_model_module_version": "1.5.0",
            "_view_count": null,
            "_view_module_version": "1.2.0",
            "_model_module": "@jupyter-widgets/controls"
          }
        },
        "dc7b3ed4d6f94b7da8a514342f719563": {
          "model_module": "@jupyter-widgets/base",
          "model_name": "LayoutModel",
          "model_module_version": "1.2.0",
          "state": {
            "_view_name": "LayoutView",
            "grid_template_rows": null,
            "right": null,
            "justify_content": null,
            "_view_module": "@jupyter-widgets/base",
            "overflow": null,
            "_model_module_version": "1.2.0",
            "_view_count": null,
            "flex_flow": null,
            "width": null,
            "min_width": null,
            "border": null,
            "align_items": null,
            "bottom": null,
            "_model_module": "@jupyter-widgets/base",
            "top": null,
            "grid_column": null,
            "overflow_y": null,
            "overflow_x": null,
            "grid_auto_flow": null,
            "grid_area": null,
            "grid_template_columns": null,
            "flex": null,
            "_model_name": "LayoutModel",
            "justify_items": null,
            "grid_row": null,
            "max_height": null,
            "align_content": null,
            "visibility": null,
            "align_self": null,
            "height": null,
            "min_height": null,
            "padding": null,
            "grid_auto_rows": null,
            "grid_gap": null,
            "max_width": null,
            "order": null,
            "_view_module_version": "1.2.0",
            "grid_template_areas": null,
            "object_position": null,
            "object_fit": null,
            "grid_auto_columns": null,
            "margin": null,
            "display": null,
            "left": null
          }
        },
        "8c0d6b53f2594ddfa9d59d4a6be8039c": {
          "model_module": "@jupyter-widgets/controls",
          "model_name": "SliderStyleModel",
          "model_module_version": "1.5.0",
          "state": {
            "_view_name": "StyleView",
            "handle_color": null,
            "_model_name": "SliderStyleModel",
            "description_width": "",
            "_view_module": "@jupyter-widgets/base",
            "_model_module_version": "1.5.0",
            "_view_count": null,
            "_view_module_version": "1.2.0",
            "_model_module": "@jupyter-widgets/controls"
          }
        },
        "0a9bdff7f01d40b391e6022e44cf1c30": {
          "model_module": "@jupyter-widgets/base",
          "model_name": "LayoutModel",
          "model_module_version": "1.2.0",
          "state": {
            "_view_name": "LayoutView",
            "grid_template_rows": null,
            "right": null,
            "justify_content": null,
            "_view_module": "@jupyter-widgets/base",
            "overflow": null,
            "_model_module_version": "1.2.0",
            "_view_count": null,
            "flex_flow": null,
            "width": null,
            "min_width": null,
            "border": null,
            "align_items": null,
            "bottom": null,
            "_model_module": "@jupyter-widgets/base",
            "top": null,
            "grid_column": null,
            "overflow_y": null,
            "overflow_x": null,
            "grid_auto_flow": null,
            "grid_area": null,
            "grid_template_columns": null,
            "flex": null,
            "_model_name": "LayoutModel",
            "justify_items": null,
            "grid_row": null,
            "max_height": null,
            "align_content": null,
            "visibility": null,
            "align_self": null,
            "height": null,
            "min_height": null,
            "padding": null,
            "grid_auto_rows": null,
            "grid_gap": null,
            "max_width": null,
            "order": null,
            "_view_module_version": "1.2.0",
            "grid_template_areas": null,
            "object_position": null,
            "object_fit": null,
            "grid_auto_columns": null,
            "margin": null,
            "display": null,
            "left": null
          }
        },
        "4cf602259eeb4174bff6c58fc5254822": {
          "model_module": "@jupyter-widgets/controls",
          "model_name": "SliderStyleModel",
          "model_module_version": "1.5.0",
          "state": {
            "_view_name": "StyleView",
            "handle_color": null,
            "_model_name": "SliderStyleModel",
            "description_width": "",
            "_view_module": "@jupyter-widgets/base",
            "_model_module_version": "1.5.0",
            "_view_count": null,
            "_view_module_version": "1.2.0",
            "_model_module": "@jupyter-widgets/controls"
          }
        },
        "9c98b39794ee474e8c4a05f36c73b6ae": {
          "model_module": "@jupyter-widgets/base",
          "model_name": "LayoutModel",
          "model_module_version": "1.2.0",
          "state": {
            "_view_name": "LayoutView",
            "grid_template_rows": null,
            "right": null,
            "justify_content": null,
            "_view_module": "@jupyter-widgets/base",
            "overflow": null,
            "_model_module_version": "1.2.0",
            "_view_count": null,
            "flex_flow": null,
            "width": null,
            "min_width": null,
            "border": null,
            "align_items": null,
            "bottom": null,
            "_model_module": "@jupyter-widgets/base",
            "top": null,
            "grid_column": null,
            "overflow_y": null,
            "overflow_x": null,
            "grid_auto_flow": null,
            "grid_area": null,
            "grid_template_columns": null,
            "flex": null,
            "_model_name": "LayoutModel",
            "justify_items": null,
            "grid_row": null,
            "max_height": null,
            "align_content": null,
            "visibility": null,
            "align_self": null,
            "height": null,
            "min_height": null,
            "padding": null,
            "grid_auto_rows": null,
            "grid_gap": null,
            "max_width": null,
            "order": null,
            "_view_module_version": "1.2.0",
            "grid_template_areas": null,
            "object_position": null,
            "object_fit": null,
            "grid_auto_columns": null,
            "margin": null,
            "display": null,
            "left": null
          }
        },
        "4f3e4302dec643e89c2616f1e171e9ab": {
          "model_module": "@jupyter-widgets/controls",
          "model_name": "DescriptionStyleModel",
          "model_module_version": "1.5.0",
          "state": {
            "_view_name": "StyleView",
            "_model_name": "DescriptionStyleModel",
            "description_width": "",
            "_view_module": "@jupyter-widgets/base",
            "_model_module_version": "1.5.0",
            "_view_count": null,
            "_view_module_version": "1.2.0",
            "_model_module": "@jupyter-widgets/controls"
          }
        },
        "e812b08cc1ca4b008299029f86a6f8cf": {
          "model_module": "@jupyter-widgets/base",
          "model_name": "LayoutModel",
          "model_module_version": "1.2.0",
          "state": {
            "_view_name": "LayoutView",
            "grid_template_rows": null,
            "right": null,
            "justify_content": null,
            "_view_module": "@jupyter-widgets/base",
            "overflow": null,
            "_model_module_version": "1.2.0",
            "_view_count": null,
            "flex_flow": null,
            "width": null,
            "min_width": null,
            "border": null,
            "align_items": null,
            "bottom": null,
            "_model_module": "@jupyter-widgets/base",
            "top": null,
            "grid_column": null,
            "overflow_y": null,
            "overflow_x": null,
            "grid_auto_flow": null,
            "grid_area": null,
            "grid_template_columns": null,
            "flex": null,
            "_model_name": "LayoutModel",
            "justify_items": null,
            "grid_row": null,
            "max_height": null,
            "align_content": null,
            "visibility": null,
            "align_self": null,
            "height": null,
            "min_height": null,
            "padding": null,
            "grid_auto_rows": null,
            "grid_gap": null,
            "max_width": null,
            "order": null,
            "_view_module_version": "1.2.0",
            "grid_template_areas": null,
            "object_position": null,
            "object_fit": null,
            "grid_auto_columns": null,
            "margin": null,
            "display": null,
            "left": null
          }
        },
        "96fd1f18b0274741a1e6f67fcf1538ec": {
          "model_module": "@jupyter-widgets/controls",
          "model_name": "DescriptionStyleModel",
          "model_module_version": "1.5.0",
          "state": {
            "_view_name": "StyleView",
            "_model_name": "DescriptionStyleModel",
            "description_width": "",
            "_view_module": "@jupyter-widgets/base",
            "_model_module_version": "1.5.0",
            "_view_count": null,
            "_view_module_version": "1.2.0",
            "_model_module": "@jupyter-widgets/controls"
          }
        },
        "e0a82c23f5424c81977940086f51f442": {
          "model_module": "@jupyter-widgets/base",
          "model_name": "LayoutModel",
          "model_module_version": "1.2.0",
          "state": {
            "_view_name": "LayoutView",
            "grid_template_rows": null,
            "right": null,
            "justify_content": null,
            "_view_module": "@jupyter-widgets/base",
            "overflow": null,
            "_model_module_version": "1.2.0",
            "_view_count": null,
            "flex_flow": null,
            "width": null,
            "min_width": null,
            "border": null,
            "align_items": null,
            "bottom": null,
            "_model_module": "@jupyter-widgets/base",
            "top": null,
            "grid_column": null,
            "overflow_y": null,
            "overflow_x": null,
            "grid_auto_flow": null,
            "grid_area": null,
            "grid_template_columns": null,
            "flex": null,
            "_model_name": "LayoutModel",
            "justify_items": null,
            "grid_row": null,
            "max_height": null,
            "align_content": null,
            "visibility": null,
            "align_self": null,
            "height": null,
            "min_height": null,
            "padding": null,
            "grid_auto_rows": null,
            "grid_gap": null,
            "max_width": null,
            "order": null,
            "_view_module_version": "1.2.0",
            "grid_template_areas": null,
            "object_position": null,
            "object_fit": null,
            "grid_auto_columns": null,
            "margin": null,
            "display": null,
            "left": null
          }
        },
        "ee8cfd98f2474f2dab13e37321c53fdd": {
          "model_module": "@jupyter-widgets/base",
          "model_name": "LayoutModel",
          "model_module_version": "1.2.0",
          "state": {
            "_view_name": "LayoutView",
            "grid_template_rows": null,
            "right": null,
            "justify_content": null,
            "_view_module": "@jupyter-widgets/base",
            "overflow": null,
            "_model_module_version": "1.2.0",
            "_view_count": null,
            "flex_flow": null,
            "width": null,
            "min_width": null,
            "border": null,
            "align_items": null,
            "bottom": null,
            "_model_module": "@jupyter-widgets/base",
            "top": null,
            "grid_column": null,
            "overflow_y": null,
            "overflow_x": null,
            "grid_auto_flow": null,
            "grid_area": null,
            "grid_template_columns": null,
            "flex": null,
            "_model_name": "LayoutModel",
            "justify_items": null,
            "grid_row": null,
            "max_height": null,
            "align_content": null,
            "visibility": null,
            "align_self": null,
            "height": null,
            "min_height": null,
            "padding": null,
            "grid_auto_rows": null,
            "grid_gap": null,
            "max_width": null,
            "order": null,
            "_view_module_version": "1.2.0",
            "grid_template_areas": null,
            "object_position": null,
            "object_fit": null,
            "grid_auto_columns": null,
            "margin": null,
            "display": null,
            "left": null
          }
        }
      }
    }
  },
  "cells": [
    {
      "cell_type": "markdown",
      "metadata": {
        "id": "view-in-github",
        "colab_type": "text"
      },
      "source": [
        "<a href=\"https://colab.research.google.com/github/arjoca/RHDocentes/blob/main/Copy_of_RHDocentes_Converge.ipynb\" target=\"_parent\"><img src=\"https://colab.research.google.com/assets/colab-badge.svg\" alt=\"Open In Colab\"/></a>"
      ]
    },
    {
      "cell_type": "markdown",
      "source": [
        "# RHDocentes - fevereiro 2022\n",
        "\n",
        "**Notebook 3** - Convergência (Correção das assimetrias)\n",
        "\n",
        "![logo_isel.png](data:image/png;base64,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)\n",
        "\n",
        "Estudo organizado em 3 notebooks:\n",
        "*   [O primeiro](https://github.com/arjoca/RHDocentes/blob/main/RHDocentes_Fotografia.ipynb) - Fotografia do ISEL hoje (Assimetrias) \n",
        "*   [O anterior](https://github.com/arjoca/RHDocentes/blob/main/RHDocentes_Futuro.ipynb) - Olhar para o Futuro (Dinâmica de aposentações)\n",
        "*   **Este notebook** - Convergência (Correção das assimetrias)"
      ],
      "metadata": {
        "id": "tmkGz0DyDc2J"
      }
    },
    {
      "cell_type": "markdown",
      "source": [
        "# Fontes de informação\n",
        "\n",
        "*   Ficheiro \"Afetacao_Financeira_ADs_Cursos_2021_v01.xlsx\"\n",
        "*   Ficheiro \"RAIDES_0.xlsx\"\n",
        "\n",
        "Informação que depois de filtrada e anonimizada deu origem aos dados guardados no ficheiro [clean_data.xlsx](https://github.com/arjoca/RHDocentes/blob/main/clean_data.xlsx), usados neste estudo."
      ],
      "metadata": {
        "id": "D--VSWG109MQ"
      }
    },
    {
      "cell_type": "markdown",
      "source": [
        "# Preparação"
      ],
      "metadata": {
        "id": "25yEfwrF1hQd"
      }
    },
    {
      "cell_type": "markdown",
      "source": [
        "## Importação de módulos e leitura de dados"
      ],
      "metadata": {
        "id": "_baJCALaUHhc"
      }
    },
    {
      "cell_type": "code",
      "source": [
        "# Instalação de módulos\n",
        "!pip install kora -q\n",
        "!pip install -U kaleido"
      ],
      "metadata": {
        "id": "WbMde719TXix",
        "colab": {
          "base_uri": "https://localhost:8080/"
        },
        "outputId": "87c1e94d-59e4-4649-b132-7497814056c5"
      },
      "execution_count": 1,
      "outputs": [
        {
          "output_type": "stream",
          "name": "stdout",
          "text": [
            "\u001b[?25l\r\u001b[K     |█████▊                          | 10 kB 22.3 MB/s eta 0:00:01\r\u001b[K     |███████████▍                    | 20 kB 28.6 MB/s eta 0:00:01\r\u001b[K     |█████████████████               | 30 kB 30.6 MB/s eta 0:00:01\r\u001b[K     |██████████████████████▊         | 40 kB 22.6 MB/s eta 0:00:01\r\u001b[K     |████████████████████████████▍   | 51 kB 11.1 MB/s eta 0:00:01\r\u001b[K     |████████████████████████████████| 57 kB 970 kB/s \n",
            "\u001b[K     |████████████████████████████████| 56 kB 4.3 MB/s \n",
            "\u001b[?25hCollecting kaleido\n",
            "  Downloading kaleido-0.2.1-py2.py3-none-manylinux1_x86_64.whl (79.9 MB)\n",
            "\u001b[K     |████████████████████████████████| 79.9 MB 107 kB/s \n",
            "\u001b[?25hInstalling collected packages: kaleido\n",
            "Successfully installed kaleido-0.2.1\n"
          ]
        }
      ]
    },
    {
      "cell_type": "code",
      "source": [
        "# Importação de módulos\n",
        "import numpy as np\n",
        "import pandas as pd\n",
        "import matplotlib.pyplot as plt\n",
        "from datetime import datetime, timedelta\n",
        "from ipywidgets import widgets, interact, fixed\n",
        "from IPython.display import Image"
      ],
      "metadata": {
        "id": "UF6cJzSF0xSB"
      },
      "execution_count": 30,
      "outputs": []
    },
    {
      "cell_type": "code",
      "source": [
        "# Leitura de dados\n",
        "base_url = 'https://raw.githubusercontent.com/arjoca/RHDocentes/main/data/'\n",
        "docentes = pd.read_csv(base_url + 'docentes.csv', encoding= 'unicode_escape', \n",
        "                       parse_dates=['Data Nascimento'], infer_datetime_format=True)\n",
        "alunos_per_curso = pd.read_csv(base_url + 'alunos.csv', encoding= 'unicode_escape', index_col=0)\n",
        "horas = pd.read_csv(base_url + 'horas.csv', encoding= 'unicode_escape', index_col=0)"
      ],
      "metadata": {
        "id": "ptxmB1t613TV"
      },
      "execution_count": 3,
      "outputs": []
    },
    {
      "cell_type": "markdown",
      "source": [
        "## Inicializações"
      ],
      "metadata": {
        "id": "p65zNlZgUTeG"
      }
    },
    {
      "cell_type": "code",
      "source": [
        "# Designações dos cursos e departamentos\n",
        "LISTA_DEPTS = sorted(docentes['Departamento'].unique())\n",
        "LISTA_CURSOS = sorted(alunos_per_curso.index.unique())"
      ],
      "metadata": {
        "id": "w3ylNnDC-kXi"
      },
      "execution_count": 4,
      "outputs": []
    },
    {
      "cell_type": "code",
      "source": [
        "# Designações das categorias de docentes\n",
        "cat_prof_coord = ['Prof. Coordenador', 'Prof. Coordenador c/ Agreg. ', 'Professor Coordenador Principal']\n",
        "cat_convidado = ['Assistente Convidado', 'Professor Adjunto Convidado']\n",
        "cat_adjunto = ['Professor Adjunto']\n",
        "cat_assistente = ['Assistente do 2. Trienio', 'Assistente', 'Equiparado Assistente 2. Trienio']\n",
        "cat_monitor = ['Monitor']\n",
        "cat_quadro = cat_prof_coord + cat_adjunto\n",
        "cat_todas = cat_quadro + cat_convidado + cat_assistente + cat_monitor"
      ],
      "metadata": {
        "id": "wzavEGUX2Pew"
      },
      "execution_count": 5,
      "outputs": []
    },
    {
      "cell_type": "code",
      "source": [
        "# Horas de contacto usadas para determinar relações entre cursos e departamentos\n",
        "horas_per_curso = horas.sum(axis=1)\n",
        "pesos_dept_per_curso = horas.T / horas_per_curso\n",
        "\n",
        "# Alunos por departamento\n",
        "alunos_per_dept = pd.DataFrame(np.dot(pesos_dept_per_curso, alunos_per_curso),\n",
        "                              index=pesos_dept_per_curso.index, columns=['Alunos'])\n",
        "alunos_per_dept = alunos_per_dept['Alunos']\n",
        "alunos_per_dept.name = ''\n",
        "alunos_per_dept = alunos_per_dept.sort_index()"
      ],
      "metadata": {
        "id": "ztK7YjeuT75r"
      },
      "execution_count": 6,
      "outputs": []
    },
    {
      "cell_type": "code",
      "source": [
        "# Números globais\n",
        "alunos_per_eti_isel = alunos_per_curso.sum().sum() / docentes['ETI'].sum()\n",
        "eti_per_dept = docentes.groupby(['Departamento'])['ETI'].sum()"
      ],
      "metadata": {
        "id": "Sj3ZHMyv123k"
      },
      "execution_count": 7,
      "outputs": []
    },
    {
      "cell_type": "code",
      "source": [
        "# VIANA (Valor Ideal Atendendo ao Número de Alunos)\n",
        "viana = alunos_per_dept / alunos_per_eti_isel\n",
        "fana = viana - eti_per_dept"
      ],
      "metadata": {
        "id": "Xsuu-pqE1O1r"
      },
      "execution_count": 8,
      "outputs": []
    },
    {
      "cell_type": "markdown",
      "source": [
        "## Definição de funções"
      ],
      "metadata": {
        "id": "aDhoCFK6T9Bt"
      }
    },
    {
      "cell_type": "code",
      "source": [
        "# Filtragem de docentes atendendo à sua idade de aposentação \n",
        "def aposentados_e_ativos(df, ano, idade_reforma):\n",
        "  idade = (datetime(ano, 1, 1) - df['Data Nascimento'])/timedelta(days=365.25)\n",
        "  aposentados = df[idade > idade_reforma]\n",
        "  ativos = df.drop(index=aposentados.index)\n",
        "  return aposentados, ativos"
      ],
      "metadata": {
        "id": "l2mTrprr2S8p"
      },
      "execution_count": 9,
      "outputs": []
    },
    {
      "cell_type": "code",
      "source": [
        "# Filtragem de docentes atendendo à sua categoria\n",
        "def docentes_per_categoria(df, categoria):\n",
        "  s = df.groupby(['Departamento', 'Categoria'])['ETI'].sum()\n",
        "  s = s.loc[(slice(None), categoria)].droplevel(level=1)\n",
        "  s = s.groupby(s.index).sum()\n",
        "  s = pd.Series(s, index=LISTA_DEPTS)\n",
        "  return s.fillna(0)"
      ],
      "metadata": {
        "id": "ApJsbc5DUcfm"
      },
      "execution_count": 10,
      "outputs": []
    },
    {
      "cell_type": "markdown",
      "source": [
        "# Correção de assimetrias"
      ],
      "metadata": {
        "id": "zrt_O1rK67aW"
      }
    },
    {
      "cell_type": "markdown",
      "source": [
        "## Bolo a distribuir"
      ],
      "metadata": {
        "id": "r2b3od_X7idV"
      }
    },
    {
      "cell_type": "markdown",
      "source": [
        "## Três métodos de distribuição"
      ],
      "metadata": {
        "id": "HSxvZNBj7SHX"
      }
    },
    {
      "cell_type": "code",
      "source": [
        "# Função auxiliar para determinar quanto falta para o target\n",
        "def how_many_to_target(target, numerator, denominator):\n",
        "  s = denominator * target - numerator\n",
        "  s.clip(lower=0, inplace=True)\n",
        "  return s"
      ],
      "metadata": {
        "id": "siOS9-9x5a2s"
      },
      "execution_count": 11,
      "outputs": []
    },
    {
      "cell_type": "code",
      "source": [
        "# METHOD 1 - Linear mapping\n",
        "def linear_map(target, cake, numerator, denominator):\n",
        "  s = how_many_to_target(target, numerator, denominator)\n",
        "  return s / s.sum() * cake "
      ],
      "metadata": {
        "id": "-eTluZTq5NYy"
      },
      "execution_count": 85,
      "outputs": []
    },
    {
      "cell_type": "code",
      "source": [
        "# METHOD 2 - D'Hondt\n",
        "def method_hondt(target, cake, numerator, denominator):\n",
        "  s = how_many_to_target(target, numerator, denominator)\n",
        "  list_of_series = [s/i for i in range(1, cake+1)]\n",
        "  df = pd.concat(list_of_series, axis=1)\n",
        "  vals = np.sort(np.ravel(df.to_numpy(copy=True)))[-1::-1]\n",
        "  df1 = pd.DataFrame(index=LISTA_DEPTS)\n",
        "  for i,v in enumerate(vals[:cake]):\n",
        "    ix = df[df==v].stack().index.get_level_values(0)\n",
        "    df1.loc[ix, i+1] = 1\n",
        "  df = df >= vals[cake-1]\n",
        "  sns.heatmap(df1, cbar=False, linewidths=2, linecolor='grey')\n",
        "  return df.sum(axis=1)"
      ],
      "metadata": {
        "id": "8RvZyNmh5gTd"
      },
      "execution_count": 119,
      "outputs": []
    },
    {
      "cell_type": "code",
      "source": [
        "# METHOD 3 - One step iteration\n",
        "def step_by_step(cake, numerator, denominator):\n",
        "  df = pd.DataFrame(index=LISTA_DEPTS)\n",
        "  num = numerator\n",
        "  den = denominator\n",
        "  for i in range(cake):\n",
        "    ratio = num / den\n",
        "    ix = ratio.idxmin()\n",
        "    num[ix] += 1\n",
        "    df.loc[ix,i+1] = 1\n",
        "  sns.heatmap(df, cbar=False, linewidths=2, linecolor='grey')\n",
        "  return df.sum(axis=1)"
      ],
      "metadata": {
        "id": "xIWTVo915jfy"
      },
      "execution_count": 63,
      "outputs": []
    },
    {
      "cell_type": "markdown",
      "source": [
        "## Simulação"
      ],
      "metadata": {
        "id": "4h_gmfiA-zzk"
      }
    },
    {
      "cell_type": "code",
      "source": [
        "import seaborn as sns"
      ],
      "metadata": {
        "id": "jKksoDu_gqI9"
      },
      "execution_count": 47,
      "outputs": []
    },
    {
      "cell_type": "code",
      "source": [
        "@interact(cake=(2,26,2), target=(0.2,0.5,0.05), ano=(2022,2030,1), \n",
        "          reforma=(67,70,1), corrige_fana=True, method=['linear','hondt','step_by_step'])\n",
        "def fun(cake=16, target=0.25, ano=2022, reforma=70, corrige_fana=True, method='linear'):\n",
        "  _, ativos = aposentados_e_ativos(docentes, ano, reforma)\n",
        "  numerator = docentes_per_categoria(ativos, cat_prof_coord)\n",
        "  denominator = docentes_per_categoria(ativos, cat_todas)\n",
        "  if corrige_fana:\n",
        "    denominator += fana\n",
        "  if method == 'linear':\n",
        "    s = linear_map(target, cake, numerator, denominator)\n",
        "  elif method == 'hondt':\n",
        "    s = method_hondt(target, cake, numerator, denominator)\n",
        "  elif method == 'step_by_step':\n",
        "    s = step_by_step(cake, numerator, denominator)\n",
        "  else: print('ERRO!')\n",
        "  \n",
        "  print(s)\n",
        "  fig, ax = plt.subplots(1, 1, figsize=(12,5))\n",
        "  s.name=''\n",
        "  s.plot(kind='bar', ax=ax, table=np.round(s,1).to_frame().T)\n",
        "  title1 = f'Distribui {cake} vagas - método={method}, '\n",
        "  title2 = ''\n",
        "  if method != 'step_by_step':\n",
        "    title2 += f'target= {target}, '\n",
        "  title3 = f'corrige_fana={corrige_fana}, ano={ano}, idade_reforma={reforma}'\n",
        "  ax.set_title(title1 + title2 + title3)\n",
        "  ax.xaxis.set_visible(False)\n",
        "  fig.savefig('temp_image.png')"
      ],
      "metadata": {
        "colab": {
          "base_uri": "https://localhost:8080/",
          "height": 921,
          "referenced_widgets": [
            "c875aad627b546ce851f304d1d735f5c",
            "169d767069cb47de9e3f5d694332b76e",
            "b85f1ea307a04ca498b59c88397582a2",
            "eb5aafaf498c42f0afd1bde3cb1927dd",
            "86ddb0f61dbe469f98b5fde0ed06f462",
            "d21b03b62a9a422c825eee5f235ab1c0",
            "a4c91ccfcc0642d3a1747b6af7415d21",
            "33e302c7af4e45498230f304a6323e74",
            "0655099c56364010b8486002ab800a7c",
            "0759d1749cdb4d43b86e91c850d32a68",
            "bd93954ca85e42a4bf2f6beb4b1b3474",
            "8253c70e5c70456c84789cd5c29dd74a",
            "dc7b3ed4d6f94b7da8a514342f719563",
            "8c0d6b53f2594ddfa9d59d4a6be8039c",
            "0a9bdff7f01d40b391e6022e44cf1c30",
            "4cf602259eeb4174bff6c58fc5254822",
            "9c98b39794ee474e8c4a05f36c73b6ae",
            "4f3e4302dec643e89c2616f1e171e9ab",
            "e812b08cc1ca4b008299029f86a6f8cf",
            "96fd1f18b0274741a1e6f67fcf1538ec",
            "e0a82c23f5424c81977940086f51f442",
            "ee8cfd98f2474f2dab13e37321c53fdd"
          ]
        },
        "id": "N27bjBuK7o13",
        "outputId": "aec40962-bcdf-415a-b7b1-1cf7583c2604"
      },
      "execution_count": 120,
      "outputs": [
        {
          "output_type": "display_data",
          "data": {
            "application/vnd.jupyter.widget-view+json": {
              "model_id": "c875aad627b546ce851f304d1d735f5c",
              "version_minor": 0,
              "version_major": 2
            },
            "text/plain": [
              "interactive(children=(IntSlider(value=16, description='cake', max=26, min=2, step=2), FloatSlider(value=0.25, …"
            ]
          },
          "metadata": {}
        }
      ]
    },
    {
      "cell_type": "code",
      "source": [
        "d1 = pd.DataFrame(np.random.randn(3,5))\n",
        "d2 = d1 > 0"
      ],
      "metadata": {
        "id": "unr0b2iUF5cH"
      },
      "execution_count": 17,
      "outputs": []
    },
    {
      "cell_type": "code",
      "source": [
        "d1"
      ],
      "metadata": {
        "colab": {
          "base_uri": "https://localhost:8080/",
          "height": 143
        },
        "id": "6SBMwlE7GK6-",
        "outputId": "766e0660-25c0-4825-85b8-f143ea123aea"
      },
      "execution_count": 18,
      "outputs": [
        {
          "output_type": "execute_result",
          "data": {
            "text/html": [
              "\n",
              "  <div id=\"df-0d289286-a91a-4e4b-9d26-61040784cb9b\">\n",
              "    <div class=\"colab-df-container\">\n",
              "      <div>\n",
              "<style scoped>\n",
              "    .dataframe tbody tr th:only-of-type {\n",
              "        vertical-align: middle;\n",
              "    }\n",
              "\n",
              "    .dataframe tbody tr th {\n",
              "        vertical-align: top;\n",
              "    }\n",
              "\n",
              "    .dataframe thead th {\n",
              "        text-align: right;\n",
              "    }\n",
              "</style>\n",
              "<table border=\"1\" class=\"dataframe\">\n",
              "  <thead>\n",
              "    <tr style=\"text-align: right;\">\n",
              "      <th></th>\n",
              "      <th>0</th>\n",
              "      <th>1</th>\n",
              "      <th>2</th>\n",
              "      <th>3</th>\n",
              "      <th>4</th>\n",
              "    </tr>\n",
              "  </thead>\n",
              "  <tbody>\n",
              "    <tr>\n",
              "      <th>0</th>\n",
              "      <td>0.164556</td>\n",
              "      <td>-1.172058</td>\n",
              "      <td>1.141307</td>\n",
              "      <td>-0.763675</td>\n",
              "      <td>0.160376</td>\n",
              "    </tr>\n",
              "    <tr>\n",
              "      <th>1</th>\n",
              "      <td>-0.492619</td>\n",
              "      <td>-0.863654</td>\n",
              "      <td>1.350416</td>\n",
              "      <td>0.703941</td>\n",
              "      <td>-0.018390</td>\n",
              "    </tr>\n",
              "    <tr>\n",
              "      <th>2</th>\n",
              "      <td>0.112082</td>\n",
              "      <td>0.033757</td>\n",
              "      <td>1.639785</td>\n",
              "      <td>-0.888475</td>\n",
              "      <td>-1.124756</td>\n",
              "    </tr>\n",
              "  </tbody>\n",
              "</table>\n",
              "</div>\n",
              "      <button class=\"colab-df-convert\" onclick=\"convertToInteractive('df-0d289286-a91a-4e4b-9d26-61040784cb9b')\"\n",
              "              title=\"Convert this dataframe to an interactive table.\"\n",
              "              style=\"display:none;\">\n",
              "        \n",
              "  <svg xmlns=\"http://www.w3.org/2000/svg\" height=\"24px\"viewBox=\"0 0 24 24\"\n",
              "       width=\"24px\">\n",
              "    <path d=\"M0 0h24v24H0V0z\" fill=\"none\"/>\n",
              "    <path d=\"M18.56 5.44l.94 2.06.94-2.06 2.06-.94-2.06-.94-.94-2.06-.94 2.06-2.06.94zm-11 1L8.5 8.5l.94-2.06 2.06-.94-2.06-.94L8.5 2.5l-.94 2.06-2.06.94zm10 10l.94 2.06.94-2.06 2.06-.94-2.06-.94-.94-2.06-.94 2.06-2.06.94z\"/><path d=\"M17.41 7.96l-1.37-1.37c-.4-.4-.92-.59-1.43-.59-.52 0-1.04.2-1.43.59L10.3 9.45l-7.72 7.72c-.78.78-.78 2.05 0 2.83L4 21.41c.39.39.9.59 1.41.59.51 0 1.02-.2 1.41-.59l7.78-7.78 2.81-2.81c.8-.78.8-2.07 0-2.86zM5.41 20L4 18.59l7.72-7.72 1.47 1.35L5.41 20z\"/>\n",
              "  </svg>\n",
              "      </button>\n",
              "      \n",
              "  <style>\n",
              "    .colab-df-container {\n",
              "      display:flex;\n",
              "      flex-wrap:wrap;\n",
              "      gap: 12px;\n",
              "    }\n",
              "\n",
              "    .colab-df-convert {\n",
              "      background-color: #E8F0FE;\n",
              "      border: none;\n",
              "      border-radius: 50%;\n",
              "      cursor: pointer;\n",
              "      display: none;\n",
              "      fill: #1967D2;\n",
              "      height: 32px;\n",
              "      padding: 0 0 0 0;\n",
              "      width: 32px;\n",
              "    }\n",
              "\n",
              "    .colab-df-convert:hover {\n",
              "      background-color: #E2EBFA;\n",
              "      box-shadow: 0px 1px 2px rgba(60, 64, 67, 0.3), 0px 1px 3px 1px rgba(60, 64, 67, 0.15);\n",
              "      fill: #174EA6;\n",
              "    }\n",
              "\n",
              "    [theme=dark] .colab-df-convert {\n",
              "      background-color: #3B4455;\n",
              "      fill: #D2E3FC;\n",
              "    }\n",
              "\n",
              "    [theme=dark] .colab-df-convert:hover {\n",
              "      background-color: #434B5C;\n",
              "      box-shadow: 0px 1px 3px 1px rgba(0, 0, 0, 0.15);\n",
              "      filter: drop-shadow(0px 1px 2px rgba(0, 0, 0, 0.3));\n",
              "      fill: #FFFFFF;\n",
              "    }\n",
              "  </style>\n",
              "\n",
              "      <script>\n",
              "        const buttonEl =\n",
              "          document.querySelector('#df-0d289286-a91a-4e4b-9d26-61040784cb9b button.colab-df-convert');\n",
              "        buttonEl.style.display =\n",
              "          google.colab.kernel.accessAllowed ? 'block' : 'none';\n",
              "\n",
              "        async function convertToInteractive(key) {\n",
              "          const element = document.querySelector('#df-0d289286-a91a-4e4b-9d26-61040784cb9b');\n",
              "          const dataTable =\n",
              "            await google.colab.kernel.invokeFunction('convertToInteractive',\n",
              "                                                     [key], {});\n",
              "          if (!dataTable) return;\n",
              "\n",
              "          const docLinkHtml = 'Like what you see? Visit the ' +\n",
              "            '<a target=\"_blank\" href=https://colab.research.google.com/notebooks/data_table.ipynb>data table notebook</a>'\n",
              "            + ' to learn more about interactive tables.';\n",
              "          element.innerHTML = '';\n",
              "          dataTable['output_type'] = 'display_data';\n",
              "          await google.colab.output.renderOutput(dataTable, element);\n",
              "          const docLink = document.createElement('div');\n",
              "          docLink.innerHTML = docLinkHtml;\n",
              "          element.appendChild(docLink);\n",
              "        }\n",
              "      </script>\n",
              "    </div>\n",
              "  </div>\n",
              "  "
            ],
            "text/plain": [
              "          0         1         2         3         4\n",
              "0  0.164556 -1.172058  1.141307 -0.763675  0.160376\n",
              "1 -0.492619 -0.863654  1.350416  0.703941 -0.018390\n",
              "2  0.112082  0.033757  1.639785 -0.888475 -1.124756"
            ]
          },
          "metadata": {},
          "execution_count": 18
        }
      ]
    },
    {
      "cell_type": "code",
      "source": [
        "d2"
      ],
      "metadata": {
        "colab": {
          "base_uri": "https://localhost:8080/",
          "height": 143
        },
        "id": "2DZrhf72GMwN",
        "outputId": "3b8c9461-10ea-4210-b4eb-2d8a0d43cecb"
      },
      "execution_count": 19,
      "outputs": [
        {
          "output_type": "execute_result",
          "data": {
            "text/html": [
              "\n",
              "  <div id=\"df-2bfea6eb-28af-4e79-ae2a-1741dc527217\">\n",
              "    <div class=\"colab-df-container\">\n",
              "      <div>\n",
              "<style scoped>\n",
              "    .dataframe tbody tr th:only-of-type {\n",
              "        vertical-align: middle;\n",
              "    }\n",
              "\n",
              "    .dataframe tbody tr th {\n",
              "        vertical-align: top;\n",
              "    }\n",
              "\n",
              "    .dataframe thead th {\n",
              "        text-align: right;\n",
              "    }\n",
              "</style>\n",
              "<table border=\"1\" class=\"dataframe\">\n",
              "  <thead>\n",
              "    <tr style=\"text-align: right;\">\n",
              "      <th></th>\n",
              "      <th>0</th>\n",
              "      <th>1</th>\n",
              "      <th>2</th>\n",
              "      <th>3</th>\n",
              "      <th>4</th>\n",
              "    </tr>\n",
              "  </thead>\n",
              "  <tbody>\n",
              "    <tr>\n",
              "      <th>0</th>\n",
              "      <td>True</td>\n",
              "      <td>False</td>\n",
              "      <td>True</td>\n",
              "      <td>False</td>\n",
              "      <td>True</td>\n",
              "    </tr>\n",
              "    <tr>\n",
              "      <th>1</th>\n",
              "      <td>False</td>\n",
              "      <td>False</td>\n",
              "      <td>True</td>\n",
              "      <td>True</td>\n",
              "      <td>False</td>\n",
              "    </tr>\n",
              "    <tr>\n",
              "      <th>2</th>\n",
              "      <td>True</td>\n",
              "      <td>True</td>\n",
              "      <td>True</td>\n",
              "      <td>False</td>\n",
              "      <td>False</td>\n",
              "    </tr>\n",
              "  </tbody>\n",
              "</table>\n",
              "</div>\n",
              "      <button class=\"colab-df-convert\" onclick=\"convertToInteractive('df-2bfea6eb-28af-4e79-ae2a-1741dc527217')\"\n",
              "              title=\"Convert this dataframe to an interactive table.\"\n",
              "              style=\"display:none;\">\n",
              "        \n",
              "  <svg xmlns=\"http://www.w3.org/2000/svg\" height=\"24px\"viewBox=\"0 0 24 24\"\n",
              "       width=\"24px\">\n",
              "    <path d=\"M0 0h24v24H0V0z\" fill=\"none\"/>\n",
              "    <path d=\"M18.56 5.44l.94 2.06.94-2.06 2.06-.94-2.06-.94-.94-2.06-.94 2.06-2.06.94zm-11 1L8.5 8.5l.94-2.06 2.06-.94-2.06-.94L8.5 2.5l-.94 2.06-2.06.94zm10 10l.94 2.06.94-2.06 2.06-.94-2.06-.94-.94-2.06-.94 2.06-2.06.94z\"/><path d=\"M17.41 7.96l-1.37-1.37c-.4-.4-.92-.59-1.43-.59-.52 0-1.04.2-1.43.59L10.3 9.45l-7.72 7.72c-.78.78-.78 2.05 0 2.83L4 21.41c.39.39.9.59 1.41.59.51 0 1.02-.2 1.41-.59l7.78-7.78 2.81-2.81c.8-.78.8-2.07 0-2.86zM5.41 20L4 18.59l7.72-7.72 1.47 1.35L5.41 20z\"/>\n",
              "  </svg>\n",
              "      </button>\n",
              "      \n",
              "  <style>\n",
              "    .colab-df-container {\n",
              "      display:flex;\n",
              "      flex-wrap:wrap;\n",
              "      gap: 12px;\n",
              "    }\n",
              "\n",
              "    .colab-df-convert {\n",
              "      background-color: #E8F0FE;\n",
              "      border: none;\n",
              "      border-radius: 50%;\n",
              "      cursor: pointer;\n",
              "      display: none;\n",
              "      fill: #1967D2;\n",
              "      height: 32px;\n",
              "      padding: 0 0 0 0;\n",
              "      width: 32px;\n",
              "    }\n",
              "\n",
              "    .colab-df-convert:hover {\n",
              "      background-color: #E2EBFA;\n",
              "      box-shadow: 0px 1px 2px rgba(60, 64, 67, 0.3), 0px 1px 3px 1px rgba(60, 64, 67, 0.15);\n",
              "      fill: #174EA6;\n",
              "    }\n",
              "\n",
              "    [theme=dark] .colab-df-convert {\n",
              "      background-color: #3B4455;\n",
              "      fill: #D2E3FC;\n",
              "    }\n",
              "\n",
              "    [theme=dark] .colab-df-convert:hover {\n",
              "      background-color: #434B5C;\n",
              "      box-shadow: 0px 1px 3px 1px rgba(0, 0, 0, 0.15);\n",
              "      filter: drop-shadow(0px 1px 2px rgba(0, 0, 0, 0.3));\n",
              "      fill: #FFFFFF;\n",
              "    }\n",
              "  </style>\n",
              "\n",
              "      <script>\n",
              "        const buttonEl =\n",
              "          document.querySelector('#df-2bfea6eb-28af-4e79-ae2a-1741dc527217 button.colab-df-convert');\n",
              "        buttonEl.style.display =\n",
              "          google.colab.kernel.accessAllowed ? 'block' : 'none';\n",
              "\n",
              "        async function convertToInteractive(key) {\n",
              "          const element = document.querySelector('#df-2bfea6eb-28af-4e79-ae2a-1741dc527217');\n",
              "          const dataTable =\n",
              "            await google.colab.kernel.invokeFunction('convertToInteractive',\n",
              "                                                     [key], {});\n",
              "          if (!dataTable) return;\n",
              "\n",
              "          const docLinkHtml = 'Like what you see? Visit the ' +\n",
              "            '<a target=\"_blank\" href=https://colab.research.google.com/notebooks/data_table.ipynb>data table notebook</a>'\n",
              "            + ' to learn more about interactive tables.';\n",
              "          element.innerHTML = '';\n",
              "          dataTable['output_type'] = 'display_data';\n",
              "          await google.colab.output.renderOutput(dataTable, element);\n",
              "          const docLink = document.createElement('div');\n",
              "          docLink.innerHTML = docLinkHtml;\n",
              "          element.appendChild(docLink);\n",
              "        }\n",
              "      </script>\n",
              "    </div>\n",
              "  </div>\n",
              "  "
            ],
            "text/plain": [
              "       0      1     2      3      4\n",
              "0   True  False  True  False   True\n",
              "1  False  False  True   True  False\n",
              "2   True   True  True  False  False"
            ]
          },
          "metadata": {},
          "execution_count": 19
        }
      ]
    },
    {
      "cell_type": "code",
      "source": [
        "d3 = d1 * d2"
      ],
      "metadata": {
        "id": "3MvF3oA0GOmk"
      },
      "execution_count": 20,
      "outputs": []
    },
    {
      "cell_type": "code",
      "source": [
        "sorted(d3.values.flatten())[::-1]"
      ],
      "metadata": {
        "colab": {
          "base_uri": "https://localhost:8080/"
        },
        "id": "ewOQO4bwGWp7",
        "outputId": "efa6af3d-8a85-49a2-af48-dd783ddeeb3b"
      },
      "execution_count": 21,
      "outputs": [
        {
          "output_type": "execute_result",
          "data": {
            "text/plain": [
              "[1.6397852318999873,\n",
              " 1.3504157860648838,\n",
              " 1.1413068752472457,\n",
              " 0.7039411607769974,\n",
              " 0.16455616780581764,\n",
              " 0.160376430254884,\n",
              " 0.11208209616660797,\n",
              " 0.03375657266174054,\n",
              " -0.0,\n",
              " -0.0,\n",
              " -0.0,\n",
              " -0.0,\n",
              " -0.0,\n",
              " -0.0,\n",
              " -0.0]"
            ]
          },
          "metadata": {},
          "execution_count": 21
        }
      ]
    },
    {
      "cell_type": "code",
      "source": [
        "Image('temp_image.png')"
      ],
      "metadata": {
        "colab": {
          "base_uri": "https://localhost:8080/",
          "height": 353
        },
        "id": "qYXdwYI8OlD8",
        "outputId": "151128a4-492f-4202-dfc9-164f8526e29d"
      },
      "execution_count": 22,
      "outputs": [
        {
          "output_type": "execute_result",
          "data": {
            "image/png": "[encoded data removed]",
            "text/plain": [
              "<IPython.core.display.Image object>"
            ]
          },
          "metadata": {},
          "execution_count": 22
        }
      ]
    },
    {
      "cell_type": "code",
      "source": [
        "#antes (com e sem fana)\n",
        "numerator = docentes_per_categoria(docentes, cat_prof_coord)\n",
        "denominator = docentes_per_categoria(docentes, cat_todas)"
      ],
      "metadata": {
        "id": "EIExQULGXhb2"
      },
      "execution_count": 23,
      "outputs": []
    },
    {
      "cell_type": "code",
      "source": [
        "#depois\n",
        "s = step_by_step(16, numerator, denominator)\n",
        "numerator += s"
      ],
      "metadata": {
        "id": "vTcRzfr2Xprp",
        "colab": {
          "base_uri": "https://localhost:8080/"
        },
        "outputId": "ec367874-9d27-4e64-e534-5729609ec8ba"
      },
      "execution_count": 24,
      "outputs": [
        {
          "output_type": "stream",
          "name": "stdout",
          "text": [
            "{'DEC': [2, 7, 12], 'DEEEA': [15], 'DEETC': [3, 5, 6, 9, 10, 13, 14], 'DEM': [], 'DEQ': [], 'DF': [], 'DM': [1, 4, 8, 11, 16]}\n"
          ]
        }
      ]
    },
    {
      "cell_type": "code",
      "source": [
        "numerator"
      ],
      "metadata": {
        "colab": {
          "base_uri": "https://localhost:8080/"
        },
        "id": "JCXPsbnAXx5O",
        "outputId": "893386f3-b8a8-410b-9a99-418f62172469"
      },
      "execution_count": 25,
      "outputs": [
        {
          "output_type": "execute_result",
          "data": {
            "text/plain": [
              "DEC      11.0\n",
              "DEEEA     9.0\n",
              "DEETC    26.0\n",
              "DEM      10.0\n",
              "DEQ       8.0\n",
              "DF        7.0\n",
              "DM       15.0\n",
              "Name: ETI, dtype: float64"
            ]
          },
          "metadata": {},
          "execution_count": 25
        }
      ]
    },
    {
      "cell_type": "code",
      "source": [
        "numerator"
      ],
      "metadata": {
        "colab": {
          "base_uri": "https://localhost:8080/"
        },
        "id": "DwL0daKJX3I2",
        "outputId": "7ccfb0d0-6b46-445e-8c88-ed0a256a5635"
      },
      "execution_count": 26,
      "outputs": [
        {
          "output_type": "execute_result",
          "data": {
            "text/plain": [
              "DEC      11.0\n",
              "DEEEA     9.0\n",
              "DEETC    26.0\n",
              "DEM      10.0\n",
              "DEQ       8.0\n",
              "DF        7.0\n",
              "DM       15.0\n",
              "Name: ETI, dtype: float64"
            ]
          },
          "metadata": {},
          "execution_count": 26
        }
      ]
    },
    {
      "cell_type": "code",
      "source": [
        "# Calcular entropia antes e depois e ter a diferença como critério"
      ],
      "metadata": {
        "id": "RS8IccEOmKcZ"
      },
      "execution_count": 27,
      "outputs": []
    }
  ]
}