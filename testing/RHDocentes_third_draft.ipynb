{
  "cells": [
    {
      "cell_type": "markdown",
      "metadata": {
        "id": "view-in-github",
        "colab_type": "text"
      },
      "source": [
        "<a href=\"https://colab.research.google.com/github/arjoca/RHDocentes/blob/main/RHDocentes_third_draft.ipynb\" target=\"_parent\"><img src=\"https://colab.research.google.com/assets/colab-badge.svg\" alt=\"Open In Colab\"/></a>"
      ]
    },
    {
      "cell_type": "markdown",
      "source": [
        "# Preparação"
      ],
      "metadata": {
        "id": "0yCt8aqB5l7E"
      }
    },
    {
      "cell_type": "markdown",
      "source": [
        "## Fontes de informação\n",
        "\n",
        "\n",
        "*   Ficheiro \"Afetacao_Financeira_ADs_Cursos_2021_v01.xlsx\"\n",
        "*   Ficheiro \"RAIDES_0.xlsx\""
      ],
      "metadata": {
        "id": "pXnpQt3WX4Gx"
      }
    },
    {
      "cell_type": "markdown",
      "source": [
        "## Importação de módulos e leitura de dados"
      ],
      "metadata": {
        "id": "xJSzWgluYn23"
      }
    },
    {
      "cell_type": "code",
      "source": [
        "# instalação de módulos\n",
        "!pip install squarify"
      ],
      "metadata": {
        "colab": {
          "base_uri": "https://localhost:8080/"
        },
        "id": "1g-lq__b6Ouk",
        "outputId": "bdd5d091-0895-428f-a6e8-a6bb554ca414"
      },
      "execution_count": null,
      "outputs": [
        {
          "output_type": "stream",
          "name": "stdout",
          "text": [
            "Collecting squarify\n",
            "  Downloading squarify-0.4.3-py3-none-any.whl (4.3 kB)\n",
            "Installing collected packages: squarify\n",
            "Successfully installed squarify-0.4.3\n"
          ]
        }
      ]
    },
    {
      "cell_type": "code",
      "source": [
        "# importação de módulos\n",
        "import numpy as np\n",
        "import pandas as pd\n",
        "import matplotlib.pyplot as plt\n",
        "from datetime import datetime, timedelta\n",
        "import squarify\n",
        "from ipywidgets import interact"
      ],
      "metadata": {
        "id": "7ixqURkcmS3k"
      },
      "execution_count": null,
      "outputs": []
    },
    {
      "cell_type": "code",
      "source": [
        "# Leitura de dados\n",
        "base_url = 'https://raw.githubusercontent.com/arjoca/RHDocentes/main/'\n",
        "docentes = pd.read_csv(base_url + 'docentes.csv', encoding= 'unicode_escape', \n",
        "                       parse_dates=['Data Nascimento'], infer_datetime_format=True)\n",
        "alunos_per_curso = pd.read_csv(base_url + 'alunos.csv', encoding= 'unicode_escape', index_col=0)\n",
        "horas = pd.read_csv(base_url + 'horas.csv', encoding= 'unicode_escape', index_col=0)"
      ],
      "metadata": {
        "id": "zrRGfIA3NOss"
      },
      "execution_count": null,
      "outputs": []
    },
    {
      "cell_type": "code",
      "source": [
        "# Designações dos cursos e departamentos\n",
        "LISTA_DEPTS = docentes['Departamento'].unique()\n",
        "LISTA_CURSOS = alunos_per_curso.index.unique()"
      ],
      "metadata": {
        "id": "2cJVoDWu818g"
      },
      "execution_count": null,
      "outputs": []
    },
    {
      "cell_type": "code",
      "source": [
        "# Designações das categorias de docentes\n",
        "cat_prof_coord = ['Prof. Coordenador', 'Prof. Coordenador c/ Agreg. ', 'Professor Coordenador Principal']\n",
        "cat_convidado = ['Assistente Convidado', 'Professor Adjunto Convidado']\n",
        "cat_adjunto = ['Professor Adjunto']\n",
        "cat_assistente = ['Assistente do 2.Âº TriÃ©nio', 'Assistente', 'Equiparado Assistente 2Âº TriÃ©nio']\n",
        "cat_monitor = ['Monitor']\n",
        "cat_quadro = cat_prof_coord + cat_adjunto"
      ],
      "metadata": {
        "id": "kq3S29pd66vU"
      },
      "execution_count": null,
      "outputs": []
    },
    {
      "cell_type": "markdown",
      "metadata": {
        "id": "HVQRAlitw5mf"
      },
      "source": [
        "## Definição de funções"
      ]
    },
    {
      "cell_type": "code",
      "source": [
        "# Filtragem de docentes atendendo à sua idade de aposentação \n",
        "def aposentados_e_ativos(df, ano, idade_reforma):\n",
        "    idade = (datetime(ano, 1, 1) - df['Data Nascimento'])/timedelta(days=365.25)\n",
        "    aposentados = df[idade > idade_reforma]\n",
        "    ativos = df.drop(index=aposentados.index)\n",
        "    return aposentados, ativos"
      ],
      "metadata": {
        "id": "2zOZwwGOLYRm"
      },
      "execution_count": null,
      "outputs": []
    },
    {
      "cell_type": "code",
      "source": [
        "# Filtragem de docentes atendendo à sua categoria\n",
        "def docentes_per_categoria(df, categoria):\n",
        "  s = df.groupby(['Departamento', 'Categoria'])['ETI'].count()\n",
        "  s = s.loc[(slice(None), categoria)]\n",
        "  s = s.droplevel(level=1)\n",
        "  s = s.groupby(s.index).sum()\n",
        "  s = pd.Series(s, index=LISTA_DEPTS)\n",
        "  return s.fillna(0)"
      ],
      "metadata": {
        "id": "WrlMDKJQ-Fub"
      },
      "execution_count": null,
      "outputs": []
    },
    {
      "cell_type": "markdown",
      "source": [
        "# Exploração de dados"
      ],
      "metadata": {
        "id": "wwRnjBWD6e8O"
      }
    },
    {
      "cell_type": "markdown",
      "source": [
        "## Elementos constantes (para simplificar)"
      ],
      "metadata": {
        "id": "uATfuhqX6uT6"
      }
    },
    {
      "cell_type": "code",
      "execution_count": null,
      "metadata": {
        "pycharm": {
          "name": "#%%\n"
        },
        "id": "_ttb1fV3w5mm"
      },
      "outputs": [],
      "source": [
        "# Elementos constantes (time independent features)\n",
        "# Simplificação: constância do número de alunos e das horas de contacto \n",
        "horas_per_dept = horas.sum()\n",
        "horas_per_curso = horas.sum(axis=1)\n",
        "\n",
        "pesos_dept_per_curso = horas.T / horas_per_curso\n",
        "pesos_curso_per_dept = horas / horas_per_dept\n",
        "alunos_per_dept = pd.DataFrame(np.dot(pesos_dept_per_curso, alunos_per_curso),\n",
        "                              index=pesos_dept_per_curso.index, columns=['Alunos'])\n",
        "alunos_per_dept = alunos_per_dept['Alunos']\n",
        "alunos_per_curso = alunos_per_curso['Alunos']"
      ]
    },
    {
      "cell_type": "markdown",
      "source": [
        "### Fotografia do ISEL hoje (2022)"
      ],
      "metadata": {
        "id": "wk8xq6FrmvJa"
      }
    },
    {
      "cell_type": "code",
      "source": [
        "# Eficiência relativa dos departamentos/cursos\n",
        "ratio_aluno_hora_ISEL = alunos_per_curso.sum() / horas_per_curso.sum()\n",
        "eff_per_dept = 100 * alunos_per_dept / horas_per_dept / ratio_aluno_hora_ISEL\n",
        "eff_per_curso = 100 * alunos_per_curso / horas_per_curso / ratio_aluno_hora_ISEL\n",
        "eff_per_curso.dropna(inplace=True)"
      ],
      "metadata": {
        "id": "IR2mH2_ZmvJb"
      },
      "execution_count": null,
      "outputs": []
    },
    {
      "cell_type": "code",
      "source": [
        "# Figura com eficiência relativa de cada departamento\n",
        "plt.figure(1, figsize=(14, 3))\n",
        "eff_per_dept.plot.bar()\n",
        "plt.axhline(y=100,linewidth=2, color='#d62728')\n",
        "plt.suptitle('Eficiência relativa de cada departamento')"
      ],
      "metadata": {
        "colab": {
          "base_uri": "https://localhost:8080/",
          "height": 273
        },
        "id": "NohMOjfHuM4Z",
        "outputId": "d69482bc-f7c2-476d-dd59-41b2df3a4334"
      },
      "execution_count": null,
      "outputs": [
        {
          "output_type": "execute_result",
          "data": {
            "text/plain": [
              "Text(0.5, 0.98, 'Eficiência relativa de cada departamento')"
            ]
          },
          "metadata": {},
          "execution_count": 10
        },
        {
          "output_type": "display_data",
          "data": {
            "image/png": "[encoded data removed]",
            "text/plain": [
              "<Figure size 1008x216 with 1 Axes>"
            ]
          },
          "metadata": {
            "needs_background": "light"
          }
        }
      ]
    },
    {
      "cell_type": "code",
      "source": [
        "# Figura com eficiência relativa de cada curso\n",
        "plt.figure(1, figsize=(14, 3))\n",
        "eff_per_curso.plot.bar()\n",
        "plt.axhline(y=100,linewidth=2, color='#d62728')\n",
        "plt.suptitle('Eficiência relativa de cada curso')"
      ],
      "metadata": {
        "colab": {
          "base_uri": "https://localhost:8080/",
          "height": 299
        },
        "outputId": "e3e16fb0-67ad-479b-85a0-f3183fd619df",
        "id": "Arc6MijzmvJl"
      },
      "execution_count": null,
      "outputs": [
        {
          "output_type": "execute_result",
          "data": {
            "text/plain": [
              "Text(0.5, 0.98, 'Eficiência relativa de cada curso')"
            ]
          },
          "metadata": {},
          "execution_count": 11
        },
        {
          "output_type": "display_data",
          "data": {
            "image/png": "[encoded data removed]",
            "text/plain": [
              "<Figure size 1008x216 with 1 Axes>"
            ]
          },
          "metadata": {
            "needs_background": "light"
          }
        }
      ]
    },
    {
      "cell_type": "code",
      "source": [
        "# Treemap com horas de cada departamento\n",
        "plt.figure(1, figsize=(8, 4))\n",
        "s = horas['DEETC'].copy()\n",
        "s.sort_values(ascending=False, inplace=True)\n",
        "s = s[s > 0]\n",
        "squarify.plot(sizes=s.values, label=s.index, pad=True)\n",
        "plt.axis('off')\n",
        "plt.suptitle('Recursos docentes por curso')"
      ],
      "metadata": {
        "colab": {
          "base_uri": "https://localhost:8080/",
          "height": 295
        },
        "id": "pbL9qP2Rgltt",
        "outputId": "99080f81-7022-4372-9803-3e5acd856b86"
      },
      "execution_count": null,
      "outputs": [
        {
          "output_type": "execute_result",
          "data": {
            "text/plain": [
              "Text(0.5, 0.98, 'Recursos docentes por curso')"
            ]
          },
          "metadata": {},
          "execution_count": 12
        },
        {
          "output_type": "display_data",
          "data": {
            "image/png": "[encoded data removed]",
            "text/plain": [
              "<Figure size 576x288 with 1 Axes>"
            ]
          },
          "metadata": {
            "needs_background": "light"
          }
        }
      ]
    },
    {
      "cell_type": "code",
      "source": [
        "# Treemap com alunos por cursos\n",
        "plt.figure(1, figsize=(8, 4))\n",
        "s = alunos_per_curso[11:].copy()\n",
        "s.sort_values(ascending=False, inplace=True)\n",
        "s = s[s > 0]\n",
        "squarify.plot(sizes=s.values, label=s.index, pad=True)\n",
        "plt.axis('off')\n",
        "plt.suptitle('Alunos por curso (licenciaturas)')"
      ],
      "metadata": {
        "colab": {
          "base_uri": "https://localhost:8080/",
          "height": 295
        },
        "id": "qJ7SOgcQ4wn7",
        "outputId": "9727059d-fa45-4787-a3ac-12054e370101"
      },
      "execution_count": null,
      "outputs": [
        {
          "output_type": "execute_result",
          "data": {
            "text/plain": [
              "Text(0.5, 0.98, 'Alunos por curso (licenciaturas)')"
            ]
          },
          "metadata": {},
          "execution_count": 13
        },
        {
          "output_type": "display_data",
          "data": {
            "image/png": "[encoded data removed]",
            "text/plain": [
              "<Figure size 576x288 with 1 Axes>"
            ]
          },
          "metadata": {
            "needs_background": "light"
          }
        }
      ]
    },
    {
      "cell_type": "markdown",
      "source": [
        "## Elementos que variam no tempo"
      ],
      "metadata": {
        "id": "rviuPpZs64JN"
      }
    },
    {
      "cell_type": "code",
      "source": [
        "ANO = 2022\n",
        "IDADE_REFORMA = 67\n",
        "aposentados, ativos = aposentados_e_ativos(docentes, ANO, IDADE_REFORMA)"
      ],
      "metadata": {
        "id": "5Q-1mg3eqctK"
      },
      "execution_count": null,
      "outputs": []
    },
    {
      "cell_type": "code",
      "source": [
        "# Rácio Alunos / ETI\n",
        "alunos_per_eti_isel = alunos_per_curso.sum() / ativos['ETI'].sum()\n",
        "eti_per_dept = ativos.groupby(['Departamento'])['ETI'].sum()\n",
        "alunos_per_eti_dept = alunos_per_dept / eti_per_dept\n",
        "alunos_per_eti_dept.dropna(inplace=True)"
      ],
      "metadata": {
        "id": "I2mGlnUZmvJm"
      },
      "execution_count": null,
      "outputs": []
    },
    {
      "cell_type": "markdown",
      "source": [
        "### ETIs por departamento"
      ],
      "metadata": {
        "id": "Jyxhm7-CxeWg"
      }
    },
    {
      "cell_type": "code",
      "source": [
        "# Figura com ETI por departamento\n",
        "plt.figure(1, figsize=(12, 3))\n",
        "eti_per_dept.plot.bar()\n",
        "plt.suptitle('Total de ETIs por departamento')"
      ],
      "metadata": {
        "colab": {
          "base_uri": "https://localhost:8080/"
        },
        "id": "2MHENvtzxoWk",
        "outputId": "a16f370f-560f-4b4e-c90b-578fe2170265"
      },
      "execution_count": null,
      "outputs": [
        {
          "output_type": "execute_result",
          "data": {
            "text/plain": [
              "Text(0.5, 0.98, 'Total de ETIs por departamento')"
            ]
          },
          "metadata": {},
          "execution_count": 16
        },
        {
          "output_type": "display_data",
          "data": {
            "image/png": "[encoded data removed]",
            "text/plain": [
              "<Figure size 864x216 with 1 Axes>"
            ]
          },
          "metadata": {
            "needs_background": "light"
          }
        }
      ]
    },
    {
      "cell_type": "markdown",
      "source": [
        "Fazer figura com os ETIs a diminuir com os anos"
      ],
      "metadata": {
        "id": "0lqxlYCdFOnp"
      }
    },
    {
      "cell_type": "code",
      "source": [
        "# Ritmo de aposentações\n",
        "ano_inicial = 2022\n",
        "ano_final = ano_inicial + 20\n",
        "df = pd.DataFrame()\n",
        "for ano in range(ano_inicial, ano_final+1):\n",
        "  ap, at = aposentados_e_ativos(docentes, ano, IDADE_REFORMA)\n",
        "  s = at.groupby(['Departamento'])['ETI'].sum()\n",
        "  s.name = str(ano)\n",
        "  df = df.append(s)\n",
        "\n",
        "percentage = df /df.loc[str(ano_inicial)]\n",
        "plt.figure(1, figsize=(12, 3))\n",
        "percentage.plot()\n",
        "plt.suptitle('Ritmo de aposentações por departamento')"
      ],
      "metadata": {
        "colab": {
          "base_uri": "https://localhost:8080/"
        },
        "id": "4mbDs9d4s8R_",
        "outputId": "3d275092-1996-480d-b355-96a48cdd4f12"
      },
      "execution_count": null,
      "outputs": [
        {
          "output_type": "execute_result",
          "data": {
            "text/plain": [
              "Text(0.5, 0.98, 'Ritmo de aposentações por departamento')"
            ]
          },
          "metadata": {},
          "execution_count": 17
        },
        {
          "output_type": "display_data",
          "data": {
            "text/plain": [
              "<Figure size 864x216 with 0 Axes>"
            ]
          },
          "metadata": {}
        },
        {
          "output_type": "display_data",
          "data": {
            "image/png": "[encoded data removed]",
            "text/plain": [
              "<Figure size 432x288 with 1 Axes>"
            ]
          },
          "metadata": {
            "needs_background": "light"
          }
        }
      ]
    },
    {
      "cell_type": "markdown",
      "source": [
        "### Rácio Alunos por ETI"
      ],
      "metadata": {
        "id": "an0R7cguEFSJ"
      }
    },
    {
      "cell_type": "code",
      "source": [
        "# Figura com rácio Alunos/ETI por departamento \n",
        "plt.figure(1, figsize=(14, 3))\n",
        "alunos_per_eti_dept.plot.bar()\n",
        "plt.axhline(y=alunos_per_eti_isel,linewidth=2, color='#d62728')\n",
        "plt.suptitle('Alunos / ETI')"
      ],
      "metadata": {
        "id": "2WtDsfhaoGUU",
        "colab": {
          "base_uri": "https://localhost:8080/"
        },
        "outputId": "2fadffe7-8d66-4bdd-bb53-eeada9d9d735"
      },
      "execution_count": null,
      "outputs": [
        {
          "output_type": "execute_result",
          "data": {
            "text/plain": [
              "Text(0.5, 0.98, 'Alunos / ETI')"
            ]
          },
          "metadata": {},
          "execution_count": 18
        },
        {
          "output_type": "display_data",
          "data": {
            "image/png": "[encoded data removed]",
            "text/plain": [
              "<Figure size 1008x216 with 1 Axes>"
            ]
          },
          "metadata": {
            "needs_background": "light"
          }
        }
      ]
    },
    {
      "cell_type": "markdown",
      "source": [
        "### ETIs em falta\n",
        "\n"
      ],
      "metadata": {
        "id": "7o9YF3e6sAiQ"
      }
    },
    {
      "cell_type": "code",
      "source": [
        "# VIANA (Valor Ideal Atendendo ao Número de Alunos)\n",
        "alunos_per_eti_ideal = alunos_per_eti_isel\n",
        "viana = alunos_per_dept / alunos_per_eti_ideal\n",
        "fana = viana - eti_per_dept"
      ],
      "metadata": {
        "id": "pn0AigK0rrlJ"
      },
      "execution_count": null,
      "outputs": []
    },
    {
      "cell_type": "code",
      "source": [
        "plt.figure(1, figsize=(12, 3))\n",
        "fana.plot.bar()\n",
        "plt.axhline(y=0,linewidth=2, color='#d62728')"
      ],
      "metadata": {
        "colab": {
          "base_uri": "https://localhost:8080/"
        },
        "id": "PXX8bhWirrUw",
        "outputId": "77953c25-a7ff-4ed4-dc14-1b9c55951d7a"
      },
      "execution_count": null,
      "outputs": [
        {
          "output_type": "execute_result",
          "data": {
            "text/plain": [
              "<matplotlib.lines.Line2D at 0x7fd618a224d0>"
            ]
          },
          "metadata": {},
          "execution_count": 20
        },
        {
          "output_type": "display_data",
          "data": {
            "image/png": "[encoded data removed]",
            "text/plain": [
              "<Figure size 864x216 with 1 Axes>"
            ]
          },
          "metadata": {
            "needs_background": "light"
          }
        }
      ]
    },
    {
      "cell_type": "markdown",
      "source": [
        "### Docentes por categoria"
      ],
      "metadata": {
        "id": "iVLYsbG3wQ-b"
      }
    },
    {
      "cell_type": "code",
      "source": [
        "categoria = cat_prof_coord"
      ],
      "metadata": {
        "id": "hjKUf5Jirc6I"
      },
      "execution_count": null,
      "outputs": []
    },
    {
      "cell_type": "code",
      "source": [
        "# Ritmo de aposentações na categoria\n",
        "ano_inicial = 2022\n",
        "ano_final = ano_inicial + 10\n",
        "df = pd.DataFrame()\n",
        "for ano in range(ano_inicial, ano_final+1):\n",
        "  ap, at = aposentados_e_ativos(docentes, ano, IDADE_REFORMA)\n",
        "  s = docentes_per_categoria(at, categoria)\n",
        "  s.name = str(ano)\n",
        "  df = df.append(s)\n",
        "\n",
        "percentage = df /df.loc[str(ano_inicial)]\n",
        "plt.figure(1, figsize=(12, 3))\n",
        "percentage.plot()\n",
        "plt.suptitle('Ritmo de aposentações na categoria por departamento')"
      ],
      "metadata": {
        "colab": {
          "base_uri": "https://localhost:8080/"
        },
        "id": "g1D_xRyY6Lk3",
        "outputId": "54c6edb4-36cf-4a6f-baa1-ff2c6ffa31a7"
      },
      "execution_count": null,
      "outputs": [
        {
          "output_type": "execute_result",
          "data": {
            "text/plain": [
              "Text(0.5, 0.98, 'Ritmo de aposentações na categoria por departamento')"
            ]
          },
          "metadata": {},
          "execution_count": 22
        },
        {
          "output_type": "display_data",
          "data": {
            "text/plain": [
              "<Figure size 864x216 with 0 Axes>"
            ]
          },
          "metadata": {}
        },
        {
          "output_type": "display_data",
          "data": {
            "image/png": "[encoded data removed]",
            "text/plain": [
              "<Figure size 432x288 with 1 Axes>"
            ]
          },
          "metadata": {
            "needs_background": "light"
          }
        }
      ]
    },
    {
      "cell_type": "code",
      "source": [
        "plt.figure(1, figsize=(14, 3))\n",
        "docentes_per_categoria(ativos, categoria).plot.bar()\n",
        "plt.suptitle(f'{categoria}')"
      ],
      "metadata": {
        "colab": {
          "base_uri": "https://localhost:8080/"
        },
        "id": "6l_p0zxvoGGo",
        "outputId": "360625cb-cd92-4a44-d309-6f2d6c3fe5a3"
      },
      "execution_count": null,
      "outputs": [
        {
          "output_type": "execute_result",
          "data": {
            "text/plain": [
              "Text(0.5, 0.98, \"['Prof. Coordenador', 'Prof. Coordenador c/ Agreg. ', 'Professor Coordenador Principal']\")"
            ]
          },
          "metadata": {},
          "execution_count": 23
        },
        {
          "output_type": "display_data",
          "data": {
            "image/png": "[encoded data removed]",
            "text/plain": [
              "<Figure size 1008x216 with 1 Axes>"
            ]
          },
          "metadata": {
            "needs_background": "light"
          }
        }
      ]
    },
    {
      "cell_type": "markdown",
      "source": [
        "# Equalização de recursos docentes"
      ],
      "metadata": {
        "id": "Lh3qVBW4wlZ2"
      }
    },
    {
      "cell_type": "markdown",
      "source": [
        "## Definir o rácio que se pretende uniformizar"
      ],
      "metadata": {
        "id": "2oR94jjKxDvf"
      }
    },
    {
      "cell_type": "code",
      "source": [
        "ratio_numerator = docentes_per_categoria(ativos, cat_prof_coord)"
      ],
      "metadata": {
        "id": "ijqlkfB1ybe_"
      },
      "execution_count": null,
      "outputs": []
    },
    {
      "cell_type": "code",
      "source": [
        "ratio_denominator_1 = docentes_per_categoria(ativos, cat_quadro)\n",
        "ratio_denominator_2 = docentes_per_categoria(ativos, cat_quadro) + \\\n",
        "          0.3*docentes_per_categoria(ativos, cat_convidado)\n",
        "ratio_denominator_3 = docentes_per_categoria(ativos, cat_quadro) + \\\n",
        "          0.3*docentes_per_categoria(ativos, cat_convidado) + fana"
      ],
      "metadata": {
        "id": "V0qB3Zd9xLQM"
      },
      "execution_count": null,
      "outputs": []
    },
    {
      "cell_type": "code",
      "source": [
        "ratio_denominator = ratio_denominator_1"
      ],
      "metadata": {
        "id": "R-_ct7F9y3Pt"
      },
      "execution_count": null,
      "outputs": []
    },
    {
      "cell_type": "code",
      "source": [
        "ratio = ratio_numerator / ratio_denominator"
      ],
      "metadata": {
        "id": "b8AEYL4d0Bk5"
      },
      "execution_count": null,
      "outputs": []
    },
    {
      "cell_type": "markdown",
      "source": [
        "## Bolo a distribuir"
      ],
      "metadata": {
        "id": "JId4ZrwP6aN1"
      }
    },
    {
      "cell_type": "code",
      "source": [
        "cake = 16\n",
        "target = 0.25"
      ],
      "metadata": {
        "id": "WJuw7No01kqH"
      },
      "execution_count": null,
      "outputs": []
    },
    {
      "cell_type": "markdown",
      "source": [
        "## Critérios de distribuição"
      ],
      "metadata": {
        "id": "S54Z8J2X6kBy"
      }
    },
    {
      "cell_type": "code",
      "source": [
        "def how_many_to_target(target):\n",
        "  s = ratio_denominator * target - ratio_numerator\n",
        "  s.clip(lower=0, inplace=True)\n",
        "  return s"
      ],
      "metadata": {
        "id": "EnKPrWo766Lk"
      },
      "execution_count": null,
      "outputs": []
    },
    {
      "cell_type": "code",
      "source": [
        "# METHOD 1 - Linear mapping\n",
        "def linear_map_to_cake(target, cake):\n",
        "  s = how_many_to_target(target)\n",
        "  return s / s.sum() * cake "
      ],
      "metadata": {
        "id": "PH-hcltM7rdX"
      },
      "execution_count": null,
      "outputs": []
    },
    {
      "cell_type": "code",
      "source": [
        "# METHOD 2 - D'Hondt\n",
        "def method_hondt_to_cake(target, cake):\n",
        "  s = how_many_to_target(target)\n",
        "  list_of_series = [s/i for i in range(1, cake+1)]\n",
        "  df = pd.concat(list_of_series, axis=1)\n",
        "  vals = np.sort(np.ravel(df.to_numpy(copy=True)))[-1::-1]\n",
        "  df = df >= vals[cake-1]\n",
        "  return df.sum(axis=1)"
      ],
      "metadata": {
        "id": "I2y870wg7vTN"
      },
      "execution_count": null,
      "outputs": []
    },
    {
      "cell_type": "code",
      "source": [
        "# METHOD 3 - Greedy iteration\n",
        "def one_at_a_time(cake):\n",
        "  numerator = ratio_numerator\n",
        "  denominator = ratio_denominator\n",
        "  s = pd.Series(data=0, index=LISTA_DEPTS)\n",
        "  for i in range(cake):\n",
        "    ratio = numerator / denominator\n",
        "    ix = ratio.idxmin()\n",
        "    s[ix] += 1\n",
        "    numerator[ix] += 1\n",
        "  return s"
      ],
      "metadata": {
        "id": "lZgexubL7u_T"
      },
      "execution_count": null,
      "outputs": []
    },
    {
      "cell_type": "code",
      "source": [
        "linear_map_to_cake(target, cake)"
      ],
      "metadata": {
        "colab": {
          "base_uri": "https://localhost:8080/"
        },
        "id": "P8rsYgLk9vLi",
        "outputId": "d4f14868-59c8-4c72-b582-9457d27afdd4"
      },
      "execution_count": null,
      "outputs": [
        {
          "output_type": "execute_result",
          "data": {
            "text/plain": [
              "DEEEA    0.507937\n",
              "DEETC    7.619048\n",
              "DEQ      0.507937\n",
              "DEM      0.000000\n",
              "DEC      2.793651\n",
              "DF       0.000000\n",
              "DM       4.571429\n",
              "Name: ETI, dtype: float64"
            ]
          },
          "metadata": {},
          "execution_count": 33
        }
      ]
    },
    {
      "cell_type": "code",
      "source": [
        "method_hondt_to_cake(target, cake)"
      ],
      "metadata": {
        "colab": {
          "base_uri": "https://localhost:8080/"
        },
        "id": "Vl0iuc6a953M",
        "outputId": "3e27d761-bce6-40fc-a56a-c6360d51ea89"
      },
      "execution_count": null,
      "outputs": [
        {
          "output_type": "execute_result",
          "data": {
            "text/plain": [
              "DEEEA    0\n",
              "DEETC    8\n",
              "DEQ      0\n",
              "DEM      0\n",
              "DEC      3\n",
              "DF       0\n",
              "DM       5\n",
              "dtype: int64"
            ]
          },
          "metadata": {},
          "execution_count": 34
        }
      ]
    },
    {
      "cell_type": "code",
      "source": [
        "one_at_a_time(cake)"
      ],
      "metadata": {
        "colab": {
          "base_uri": "https://localhost:8080/"
        },
        "id": "2rFBrIbI-EhJ",
        "outputId": "0c1d1209-05c4-4019-c0b6-90a29a41bdfa"
      },
      "execution_count": null,
      "outputs": [
        {
          "output_type": "execute_result",
          "data": {
            "text/plain": [
              "DEEEA    1\n",
              "DEETC    7\n",
              "DEQ      1\n",
              "DEM      0\n",
              "DEC      3\n",
              "DF       0\n",
              "DM       4\n",
              "dtype: int64"
            ]
          },
          "metadata": {},
          "execution_count": 35
        }
      ]
    },
    {
      "cell_type": "markdown",
      "source": [
        "# Testes"
      ],
      "metadata": {
        "id": "5tE2_Y7NzK7M"
      }
    },
    {
      "cell_type": "code",
      "execution_count": 78,
      "metadata": {
        "id": "mS2FEAGtw5mp",
        "colab": {
          "base_uri": "https://localhost:8080/",
          "height": 353,
          "referenced_widgets": [
            "4a09116a83474d22a80757588f531fd7",
            "078da59fee404179a11eec8391428ec0",
            "56835447ff1b42afadbee225ab94c973",
            "ceb2fec9844641ba9c1994274384025f",
            "117801aabfdb4c969362b913a916c85e",
            "9128e268e081426eb15ae846d7dcbefe",
            "5b0a41715d9543dbb44ab4b66781ea5d"
          ]
        },
        "outputId": "3c4e36b0-66cf-4001-aae8-7707abc7cc02"
      },
      "outputs": [
        {
          "output_type": "display_data",
          "data": {
            "text/plain": [
              "<Figure size 936x288 with 0 Axes>"
            ]
          },
          "metadata": {}
        },
        {
          "output_type": "display_data",
          "data": {
            "application/vnd.jupyter.widget-view+json": {
              "model_id": "4a09116a83474d22a80757588f531fd7",
              "version_minor": 0,
              "version_major": 2
            },
            "text/plain": [
              "interactive(children=(IntSlider(value=2032, description='ano', max=2042, min=2022), Output()), _dom_classes=('…"
            ]
          },
          "metadata": {}
        }
      ],
      "source": [
        "plt.figure(1, figsize=(13, 4))\n",
        "def func(ano):\n",
        "  IDADE_REFORMA = 70\n",
        "  aposentados, ativos = aposentados_e_ativos(docentes, ano, IDADE_REFORMA)\n",
        "  categorias = ['Professor Adjunto', 'Prof. Coordenador']\n",
        "  subset = ativos.groupby(['Departamento', 'Categoria'])['ETI'].count()\n",
        "  subset = subset.loc[(slice(None), categorias)]\n",
        "  subset = subset.droplevel(level=1)\n",
        "  subset = subset.groupby(subset.index).sum()\n",
        "  subset.plot.bar()\n",
        "\n",
        "w = interact(func, ano=(2022, 2042))   "
      ]
    }
  ],
  "metadata": {
    "kernelspec": {
      "display_name": "Python 3 (ipykernel)",
      "language": "python",
      "name": "python3"
    },
    "language_info": {
      "codemirror_mode": {
        "name": "ipython",
        "version": 3
      },
      "file_extension": ".py",
      "mimetype": "text/x-python",
      "name": "python",
      "nbconvert_exporter": "python",
      "pygments_lexer": "ipython3",
      "version": "3.9.7"
    },
    "colab": {
      "name": "RHDocentes_third_draft.ipynb",
      "provenance": [],
      "toc_visible": true,
      "include_colab_link": true
    },
    "widgets": {
      "application/vnd.jupyter.widget-state+json": {
        "4a09116a83474d22a80757588f531fd7": {
          "model_module": "@jupyter-widgets/controls",
          "model_name": "VBoxModel",
          "model_module_version": "1.5.0",
          "state": {
            "_view_name": "VBoxView",
            "_dom_classes": [
              "widget-interact"
            ],
            "_model_name": "VBoxModel",
            "_view_module": "@jupyter-widgets/controls",
            "_model_module_version": "1.5.0",
            "_view_count": null,
            "_view_module_version": "1.5.0",
            "box_style": "",
            "layout": "IPY_MODEL_078da59fee404179a11eec8391428ec0",
            "_model_module": "@jupyter-widgets/controls",
            "children": [
              "IPY_MODEL_56835447ff1b42afadbee225ab94c973",
              "IPY_MODEL_ceb2fec9844641ba9c1994274384025f"
            ]
          }
        },
        "078da59fee404179a11eec8391428ec0": {
          "model_module": "@jupyter-widgets/base",
          "model_name": "LayoutModel",
          "model_module_version": "1.2.0",
          "state": {
            "_view_name": "LayoutView",
            "grid_template_rows": null,
            "right": null,
            "justify_content": null,
            "_view_module": "@jupyter-widgets/base",
            "overflow": null,
            "_model_module_version": "1.2.0",
            "_view_count": null,
            "flex_flow": null,
            "width": null,
            "min_width": null,
            "border": null,
            "align_items": null,
            "bottom": null,
            "_model_module": "@jupyter-widgets/base",
            "top": null,
            "grid_column": null,
            "overflow_y": null,
            "overflow_x": null,
            "grid_auto_flow": null,
            "grid_area": null,
            "grid_template_columns": null,
            "flex": null,
            "_model_name": "LayoutModel",
            "justify_items": null,
            "grid_row": null,
            "max_height": null,
            "align_content": null,
            "visibility": null,
            "align_self": null,
            "height": null,
            "min_height": null,
            "padding": null,
            "grid_auto_rows": null,
            "grid_gap": null,
            "max_width": null,
            "order": null,
            "_view_module_version": "1.2.0",
            "grid_template_areas": null,
            "object_position": null,
            "object_fit": null,
            "grid_auto_columns": null,
            "margin": null,
            "display": null,
            "left": null
          }
        },
        "56835447ff1b42afadbee225ab94c973": {
          "model_module": "@jupyter-widgets/controls",
          "model_name": "IntSliderModel",
          "model_module_version": "1.5.0",
          "state": {
            "_view_name": "IntSliderView",
            "style": "IPY_MODEL_117801aabfdb4c969362b913a916c85e",
            "_dom_classes": [],
            "description": "ano",
            "step": 1,
            "_model_name": "IntSliderModel",
            "orientation": "horizontal",
            "max": 2042,
            "_view_module": "@jupyter-widgets/controls",
            "_model_module_version": "1.5.0",
            "value": 2025,
            "_view_count": null,
            "disabled": false,
            "_view_module_version": "1.5.0",
            "min": 2022,
            "continuous_update": true,
            "readout_format": "d",
            "description_tooltip": null,
            "readout": true,
            "_model_module": "@jupyter-widgets/controls",
            "layout": "IPY_MODEL_9128e268e081426eb15ae846d7dcbefe"
          }
        },
        "ceb2fec9844641ba9c1994274384025f": {
          "model_module": "@jupyter-widgets/output",
          "model_name": "OutputModel",
          "model_module_version": "1.0.0",
          "state": {
            "_view_name": "OutputView",
            "msg_id": "",
            "_dom_classes": [],
            "_model_name": "OutputModel",
            "outputs": [
              {
                "output_type": "display_data",
                "data": {
                  "image/png": "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\n",
                  "text/plain": "<Figure size 432x288 with 1 Axes>"
                },
                "metadata": {
                  "needs_background": "light"
                }
              }
            ],
            "_view_module": "@jupyter-widgets/output",
            "_model_module_version": "1.0.0",
            "_view_count": null,
            "_view_module_version": "1.0.0",
            "layout": "IPY_MODEL_5b0a41715d9543dbb44ab4b66781ea5d",
            "_model_module": "@jupyter-widgets/output"
          }
        },
        "117801aabfdb4c969362b913a916c85e": {
          "model_module": "@jupyter-widgets/controls",
          "model_name": "SliderStyleModel",
          "model_module_version": "1.5.0",
          "state": {
            "_view_name": "StyleView",
            "handle_color": null,
            "_model_name": "SliderStyleModel",
            "description_width": "",
            "_view_module": "@jupyter-widgets/base",
            "_model_module_version": "1.5.0",
            "_view_count": null,
            "_view_module_version": "1.2.0",
            "_model_module": "@jupyter-widgets/controls"
          }
        },
        "9128e268e081426eb15ae846d7dcbefe": {
          "model_module": "@jupyter-widgets/base",
          "model_name": "LayoutModel",
          "model_module_version": "1.2.0",
          "state": {
            "_view_name": "LayoutView",
            "grid_template_rows": null,
            "right": null,
            "justify_content": null,
            "_view_module": "@jupyter-widgets/base",
            "overflow": null,
            "_model_module_version": "1.2.0",
            "_view_count": null,
            "flex_flow": null,
            "width": null,
            "min_width": null,
            "border": null,
            "align_items": null,
            "bottom": null,
            "_model_module": "@jupyter-widgets/base",
            "top": null,
            "grid_column": null,
            "overflow_y": null,
            "overflow_x": null,
            "grid_auto_flow": null,
            "grid_area": null,
            "grid_template_columns": null,
            "flex": null,
            "_model_name": "LayoutModel",
            "justify_items": null,
            "grid_row": null,
            "max_height": null,
            "align_content": null,
            "visibility": null,
            "align_self": null,
            "height": null,
            "min_height": null,
            "padding": null,
            "grid_auto_rows": null,
            "grid_gap": null,
            "max_width": null,
            "order": null,
            "_view_module_version": "1.2.0",
            "grid_template_areas": null,
            "object_position": null,
            "object_fit": null,
            "grid_auto_columns": null,
            "margin": null,
            "display": null,
            "left": null
          }
        },
        "5b0a41715d9543dbb44ab4b66781ea5d": {
          "model_module": "@jupyter-widgets/base",
          "model_name": "LayoutModel",
          "model_module_version": "1.2.0",
          "state": {
            "_view_name": "LayoutView",
            "grid_template_rows": null,
            "right": null,
            "justify_content": null,
            "_view_module": "@jupyter-widgets/base",
            "overflow": null,
            "_model_module_version": "1.2.0",
            "_view_count": null,
            "flex_flow": null,
            "width": null,
            "min_width": null,
            "border": null,
            "align_items": null,
            "bottom": null,
            "_model_module": "@jupyter-widgets/base",
            "top": null,
            "grid_column": null,
            "overflow_y": null,
            "overflow_x": null,
            "grid_auto_flow": null,
            "grid_area": null,
            "grid_template_columns": null,
            "flex": null,
            "_model_name": "LayoutModel",
            "justify_items": null,
            "grid_row": null,
            "max_height": null,
            "align_content": null,
            "visibility": null,
            "align_self": null,
            "height": null,
            "min_height": null,
            "padding": null,
            "grid_auto_rows": null,
            "grid_gap": null,
            "max_width": null,
            "order": null,
            "_view_module_version": "1.2.0",
            "grid_template_areas": null,
            "object_position": null,
            "object_fit": null,
            "grid_auto_columns": null,
            "margin": null,
            "display": null,
            "left": null
          }
        }
      }
    }
  },
  "nbformat": 4,
  "nbformat_minor": 0
}
