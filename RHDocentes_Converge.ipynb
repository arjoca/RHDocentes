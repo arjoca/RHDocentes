{
  "nbformat": 4,
  "nbformat_minor": 0,
  "metadata": {
    "colab": {
      "name": "RHDocentes_Converge.ipynb",
      "provenance": [],
      "toc_visible": true,
      "authorship_tag": "ABX9TyMaD3mpE4nKRSYU8CIXU3mG",
      "include_colab_link": true
    },
    "kernelspec": {
      "name": "python3",
      "display_name": "Python 3"
    },
    "language_info": {
      "name": "python"
    },
    "widgets": {
      "application/vnd.jupyter.widget-state+json": {
        "237dc3c8007d4cc0925f73a03b79c6ce": {
          "model_module": "@jupyter-widgets/controls",
          "model_name": "VBoxModel",
          "model_module_version": "1.5.0",
          "state": {
            "_view_name": "VBoxView",
            "_dom_classes": [
              "widget-interact"
            ],
            "_model_name": "VBoxModel",
            "_view_module": "@jupyter-widgets/controls",
            "_model_module_version": "1.5.0",
            "_view_count": null,
            "_view_module_version": "1.5.0",
            "box_style": "",
            "layout": "IPY_MODEL_5408bfb6f1e245ea9e02f2b2ef1a4b83",
            "_model_module": "@jupyter-widgets/controls",
            "children": [
              "IPY_MODEL_28c4ff55e4704bcfbfbb09083019d1be",
              "IPY_MODEL_5b2ced9f1b9f4499be95831b79c3da92",
              "IPY_MODEL_63bce50a1fe743a0881115de1034ccd3",
              "IPY_MODEL_0ae41584086046a293ff2de6412cd03d",
              "IPY_MODEL_1252404b98554290bca0e83a20047090",
              "IPY_MODEL_c7b4b1e175a44fb6a3b0c55f01c40865",
              "IPY_MODEL_1b2e07ecf7d9492e808aef5eab82bab2"
            ]
          }
        },
        "5408bfb6f1e245ea9e02f2b2ef1a4b83": {
          "model_module": "@jupyter-widgets/base",
          "model_name": "LayoutModel",
          "model_module_version": "1.2.0",
          "state": {
            "_view_name": "LayoutView",
            "grid_template_rows": null,
            "right": null,
            "justify_content": null,
            "_view_module": "@jupyter-widgets/base",
            "overflow": null,
            "_model_module_version": "1.2.0",
            "_view_count": null,
            "flex_flow": null,
            "width": null,
            "min_width": null,
            "border": null,
            "align_items": null,
            "bottom": null,
            "_model_module": "@jupyter-widgets/base",
            "top": null,
            "grid_column": null,
            "overflow_y": null,
            "overflow_x": null,
            "grid_auto_flow": null,
            "grid_area": null,
            "grid_template_columns": null,
            "flex": null,
            "_model_name": "LayoutModel",
            "justify_items": null,
            "grid_row": null,
            "max_height": null,
            "align_content": null,
            "visibility": null,
            "align_self": null,
            "height": null,
            "min_height": null,
            "padding": null,
            "grid_auto_rows": null,
            "grid_gap": null,
            "max_width": null,
            "order": null,
            "_view_module_version": "1.2.0",
            "grid_template_areas": null,
            "object_position": null,
            "object_fit": null,
            "grid_auto_columns": null,
            "margin": null,
            "display": null,
            "left": null
          }
        },
        "28c4ff55e4704bcfbfbb09083019d1be": {
          "model_module": "@jupyter-widgets/controls",
          "model_name": "IntSliderModel",
          "model_module_version": "1.5.0",
          "state": {
            "_view_name": "IntSliderView",
            "style": "IPY_MODEL_64aad1ea74004927a20cbed45edfbeea",
            "_dom_classes": [],
            "description": "cake",
            "step": 1,
            "_model_name": "IntSliderModel",
            "orientation": "horizontal",
            "max": 45,
            "_view_module": "@jupyter-widgets/controls",
            "_model_module_version": "1.5.0",
            "value": 16,
            "_view_count": null,
            "disabled": false,
            "_view_module_version": "1.5.0",
            "min": 1,
            "continuous_update": true,
            "readout_format": "d",
            "description_tooltip": null,
            "readout": true,
            "_model_module": "@jupyter-widgets/controls",
            "layout": "IPY_MODEL_c9847a0384664a949bcfa5b2189413e5"
          }
        },
        "5b2ced9f1b9f4499be95831b79c3da92": {
          "model_module": "@jupyter-widgets/controls",
          "model_name": "FloatSliderModel",
          "model_module_version": "1.5.0",
          "state": {
            "_view_name": "FloatSliderView",
            "style": "IPY_MODEL_449f5367f12744209a1c0f458ba891ce",
            "_dom_classes": [],
            "description": "target",
            "step": 0.1,
            "_model_name": "FloatSliderModel",
            "orientation": "horizontal",
            "max": 0.5,
            "_view_module": "@jupyter-widgets/controls",
            "_model_module_version": "1.5.0",
            "value": 0.25,
            "_view_count": null,
            "disabled": false,
            "_view_module_version": "1.5.0",
            "min": 0.1,
            "continuous_update": true,
            "readout_format": ".2f",
            "description_tooltip": null,
            "readout": true,
            "_model_module": "@jupyter-widgets/controls",
            "layout": "IPY_MODEL_24b4e6ab1822497caea7dd5ff5843115"
          }
        },
        "63bce50a1fe743a0881115de1034ccd3": {
          "model_module": "@jupyter-widgets/controls",
          "model_name": "IntSliderModel",
          "model_module_version": "1.5.0",
          "state": {
            "_view_name": "IntSliderView",
            "style": "IPY_MODEL_21804fdd51fd418e8c3cb0fa37feddf3",
            "_dom_classes": [],
            "description": "ano",
            "step": 1,
            "_model_name": "IntSliderModel",
            "orientation": "horizontal",
            "max": 2028,
            "_view_module": "@jupyter-widgets/controls",
            "_model_module_version": "1.5.0",
            "value": 2022,
            "_view_count": null,
            "disabled": false,
            "_view_module_version": "1.5.0",
            "min": 2022,
            "continuous_update": true,
            "readout_format": "d",
            "description_tooltip": null,
            "readout": true,
            "_model_module": "@jupyter-widgets/controls",
            "layout": "IPY_MODEL_3e585ff8a4cd465a846afb4e52fb2be8"
          }
        },
        "0ae41584086046a293ff2de6412cd03d": {
          "model_module": "@jupyter-widgets/controls",
          "model_name": "IntSliderModel",
          "model_module_version": "1.5.0",
          "state": {
            "_view_name": "IntSliderView",
            "style": "IPY_MODEL_891f2e9102f5419cb570c7d4810fa0c4",
            "_dom_classes": [],
            "description": "reforma",
            "step": 1,
            "_model_name": "IntSliderModel",
            "orientation": "horizontal",
            "max": 70,
            "_view_module": "@jupyter-widgets/controls",
            "_model_module_version": "1.5.0",
            "value": 70,
            "_view_count": null,
            "disabled": false,
            "_view_module_version": "1.5.0",
            "min": 67,
            "continuous_update": true,
            "readout_format": "d",
            "description_tooltip": null,
            "readout": true,
            "_model_module": "@jupyter-widgets/controls",
            "layout": "IPY_MODEL_afd843df82d34c24a2b547329e83d458"
          }
        },
        "1252404b98554290bca0e83a20047090": {
          "model_module": "@jupyter-widgets/controls",
          "model_name": "CheckboxModel",
          "model_module_version": "1.5.0",
          "state": {
            "_view_name": "CheckboxView",
            "style": "IPY_MODEL_3a653a7de0de47d7b70ee300ed43acca",
            "_dom_classes": [],
            "description": "corrige_fana",
            "_model_name": "CheckboxModel",
            "_view_module": "@jupyter-widgets/controls",
            "_model_module_version": "1.5.0",
            "value": true,
            "_view_count": null,
            "disabled": false,
            "_view_module_version": "1.5.0",
            "indent": true,
            "description_tooltip": null,
            "_model_module": "@jupyter-widgets/controls",
            "layout": "IPY_MODEL_580da5baed73410985c18ecb8503a140"
          }
        },
        "c7b4b1e175a44fb6a3b0c55f01c40865": {
          "model_module": "@jupyter-widgets/controls",
          "model_name": "DropdownModel",
          "model_module_version": "1.5.0",
          "state": {
            "_options_labels": [
              "linear",
              "hondt",
              "step_by_step"
            ],
            "_view_name": "DropdownView",
            "style": "IPY_MODEL_363a848ce3f14c3c8879c51ce9ccdab3",
            "_dom_classes": [],
            "description": "method",
            "_model_name": "DropdownModel",
            "index": 0,
            "_view_module": "@jupyter-widgets/controls",
            "_model_module_version": "1.5.0",
            "_view_count": null,
            "disabled": false,
            "_view_module_version": "1.5.0",
            "description_tooltip": null,
            "_model_module": "@jupyter-widgets/controls",
            "layout": "IPY_MODEL_7f6c9a4a29ce43bb9434ff44fe391ccd"
          }
        },
        "1b2e07ecf7d9492e808aef5eab82bab2": {
          "model_module": "@jupyter-widgets/output",
          "model_name": "OutputModel",
          "model_module_version": "1.0.0",
          "state": {
            "_view_name": "OutputView",
            "msg_id": "",
            "_dom_classes": [],
            "_model_name": "OutputModel",
            "outputs": [
              {
                "output_type": "display_data",
                "data": {
                  "image/png": "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\n",
                  "text/plain": "<Figure size 864x360 with 1 Axes>"
                },
                "metadata": {
                  "needs_background": "light"
                }
              }
            ],
            "_view_module": "@jupyter-widgets/output",
            "_model_module_version": "1.0.0",
            "_view_count": null,
            "_view_module_version": "1.0.0",
            "layout": "IPY_MODEL_78d9f5ddfa9a4b169ab228d668981a4a",
            "_model_module": "@jupyter-widgets/output"
          }
        },
        "64aad1ea74004927a20cbed45edfbeea": {
          "model_module": "@jupyter-widgets/controls",
          "model_name": "SliderStyleModel",
          "model_module_version": "1.5.0",
          "state": {
            "_view_name": "StyleView",
            "handle_color": null,
            "_model_name": "SliderStyleModel",
            "description_width": "",
            "_view_module": "@jupyter-widgets/base",
            "_model_module_version": "1.5.0",
            "_view_count": null,
            "_view_module_version": "1.2.0",
            "_model_module": "@jupyter-widgets/controls"
          }
        },
        "c9847a0384664a949bcfa5b2189413e5": {
          "model_module": "@jupyter-widgets/base",
          "model_name": "LayoutModel",
          "model_module_version": "1.2.0",
          "state": {
            "_view_name": "LayoutView",
            "grid_template_rows": null,
            "right": null,
            "justify_content": null,
            "_view_module": "@jupyter-widgets/base",
            "overflow": null,
            "_model_module_version": "1.2.0",
            "_view_count": null,
            "flex_flow": null,
            "width": null,
            "min_width": null,
            "border": null,
            "align_items": null,
            "bottom": null,
            "_model_module": "@jupyter-widgets/base",
            "top": null,
            "grid_column": null,
            "overflow_y": null,
            "overflow_x": null,
            "grid_auto_flow": null,
            "grid_area": null,
            "grid_template_columns": null,
            "flex": null,
            "_model_name": "LayoutModel",
            "justify_items": null,
            "grid_row": null,
            "max_height": null,
            "align_content": null,
            "visibility": null,
            "align_self": null,
            "height": null,
            "min_height": null,
            "padding": null,
            "grid_auto_rows": null,
            "grid_gap": null,
            "max_width": null,
            "order": null,
            "_view_module_version": "1.2.0",
            "grid_template_areas": null,
            "object_position": null,
            "object_fit": null,
            "grid_auto_columns": null,
            "margin": null,
            "display": null,
            "left": null
          }
        },
        "449f5367f12744209a1c0f458ba891ce": {
          "model_module": "@jupyter-widgets/controls",
          "model_name": "SliderStyleModel",
          "model_module_version": "1.5.0",
          "state": {
            "_view_name": "StyleView",
            "handle_color": null,
            "_model_name": "SliderStyleModel",
            "description_width": "",
            "_view_module": "@jupyter-widgets/base",
            "_model_module_version": "1.5.0",
            "_view_count": null,
            "_view_module_version": "1.2.0",
            "_model_module": "@jupyter-widgets/controls"
          }
        },
        "24b4e6ab1822497caea7dd5ff5843115": {
          "model_module": "@jupyter-widgets/base",
          "model_name": "LayoutModel",
          "model_module_version": "1.2.0",
          "state": {
            "_view_name": "LayoutView",
            "grid_template_rows": null,
            "right": null,
            "justify_content": null,
            "_view_module": "@jupyter-widgets/base",
            "overflow": null,
            "_model_module_version": "1.2.0",
            "_view_count": null,
            "flex_flow": null,
            "width": null,
            "min_width": null,
            "border": null,
            "align_items": null,
            "bottom": null,
            "_model_module": "@jupyter-widgets/base",
            "top": null,
            "grid_column": null,
            "overflow_y": null,
            "overflow_x": null,
            "grid_auto_flow": null,
            "grid_area": null,
            "grid_template_columns": null,
            "flex": null,
            "_model_name": "LayoutModel",
            "justify_items": null,
            "grid_row": null,
            "max_height": null,
            "align_content": null,
            "visibility": null,
            "align_self": null,
            "height": null,
            "min_height": null,
            "padding": null,
            "grid_auto_rows": null,
            "grid_gap": null,
            "max_width": null,
            "order": null,
            "_view_module_version": "1.2.0",
            "grid_template_areas": null,
            "object_position": null,
            "object_fit": null,
            "grid_auto_columns": null,
            "margin": null,
            "display": null,
            "left": null
          }
        },
        "21804fdd51fd418e8c3cb0fa37feddf3": {
          "model_module": "@jupyter-widgets/controls",
          "model_name": "SliderStyleModel",
          "model_module_version": "1.5.0",
          "state": {
            "_view_name": "StyleView",
            "handle_color": null,
            "_model_name": "SliderStyleModel",
            "description_width": "",
            "_view_module": "@jupyter-widgets/base",
            "_model_module_version": "1.5.0",
            "_view_count": null,
            "_view_module_version": "1.2.0",
            "_model_module": "@jupyter-widgets/controls"
          }
        },
        "3e585ff8a4cd465a846afb4e52fb2be8": {
          "model_module": "@jupyter-widgets/base",
          "model_name": "LayoutModel",
          "model_module_version": "1.2.0",
          "state": {
            "_view_name": "LayoutView",
            "grid_template_rows": null,
            "right": null,
            "justify_content": null,
            "_view_module": "@jupyter-widgets/base",
            "overflow": null,
            "_model_module_version": "1.2.0",
            "_view_count": null,
            "flex_flow": null,
            "width": null,
            "min_width": null,
            "border": null,
            "align_items": null,
            "bottom": null,
            "_model_module": "@jupyter-widgets/base",
            "top": null,
            "grid_column": null,
            "overflow_y": null,
            "overflow_x": null,
            "grid_auto_flow": null,
            "grid_area": null,
            "grid_template_columns": null,
            "flex": null,
            "_model_name": "LayoutModel",
            "justify_items": null,
            "grid_row": null,
            "max_height": null,
            "align_content": null,
            "visibility": null,
            "align_self": null,
            "height": null,
            "min_height": null,
            "padding": null,
            "grid_auto_rows": null,
            "grid_gap": null,
            "max_width": null,
            "order": null,
            "_view_module_version": "1.2.0",
            "grid_template_areas": null,
            "object_position": null,
            "object_fit": null,
            "grid_auto_columns": null,
            "margin": null,
            "display": null,
            "left": null
          }
        },
        "891f2e9102f5419cb570c7d4810fa0c4": {
          "model_module": "@jupyter-widgets/controls",
          "model_name": "SliderStyleModel",
          "model_module_version": "1.5.0",
          "state": {
            "_view_name": "StyleView",
            "handle_color": null,
            "_model_name": "SliderStyleModel",
            "description_width": "",
            "_view_module": "@jupyter-widgets/base",
            "_model_module_version": "1.5.0",
            "_view_count": null,
            "_view_module_version": "1.2.0",
            "_model_module": "@jupyter-widgets/controls"
          }
        },
        "afd843df82d34c24a2b547329e83d458": {
          "model_module": "@jupyter-widgets/base",
          "model_name": "LayoutModel",
          "model_module_version": "1.2.0",
          "state": {
            "_view_name": "LayoutView",
            "grid_template_rows": null,
            "right": null,
            "justify_content": null,
            "_view_module": "@jupyter-widgets/base",
            "overflow": null,
            "_model_module_version": "1.2.0",
            "_view_count": null,
            "flex_flow": null,
            "width": null,
            "min_width": null,
            "border": null,
            "align_items": null,
            "bottom": null,
            "_model_module": "@jupyter-widgets/base",
            "top": null,
            "grid_column": null,
            "overflow_y": null,
            "overflow_x": null,
            "grid_auto_flow": null,
            "grid_area": null,
            "grid_template_columns": null,
            "flex": null,
            "_model_name": "LayoutModel",
            "justify_items": null,
            "grid_row": null,
            "max_height": null,
            "align_content": null,
            "visibility": null,
            "align_self": null,
            "height": null,
            "min_height": null,
            "padding": null,
            "grid_auto_rows": null,
            "grid_gap": null,
            "max_width": null,
            "order": null,
            "_view_module_version": "1.2.0",
            "grid_template_areas": null,
            "object_position": null,
            "object_fit": null,
            "grid_auto_columns": null,
            "margin": null,
            "display": null,
            "left": null
          }
        },
        "3a653a7de0de47d7b70ee300ed43acca": {
          "model_module": "@jupyter-widgets/controls",
          "model_name": "DescriptionStyleModel",
          "model_module_version": "1.5.0",
          "state": {
            "_view_name": "StyleView",
            "_model_name": "DescriptionStyleModel",
            "description_width": "",
            "_view_module": "@jupyter-widgets/base",
            "_model_module_version": "1.5.0",
            "_view_count": null,
            "_view_module_version": "1.2.0",
            "_model_module": "@jupyter-widgets/controls"
          }
        },
        "580da5baed73410985c18ecb8503a140": {
          "model_module": "@jupyter-widgets/base",
          "model_name": "LayoutModel",
          "model_module_version": "1.2.0",
          "state": {
            "_view_name": "LayoutView",
            "grid_template_rows": null,
            "right": null,
            "justify_content": null,
            "_view_module": "@jupyter-widgets/base",
            "overflow": null,
            "_model_module_version": "1.2.0",
            "_view_count": null,
            "flex_flow": null,
            "width": null,
            "min_width": null,
            "border": null,
            "align_items": null,
            "bottom": null,
            "_model_module": "@jupyter-widgets/base",
            "top": null,
            "grid_column": null,
            "overflow_y": null,
            "overflow_x": null,
            "grid_auto_flow": null,
            "grid_area": null,
            "grid_template_columns": null,
            "flex": null,
            "_model_name": "LayoutModel",
            "justify_items": null,
            "grid_row": null,
            "max_height": null,
            "align_content": null,
            "visibility": null,
            "align_self": null,
            "height": null,
            "min_height": null,
            "padding": null,
            "grid_auto_rows": null,
            "grid_gap": null,
            "max_width": null,
            "order": null,
            "_view_module_version": "1.2.0",
            "grid_template_areas": null,
            "object_position": null,
            "object_fit": null,
            "grid_auto_columns": null,
            "margin": null,
            "display": null,
            "left": null
          }
        },
        "363a848ce3f14c3c8879c51ce9ccdab3": {
          "model_module": "@jupyter-widgets/controls",
          "model_name": "DescriptionStyleModel",
          "model_module_version": "1.5.0",
          "state": {
            "_view_name": "StyleView",
            "_model_name": "DescriptionStyleModel",
            "description_width": "",
            "_view_module": "@jupyter-widgets/base",
            "_model_module_version": "1.5.0",
            "_view_count": null,
            "_view_module_version": "1.2.0",
            "_model_module": "@jupyter-widgets/controls"
          }
        },
        "7f6c9a4a29ce43bb9434ff44fe391ccd": {
          "model_module": "@jupyter-widgets/base",
          "model_name": "LayoutModel",
          "model_module_version": "1.2.0",
          "state": {
            "_view_name": "LayoutView",
            "grid_template_rows": null,
            "right": null,
            "justify_content": null,
            "_view_module": "@jupyter-widgets/base",
            "overflow": null,
            "_model_module_version": "1.2.0",
            "_view_count": null,
            "flex_flow": null,
            "width": null,
            "min_width": null,
            "border": null,
            "align_items": null,
            "bottom": null,
            "_model_module": "@jupyter-widgets/base",
            "top": null,
            "grid_column": null,
            "overflow_y": null,
            "overflow_x": null,
            "grid_auto_flow": null,
            "grid_area": null,
            "grid_template_columns": null,
            "flex": null,
            "_model_name": "LayoutModel",
            "justify_items": null,
            "grid_row": null,
            "max_height": null,
            "align_content": null,
            "visibility": null,
            "align_self": null,
            "height": null,
            "min_height": null,
            "padding": null,
            "grid_auto_rows": null,
            "grid_gap": null,
            "max_width": null,
            "order": null,
            "_view_module_version": "1.2.0",
            "grid_template_areas": null,
            "object_position": null,
            "object_fit": null,
            "grid_auto_columns": null,
            "margin": null,
            "display": null,
            "left": null
          }
        },
        "78d9f5ddfa9a4b169ab228d668981a4a": {
          "model_module": "@jupyter-widgets/base",
          "model_name": "LayoutModel",
          "model_module_version": "1.2.0",
          "state": {
            "_view_name": "LayoutView",
            "grid_template_rows": null,
            "right": null,
            "justify_content": null,
            "_view_module": "@jupyter-widgets/base",
            "overflow": null,
            "_model_module_version": "1.2.0",
            "_view_count": null,
            "flex_flow": null,
            "width": null,
            "min_width": null,
            "border": null,
            "align_items": null,
            "bottom": null,
            "_model_module": "@jupyter-widgets/base",
            "top": null,
            "grid_column": null,
            "overflow_y": null,
            "overflow_x": null,
            "grid_auto_flow": null,
            "grid_area": null,
            "grid_template_columns": null,
            "flex": null,
            "_model_name": "LayoutModel",
            "justify_items": null,
            "grid_row": null,
            "max_height": null,
            "align_content": null,
            "visibility": null,
            "align_self": null,
            "height": null,
            "min_height": null,
            "padding": null,
            "grid_auto_rows": null,
            "grid_gap": null,
            "max_width": null,
            "order": null,
            "_view_module_version": "1.2.0",
            "grid_template_areas": null,
            "object_position": null,
            "object_fit": null,
            "grid_auto_columns": null,
            "margin": null,
            "display": null,
            "left": null
          }
        }
      }
    }
  },
  "cells": [
    {
      "cell_type": "markdown",
      "metadata": {
        "id": "view-in-github",
        "colab_type": "text"
      },
      "source": [
        "<a href=\"https://colab.research.google.com/github/arjoca/RHDocentes/blob/main/RHDocentes_Converge.ipynb\" target=\"_parent\"><img src=\"https://colab.research.google.com/assets/colab-badge.svg\" alt=\"Open In Colab\"/></a>"
      ]
    },
    {
      "cell_type": "markdown",
      "source": [
        "# RHDocentes - fevereiro 2022\n",
        "\n",
        "Notebook 3 - Convergência (Correção das assimetrias)\n",
        "\n",
        "![logo_isel.png](data:image/png;base64,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)\n",
        "\n",
        "Estudo organizado em 3 notebooks:\n",
        "*   [O primeiro](https://github.com/arjoca/RHDocentes/blob/main/RHDocentes_Fotografia.ipynb) - Fotografia do ISEL hoje (Assimetrias) \n",
        "*   [O anterior](https://github.com/arjoca/RHDocentes/blob/main/RHDocentes_Futuro.ipynb) - Olhar para o Futuro (Dinâmica de aposentações)\n",
        "*   Este notebook - Convergência (Correção das assimetrias)"
      ],
      "metadata": {
        "id": "tmkGz0DyDc2J"
      }
    },
    {
      "cell_type": "markdown",
      "source": [
        "# Fontes de informação\n",
        "\n",
        "*   Ficheiro \"Afetacao_Financeira_ADs_Cursos_2021_v01.xlsx\"\n",
        "*   Ficheiro \"RAIDES_0.xlsx\"\n",
        "\n",
        "Informação que depois de filtrada e anonimizada deu origem aos dados guardados no ficheiro [clean_data.xlsx](https://github.com/arjoca/RHDocentes/blob/main/clean_data.xlsx), usados neste estudo."
      ],
      "metadata": {
        "id": "D--VSWG109MQ"
      }
    },
    {
      "cell_type": "markdown",
      "source": [
        "# Preparação"
      ],
      "metadata": {
        "id": "25yEfwrF1hQd"
      }
    },
    {
      "cell_type": "markdown",
      "source": [
        "## Importação de módulos e leitura de dados"
      ],
      "metadata": {
        "id": "_baJCALaUHhc"
      }
    },
    {
      "cell_type": "code",
      "source": [
        "# Instalação de módulos\n",
        "!pip install kora -q\n",
        "!pip install -U kaleido"
      ],
      "metadata": {
        "id": "WbMde719TXix",
        "colab": {
          "base_uri": "https://localhost:8080/"
        },
        "outputId": "0b5e37d0-3a46-4a6d-c672-dcf6d8cae040"
      },
      "execution_count": 42,
      "outputs": [
        {
          "output_type": "stream",
          "name": "stdout",
          "text": [
            "Requirement already satisfied: kaleido in /usr/local/lib/python3.7/dist-packages (0.2.1)\n"
          ]
        }
      ]
    },
    {
      "cell_type": "code",
      "source": [
        "# Importação de módulos\n",
        "import numpy as np\n",
        "import pandas as pd\n",
        "import matplotlib.pyplot as plt\n",
        "from datetime import datetime, timedelta\n",
        "from ipywidgets import widgets, interact, fixed\n",
        "from IPython.display import Image"
      ],
      "metadata": {
        "id": "UF6cJzSF0xSB"
      },
      "execution_count": 43,
      "outputs": []
    },
    {
      "cell_type": "code",
      "source": [
        "# Leitura de dados\n",
        "base_url = 'https://raw.githubusercontent.com/arjoca/RHDocentes/main/data/'\n",
        "docentes = pd.read_csv(base_url + 'docentes.csv', encoding= 'unicode_escape', \n",
        "                       parse_dates=['Data Nascimento'], infer_datetime_format=True)\n",
        "alunos_per_curso = pd.read_csv(base_url + 'alunos.csv', encoding= 'unicode_escape', index_col=0)\n",
        "horas = pd.read_csv(base_url + 'horas.csv', encoding= 'unicode_escape', index_col=0)"
      ],
      "metadata": {
        "id": "ptxmB1t613TV"
      },
      "execution_count": 44,
      "outputs": []
    },
    {
      "cell_type": "markdown",
      "source": [
        "## Inicializações"
      ],
      "metadata": {
        "id": "p65zNlZgUTeG"
      }
    },
    {
      "cell_type": "code",
      "source": [
        "# Designações dos cursos e departamentos\n",
        "LISTA_DEPTS = sorted(docentes['Departamento'].unique())\n",
        "LISTA_CURSOS = sorted(alunos_per_curso.index.unique())"
      ],
      "metadata": {
        "id": "w3ylNnDC-kXi"
      },
      "execution_count": 45,
      "outputs": []
    },
    {
      "cell_type": "code",
      "source": [
        "# Designações das categorias de docentes\n",
        "cat_prof_coord = ['Prof. Coordenador', 'Prof. Coordenador c/ Agreg. ', 'Professor Coordenador Principal']\n",
        "cat_convidado = ['Assistente Convidado', 'Professor Adjunto Convidado']\n",
        "cat_adjunto = ['Professor Adjunto']\n",
        "cat_assistente = ['Assistente do 2. Trienio', 'Assistente', 'Equiparado Assistente 2. Trienio']\n",
        "cat_monitor = ['Monitor']\n",
        "cat_quadro = cat_prof_coord + cat_adjunto\n",
        "cat_todas = cat_quadro + cat_convidado + cat_assistente + cat_monitor"
      ],
      "metadata": {
        "id": "wzavEGUX2Pew"
      },
      "execution_count": 46,
      "outputs": []
    },
    {
      "cell_type": "code",
      "source": [
        "# Horas de contacto usadas para determinar relações entre cursos e departamentos\n",
        "horas_per_curso = horas.sum(axis=1)\n",
        "pesos_dept_per_curso = horas.T / horas_per_curso\n",
        "\n",
        "# Alunos por departamento\n",
        "alunos_per_dept = pd.DataFrame(np.dot(pesos_dept_per_curso, alunos_per_curso),\n",
        "                              index=pesos_dept_per_curso.index, columns=['Alunos'])\n",
        "alunos_per_dept = alunos_per_dept['Alunos']\n",
        "alunos_per_dept.name = ''\n",
        "alunos_per_dept = alunos_per_dept.sort_index()"
      ],
      "metadata": {
        "id": "ztK7YjeuT75r"
      },
      "execution_count": 47,
      "outputs": []
    },
    {
      "cell_type": "code",
      "source": [
        "# Números globais\n",
        "alunos_per_eti_isel = alunos_per_curso.sum().sum() / docentes['ETI'].sum()\n",
        "eti_per_dept = docentes.groupby(['Departamento'])['ETI'].sum()"
      ],
      "metadata": {
        "id": "Sj3ZHMyv123k"
      },
      "execution_count": 48,
      "outputs": []
    },
    {
      "cell_type": "code",
      "source": [
        "# VIANA (Valor Ideal Atendendo ao Número de Alunos)\n",
        "viana = alunos_per_dept / alunos_per_eti_isel\n",
        "fana = viana - eti_per_dept"
      ],
      "metadata": {
        "id": "Xsuu-pqE1O1r"
      },
      "execution_count": 49,
      "outputs": []
    },
    {
      "cell_type": "markdown",
      "source": [
        "## Definição de funções"
      ],
      "metadata": {
        "id": "aDhoCFK6T9Bt"
      }
    },
    {
      "cell_type": "code",
      "source": [
        "# Filtragem de docentes atendendo à sua idade de aposentação \n",
        "def aposentados_e_ativos(df, ano, idade_reforma):\n",
        "  idade = (datetime(ano, 1, 1) - df['Data Nascimento'])/timedelta(days=365.25)\n",
        "  aposentados = df[idade > idade_reforma]\n",
        "  ativos = df.drop(index=aposentados.index)\n",
        "  return aposentados, ativos"
      ],
      "metadata": {
        "id": "l2mTrprr2S8p"
      },
      "execution_count": 50,
      "outputs": []
    },
    {
      "cell_type": "code",
      "source": [
        "# Filtragem de docentes atendendo à sua categoria\n",
        "def docentes_per_categoria(df, categoria):\n",
        "  s = df.groupby(['Departamento', 'Categoria'])['ETI'].sum()\n",
        "  s = s.loc[(slice(None), categoria)].droplevel(level=1)\n",
        "  s = s.groupby(s.index).sum()\n",
        "  s = pd.Series(s, index=LISTA_DEPTS)\n",
        "  return s.fillna(0)"
      ],
      "metadata": {
        "id": "ApJsbc5DUcfm"
      },
      "execution_count": 51,
      "outputs": []
    },
    {
      "cell_type": "markdown",
      "source": [
        "# Correção de assimetrias"
      ],
      "metadata": {
        "id": "zrt_O1rK67aW"
      }
    },
    {
      "cell_type": "markdown",
      "source": [
        "## Bolo a distribuir"
      ],
      "metadata": {
        "id": "r2b3od_X7idV"
      }
    },
    {
      "cell_type": "markdown",
      "source": [
        "## Três métodos de distribuição"
      ],
      "metadata": {
        "id": "HSxvZNBj7SHX"
      }
    },
    {
      "cell_type": "code",
      "source": [
        "# Função auxiliar para determinar quanto falta para o target\n",
        "def how_many_to_target(target, numerator, denominator):\n",
        "  s = denominator * target - numerator\n",
        "  s.clip(lower=0, inplace=True)\n",
        "  return s"
      ],
      "metadata": {
        "id": "siOS9-9x5a2s"
      },
      "execution_count": 109,
      "outputs": []
    },
    {
      "cell_type": "code",
      "source": [
        "# METHOD 1 - Linear mapping\n",
        "def linear_map(target, cake, numerator, denominator):\n",
        "  s = how_many_to_target(target, numerator, denominator)\n",
        "  return s / s.sum() * cake "
      ],
      "metadata": {
        "id": "-eTluZTq5NYy"
      },
      "execution_count": 108,
      "outputs": []
    },
    {
      "cell_type": "code",
      "source": [
        "# METHOD 2 - D'Hondt\n",
        "def method_hondt(target, cake, numerator, denominator):\n",
        "  s = how_many_to_target(target, numerator, denominator)\n",
        "  list_of_series = [s/i for i in range(1, cake+1)]\n",
        "  df = pd.concat(list_of_series, axis=1)\n",
        "  vals = np.sort(np.ravel(df.to_numpy(copy=True)))[-1::-1]\n",
        "  df = df >= vals[cake-1]\n",
        "  return df.sum(axis=1)"
      ],
      "metadata": {
        "id": "8RvZyNmh5gTd"
      },
      "execution_count": 107,
      "outputs": []
    },
    {
      "cell_type": "code",
      "source": [
        "# METHOD 3 - One step iteration\n",
        "def step_by_step(cake, numerator, denominator):\n",
        "  num = numerator\n",
        "  den = denominator\n",
        "  s = pd.Series(data=0, index=LISTA_DEPTS)\n",
        "  for i in range(cake):\n",
        "    ratio = num / den\n",
        "    ix = ratio.idxmin()\n",
        "    s[ix] += 1\n",
        "    num[ix] += 1\n",
        "  return s"
      ],
      "metadata": {
        "id": "xIWTVo915jfy"
      },
      "execution_count": 106,
      "outputs": []
    },
    {
      "cell_type": "markdown",
      "source": [
        "## Simulação"
      ],
      "metadata": {
        "id": "4h_gmfiA-zzk"
      }
    },
    {
      "cell_type": "code",
      "source": [
        "@interact(cake=(1,45,1), target=(0.1,0.5,0.1), ano=(2022,2028,1), \n",
        "          reforma=(67,70,1), corrige_fana=True, method=['linear','hondt','step_by_step'])\n",
        "def fun(cake=16, target=0.25, ano=2022, reforma=70, corrige_fana=True, method='linear'):\n",
        "  _, ativos = aposentados_e_ativos(docentes, ano, reforma)\n",
        "  numerator = docentes_per_categoria(ativos, cat_prof_coord)\n",
        "  denominator = docentes_per_categoria(ativos, cat_todas)\n",
        "  if corrige_fana:\n",
        "    denominator += fana\n",
        "  if method == 'linear':\n",
        "    s = linear_map(target, cake, numerator, denominator)\n",
        "  elif method == 'hondt':\n",
        "    s = method_hondt(target, cake, numerator, denominator)\n",
        "  elif method == 'step_by_step':\n",
        "    s = step_by_step(cake, numerator, denominator)\n",
        "  \n",
        "  fig, ax = plt.subplots(1, 1, figsize=(12,5))\n",
        "  s.name=''\n",
        "  s.plot(kind='bar', ax=ax, table=np.round(s,1).to_frame().T)\n",
        "  ax.set_title('Distribuição pelos departamentos')\n",
        "  ax.xaxis.set_visible(False)\n",
        "  fig.savefig('temp_image.png')"
      ],
      "metadata": {
        "colab": {
          "base_uri": "https://localhost:8080/",
          "height": 535,
          "referenced_widgets": [
            "237dc3c8007d4cc0925f73a03b79c6ce",
            "5408bfb6f1e245ea9e02f2b2ef1a4b83",
            "28c4ff55e4704bcfbfbb09083019d1be",
            "5b2ced9f1b9f4499be95831b79c3da92",
            "63bce50a1fe743a0881115de1034ccd3",
            "0ae41584086046a293ff2de6412cd03d",
            "1252404b98554290bca0e83a20047090",
            "c7b4b1e175a44fb6a3b0c55f01c40865",
            "1b2e07ecf7d9492e808aef5eab82bab2",
            "64aad1ea74004927a20cbed45edfbeea",
            "c9847a0384664a949bcfa5b2189413e5",
            "449f5367f12744209a1c0f458ba891ce",
            "24b4e6ab1822497caea7dd5ff5843115",
            "21804fdd51fd418e8c3cb0fa37feddf3",
            "3e585ff8a4cd465a846afb4e52fb2be8",
            "891f2e9102f5419cb570c7d4810fa0c4",
            "afd843df82d34c24a2b547329e83d458",
            "3a653a7de0de47d7b70ee300ed43acca",
            "580da5baed73410985c18ecb8503a140",
            "363a848ce3f14c3c8879c51ce9ccdab3",
            "7f6c9a4a29ce43bb9434ff44fe391ccd",
            "78d9f5ddfa9a4b169ab228d668981a4a"
          ]
        },
        "id": "N27bjBuK7o13",
        "outputId": "16c61534-76e9-4ba5-fad3-ed523b6b10ad"
      },
      "execution_count": 117,
      "outputs": [
        {
          "output_type": "display_data",
          "data": {
            "application/vnd.jupyter.widget-view+json": {
              "model_id": "237dc3c8007d4cc0925f73a03b79c6ce",
              "version_minor": 0,
              "version_major": 2
            },
            "text/plain": [
              "interactive(children=(IntSlider(value=16, description='cake', max=45, min=1), FloatSlider(value=0.25, descript…"
            ]
          },
          "metadata": {}
        }
      ]
    },
    {
      "cell_type": "code",
      "source": [
        ""
      ],
      "metadata": {
        "id": "qYXdwYI8OlD8"
      },
      "execution_count": null,
      "outputs": []
    }
  ]
}