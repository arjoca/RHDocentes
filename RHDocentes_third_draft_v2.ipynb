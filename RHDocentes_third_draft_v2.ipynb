{
  "cells": [
    {
      "cell_type": "markdown",
      "metadata": {
        "id": "view-in-github",
        "colab_type": "text"
      },
      "source": [
        "<a href=\"https://colab.research.google.com/github/arjoca/RHDocentes/blob/testing/RHDocentes_third_draft_v2.ipynb\" target=\"_parent\"><img src=\"https://colab.research.google.com/assets/colab-badge.svg\" alt=\"Open In Colab\"/></a>"
      ]
    },
    {
      "cell_type": "markdown",
      "source": [
        "# Preparação"
      ],
      "metadata": {
        "id": "0yCt8aqB5l7E"
      }
    },
    {
      "cell_type": "markdown",
      "source": [
        "## Fontes de informação\n",
        "\n",
        "*   Ficheiro \"Afetacao_Financeira_ADs_Cursos_2021_v01.xlsx\"\n",
        "*   Ficheiro \"RAIDES_0.xlsx\" \n",
        "\n",
        "Informação que depois de filtrada e anonimizada deu origem aos dados guardados no ficheiro [clean_data.xlsx](https://github.com/arjoca/RHDocentes/blob/main/clean_data.xlsx), usados neste estudo."
      ],
      "metadata": {
        "id": "pXnpQt3WX4Gx"
      }
    },
    {
      "cell_type": "markdown",
      "source": [
        "## Importação de módulos e leitura de dados"
      ],
      "metadata": {
        "id": "xJSzWgluYn23"
      }
    },
    {
      "cell_type": "code",
      "source": [
        "# instalação de módulos\n",
        "!pip install squarify"
      ],
      "metadata": {
        "colab": {
          "base_uri": "https://localhost:8080/"
        },
        "id": "1g-lq__b6Ouk",
        "outputId": "33811d25-26b0-46d1-ebab-ae6f4e8c16d8"
      },
      "execution_count": null,
      "outputs": [
        {
          "output_type": "stream",
          "name": "stdout",
          "text": [
            "Requirement already satisfied: squarify in /usr/local/lib/python3.7/dist-packages (0.4.3)\n"
          ]
        }
      ]
    },
    {
      "cell_type": "code",
      "source": [
        "# importação de módulos\n",
        "import numpy as np\n",
        "import pandas as pd\n",
        "import matplotlib\n",
        "import matplotlib.pyplot as plt\n",
        "from datetime import datetime, timedelta\n",
        "import squarify\n",
        "from ipywidgets import widgets, interact, fixed"
      ],
      "metadata": {
        "id": "7ixqURkcmS3k"
      },
      "execution_count": null,
      "outputs": []
    },
    {
      "cell_type": "code",
      "source": [
        "# Leitura de dados\n",
        "base_url = 'https://raw.githubusercontent.com/arjoca/RHDocentes/main/'\n",
        "docentes = pd.read_csv(base_url + 'docentes.csv', encoding= 'unicode_escape', \n",
        "                       parse_dates=['Data Nascimento'], infer_datetime_format=True)\n",
        "alunos_per_curso = pd.read_csv(base_url + 'alunos.csv', encoding= 'unicode_escape', index_col=0)\n",
        "horas = pd.read_csv(base_url + 'horas.csv', encoding= 'unicode_escape', index_col=0)"
      ],
      "metadata": {
        "id": "zrRGfIA3NOss"
      },
      "execution_count": null,
      "outputs": []
    },
    {
      "cell_type": "code",
      "source": [
        "pd.options.display.float_format = \"{:,.1f}\".format"
      ],
      "metadata": {
        "id": "2fYAT4juJHFR"
      },
      "execution_count": null,
      "outputs": []
    },
    {
      "cell_type": "markdown",
      "source": [
        "## Designações de cenas"
      ],
      "metadata": {
        "id": "9mRMNRKk9cY2"
      }
    },
    {
      "cell_type": "code",
      "source": [
        "# Designações dos cursos e departamentos\n",
        "LISTA_DEPTS = docentes['Departamento'].unique()\n",
        "LISTA_CURSOS = alunos_per_curso.index.unique()"
      ],
      "metadata": {
        "id": "2cJVoDWu818g"
      },
      "execution_count": null,
      "outputs": []
    },
    {
      "cell_type": "code",
      "source": [
        "# Designações das categorias de docentes\n",
        "cat_prof_coord = ['Prof. Coordenador', 'Prof. Coordenador c/ Agreg. ', 'Professor Coordenador Principal']\n",
        "cat_convidado = ['Assistente Convidado', 'Professor Adjunto Convidado']\n",
        "cat_adjunto = ['Professor Adjunto']\n",
        "cat_assistente = ['Assistente do 2. Trienio', 'Assistente', 'Equiparado Assistente 2. Trienio']\n",
        "cat_monitor = ['Monitor']\n",
        "cat_quadro = cat_prof_coord + cat_adjunto\n",
        "cat_todas = cat_quadro + cat_convidado + cat_assistente + cat_monitor"
      ],
      "metadata": {
        "id": "kq3S29pd66vU"
      },
      "execution_count": null,
      "outputs": []
    },
    {
      "cell_type": "markdown",
      "metadata": {
        "id": "HVQRAlitw5mf"
      },
      "source": [
        "## Definição de funções"
      ]
    },
    {
      "cell_type": "code",
      "source": [
        "# Filtragem de docentes atendendo à sua idade de aposentação \n",
        "def aposentados_e_ativos(df, ano, idade_reforma):\n",
        "    idade = (datetime(ano, 1, 1) - df['Data Nascimento'])/timedelta(days=365.25)\n",
        "    aposentados = df[idade > idade_reforma]\n",
        "    ativos = df.drop(index=aposentados.index)\n",
        "    return aposentados, ativos"
      ],
      "metadata": {
        "id": "2zOZwwGOLYRm"
      },
      "execution_count": null,
      "outputs": []
    },
    {
      "cell_type": "code",
      "source": [
        "# Filtragem de docentes atendendo à sua categoria\n",
        "def docentes_per_categoria(df, categoria):\n",
        "  s = df.groupby(['Departamento', 'Categoria'])['ETI'].count()\n",
        "  s = s.loc[(slice(None), categoria)].droplevel(level=1)\n",
        "  s = s.groupby(s.index).sum()\n",
        "  s = pd.Series(s, index=LISTA_DEPTS)\n",
        "  return s.fillna(0)"
      ],
      "metadata": {
        "id": "WrlMDKJQ-Fub"
      },
      "execution_count": null,
      "outputs": []
    },
    {
      "cell_type": "code",
      "source": [
        "# Prepara dados para visualizar com treemap\n",
        "def prepare_to_treemap(tabela_horas, dept=None, threshold_percentage=0.01):\n",
        "  s = tabela_horas[dept].copy() if dept is not None else tabela_horas.sum(axis=1)\n",
        "  total = s.values.sum()\n",
        "  threshold = threshold_percentage * total\n",
        "  s = s[s > threshold]\n",
        "  remainder = total - s.values.sum()\n",
        "  s = s.append(pd.Series(data=[remainder], index=['OUTROS']))\n",
        "  return s.sort_values(ascending=False)"
      ],
      "metadata": {
        "id": "X-4fLAFKjnZC"
      },
      "execution_count": null,
      "outputs": []
    },
    {
      "cell_type": "markdown",
      "source": [
        "# Exploração de dados"
      ],
      "metadata": {
        "id": "wwRnjBWD6e8O"
      }
    },
    {
      "cell_type": "markdown",
      "source": [
        "## Elementos constantes (para simplificar)"
      ],
      "metadata": {
        "id": "uATfuhqX6uT6"
      }
    },
    {
      "cell_type": "code",
      "execution_count": null,
      "metadata": {
        "pycharm": {
          "name": "#%%\n"
        },
        "id": "_ttb1fV3w5mm"
      },
      "outputs": [],
      "source": [
        "# Elementos constantes (time independent features)\n",
        "# Simplificação: constância do número de alunos e das horas de contacto \n",
        "horas_per_dept = horas.sum()\n",
        "horas_per_curso = horas.sum(axis=1)\n",
        "\n",
        "pesos_dept_per_curso = horas.T / horas_per_curso\n",
        "pesos_curso_per_dept = horas / horas_per_dept\n",
        "alunos_per_dept = pd.DataFrame(np.dot(pesos_dept_per_curso, alunos_per_curso),\n",
        "                              index=pesos_dept_per_curso.index, columns=['Alunos'])\n",
        "alunos_per_dept = alunos_per_dept['Alunos']\n",
        "alunos_per_curso = alunos_per_curso['Alunos']"
      ]
    },
    {
      "cell_type": "markdown",
      "source": [
        "### Fotografia do ISEL hoje (2022)"
      ],
      "metadata": {
        "id": "wk8xq6FrmvJa"
      }
    },
    {
      "cell_type": "markdown",
      "source": [
        "#### Eficiência relativa de cada departamento"
      ],
      "metadata": {
        "id": "-ImN48VSYM8Z"
      }
    },
    {
      "cell_type": "code",
      "source": [
        "# Eficiência relativa dos departamentos/cursos\n",
        "ratio_aluno_hora_ISEL = alunos_per_curso.sum() / horas_per_curso.sum()\n",
        "eff_per_dept = 100 * alunos_per_dept / horas_per_dept / ratio_aluno_hora_ISEL\n",
        "eff_per_curso = 100 * alunos_per_curso / horas_per_curso / ratio_aluno_hora_ISEL\n",
        "eff_per_curso.dropna(inplace=True)"
      ],
      "metadata": {
        "id": "IR2mH2_ZmvJb"
      },
      "execution_count": null,
      "outputs": []
    },
    {
      "cell_type": "code",
      "source": [
        "# Figura com eficiência relativa de cada departamento\n",
        "fig, ax = plt.subplots(1, 1, figsize=(14,3))\n",
        "eff_per_dept.plot(kind='bar', table=np.round(eff_per_dept.to_frame().T, 1), ax=ax)\n",
        "ax.axhline(y=100,linewidth=2, color='#d62728')\n",
        "ax.xaxis.set_visible(False)\n",
        "ax.set_title('Eficiência relativa de cada departamento')\n"
      ],
      "metadata": {
        "colab": {
          "base_uri": "https://localhost:8080/",
          "height": 251
        },
        "id": "JPKDX8GGREEM",
        "outputId": "7ddbbbe1-d309-49a3-f810-79e493bc67e8"
      },
      "execution_count": null,
      "outputs": [
        {
          "output_type": "execute_result",
          "data": {
            "text/plain": [
              "Text(0.5, 1.0, 'Eficiência relativa de cada departamento')"
            ]
          },
          "metadata": {},
          "execution_count": 12
        },
        {
          "output_type": "display_data",
          "data": {
            "image/png": "[encoded data removed]",
            "text/plain": [
              "<Figure size 1008x216 with 1 Axes>"
            ]
          },
          "metadata": {
            "needs_background": "light"
          }
        }
      ]
    },
    {
      "cell_type": "markdown",
      "source": [
        "#### Eficiência relativa de cada curso"
      ],
      "metadata": {
        "id": "OcRDDqKrYkwP"
      }
    },
    {
      "cell_type": "code",
      "source": [
        "# Figura com eficiência relativa de cada curso (licenciatura)\n",
        "eff_per_licenciatura = eff_per_curso[:11]\n",
        "eff_per_licenciatura.name=''\n",
        "fig, ax = plt.subplots(1, 1, figsize=(14,3))\n",
        "eff_per_licenciatura.plot(kind='bar', \n",
        "                          table=np.round(eff_per_licenciatura.to_frame().T, 1), ax=ax)\n",
        "ax.axhline(y=100,linewidth=2, color='#d62728')\n",
        "ax.xaxis.set_visible(False)\n",
        "ax.set_title('Eficiência relativa de cada curso de licenciatura')"
      ],
      "metadata": {
        "colab": {
          "base_uri": "https://localhost:8080/",
          "height": 251
        },
        "id": "7S_xDxNcSaiR",
        "outputId": "78fb4bda-626c-4b1b-d9b2-06b3fca2b15f"
      },
      "execution_count": null,
      "outputs": [
        {
          "output_type": "execute_result",
          "data": {
            "text/plain": [
              "Text(0.5, 1.0, 'Eficiência relativa de cada curso de licenciatura')"
            ]
          },
          "metadata": {},
          "execution_count": 13
        },
        {
          "output_type": "display_data",
          "data": {
            "image/png": "[encoded data removed]",
            "text/plain": [
              "<Figure size 1008x216 with 1 Axes>"
            ]
          },
          "metadata": {
            "needs_background": "light"
          }
        }
      ]
    },
    {
      "cell_type": "code",
      "source": [
        "# Figura com eficiência relativa de cada curso (mestrado)\n",
        "eff_per_mestrado = eff_per_curso[11:]\n",
        "eff_per_mestrado.name=''\n",
        "fig, ax = plt.subplots(1, 1, figsize=(14,3))\n",
        "eff_per_mestrado.plot(kind='bar', \n",
        "                          table=np.round(eff_per_mestrado.to_frame().T, 1), ax=ax)\n",
        "ax.axhline(y=100,linewidth=2, color='#d62728')\n",
        "ax.xaxis.set_visible(False)\n",
        "ax.set_title('Eficiência relativa de cada curso de mestrado')"
      ],
      "metadata": {
        "colab": {
          "base_uri": "https://localhost:8080/",
          "height": 251
        },
        "id": "f9cQjnxWVlus",
        "outputId": "92853dbb-aeec-47a5-fa03-e08cd3ad4c4d"
      },
      "execution_count": null,
      "outputs": [
        {
          "output_type": "execute_result",
          "data": {
            "text/plain": [
              "Text(0.5, 1.0, 'Eficiência relativa de cada curso de mestrado')"
            ]
          },
          "metadata": {},
          "execution_count": 14
        },
        {
          "output_type": "display_data",
          "data": {
            "image/png": "[encoded data removed]",
            "text/plain": [
              "<Figure size 1008x216 with 1 Axes>"
            ]
          },
          "metadata": {
            "needs_background": "light"
          }
        }
      ]
    },
    {
      "cell_type": "markdown",
      "source": [
        "#### Distribuição das horas por departamento"
      ],
      "metadata": {
        "id": "WEvemQ_gZhQw"
      }
    },
    {
      "cell_type": "code",
      "source": [
        "# Distribuição das horas de contacto em cada departamento\n",
        "cm = matplotlib.cm.get_cmap('Pastel1')\n",
        "width = 0.25\n",
        "plt.figure(figsize=(14, 18))\n",
        "plt.subplots_adjust(hspace=0.4)\n",
        "\n",
        "plt.subplot(4, 2, 1)\n",
        "s = prepare_to_treemap(horas)\n",
        "squarify.plot(sizes=s.values, label=s.index, pad=True, color='beige')\n",
        "plt.axis('off')\n",
        "plt.title('ISEL')\n",
        "\n",
        "for i, dept in enumerate(LISTA_DEPTS):\n",
        "  plt.subplot(4, 2, i+2)\n",
        "  s = prepare_to_treemap(horas, dept)\n",
        "  squarify.plot(sizes=s.values, label=s.index, pad=True, color=cm.colors)\n",
        "  plt.axis('off')\n",
        "  plt.title(dept)"
      ],
      "metadata": {
        "colab": {
          "base_uri": "https://localhost:8080/",
          "height": 1000
        },
        "id": "qpxBR3rItl0B",
        "outputId": "b3708108-1330-4bb4-e49b-c80bef367a4a"
      },
      "execution_count": null,
      "outputs": [
        {
          "output_type": "display_data",
          "data": {
            "image/png": "[encoded data removed]",
            "text/plain": [
              "<Figure size 1008x1296 with 8 Axes>"
            ]
          },
          "metadata": {
            "needs_background": "light"
          }
        }
      ]
    },
    {
      "cell_type": "code",
      "source": [
        "# Detalhe e interativo\n",
        "@interact(depart=widgets.Dropdown(options=LISTA_DEPTS, value='DEETC'))\n",
        "def f(depart):\n",
        "  s = prepare_to_treemap(horas, depart)\n",
        "  s.name=''\n",
        "  squarify.plot(sizes=s.values, label=s.index, pad=True, color=cm.colors)\n",
        "  print(s.to_frame()/s.values.sum()*100)\n",
        "  plt.axis('off')"
      ],
      "metadata": {
        "colab": {
          "base_uri": "https://localhost:8080/",
          "height": 367,
          "referenced_widgets": [
            "1f9f046487c74f56ba5fac9a5d02d3d0",
            "95a1362d071c4cedb502857feb7b7233",
            "e54ec76cde9a4137baf792e98829ae36",
            "b3eeb0ee0e0946498d1dc6f6642cdd81",
            "e2dda6f2f0a645c19f604321ee0f834d",
            "8f1b6887152b46c88cf48f3239db1b68",
            "4d77ab863701467f994c03d4365a0c1a"
          ]
        },
        "id": "G4NV5mD6ZBpx",
        "outputId": "986cc104-df11-4dba-ab24-dfbf6fd9d68e"
      },
      "execution_count": null,
      "outputs": [
        {
          "output_type": "display_data",
          "data": {
            "application/vnd.jupyter.widget-view+json": {
              "model_id": "1f9f046487c74f56ba5fac9a5d02d3d0",
              "version_minor": 0,
              "version_major": 2
            },
            "text/plain": [
              "interactive(children=(Dropdown(description='depart', index=1, options=('DEEEA', 'DEETC', 'DEQ', 'DEM', 'DEC', …"
            ]
          },
          "metadata": {}
        }
      ]
    },
    {
      "cell_type": "markdown",
      "source": [
        "## Elementos que variam no tempo"
      ],
      "metadata": {
        "id": "rviuPpZs64JN"
      }
    },
    {
      "cell_type": "code",
      "source": [
        "ANO = 2022\n",
        "IDADE_REFORMA = 70\n",
        "aposentados, ativos = aposentados_e_ativos(docentes, ANO, IDADE_REFORMA)"
      ],
      "metadata": {
        "id": "5Q-1mg3eqctK"
      },
      "execution_count": null,
      "outputs": []
    },
    {
      "cell_type": "code",
      "source": [
        "# Rácio Alunos / ETI\n",
        "alunos_per_eti_isel = alunos_per_curso.sum() / ativos['ETI'].sum()\n",
        "eti_per_dept = ativos.groupby(['Departamento'])['ETI'].sum()\n",
        "alunos_per_eti_dept = alunos_per_dept / eti_per_dept\n",
        "alunos_per_eti_dept.dropna(inplace=True)"
      ],
      "metadata": {
        "id": "I2mGlnUZmvJm"
      },
      "execution_count": null,
      "outputs": []
    },
    {
      "cell_type": "markdown",
      "source": [
        "### ETIs por departamento"
      ],
      "metadata": {
        "id": "Jyxhm7-CxeWg"
      }
    },
    {
      "cell_type": "code",
      "source": [
        "# Figura com ETI por departamento\n",
        "fig, ax = plt.subplots(1, 1, figsize=(12,3))\n",
        "eti_per_dept.name=''\n",
        "eti_per_dept.plot(kind='bar', ax=ax, \n",
        "                  table=np.round(eti_per_dept.to_frame().T, 1))\n",
        "ax.xaxis.set_visible(False)\n",
        "ax.set_title('Total de ETIs por departamento');"
      ],
      "metadata": {
        "colab": {
          "base_uri": "https://localhost:8080/",
          "height": 234
        },
        "id": "2MHENvtzxoWk",
        "outputId": "afb93d76-c8a0-4b55-bcf9-8c352872c0c2"
      },
      "execution_count": null,
      "outputs": [
        {
          "output_type": "display_data",
          "data": {
            "image/png": "[encoded data removed]",
            "text/plain": [
              "<Figure size 864x216 with 1 Axes>"
            ]
          },
          "metadata": {
            "needs_background": "light"
          }
        }
      ]
    },
    {
      "cell_type": "code",
      "source": [
        "# Ritmo de aposentações\n",
        "ano_inicial = 2022\n",
        "ano_final = ano_inicial + 10\n",
        "df = pd.DataFrame()\n",
        "for ano in range(ano_inicial, ano_final+1):\n",
        "  ap, at = aposentados_e_ativos(docentes, ano, IDADE_REFORMA)\n",
        "  s = at.groupby(['Departamento'])['ETI'].sum()\n",
        "  s.name = str(ano)\n",
        "  df = df.append(s)\n",
        "\n",
        "percentage = df /df.loc[str(ano_inicial)]\n",
        "fig, ax = plt.subplots(1, 1, figsize=(8,6))\n",
        "percentage.plot(ax=ax)\n",
        "ax.set_title('Ritmo de aposentações por departamento');"
      ],
      "metadata": {
        "colab": {
          "base_uri": "https://localhost:8080/",
          "height": 390
        },
        "id": "4mbDs9d4s8R_",
        "outputId": "e1538236-c6b4-4222-c1c0-e8692cbe691a"
      },
      "execution_count": null,
      "outputs": [
        {
          "output_type": "display_data",
          "data": {
            "image/png": "[encoded data removed]",
            "text/plain": [
              "<Figure size 576x432 with 1 Axes>"
            ]
          },
          "metadata": {
            "needs_background": "light"
          }
        }
      ]
    },
    {
      "cell_type": "markdown",
      "source": [
        "### Rácio Alunos por ETI"
      ],
      "metadata": {
        "id": "an0R7cguEFSJ"
      }
    },
    {
      "cell_type": "code",
      "source": [
        "# Figura com rácio Alunos/ETI por departamento\n",
        "fig, ax = plt.subplots(1, 1, figsize=(12,3))\n",
        "alunos_per_eti_dept.name='' \n",
        "alunos_per_eti_dept.plot(kind='bar', \n",
        "                          table=np.round(alunos_per_eti_dept.to_frame().T, 1), ax=ax)\n",
        "ax.axhline(y=alunos_per_eti_isel,linewidth=2, color='#d62728')\n",
        "ax.xaxis.set_visible(False)\n",
        "ax.set_title('Alunos / ETI')"
      ],
      "metadata": {
        "id": "2WtDsfhaoGUU",
        "colab": {
          "base_uri": "https://localhost:8080/",
          "height": 251
        },
        "outputId": "07ae6d2b-f1ed-4c5b-c395-549406a18f69"
      },
      "execution_count": null,
      "outputs": [
        {
          "output_type": "execute_result",
          "data": {
            "text/plain": [
              "Text(0.5, 1.0, 'Alunos / ETI')"
            ]
          },
          "metadata": {},
          "execution_count": 109
        },
        {
          "output_type": "display_data",
          "data": {
            "image/png": "[encoded data removed]",
            "text/plain": [
              "<Figure size 864x216 with 1 Axes>"
            ]
          },
          "metadata": {
            "needs_background": "light"
          }
        }
      ]
    },
    {
      "cell_type": "markdown",
      "source": [
        "### ETIs em falta\n",
        "\n"
      ],
      "metadata": {
        "id": "7o9YF3e6sAiQ"
      }
    },
    {
      "cell_type": "code",
      "source": [
        "# VIANA (Valor Ideal Atendendo ao Número de Alunos)\n",
        "alunos_per_eti_ideal = alunos_per_eti_isel\n",
        "viana = alunos_per_dept / alunos_per_eti_ideal\n",
        "fana = viana - eti_per_dept"
      ],
      "metadata": {
        "id": "pn0AigK0rrlJ"
      },
      "execution_count": null,
      "outputs": []
    },
    {
      "cell_type": "code",
      "source": [
        "fig, ax = plt.subplots(1, 1, figsize=(12,3))\n",
        "fana.name='' \n",
        "fana.plot(kind='bar', table=np.round(fana.to_frame().T, 1), ax=ax)\n",
        "ax.xaxis.set_visible(False)\n",
        "ax.axhline(y=0,linewidth=2, color='#d62728')\n",
        "ax.set_title('ETI em falta');"
      ],
      "metadata": {
        "colab": {
          "base_uri": "https://localhost:8080/",
          "height": 234
        },
        "id": "PXX8bhWirrUw",
        "outputId": "46e428e2-292a-4116-f971-aba8a11c56f5"
      },
      "execution_count": null,
      "outputs": [
        {
          "output_type": "display_data",
          "data": {
            "image/png": "[encoded data removed]",
            "text/plain": [
              "<Figure size 864x216 with 1 Axes>"
            ]
          },
          "metadata": {
            "needs_background": "light"
          }
        }
      ]
    },
    {
      "cell_type": "markdown",
      "source": [
        "### Docentes por categoria"
      ],
      "metadata": {
        "id": "iVLYsbG3wQ-b"
      }
    },
    {
      "cell_type": "code",
      "source": [
        "# Ritmo de aposentações na categoria\n",
        "ano_inicial = 2022\n",
        "ano_final = ano_inicial + 10\n",
        "catgs = {'Coordenadores':cat_prof_coord, \n",
        "         'Adjuntos': cat_adjunto,\n",
        "         'Quadro': cat_quadro,\n",
        "         'Convidados': cat_convidado,\n",
        "         'Todas': cat_todas}\n",
        "@interact(categoria=widgets.Dropdown(options=catgs, value=cat_prof_coord))\n",
        "def f(categoria):\n",
        "  df = pd.DataFrame()\n",
        "  for ano in range(ano_inicial, ano_final+1):\n",
        "    ap, at = aposentados_e_ativos(docentes, ano, IDADE_REFORMA)\n",
        "    s = docentes_per_categoria(at, categoria)\n",
        "    s.name = str(ano)\n",
        "    df = df.append(s)\n",
        "\n",
        "  percentage = df /df.loc[str(ano_inicial)]\n",
        "  fig, ax = plt.subplots(1, 1, figsize=(8, 6))\n",
        "  percentage.plot(ax=ax)\n",
        "  ax.set_title('Ritmo de aposentações na categoria por departamento');"
      ],
      "metadata": {
        "colab": {
          "base_uri": "https://localhost:8080/",
          "height": 422,
          "referenced_widgets": [
            "2ca30996cddc47c180337cffd2540332",
            "652d8531d15a446da8a00696fd213f4c",
            "1660c6564fdf4bbf94c2e6d85826edc3",
            "9efe518b9072428fac741ea98e35204e",
            "50f7f0b4a23043b69b3a3b414239ab78",
            "b5f4a3f819b64dce977ca426e5b50275",
            "a71483de5ffc4351a21a87bb214ae4a8"
          ]
        },
        "id": "g1D_xRyY6Lk3",
        "outputId": "16a540aa-dcdb-4ad6-e223-29345e0dfe7c"
      },
      "execution_count": null,
      "outputs": [
        {
          "output_type": "display_data",
          "data": {
            "application/vnd.jupyter.widget-view+json": {
              "model_id": "2ca30996cddc47c180337cffd2540332",
              "version_minor": 0,
              "version_major": 2
            },
            "text/plain": [
              "interactive(children=(Dropdown(description='categoria', options={'Coordenadores': ['Prof. Coordenador', 'Prof.…"
            ]
          },
          "metadata": {}
        }
      ]
    },
    {
      "cell_type": "code",
      "source": [
        "plt.figure(1, figsize=(14, 3))\n",
        "docentes_per_categoria(ativos, cat_prof_coord).plot.bar()\n",
        "plt.suptitle(f'{cat_prof_coord}');"
      ],
      "metadata": {
        "colab": {
          "base_uri": "https://localhost:8080/",
          "height": 256
        },
        "id": "6l_p0zxvoGGo",
        "outputId": "acbb9c53-9deb-4030-bd0e-33520fb1317d"
      },
      "execution_count": null,
      "outputs": [
        {
          "output_type": "display_data",
          "data": {
            "image/png": "[encoded data removed]",
            "text/plain": [
              "<Figure size 1008x216 with 1 Axes>"
            ]
          },
          "metadata": {
            "needs_background": "light"
          }
        }
      ]
    },
    {
      "cell_type": "markdown",
      "source": [
        "# Equalização de recursos docentes"
      ],
      "metadata": {
        "id": "Lh3qVBW4wlZ2"
      }
    },
    {
      "cell_type": "markdown",
      "source": [
        "## Definir o rácio que se pretende uniformizar"
      ],
      "metadata": {
        "id": "2oR94jjKxDvf"
      }
    },
    {
      "cell_type": "code",
      "source": [
        "ratio_numerator = docentes_per_categoria(ativos, cat_prof_coord)"
      ],
      "metadata": {
        "id": "ijqlkfB1ybe_"
      },
      "execution_count": null,
      "outputs": []
    },
    {
      "cell_type": "code",
      "source": [
        "ratio_denominator_1 = docentes_per_categoria(ativos, cat_quadro)\n",
        "ratio_denominator_2 = docentes_per_categoria(ativos, cat_quadro) + \\\n",
        "          0.3*docentes_per_categoria(ativos, cat_convidado)\n",
        "ratio_denominator_3 = docentes_per_categoria(ativos, cat_quadro) + \\\n",
        "          0.3*docentes_per_categoria(ativos, cat_convidado) + fana"
      ],
      "metadata": {
        "id": "V0qB3Zd9xLQM"
      },
      "execution_count": null,
      "outputs": []
    },
    {
      "cell_type": "code",
      "source": [
        "ratio_denominator = ratio_denominator_1"
      ],
      "metadata": {
        "id": "R-_ct7F9y3Pt"
      },
      "execution_count": null,
      "outputs": []
    },
    {
      "cell_type": "code",
      "source": [
        "ratio = ratio_numerator / ratio_denominator"
      ],
      "metadata": {
        "id": "b8AEYL4d0Bk5"
      },
      "execution_count": null,
      "outputs": []
    },
    {
      "cell_type": "markdown",
      "source": [
        "## Bolo a distribuir"
      ],
      "metadata": {
        "id": "JId4ZrwP6aN1"
      }
    },
    {
      "cell_type": "code",
      "source": [
        "cake = 16\n",
        "target = 0.25"
      ],
      "metadata": {
        "id": "WJuw7No01kqH"
      },
      "execution_count": null,
      "outputs": []
    },
    {
      "cell_type": "markdown",
      "source": [
        "## Critérios de distribuição"
      ],
      "metadata": {
        "id": "S54Z8J2X6kBy"
      }
    },
    {
      "cell_type": "code",
      "source": [
        "def how_many_to_target(target):\n",
        "  s = ratio_denominator * target - ratio_numerator\n",
        "  s.clip(lower=0, inplace=True)\n",
        "  return s"
      ],
      "metadata": {
        "id": "EnKPrWo766Lk"
      },
      "execution_count": null,
      "outputs": []
    },
    {
      "cell_type": "code",
      "source": [
        "# METHOD 1 - Linear mapping\n",
        "def linear_map_to_cake(target, cake):\n",
        "  s = how_many_to_target(target)\n",
        "  return s / s.sum() * cake "
      ],
      "metadata": {
        "id": "PH-hcltM7rdX"
      },
      "execution_count": null,
      "outputs": []
    },
    {
      "cell_type": "code",
      "source": [
        "# METHOD 2 - D'Hondt\n",
        "def method_hondt_to_cake(target, cake):\n",
        "  s = how_many_to_target(target)\n",
        "  list_of_series = [s/i for i in range(1, cake+1)]\n",
        "  df = pd.concat(list_of_series, axis=1)\n",
        "  vals = np.sort(np.ravel(df.to_numpy(copy=True)))[-1::-1]\n",
        "  df = df >= vals[cake-1]\n",
        "  return df.sum(axis=1)"
      ],
      "metadata": {
        "id": "I2y870wg7vTN"
      },
      "execution_count": null,
      "outputs": []
    },
    {
      "cell_type": "code",
      "source": [
        "# METHOD 3 - Greedy iteration\n",
        "def one_at_a_time(cake):\n",
        "  numerator = ratio_numerator\n",
        "  denominator = ratio_denominator\n",
        "  s = pd.Series(data=0, index=LISTA_DEPTS)\n",
        "  for i in range(cake):\n",
        "    ratio = numerator / denominator\n",
        "    ix = ratio.idxmin()\n",
        "    s[ix] += 1\n",
        "    numerator[ix] += 1\n",
        "  return s"
      ],
      "metadata": {
        "id": "lZgexubL7u_T"
      },
      "execution_count": null,
      "outputs": []
    },
    {
      "cell_type": "code",
      "source": [
        "linear_map_to_cake(target, cake)"
      ],
      "metadata": {
        "colab": {
          "base_uri": "https://localhost:8080/"
        },
        "id": "P8rsYgLk9vLi",
        "outputId": "87877a34-2069-4547-d358-85722c7760a9"
      },
      "execution_count": null,
      "outputs": [
        {
          "output_type": "execute_result",
          "data": {
            "text/plain": [
              "DEEEA   0.5\n",
              "DEETC   7.6\n",
              "DEQ     0.5\n",
              "DEM     0.0\n",
              "DEC     2.8\n",
              "DF      0.0\n",
              "DM      4.6\n",
              "Name: ETI, dtype: float64"
            ]
          },
          "metadata": {},
          "execution_count": 39
        }
      ]
    },
    {
      "cell_type": "code",
      "source": [
        "method_hondt_to_cake(target, cake)"
      ],
      "metadata": {
        "colab": {
          "base_uri": "https://localhost:8080/"
        },
        "id": "Vl0iuc6a953M",
        "outputId": "62b306a8-4a21-40ae-da00-c7fd86f55c26"
      },
      "execution_count": null,
      "outputs": [
        {
          "output_type": "execute_result",
          "data": {
            "text/plain": [
              "DEEEA    0\n",
              "DEETC    8\n",
              "DEQ      0\n",
              "DEM      0\n",
              "DEC      3\n",
              "DF       0\n",
              "DM       5\n",
              "dtype: int64"
            ]
          },
          "metadata": {},
          "execution_count": 40
        }
      ]
    },
    {
      "cell_type": "code",
      "source": [
        "one_at_a_time(cake)"
      ],
      "metadata": {
        "colab": {
          "base_uri": "https://localhost:8080/"
        },
        "id": "2rFBrIbI-EhJ",
        "outputId": "6b8ba4ab-1ce9-417c-a35b-83a502936a16"
      },
      "execution_count": null,
      "outputs": [
        {
          "output_type": "execute_result",
          "data": {
            "text/plain": [
              "DEEEA    1\n",
              "DEETC    7\n",
              "DEQ      1\n",
              "DEM      0\n",
              "DEC      3\n",
              "DF       0\n",
              "DM       4\n",
              "dtype: int64"
            ]
          },
          "metadata": {},
          "execution_count": 41
        }
      ]
    },
    {
      "cell_type": "markdown",
      "source": [
        "# Testes"
      ],
      "metadata": {
        "id": "5tE2_Y7NzK7M"
      }
    },
    {
      "cell_type": "code",
      "execution_count": null,
      "metadata": {
        "id": "mS2FEAGtw5mp",
        "colab": {
          "base_uri": "https://localhost:8080/",
          "height": 35
        },
        "outputId": "a0b5fd4b-2d67-48df-d71b-0b5f0533cf26"
      },
      "outputs": [
        {
          "output_type": "display_data",
          "data": {
            "text/plain": [
              "<Figure size 936x288 with 0 Axes>"
            ]
          },
          "metadata": {}
        }
      ],
      "source": [
        "plt.figure(1, figsize=(13, 4))\n",
        "def func(ano):\n",
        "  IDADE_REFORMA = 70\n",
        "  aposentados, ativos = aposentados_e_ativos(docentes, ano, IDADE_REFORMA)\n",
        "  categorias = ['Professor Adjunto', 'Prof. Coordenador']\n",
        "  subset = ativos.groupby(['Departamento', 'Categoria'])['ETI'].count()\n",
        "  subset = subset.loc[(slice(None), categorias)]\n",
        "  subset = subset.droplevel(level=1)\n",
        "  subset = subset.groupby(subset.index).sum()\n",
        "  subset.plot.bar()"
      ]
    },
    {
      "cell_type": "code",
      "execution_count": null,
      "metadata": {
        "id": "kHOuu35ew5mq",
        "colab": {
          "base_uri": "https://localhost:8080/",
          "height": 353,
          "referenced_widgets": [
            "fc6582104c764000adb536c96c4a6c9f",
            "4b1948171712479d955bcb7aceaddaf5",
            "ccbad668ed3b4ba19fa2c49db54bf317",
            "ae7bb18cc02a410c9ea408bd288744e6",
            "f795215433e649078e89a5ac399e0ce2",
            "a0c91ab089544242a50c4e6a46f13e8b",
            "20d0de7b8d2d4d12a4b4f10e5cfb422d"
          ]
        },
        "outputId": "8eef80a1-bd02-4a65-8ed6-0f4fa5d1a866"
      },
      "outputs": [
        {
          "output_type": "display_data",
          "data": {
            "application/vnd.jupyter.widget-view+json": {
              "model_id": "fc6582104c764000adb536c96c4a6c9f",
              "version_minor": 0,
              "version_major": 2
            },
            "text/plain": [
              "interactive(children=(IntSlider(value=2032, description='ano', max=2042, min=2022), Output()), _dom_classes=('…"
            ]
          },
          "metadata": {}
        },
        {
          "output_type": "execute_result",
          "data": {
            "text/plain": [
              "<function __main__.func>"
            ]
          },
          "metadata": {},
          "execution_count": 43
        }
      ],
      "source": [
        "interact(func, ano=(2022, 2042))        "
      ]
    },
    {
      "cell_type": "code",
      "source": [
        "docentes.describe()"
      ],
      "metadata": {
        "colab": {
          "base_uri": "https://localhost:8080/",
          "height": 300
        },
        "id": "Qkr_OAo8edMP",
        "outputId": "abbdaf79-0a87-48a3-9790-770b9916e23e"
      },
      "execution_count": null,
      "outputs": [
        {
          "output_type": "execute_result",
          "data": {
            "text/html": [
              "\n",
              "  <div id=\"df-b370079d-f37f-4fbd-abc3-55756e7d61ff\">\n",
              "    <div class=\"colab-df-container\">\n",
              "      <div>\n",
              "<style scoped>\n",
              "    .dataframe tbody tr th:only-of-type {\n",
              "        vertical-align: middle;\n",
              "    }\n",
              "\n",
              "    .dataframe tbody tr th {\n",
              "        vertical-align: top;\n",
              "    }\n",
              "\n",
              "    .dataframe thead th {\n",
              "        text-align: right;\n",
              "    }\n",
              "</style>\n",
              "<table border=\"1\" class=\"dataframe\">\n",
              "  <thead>\n",
              "    <tr style=\"text-align: right;\">\n",
              "      <th></th>\n",
              "      <th>ETI</th>\n",
              "    </tr>\n",
              "  </thead>\n",
              "  <tbody>\n",
              "    <tr>\n",
              "      <th>count</th>\n",
              "      <td>353.0</td>\n",
              "    </tr>\n",
              "    <tr>\n",
              "      <th>mean</th>\n",
              "      <td>0.9</td>\n",
              "    </tr>\n",
              "    <tr>\n",
              "      <th>std</th>\n",
              "      <td>0.2</td>\n",
              "    </tr>\n",
              "    <tr>\n",
              "      <th>min</th>\n",
              "      <td>0.1</td>\n",
              "    </tr>\n",
              "    <tr>\n",
              "      <th>25%</th>\n",
              "      <td>1.0</td>\n",
              "    </tr>\n",
              "    <tr>\n",
              "      <th>50%</th>\n",
              "      <td>1.0</td>\n",
              "    </tr>\n",
              "    <tr>\n",
              "      <th>75%</th>\n",
              "      <td>1.0</td>\n",
              "    </tr>\n",
              "    <tr>\n",
              "      <th>max</th>\n",
              "      <td>1.0</td>\n",
              "    </tr>\n",
              "  </tbody>\n",
              "</table>\n",
              "</div>\n",
              "      <button class=\"colab-df-convert\" onclick=\"convertToInteractive('df-b370079d-f37f-4fbd-abc3-55756e7d61ff')\"\n",
              "              title=\"Convert this dataframe to an interactive table.\"\n",
              "              style=\"display:none;\">\n",
              "        \n",
              "  <svg xmlns=\"http://www.w3.org/2000/svg\" height=\"24px\"viewBox=\"0 0 24 24\"\n",
              "       width=\"24px\">\n",
              "    <path d=\"M0 0h24v24H0V0z\" fill=\"none\"/>\n",
              "    <path d=\"M18.56 5.44l.94 2.06.94-2.06 2.06-.94-2.06-.94-.94-2.06-.94 2.06-2.06.94zm-11 1L8.5 8.5l.94-2.06 2.06-.94-2.06-.94L8.5 2.5l-.94 2.06-2.06.94zm10 10l.94 2.06.94-2.06 2.06-.94-2.06-.94-.94-2.06-.94 2.06-2.06.94z\"/><path d=\"M17.41 7.96l-1.37-1.37c-.4-.4-.92-.59-1.43-.59-.52 0-1.04.2-1.43.59L10.3 9.45l-7.72 7.72c-.78.78-.78 2.05 0 2.83L4 21.41c.39.39.9.59 1.41.59.51 0 1.02-.2 1.41-.59l7.78-7.78 2.81-2.81c.8-.78.8-2.07 0-2.86zM5.41 20L4 18.59l7.72-7.72 1.47 1.35L5.41 20z\"/>\n",
              "  </svg>\n",
              "      </button>\n",
              "      \n",
              "  <style>\n",
              "    .colab-df-container {\n",
              "      display:flex;\n",
              "      flex-wrap:wrap;\n",
              "      gap: 12px;\n",
              "    }\n",
              "\n",
              "    .colab-df-convert {\n",
              "      background-color: #E8F0FE;\n",
              "      border: none;\n",
              "      border-radius: 50%;\n",
              "      cursor: pointer;\n",
              "      display: none;\n",
              "      fill: #1967D2;\n",
              "      height: 32px;\n",
              "      padding: 0 0 0 0;\n",
              "      width: 32px;\n",
              "    }\n",
              "\n",
              "    .colab-df-convert:hover {\n",
              "      background-color: #E2EBFA;\n",
              "      box-shadow: 0px 1px 2px rgba(60, 64, 67, 0.3), 0px 1px 3px 1px rgba(60, 64, 67, 0.15);\n",
              "      fill: #174EA6;\n",
              "    }\n",
              "\n",
              "    [theme=dark] .colab-df-convert {\n",
              "      background-color: #3B4455;\n",
              "      fill: #D2E3FC;\n",
              "    }\n",
              "\n",
              "    [theme=dark] .colab-df-convert:hover {\n",
              "      background-color: #434B5C;\n",
              "      box-shadow: 0px 1px 3px 1px rgba(0, 0, 0, 0.15);\n",
              "      filter: drop-shadow(0px 1px 2px rgba(0, 0, 0, 0.3));\n",
              "      fill: #FFFFFF;\n",
              "    }\n",
              "  </style>\n",
              "\n",
              "      <script>\n",
              "        const buttonEl =\n",
              "          document.querySelector('#df-b370079d-f37f-4fbd-abc3-55756e7d61ff button.colab-df-convert');\n",
              "        buttonEl.style.display =\n",
              "          google.colab.kernel.accessAllowed ? 'block' : 'none';\n",
              "\n",
              "        async function convertToInteractive(key) {\n",
              "          const element = document.querySelector('#df-b370079d-f37f-4fbd-abc3-55756e7d61ff');\n",
              "          const dataTable =\n",
              "            await google.colab.kernel.invokeFunction('convertToInteractive',\n",
              "                                                     [key], {});\n",
              "          if (!dataTable) return;\n",
              "\n",
              "          const docLinkHtml = 'Like what you see? Visit the ' +\n",
              "            '<a target=\"_blank\" href=https://colab.research.google.com/notebooks/data_table.ipynb>data table notebook</a>'\n",
              "            + ' to learn more about interactive tables.';\n",
              "          element.innerHTML = '';\n",
              "          dataTable['output_type'] = 'display_data';\n",
              "          await google.colab.output.renderOutput(dataTable, element);\n",
              "          const docLink = document.createElement('div');\n",
              "          docLink.innerHTML = docLinkHtml;\n",
              "          element.appendChild(docLink);\n",
              "        }\n",
              "      </script>\n",
              "    </div>\n",
              "  </div>\n",
              "  "
            ],
            "text/plain": [
              "        ETI\n",
              "count 353.0\n",
              "mean    0.9\n",
              "std     0.2\n",
              "min     0.1\n",
              "25%     1.0\n",
              "50%     1.0\n",
              "75%     1.0\n",
              "max     1.0"
            ]
          },
          "metadata": {},
          "execution_count": 44
        }
      ]
    }
  ],
  "metadata": {
    "kernelspec": {
      "display_name": "Python 3 (ipykernel)",
      "language": "python",
      "name": "python3"
    },
    "language_info": {
      "codemirror_mode": {
        "name": "ipython",
        "version": 3
      },
      "file_extension": ".py",
      "mimetype": "text/x-python",
      "name": "python",
      "nbconvert_exporter": "python",
      "pygments_lexer": "ipython3",
      "version": "3.9.7"
    },
    "colab": {
      "name": "RHDocentes_third_draft.ipynb",
      "provenance": [],
      "toc_visible": true,
      "include_colab_link": true
    },
    "widgets": {
      "application/vnd.jupyter.widget-state+json": {
        "1f9f046487c74f56ba5fac9a5d02d3d0": {
          "model_module": "@jupyter-widgets/controls",
          "model_name": "VBoxModel",
          "model_module_version": "1.5.0",
          "state": {
            "_view_name": "VBoxView",
            "_dom_classes": [
              "widget-interact"
            ],
            "_model_name": "VBoxModel",
            "_view_module": "@jupyter-widgets/controls",
            "_model_module_version": "1.5.0",
            "_view_count": null,
            "_view_module_version": "1.5.0",
            "box_style": "",
            "layout": "IPY_MODEL_95a1362d071c4cedb502857feb7b7233",
            "_model_module": "@jupyter-widgets/controls",
            "children": [
              "IPY_MODEL_e54ec76cde9a4137baf792e98829ae36",
              "IPY_MODEL_b3eeb0ee0e0946498d1dc6f6642cdd81"
            ]
          }
        },
        "95a1362d071c4cedb502857feb7b7233": {
          "model_module": "@jupyter-widgets/base",
          "model_name": "LayoutModel",
          "model_module_version": "1.2.0",
          "state": {
            "_view_name": "LayoutView",
            "grid_template_rows": null,
            "right": null,
            "justify_content": null,
            "_view_module": "@jupyter-widgets/base",
            "overflow": null,
            "_model_module_version": "1.2.0",
            "_view_count": null,
            "flex_flow": null,
            "width": null,
            "min_width": null,
            "border": null,
            "align_items": null,
            "bottom": null,
            "_model_module": "@jupyter-widgets/base",
            "top": null,
            "grid_column": null,
            "overflow_y": null,
            "overflow_x": null,
            "grid_auto_flow": null,
            "grid_area": null,
            "grid_template_columns": null,
            "flex": null,
            "_model_name": "LayoutModel",
            "justify_items": null,
            "grid_row": null,
            "max_height": null,
            "align_content": null,
            "visibility": null,
            "align_self": null,
            "height": null,
            "min_height": null,
            "padding": null,
            "grid_auto_rows": null,
            "grid_gap": null,
            "max_width": null,
            "order": null,
            "_view_module_version": "1.2.0",
            "grid_template_areas": null,
            "object_position": null,
            "object_fit": null,
            "grid_auto_columns": null,
            "margin": null,
            "display": null,
            "left": null
          }
        },
        "e54ec76cde9a4137baf792e98829ae36": {
          "model_module": "@jupyter-widgets/controls",
          "model_name": "DropdownModel",
          "model_module_version": "1.5.0",
          "state": {
            "_options_labels": [
              "DEEEA",
              "DEETC",
              "DEQ",
              "DEM",
              "DEC",
              "DF",
              "DM"
            ],
            "_view_name": "DropdownView",
            "style": "IPY_MODEL_e2dda6f2f0a645c19f604321ee0f834d",
            "_dom_classes": [],
            "description": "depart",
            "_model_name": "DropdownModel",
            "index": 0,
            "_view_module": "@jupyter-widgets/controls",
            "_model_module_version": "1.5.0",
            "_view_count": null,
            "disabled": false,
            "_view_module_version": "1.5.0",
            "description_tooltip": null,
            "_model_module": "@jupyter-widgets/controls",
            "layout": "IPY_MODEL_8f1b6887152b46c88cf48f3239db1b68"
          }
        },
        "b3eeb0ee0e0946498d1dc6f6642cdd81": {
          "model_module": "@jupyter-widgets/output",
          "model_name": "OutputModel",
          "model_module_version": "1.0.0",
          "state": {
            "_view_name": "OutputView",
            "msg_id": "",
            "_dom_classes": [],
            "_model_name": "OutputModel",
            "outputs": [
              {
                "output_type": "stream",
                "name": "stdout",
                "text": [
                  "            \n",
                  "LEE     73.6\n",
                  "MEE     22.7\n",
                  "PG-EGER  2.1\n",
                  "OUTROS   1.6\n"
                ]
              },
              {
                "output_type": "display_data",
                "data": {
                  "image/png": "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\n",
                  "text/plain": "<Figure size 432x288 with 1 Axes>"
                },
                "metadata": {
                  "needs_background": "light"
                }
              }
            ],
            "_view_module": "@jupyter-widgets/output",
            "_model_module_version": "1.0.0",
            "_view_count": null,
            "_view_module_version": "1.0.0",
            "layout": "IPY_MODEL_4d77ab863701467f994c03d4365a0c1a",
            "_model_module": "@jupyter-widgets/output"
          }
        },
        "e2dda6f2f0a645c19f604321ee0f834d": {
          "model_module": "@jupyter-widgets/controls",
          "model_name": "DescriptionStyleModel",
          "model_module_version": "1.5.0",
          "state": {
            "_view_name": "StyleView",
            "_model_name": "DescriptionStyleModel",
            "description_width": "",
            "_view_module": "@jupyter-widgets/base",
            "_model_module_version": "1.5.0",
            "_view_count": null,
            "_view_module_version": "1.2.0",
            "_model_module": "@jupyter-widgets/controls"
          }
        },
        "8f1b6887152b46c88cf48f3239db1b68": {
          "model_module": "@jupyter-widgets/base",
          "model_name": "LayoutModel",
          "model_module_version": "1.2.0",
          "state": {
            "_view_name": "LayoutView",
            "grid_template_rows": null,
            "right": null,
            "justify_content": null,
            "_view_module": "@jupyter-widgets/base",
            "overflow": null,
            "_model_module_version": "1.2.0",
            "_view_count": null,
            "flex_flow": null,
            "width": null,
            "min_width": null,
            "border": null,
            "align_items": null,
            "bottom": null,
            "_model_module": "@jupyter-widgets/base",
            "top": null,
            "grid_column": null,
            "overflow_y": null,
            "overflow_x": null,
            "grid_auto_flow": null,
            "grid_area": null,
            "grid_template_columns": null,
            "flex": null,
            "_model_name": "LayoutModel",
            "justify_items": null,
            "grid_row": null,
            "max_height": null,
            "align_content": null,
            "visibility": null,
            "align_self": null,
            "height": null,
            "min_height": null,
            "padding": null,
            "grid_auto_rows": null,
            "grid_gap": null,
            "max_width": null,
            "order": null,
            "_view_module_version": "1.2.0",
            "grid_template_areas": null,
            "object_position": null,
            "object_fit": null,
            "grid_auto_columns": null,
            "margin": null,
            "display": null,
            "left": null
          }
        },
        "4d77ab863701467f994c03d4365a0c1a": {
          "model_module": "@jupyter-widgets/base",
          "model_name": "LayoutModel",
          "model_module_version": "1.2.0",
          "state": {
            "_view_name": "LayoutView",
            "grid_template_rows": null,
            "right": null,
            "justify_content": null,
            "_view_module": "@jupyter-widgets/base",
            "overflow": null,
            "_model_module_version": "1.2.0",
            "_view_count": null,
            "flex_flow": null,
            "width": null,
            "min_width": null,
            "border": null,
            "align_items": null,
            "bottom": null,
            "_model_module": "@jupyter-widgets/base",
            "top": null,
            "grid_column": null,
            "overflow_y": null,
            "overflow_x": null,
            "grid_auto_flow": null,
            "grid_area": null,
            "grid_template_columns": null,
            "flex": null,
            "_model_name": "LayoutModel",
            "justify_items": null,
            "grid_row": null,
            "max_height": null,
            "align_content": null,
            "visibility": null,
            "align_self": null,
            "height": null,
            "min_height": null,
            "padding": null,
            "grid_auto_rows": null,
            "grid_gap": null,
            "max_width": null,
            "order": null,
            "_view_module_version": "1.2.0",
            "grid_template_areas": null,
            "object_position": null,
            "object_fit": null,
            "grid_auto_columns": null,
            "margin": null,
            "display": null,
            "left": null
          }
        },
        "2ca30996cddc47c180337cffd2540332": {
          "model_module": "@jupyter-widgets/controls",
          "model_name": "VBoxModel",
          "model_module_version": "1.5.0",
          "state": {
            "_view_name": "VBoxView",
            "_dom_classes": [
              "widget-interact"
            ],
            "_model_name": "VBoxModel",
            "_view_module": "@jupyter-widgets/controls",
            "_model_module_version": "1.5.0",
            "_view_count": null,
            "_view_module_version": "1.5.0",
            "box_style": "",
            "layout": "IPY_MODEL_652d8531d15a446da8a00696fd213f4c",
            "_model_module": "@jupyter-widgets/controls",
            "children": [
              "IPY_MODEL_1660c6564fdf4bbf94c2e6d85826edc3",
              "IPY_MODEL_9efe518b9072428fac741ea98e35204e"
            ]
          }
        },
        "652d8531d15a446da8a00696fd213f4c": {
          "model_module": "@jupyter-widgets/base",
          "model_name": "LayoutModel",
          "model_module_version": "1.2.0",
          "state": {
            "_view_name": "LayoutView",
            "grid_template_rows": null,
            "right": null,
            "justify_content": null,
            "_view_module": "@jupyter-widgets/base",
            "overflow": null,
            "_model_module_version": "1.2.0",
            "_view_count": null,
            "flex_flow": null,
            "width": null,
            "min_width": null,
            "border": null,
            "align_items": null,
            "bottom": null,
            "_model_module": "@jupyter-widgets/base",
            "top": null,
            "grid_column": null,
            "overflow_y": null,
            "overflow_x": null,
            "grid_auto_flow": null,
            "grid_area": null,
            "grid_template_columns": null,
            "flex": null,
            "_model_name": "LayoutModel",
            "justify_items": null,
            "grid_row": null,
            "max_height": null,
            "align_content": null,
            "visibility": null,
            "align_self": null,
            "height": null,
            "min_height": null,
            "padding": null,
            "grid_auto_rows": null,
            "grid_gap": null,
            "max_width": null,
            "order": null,
            "_view_module_version": "1.2.0",
            "grid_template_areas": null,
            "object_position": null,
            "object_fit": null,
            "grid_auto_columns": null,
            "margin": null,
            "display": null,
            "left": null
          }
        },
        "1660c6564fdf4bbf94c2e6d85826edc3": {
          "model_module": "@jupyter-widgets/controls",
          "model_name": "DropdownModel",
          "model_module_version": "1.5.0",
          "state": {
            "_options_labels": [
              "Coordenadores",
              "Adjuntos",
              "Quadro",
              "Convidados",
              "Todas"
            ],
            "_view_name": "DropdownView",
            "style": "IPY_MODEL_50f7f0b4a23043b69b3a3b414239ab78",
            "_dom_classes": [],
            "description": "categoria",
            "_model_name": "DropdownModel",
            "index": 0,
            "_view_module": "@jupyter-widgets/controls",
            "_model_module_version": "1.5.0",
            "_view_count": null,
            "disabled": false,
            "_view_module_version": "1.5.0",
            "description_tooltip": null,
            "_model_module": "@jupyter-widgets/controls",
            "layout": "IPY_MODEL_b5f4a3f819b64dce977ca426e5b50275"
          }
        },
        "9efe518b9072428fac741ea98e35204e": {
          "model_module": "@jupyter-widgets/output",
          "model_name": "OutputModel",
          "model_module_version": "1.0.0",
          "state": {
            "_view_name": "OutputView",
            "msg_id": "",
            "_dom_classes": [],
            "_model_name": "OutputModel",
            "outputs": [
              {
                "output_type": "display_data",
                "data": {
                  "image/png": "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\n",
                  "text/plain": "<Figure size 576x432 with 1 Axes>"
                },
                "metadata": {
                  "needs_background": "light"
                }
              }
            ],
            "_view_module": "@jupyter-widgets/output",
            "_model_module_version": "1.0.0",
            "_view_count": null,
            "_view_module_version": "1.0.0",
            "layout": "IPY_MODEL_a71483de5ffc4351a21a87bb214ae4a8",
            "_model_module": "@jupyter-widgets/output"
          }
        },
        "50f7f0b4a23043b69b3a3b414239ab78": {
          "model_module": "@jupyter-widgets/controls",
          "model_name": "DescriptionStyleModel",
          "model_module_version": "1.5.0",
          "state": {
            "_view_name": "StyleView",
            "_model_name": "DescriptionStyleModel",
            "description_width": "",
            "_view_module": "@jupyter-widgets/base",
            "_model_module_version": "1.5.0",
            "_view_count": null,
            "_view_module_version": "1.2.0",
            "_model_module": "@jupyter-widgets/controls"
          }
        },
        "b5f4a3f819b64dce977ca426e5b50275": {
          "model_module": "@jupyter-widgets/base",
          "model_name": "LayoutModel",
          "model_module_version": "1.2.0",
          "state": {
            "_view_name": "LayoutView",
            "grid_template_rows": null,
            "right": null,
            "justify_content": null,
            "_view_module": "@jupyter-widgets/base",
            "overflow": null,
            "_model_module_version": "1.2.0",
            "_view_count": null,
            "flex_flow": null,
            "width": null,
            "min_width": null,
            "border": null,
            "align_items": null,
            "bottom": null,
            "_model_module": "@jupyter-widgets/base",
            "top": null,
            "grid_column": null,
            "overflow_y": null,
            "overflow_x": null,
            "grid_auto_flow": null,
            "grid_area": null,
            "grid_template_columns": null,
            "flex": null,
            "_model_name": "LayoutModel",
            "justify_items": null,
            "grid_row": null,
            "max_height": null,
            "align_content": null,
            "visibility": null,
            "align_self": null,
            "height": null,
            "min_height": null,
            "padding": null,
            "grid_auto_rows": null,
            "grid_gap": null,
            "max_width": null,
            "order": null,
            "_view_module_version": "1.2.0",
            "grid_template_areas": null,
            "object_position": null,
            "object_fit": null,
            "grid_auto_columns": null,
            "margin": null,
            "display": null,
            "left": null
          }
        },
        "a71483de5ffc4351a21a87bb214ae4a8": {
          "model_module": "@jupyter-widgets/base",
          "model_name": "LayoutModel",
          "model_module_version": "1.2.0",
          "state": {
            "_view_name": "LayoutView",
            "grid_template_rows": null,
            "right": null,
            "justify_content": null,
            "_view_module": "@jupyter-widgets/base",
            "overflow": null,
            "_model_module_version": "1.2.0",
            "_view_count": null,
            "flex_flow": null,
            "width": null,
            "min_width": null,
            "border": null,
            "align_items": null,
            "bottom": null,
            "_model_module": "@jupyter-widgets/base",
            "top": null,
            "grid_column": null,
            "overflow_y": null,
            "overflow_x": null,
            "grid_auto_flow": null,
            "grid_area": null,
            "grid_template_columns": null,
            "flex": null,
            "_model_name": "LayoutModel",
            "justify_items": null,
            "grid_row": null,
            "max_height": null,
            "align_content": null,
            "visibility": null,
            "align_self": null,
            "height": null,
            "min_height": null,
            "padding": null,
            "grid_auto_rows": null,
            "grid_gap": null,
            "max_width": null,
            "order": null,
            "_view_module_version": "1.2.0",
            "grid_template_areas": null,
            "object_position": null,
            "object_fit": null,
            "grid_auto_columns": null,
            "margin": null,
            "display": null,
            "left": null
          }
        },
        "fc6582104c764000adb536c96c4a6c9f": {
          "model_module": "@jupyter-widgets/controls",
          "model_name": "VBoxModel",
          "model_module_version": "1.5.0",
          "state": {
            "_view_name": "VBoxView",
            "_dom_classes": [
              "widget-interact"
            ],
            "_model_name": "VBoxModel",
            "_view_module": "@jupyter-widgets/controls",
            "_model_module_version": "1.5.0",
            "_view_count": null,
            "_view_module_version": "1.5.0",
            "box_style": "",
            "layout": "IPY_MODEL_4b1948171712479d955bcb7aceaddaf5",
            "_model_module": "@jupyter-widgets/controls",
            "children": [
              "IPY_MODEL_ccbad668ed3b4ba19fa2c49db54bf317",
              "IPY_MODEL_ae7bb18cc02a410c9ea408bd288744e6"
            ]
          }
        },
        "4b1948171712479d955bcb7aceaddaf5": {
          "model_module": "@jupyter-widgets/base",
          "model_name": "LayoutModel",
          "model_module_version": "1.2.0",
          "state": {
            "_view_name": "LayoutView",
            "grid_template_rows": null,
            "right": null,
            "justify_content": null,
            "_view_module": "@jupyter-widgets/base",
            "overflow": null,
            "_model_module_version": "1.2.0",
            "_view_count": null,
            "flex_flow": null,
            "width": null,
            "min_width": null,
            "border": null,
            "align_items": null,
            "bottom": null,
            "_model_module": "@jupyter-widgets/base",
            "top": null,
            "grid_column": null,
            "overflow_y": null,
            "overflow_x": null,
            "grid_auto_flow": null,
            "grid_area": null,
            "grid_template_columns": null,
            "flex": null,
            "_model_name": "LayoutModel",
            "justify_items": null,
            "grid_row": null,
            "max_height": null,
            "align_content": null,
            "visibility": null,
            "align_self": null,
            "height": null,
            "min_height": null,
            "padding": null,
            "grid_auto_rows": null,
            "grid_gap": null,
            "max_width": null,
            "order": null,
            "_view_module_version": "1.2.0",
            "grid_template_areas": null,
            "object_position": null,
            "object_fit": null,
            "grid_auto_columns": null,
            "margin": null,
            "display": null,
            "left": null
          }
        },
        "ccbad668ed3b4ba19fa2c49db54bf317": {
          "model_module": "@jupyter-widgets/controls",
          "model_name": "IntSliderModel",
          "model_module_version": "1.5.0",
          "state": {
            "_view_name": "IntSliderView",
            "style": "IPY_MODEL_f795215433e649078e89a5ac399e0ce2",
            "_dom_classes": [],
            "description": "ano",
            "step": 1,
            "_model_name": "IntSliderModel",
            "orientation": "horizontal",
            "max": 2042,
            "_view_module": "@jupyter-widgets/controls",
            "_model_module_version": "1.5.0",
            "value": 2032,
            "_view_count": null,
            "disabled": false,
            "_view_module_version": "1.5.0",
            "min": 2022,
            "continuous_update": true,
            "readout_format": "d",
            "description_tooltip": null,
            "readout": true,
            "_model_module": "@jupyter-widgets/controls",
            "layout": "IPY_MODEL_a0c91ab089544242a50c4e6a46f13e8b"
          }
        },
        "ae7bb18cc02a410c9ea408bd288744e6": {
          "model_module": "@jupyter-widgets/output",
          "model_name": "OutputModel",
          "model_module_version": "1.0.0",
          "state": {
            "_view_name": "OutputView",
            "msg_id": "",
            "_dom_classes": [],
            "_model_name": "OutputModel",
            "outputs": [
              {
                "output_type": "display_data",
                "data": {
                  "image/png": "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\n",
                  "text/plain": "<Figure size 432x288 with 1 Axes>"
                },
                "metadata": {
                  "needs_background": "light"
                }
              }
            ],
            "_view_module": "@jupyter-widgets/output",
            "_model_module_version": "1.0.0",
            "_view_count": null,
            "_view_module_version": "1.0.0",
            "layout": "IPY_MODEL_20d0de7b8d2d4d12a4b4f10e5cfb422d",
            "_model_module": "@jupyter-widgets/output"
          }
        },
        "f795215433e649078e89a5ac399e0ce2": {
          "model_module": "@jupyter-widgets/controls",
          "model_name": "SliderStyleModel",
          "model_module_version": "1.5.0",
          "state": {
            "_view_name": "StyleView",
            "handle_color": null,
            "_model_name": "SliderStyleModel",
            "description_width": "",
            "_view_module": "@jupyter-widgets/base",
            "_model_module_version": "1.5.0",
            "_view_count": null,
            "_view_module_version": "1.2.0",
            "_model_module": "@jupyter-widgets/controls"
          }
        },
        "a0c91ab089544242a50c4e6a46f13e8b": {
          "model_module": "@jupyter-widgets/base",
          "model_name": "LayoutModel",
          "model_module_version": "1.2.0",
          "state": {
            "_view_name": "LayoutView",
            "grid_template_rows": null,
            "right": null,
            "justify_content": null,
            "_view_module": "@jupyter-widgets/base",
            "overflow": null,
            "_model_module_version": "1.2.0",
            "_view_count": null,
            "flex_flow": null,
            "width": null,
            "min_width": null,
            "border": null,
            "align_items": null,
            "bottom": null,
            "_model_module": "@jupyter-widgets/base",
            "top": null,
            "grid_column": null,
            "overflow_y": null,
            "overflow_x": null,
            "grid_auto_flow": null,
            "grid_area": null,
            "grid_template_columns": null,
            "flex": null,
            "_model_name": "LayoutModel",
            "justify_items": null,
            "grid_row": null,
            "max_height": null,
            "align_content": null,
            "visibility": null,
            "align_self": null,
            "height": null,
            "min_height": null,
            "padding": null,
            "grid_auto_rows": null,
            "grid_gap": null,
            "max_width": null,
            "order": null,
            "_view_module_version": "1.2.0",
            "grid_template_areas": null,
            "object_position": null,
            "object_fit": null,
            "grid_auto_columns": null,
            "margin": null,
            "display": null,
            "left": null
          }
        },
        "20d0de7b8d2d4d12a4b4f10e5cfb422d": {
          "model_module": "@jupyter-widgets/base",
          "model_name": "LayoutModel",
          "model_module_version": "1.2.0",
          "state": {
            "_view_name": "LayoutView",
            "grid_template_rows": null,
            "right": null,
            "justify_content": null,
            "_view_module": "@jupyter-widgets/base",
            "overflow": null,
            "_model_module_version": "1.2.0",
            "_view_count": null,
            "flex_flow": null,
            "width": null,
            "min_width": null,
            "border": null,
            "align_items": null,
            "bottom": null,
            "_model_module": "@jupyter-widgets/base",
            "top": null,
            "grid_column": null,
            "overflow_y": null,
            "overflow_x": null,
            "grid_auto_flow": null,
            "grid_area": null,
            "grid_template_columns": null,
            "flex": null,
            "_model_name": "LayoutModel",
            "justify_items": null,
            "grid_row": null,
            "max_height": null,
            "align_content": null,
            "visibility": null,
            "align_self": null,
            "height": null,
            "min_height": null,
            "padding": null,
            "grid_auto_rows": null,
            "grid_gap": null,
            "max_width": null,
            "order": null,
            "_view_module_version": "1.2.0",
            "grid_template_areas": null,
            "object_position": null,
            "object_fit": null,
            "grid_auto_columns": null,
            "margin": null,
            "display": null,
            "left": null
          }
        }
      }
    }
  },
  "nbformat": 4,
  "nbformat_minor": 0
}