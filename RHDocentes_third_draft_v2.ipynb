{
  "cells": [
    {
      "cell_type": "markdown",
      "metadata": {
        "id": "view-in-github",
        "colab_type": "text"
      },
      "source": [
        "<a href=\"https://colab.research.google.com/github/arjoca/RHDocentes/blob/main/RHDocentes_third_draft_v2.ipynb\" target=\"_parent\"><img src=\"https://colab.research.google.com/assets/colab-badge.svg\" alt=\"Open In Colab\"/></a>"
      ]
    },
    {
      "cell_type": "markdown",
      "source": [
        "# Narrativa\n",
        "\n",
        "![foto infância.jpg](data:image/jpeg;base64,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)"
      ],
      "metadata": {
        "id": "4DFNGvwF466I"
      }
    },
    {
      "cell_type": "markdown",
      "source": [
        "# Preparação"
      ],
      "metadata": {
        "id": "0yCt8aqB5l7E"
      }
    },
    {
      "cell_type": "markdown",
      "source": [
        "## Fontes de informação\n",
        "\n",
        "*   Ficheiro \"Afetacao_Financeira_ADs_Cursos_2021_v01.xlsx\"\n",
        "*   Ficheiro \"RAIDES_0.xlsx\" \n",
        "\n",
        "Informação que depois de filtrada e anonimizada deu origem aos dados guardados no ficheiro [clean_data.xlsx](https://github.com/arjoca/RHDocentes/blob/main/clean_data.xlsx), usados neste estudo."
      ],
      "metadata": {
        "id": "pXnpQt3WX4Gx"
      }
    },
    {
      "cell_type": "markdown",
      "source": [
        "## Importação de módulos e leitura de dados"
      ],
      "metadata": {
        "id": "xJSzWgluYn23"
      }
    },
    {
      "cell_type": "code",
      "source": [
        "# instalação de módulos\n",
        "!pip install squarify"
      ],
      "metadata": {
        "colab": {
          "base_uri": "https://localhost:8080/"
        },
        "id": "1g-lq__b6Ouk",
        "outputId": "33811d25-26b0-46d1-ebab-ae6f4e8c16d8"
      },
      "execution_count": 1,
      "outputs": [
        {
          "output_type": "stream",
          "name": "stdout",
          "text": [
            "Requirement already satisfied: squarify in /usr/local/lib/python3.7/dist-packages (0.4.3)\n"
          ]
        }
      ]
    },
    {
      "cell_type": "code",
      "source": [
        "# importação de módulos\n",
        "import numpy as np\n",
        "import pandas as pd\n",
        "import matplotlib\n",
        "import matplotlib.pyplot as plt\n",
        "from datetime import datetime, timedelta\n",
        "import squarify\n",
        "from ipywidgets import widgets, interact, fixed"
      ],
      "metadata": {
        "id": "7ixqURkcmS3k"
      },
      "execution_count": 56,
      "outputs": []
    },
    {
      "cell_type": "code",
      "source": [
        "# Leitura de dados\n",
        "base_url = 'https://raw.githubusercontent.com/arjoca/RHDocentes/main/'\n",
        "docentes = pd.read_csv(base_url + 'docentes.csv', encoding= 'unicode_escape', \n",
        "                       parse_dates=['Data Nascimento'], infer_datetime_format=True)\n",
        "alunos_per_curso = pd.read_csv(base_url + 'alunos.csv', encoding= 'unicode_escape', index_col=0)\n",
        "horas = pd.read_csv(base_url + 'horas.csv', encoding= 'unicode_escape', index_col=0)"
      ],
      "metadata": {
        "id": "zrRGfIA3NOss"
      },
      "execution_count": 3,
      "outputs": []
    },
    {
      "cell_type": "code",
      "source": [
        "pd.options.display.float_format = \"{:,.1f}\".format"
      ],
      "metadata": {
        "id": "2fYAT4juJHFR"
      },
      "execution_count": 4,
      "outputs": []
    },
    {
      "cell_type": "markdown",
      "source": [
        "## Designações de cenas"
      ],
      "metadata": {
        "id": "9mRMNRKk9cY2"
      }
    },
    {
      "cell_type": "code",
      "source": [
        "# Designações dos cursos e departamentos\n",
        "LISTA_DEPTS = docentes['Departamento'].unique()\n",
        "LISTA_CURSOS = alunos_per_curso.index.unique()"
      ],
      "metadata": {
        "id": "2cJVoDWu818g"
      },
      "execution_count": 5,
      "outputs": []
    },
    {
      "cell_type": "code",
      "source": [
        "# Designações das categorias de docentes\n",
        "cat_prof_coord = ['Prof. Coordenador', 'Prof. Coordenador c/ Agreg. ', 'Professor Coordenador Principal']\n",
        "cat_convidado = ['Assistente Convidado', 'Professor Adjunto Convidado']\n",
        "cat_adjunto = ['Professor Adjunto']\n",
        "cat_assistente = ['Assistente do 2. Trienio', 'Assistente', 'Equiparado Assistente 2. Trienio']\n",
        "cat_monitor = ['Monitor']\n",
        "cat_quadro = cat_prof_coord + cat_adjunto"
      ],
      "metadata": {
        "id": "kq3S29pd66vU"
      },
      "execution_count": 6,
      "outputs": []
    },
    {
      "cell_type": "markdown",
      "metadata": {
        "id": "HVQRAlitw5mf"
      },
      "source": [
        "## Definição de funções"
      ]
    },
    {
      "cell_type": "code",
      "source": [
        "# Filtragem de docentes atendendo à sua idade de aposentação \n",
        "def aposentados_e_ativos(df, ano, idade_reforma):\n",
        "    idade = (datetime(ano, 1, 1) - df['Data Nascimento'])/timedelta(days=365.25)\n",
        "    aposentados = df[idade > idade_reforma]\n",
        "    ativos = df.drop(index=aposentados.index)\n",
        "    return aposentados, ativos"
      ],
      "metadata": {
        "id": "2zOZwwGOLYRm"
      },
      "execution_count": 7,
      "outputs": []
    },
    {
      "cell_type": "code",
      "source": [
        "# Filtragem de docentes atendendo à sua categoria\n",
        "def docentes_per_categoria(df, categoria):\n",
        "  s = df.groupby(['Departamento', 'Categoria'])['ETI'].count()\n",
        "  s = s.loc[(slice(None), categoria)].droplevel(level=1)\n",
        "  s = s.groupby(s.index).sum()\n",
        "  s = pd.Series(s, index=LISTA_DEPTS)\n",
        "  return s.fillna(0)"
      ],
      "metadata": {
        "id": "WrlMDKJQ-Fub"
      },
      "execution_count": 8,
      "outputs": []
    },
    {
      "cell_type": "code",
      "source": [
        "# Prepara dados para visualizar com treemap\n",
        "def prepare_to_treemap(tabela_horas, dept=None, threshold_percentage=0.01):\n",
        "  s = tabela_horas[dept].copy() if dept is not None else tabela_horas.sum(axis=1)\n",
        "  total = s.values.sum()\n",
        "  threshold = threshold_percentage * total\n",
        "  s = s[s > threshold]\n",
        "  remainder = total - s.values.sum()\n",
        "  s = s.append(pd.Series(data=[remainder], index=['OUTROS']))\n",
        "  return s.sort_values(ascending=False)"
      ],
      "metadata": {
        "id": "X-4fLAFKjnZC"
      },
      "execution_count": 9,
      "outputs": []
    },
    {
      "cell_type": "markdown",
      "source": [
        "# Exploração de dados"
      ],
      "metadata": {
        "id": "wwRnjBWD6e8O"
      }
    },
    {
      "cell_type": "markdown",
      "source": [
        "## Elementos constantes (para simplificar)"
      ],
      "metadata": {
        "id": "uATfuhqX6uT6"
      }
    },
    {
      "cell_type": "code",
      "execution_count": 10,
      "metadata": {
        "pycharm": {
          "name": "#%%\n"
        },
        "id": "_ttb1fV3w5mm"
      },
      "outputs": [],
      "source": [
        "# Elementos constantes (time independent features)\n",
        "# Simplificação: constância do número de alunos e das horas de contacto \n",
        "horas_per_dept = horas.sum()\n",
        "horas_per_curso = horas.sum(axis=1)\n",
        "\n",
        "pesos_dept_per_curso = horas.T / horas_per_curso\n",
        "pesos_curso_per_dept = horas / horas_per_dept\n",
        "alunos_per_dept = pd.DataFrame(np.dot(pesos_dept_per_curso, alunos_per_curso),\n",
        "                              index=pesos_dept_per_curso.index, columns=['Alunos'])\n",
        "alunos_per_dept = alunos_per_dept['Alunos']\n",
        "alunos_per_curso = alunos_per_curso['Alunos']"
      ]
    },
    {
      "cell_type": "markdown",
      "source": [
        "### Fotografia do ISEL hoje (2022)"
      ],
      "metadata": {
        "id": "wk8xq6FrmvJa"
      }
    },
    {
      "cell_type": "markdown",
      "source": [
        "#### Eficiência relativa de cada departamento"
      ],
      "metadata": {
        "id": "-ImN48VSYM8Z"
      }
    },
    {
      "cell_type": "code",
      "source": [
        "# Eficiência relativa dos departamentos/cursos\n",
        "ratio_aluno_hora_ISEL = alunos_per_curso.sum() / horas_per_curso.sum()\n",
        "eff_per_dept = 100 * alunos_per_dept / horas_per_dept / ratio_aluno_hora_ISEL\n",
        "eff_per_curso = 100 * alunos_per_curso / horas_per_curso / ratio_aluno_hora_ISEL\n",
        "eff_per_curso.dropna(inplace=True)"
      ],
      "metadata": {
        "id": "IR2mH2_ZmvJb"
      },
      "execution_count": 11,
      "outputs": []
    },
    {
      "cell_type": "code",
      "source": [
        "# Figura com eficiência relativa de cada departamento\n",
        "fig, ax = plt.subplots(1, 1, figsize=(14,3))\n",
        "eff_per_dept.plot(kind='bar', table=np.round(eff_per_dept.to_frame().T, 1), ax=ax)\n",
        "ax.axhline(y=100,linewidth=2, color='#d62728')\n",
        "ax.xaxis.set_visible(False)\n",
        "ax.set_title('Eficiência relativa de cada departamento')\n"
      ],
      "metadata": {
        "id": "JPKDX8GGREEM",
        "outputId": "7ddbbbe1-d309-49a3-f810-79e493bc67e8",
        "colab": {
          "base_uri": "https://localhost:8080/",
          "height": 251
        }
      },
      "execution_count": 12,
      "outputs": [
        {
          "output_type": "execute_result",
          "data": {
            "text/plain": [
              "Text(0.5, 1.0, 'Eficiência relativa de cada departamento')"
            ]
          },
          "metadata": {},
          "execution_count": 12
        },
        {
          "output_type": "display_data",
          "data": {
            "image/png": "[encoded data removed]",
            "text/plain": [
              "<Figure size 1008x216 with 1 Axes>"
            ]
          },
          "metadata": {
            "needs_background": "light"
          }
        }
      ]
    },
    {
      "cell_type": "markdown",
      "source": [
        "#### Eficiência relativa de cada curso"
      ],
      "metadata": {
        "id": "OcRDDqKrYkwP"
      }
    },
    {
      "cell_type": "code",
      "source": [
        "# Figura com eficiência relativa de cada curso (licenciatura)\n",
        "eff_per_licenciatura = eff_per_curso[:11]\n",
        "eff_per_licenciatura.name=''\n",
        "fig, ax = plt.subplots(1, 1, figsize=(14,3))\n",
        "eff_per_licenciatura.plot(kind='bar', \n",
        "                          table=np.round(eff_per_licenciatura.to_frame().T, 1), ax=ax)\n",
        "ax.axhline(y=100,linewidth=2, color='#d62728')\n",
        "ax.xaxis.set_visible(False)\n",
        "ax.set_title('Eficiência relativa de cada curso de licenciatura')"
      ],
      "metadata": {
        "id": "7S_xDxNcSaiR",
        "outputId": "78fb4bda-626c-4b1b-d9b2-06b3fca2b15f",
        "colab": {
          "base_uri": "https://localhost:8080/",
          "height": 251
        }
      },
      "execution_count": 13,
      "outputs": [
        {
          "output_type": "execute_result",
          "data": {
            "text/plain": [
              "Text(0.5, 1.0, 'Eficiência relativa de cada curso de licenciatura')"
            ]
          },
          "metadata": {},
          "execution_count": 13
        },
        {
          "output_type": "display_data",
          "data": {
            "image/png": "[encoded data removed]",
            "text/plain": [
              "<Figure size 1008x216 with 1 Axes>"
            ]
          },
          "metadata": {
            "needs_background": "light"
          }
        }
      ]
    },
    {
      "cell_type": "code",
      "source": [
        "# Figura com eficiência relativa de cada curso (mestrado)\n",
        "eff_per_mestrado = eff_per_curso[11:]\n",
        "eff_per_mestrado.name=''\n",
        "fig, ax = plt.subplots(1, 1, figsize=(14,3))\n",
        "eff_per_mestrado.plot(kind='bar', \n",
        "                          table=np.round(eff_per_mestrado.to_frame().T, 1), ax=ax)\n",
        "ax.axhline(y=100,linewidth=2, color='#d62728')\n",
        "ax.xaxis.set_visible(False)\n",
        "ax.set_title('Eficiência relativa de cada curso de mestrado')"
      ],
      "metadata": {
        "id": "f9cQjnxWVlus",
        "outputId": "92853dbb-aeec-47a5-fa03-e08cd3ad4c4d",
        "colab": {
          "base_uri": "https://localhost:8080/",
          "height": 251
        }
      },
      "execution_count": 14,
      "outputs": [
        {
          "output_type": "execute_result",
          "data": {
            "text/plain": [
              "Text(0.5, 1.0, 'Eficiência relativa de cada curso de mestrado')"
            ]
          },
          "metadata": {},
          "execution_count": 14
        },
        {
          "output_type": "display_data",
          "data": {
            "image/png": "[encoded data removed]",
            "text/plain": [
              "<Figure size 1008x216 with 1 Axes>"
            ]
          },
          "metadata": {
            "needs_background": "light"
          }
        }
      ]
    },
    {
      "cell_type": "markdown",
      "source": [
        "#### Distribuição das horas por departamento"
      ],
      "metadata": {
        "id": "WEvemQ_gZhQw"
      }
    },
    {
      "cell_type": "code",
      "source": [
        "# Distribuição das horas de contacto em cada departamento\n",
        "cm = matplotlib.cm.get_cmap('Pastel1')\n",
        "width = 0.25\n",
        "plt.figure(figsize=(14, 18))\n",
        "plt.subplots_adjust(hspace=0.4)\n",
        "\n",
        "plt.subplot(4, 2, 1)\n",
        "s = prepare_to_treemap(horas)\n",
        "squarify.plot(sizes=s.values, label=s.index, pad=True, color='beige')\n",
        "plt.axis('off')\n",
        "plt.title('ISEL')\n",
        "\n",
        "for i, dept in enumerate(LISTA_DEPTS):\n",
        "  plt.subplot(4, 2, i+2)\n",
        "  s = prepare_to_treemap(horas, dept)\n",
        "  squarify.plot(sizes=s.values, label=s.index, pad=True, color=cm.colors)\n",
        "  plt.axis('off')\n",
        "  plt.title(dept)"
      ],
      "metadata": {
        "colab": {
          "base_uri": "https://localhost:8080/",
          "height": 1000
        },
        "id": "qpxBR3rItl0B",
        "outputId": "63f6311a-feda-4aa6-e2bf-c4bf50c81323"
      },
      "execution_count": 15,
      "outputs": [
        {
          "output_type": "display_data",
          "data": {
            "image/png": "[encoded data removed]",
            "text/plain": [
              "<Figure size 1008x1296 with 8 Axes>"
            ]
          },
          "metadata": {
            "needs_background": "light"
          }
        }
      ]
    },
    {
      "cell_type": "code",
      "source": [
        "@interact(dep=widgets.Dropdown(options=LISTA_DEPTS, value='DEETC'))\n",
        "def f(dep):\n",
        "  s = prepare_to_treemap(horas, dep)\n",
        "  squarify.plot(sizes=s.values, label=s.index, pad=True, color=cm.colors)\n",
        "  plt.axis('off')"
      ],
      "metadata": {
        "id": "G4NV5mD6ZBpx",
        "outputId": "898dc6b7-43d0-45b0-c8f4-b0df712850a2",
        "colab": {
          "base_uri": "https://localhost:8080/",
          "height": 280,
          "referenced_widgets": [
            "e57776eab2824fc780687cb563df3421",
            "4754b014e69b4d4785c48afd80069378",
            "bfe4ea1e397641e2873c2ca5b6c38584",
            "f86db7bc48d749f3a21211716e5647ea",
            "6d8263a003c84c7ba11b5ec598c52041",
            "9371c424aed146a9bda7a10a42dbd68a",
            "dca3a882264341028fe22e2cc16f742f"
          ]
        }
      },
      "execution_count": 71,
      "outputs": [
        {
          "output_type": "display_data",
          "data": {
            "application/vnd.jupyter.widget-view+json": {
              "model_id": "e57776eab2824fc780687cb563df3421",
              "version_minor": 0,
              "version_major": 2
            },
            "text/plain": [
              "interactive(children=(Dropdown(description='dep', index=1, options=('DEEEA', 'DEETC', 'DEQ', 'DEM', 'DEC', 'DF…"
            ]
          },
          "metadata": {}
        }
      ]
    },
    {
      "cell_type": "code",
      "source": [
        ""
      ],
      "metadata": {
        "id": "Iu1Ol4KdYydZ",
        "outputId": "8f361948-f2cb-4e3e-f907-de2302f85085",
        "colab": {
          "base_uri": "https://localhost:8080/",
          "height": 243,
          "referenced_widgets": [
            "3dd8b59401394afeb04c11d3ae4a10cb",
            "4d16904e7de848aeac4ab32de6328347",
            "b79a625c7f794b5bb0f7aec3c4db8654",
            "f9c94eb89653497faa5829a109b8b693",
            "bc43fb593a0e4944b7e36c9a0d282de6",
            "ac63a4a3629f4628ada9bb2c24ae1968",
            "5adb5536e9cb48a49ffa7a01a8d6eaef"
          ]
        }
      },
      "execution_count": 17,
      "outputs": [
        {
          "output_type": "display_data",
          "data": {
            "image/png": "[encoded data removed]",
            "text/plain": [
              "<Figure size 1008x216 with 1 Axes>"
            ]
          },
          "metadata": {
            "needs_background": "light"
          }
        },
        {
          "output_type": "display_data",
          "data": {
            "application/vnd.jupyter.widget-view+json": {
              "model_id": "3dd8b59401394afeb04c11d3ae4a10cb",
              "version_minor": 0,
              "version_major": 2
            },
            "text/plain": [
              "interactive(children=(Combobox(value='DEC', description='x', options=('DEETC', 'DEC', 'DEQ')), Output()), _dom…"
            ]
          },
          "metadata": {}
        },
        {
          "output_type": "execute_result",
          "data": {
            "text/plain": [
              "<function __main__.f>"
            ]
          },
          "metadata": {},
          "execution_count": 17
        }
      ]
    },
    {
      "cell_type": "code",
      "source": [
        "# Treemap com horas de cada departamento\n",
        "plt.figure(figsize=(8, 4))\n",
        "departamento = \"DEETC\"\n",
        "s = prepare_to_treemap(horas, departamento)\n",
        "squarify.plot(sizes=s.values, label=s.index, pad=True, color=cm.colors)\n",
        "plt.axis('off')\n",
        "plt.suptitle('Distribuição dos recursos docentes no ' + departamento)"
      ],
      "metadata": {
        "colab": {
          "base_uri": "https://localhost:8080/",
          "height": 295
        },
        "id": "pbL9qP2Rgltt",
        "outputId": "0b35f488-4a5b-440f-dc7c-2ae1dbcf22e6"
      },
      "execution_count": 18,
      "outputs": [
        {
          "output_type": "execute_result",
          "data": {
            "text/plain": [
              "Text(0.5, 0.98, 'Distribuição dos recursos docentes no DEETC')"
            ]
          },
          "metadata": {},
          "execution_count": 18
        },
        {
          "output_type": "display_data",
          "data": {
            "image/png": "[encoded data removed]",
            "text/plain": [
              "<Figure size 576x288 with 1 Axes>"
            ]
          },
          "metadata": {
            "needs_background": "light"
          }
        }
      ]
    },
    {
      "cell_type": "code",
      "source": [
        "s.to_frame()/s.values.sum()*100"
      ],
      "metadata": {
        "colab": {
          "base_uri": "https://localhost:8080/",
          "height": 363
        },
        "id": "Vu2zYORYlVS4",
        "outputId": "3f632b3a-d1af-4af9-c2b8-d57f8ceabd7c"
      },
      "execution_count": 19,
      "outputs": [
        {
          "output_type": "execute_result",
          "data": {
            "text/html": [
              "\n",
              "  <div id=\"df-353388ba-8fde-4503-8912-8a53e91831f2\">\n",
              "    <div class=\"colab-df-container\">\n",
              "      <div>\n",
              "<style scoped>\n",
              "    .dataframe tbody tr th:only-of-type {\n",
              "        vertical-align: middle;\n",
              "    }\n",
              "\n",
              "    .dataframe tbody tr th {\n",
              "        vertical-align: top;\n",
              "    }\n",
              "\n",
              "    .dataframe thead th {\n",
              "        text-align: right;\n",
              "    }\n",
              "</style>\n",
              "<table border=\"1\" class=\"dataframe\">\n",
              "  <thead>\n",
              "    <tr style=\"text-align: right;\">\n",
              "      <th></th>\n",
              "      <th>0</th>\n",
              "    </tr>\n",
              "  </thead>\n",
              "  <tbody>\n",
              "    <tr>\n",
              "      <th>LEIC</th>\n",
              "      <td>30.0</td>\n",
              "    </tr>\n",
              "    <tr>\n",
              "      <th>LEETC</th>\n",
              "      <td>26.8</td>\n",
              "    </tr>\n",
              "    <tr>\n",
              "      <th>LEIM</th>\n",
              "      <td>18.7</td>\n",
              "    </tr>\n",
              "    <tr>\n",
              "      <th>LEIRT</th>\n",
              "      <td>6.8</td>\n",
              "    </tr>\n",
              "    <tr>\n",
              "      <th>MEET</th>\n",
              "      <td>6.4</td>\n",
              "    </tr>\n",
              "    <tr>\n",
              "      <th>MEIC</th>\n",
              "      <td>4.9</td>\n",
              "    </tr>\n",
              "    <tr>\n",
              "      <th>MEIM</th>\n",
              "      <td>2.5</td>\n",
              "    </tr>\n",
              "    <tr>\n",
              "      <th>LEB</th>\n",
              "      <td>1.4</td>\n",
              "    </tr>\n",
              "    <tr>\n",
              "      <th>MEB</th>\n",
              "      <td>1.3</td>\n",
              "    </tr>\n",
              "    <tr>\n",
              "      <th>OUTROS</th>\n",
              "      <td>1.0</td>\n",
              "    </tr>\n",
              "  </tbody>\n",
              "</table>\n",
              "</div>\n",
              "      <button class=\"colab-df-convert\" onclick=\"convertToInteractive('df-353388ba-8fde-4503-8912-8a53e91831f2')\"\n",
              "              title=\"Convert this dataframe to an interactive table.\"\n",
              "              style=\"display:none;\">\n",
              "        \n",
              "  <svg xmlns=\"http://www.w3.org/2000/svg\" height=\"24px\"viewBox=\"0 0 24 24\"\n",
              "       width=\"24px\">\n",
              "    <path d=\"M0 0h24v24H0V0z\" fill=\"none\"/>\n",
              "    <path d=\"M18.56 5.44l.94 2.06.94-2.06 2.06-.94-2.06-.94-.94-2.06-.94 2.06-2.06.94zm-11 1L8.5 8.5l.94-2.06 2.06-.94-2.06-.94L8.5 2.5l-.94 2.06-2.06.94zm10 10l.94 2.06.94-2.06 2.06-.94-2.06-.94-.94-2.06-.94 2.06-2.06.94z\"/><path d=\"M17.41 7.96l-1.37-1.37c-.4-.4-.92-.59-1.43-.59-.52 0-1.04.2-1.43.59L10.3 9.45l-7.72 7.72c-.78.78-.78 2.05 0 2.83L4 21.41c.39.39.9.59 1.41.59.51 0 1.02-.2 1.41-.59l7.78-7.78 2.81-2.81c.8-.78.8-2.07 0-2.86zM5.41 20L4 18.59l7.72-7.72 1.47 1.35L5.41 20z\"/>\n",
              "  </svg>\n",
              "      </button>\n",
              "      \n",
              "  <style>\n",
              "    .colab-df-container {\n",
              "      display:flex;\n",
              "      flex-wrap:wrap;\n",
              "      gap: 12px;\n",
              "    }\n",
              "\n",
              "    .colab-df-convert {\n",
              "      background-color: #E8F0FE;\n",
              "      border: none;\n",
              "      border-radius: 50%;\n",
              "      cursor: pointer;\n",
              "      display: none;\n",
              "      fill: #1967D2;\n",
              "      height: 32px;\n",
              "      padding: 0 0 0 0;\n",
              "      width: 32px;\n",
              "    }\n",
              "\n",
              "    .colab-df-convert:hover {\n",
              "      background-color: #E2EBFA;\n",
              "      box-shadow: 0px 1px 2px rgba(60, 64, 67, 0.3), 0px 1px 3px 1px rgba(60, 64, 67, 0.15);\n",
              "      fill: #174EA6;\n",
              "    }\n",
              "\n",
              "    [theme=dark] .colab-df-convert {\n",
              "      background-color: #3B4455;\n",
              "      fill: #D2E3FC;\n",
              "    }\n",
              "\n",
              "    [theme=dark] .colab-df-convert:hover {\n",
              "      background-color: #434B5C;\n",
              "      box-shadow: 0px 1px 3px 1px rgba(0, 0, 0, 0.15);\n",
              "      filter: drop-shadow(0px 1px 2px rgba(0, 0, 0, 0.3));\n",
              "      fill: #FFFFFF;\n",
              "    }\n",
              "  </style>\n",
              "\n",
              "      <script>\n",
              "        const buttonEl =\n",
              "          document.querySelector('#df-353388ba-8fde-4503-8912-8a53e91831f2 button.colab-df-convert');\n",
              "        buttonEl.style.display =\n",
              "          google.colab.kernel.accessAllowed ? 'block' : 'none';\n",
              "\n",
              "        async function convertToInteractive(key) {\n",
              "          const element = document.querySelector('#df-353388ba-8fde-4503-8912-8a53e91831f2');\n",
              "          const dataTable =\n",
              "            await google.colab.kernel.invokeFunction('convertToInteractive',\n",
              "                                                     [key], {});\n",
              "          if (!dataTable) return;\n",
              "\n",
              "          const docLinkHtml = 'Like what you see? Visit the ' +\n",
              "            '<a target=\"_blank\" href=https://colab.research.google.com/notebooks/data_table.ipynb>data table notebook</a>'\n",
              "            + ' to learn more about interactive tables.';\n",
              "          element.innerHTML = '';\n",
              "          dataTable['output_type'] = 'display_data';\n",
              "          await google.colab.output.renderOutput(dataTable, element);\n",
              "          const docLink = document.createElement('div');\n",
              "          docLink.innerHTML = docLinkHtml;\n",
              "          element.appendChild(docLink);\n",
              "        }\n",
              "      </script>\n",
              "    </div>\n",
              "  </div>\n",
              "  "
            ],
            "text/plain": [
              "          0\n",
              "LEIC   30.0\n",
              "LEETC  26.8\n",
              "LEIM   18.7\n",
              "LEIRT   6.8\n",
              "MEET    6.4\n",
              "MEIC    4.9\n",
              "MEIM    2.5\n",
              "LEB     1.4\n",
              "MEB     1.3\n",
              "OUTROS  1.0"
            ]
          },
          "metadata": {},
          "execution_count": 19
        }
      ]
    },
    {
      "cell_type": "markdown",
      "source": [
        "## Elementos que variam no tempo"
      ],
      "metadata": {
        "id": "rviuPpZs64JN"
      }
    },
    {
      "cell_type": "code",
      "source": [
        "ANO = 2022\n",
        "IDADE_REFORMA = 67\n",
        "aposentados, ativos = aposentados_e_ativos(docentes, ANO, IDADE_REFORMA)"
      ],
      "metadata": {
        "id": "5Q-1mg3eqctK"
      },
      "execution_count": 20,
      "outputs": []
    },
    {
      "cell_type": "code",
      "source": [
        "# Rácio Alunos / ETI\n",
        "alunos_per_eti_isel = alunos_per_curso.sum() / ativos['ETI'].sum()\n",
        "eti_per_dept = ativos.groupby(['Departamento'])['ETI'].sum()\n",
        "alunos_per_eti_dept = alunos_per_dept / eti_per_dept\n",
        "alunos_per_eti_dept.dropna(inplace=True)"
      ],
      "metadata": {
        "id": "I2mGlnUZmvJm"
      },
      "execution_count": 21,
      "outputs": []
    },
    {
      "cell_type": "markdown",
      "source": [
        "### ETIs por departamento"
      ],
      "metadata": {
        "id": "Jyxhm7-CxeWg"
      }
    },
    {
      "cell_type": "code",
      "source": [
        "# Figura com ETI por departamento\n",
        "plt.figure(1, figsize=(12, 3))\n",
        "eti_per_dept.plot.bar()\n",
        "plt.suptitle('Total de ETIs por departamento')"
      ],
      "metadata": {
        "colab": {
          "base_uri": "https://localhost:8080/",
          "height": 0
        },
        "id": "2MHENvtzxoWk",
        "outputId": "d7b0a3f7-6f63-48f6-d248-6772ddf26268"
      },
      "execution_count": 22,
      "outputs": [
        {
          "output_type": "execute_result",
          "data": {
            "text/plain": [
              "Text(0.5, 0.98, 'Total de ETIs por departamento')"
            ]
          },
          "metadata": {},
          "execution_count": 22
        },
        {
          "output_type": "display_data",
          "data": {
            "image/png": "[encoded data removed]",
            "text/plain": [
              "<Figure size 864x216 with 1 Axes>"
            ]
          },
          "metadata": {
            "needs_background": "light"
          }
        }
      ]
    },
    {
      "cell_type": "markdown",
      "source": [
        "Fazer figura com os ETIs a diminuir com os anos"
      ],
      "metadata": {
        "id": "0lqxlYCdFOnp"
      }
    },
    {
      "cell_type": "code",
      "source": [
        "# Ritmo de aposentações\n",
        "ano_inicial = 2022\n",
        "ano_final = ano_inicial + 20\n",
        "df = pd.DataFrame()\n",
        "for ano in range(ano_inicial, ano_final+1):\n",
        "  ap, at = aposentados_e_ativos(docentes, ano, IDADE_REFORMA)\n",
        "  s = at.groupby(['Departamento'])['ETI'].sum()\n",
        "  s.name = str(ano)\n",
        "  df = df.append(s)\n",
        "\n",
        "percentage = df /df.loc[str(ano_inicial)]\n",
        "plt.figure(1, figsize=(12, 3))\n",
        "percentage.plot()\n",
        "plt.suptitle('Ritmo de aposentações por departamento')"
      ],
      "metadata": {
        "colab": {
          "base_uri": "https://localhost:8080/",
          "height": 0
        },
        "id": "4mbDs9d4s8R_",
        "outputId": "3815f2c4-3eb0-4be5-80f3-b42cef4c141d"
      },
      "execution_count": 23,
      "outputs": [
        {
          "output_type": "execute_result",
          "data": {
            "text/plain": [
              "Text(0.5, 0.98, 'Ritmo de aposentações por departamento')"
            ]
          },
          "metadata": {},
          "execution_count": 23
        },
        {
          "output_type": "display_data",
          "data": {
            "text/plain": [
              "<Figure size 864x216 with 0 Axes>"
            ]
          },
          "metadata": {}
        },
        {
          "output_type": "display_data",
          "data": {
            "image/png": "[encoded data removed]",
            "text/plain": [
              "<Figure size 432x288 with 1 Axes>"
            ]
          },
          "metadata": {
            "needs_background": "light"
          }
        }
      ]
    },
    {
      "cell_type": "markdown",
      "source": [
        "### Rácio Alunos por ETI"
      ],
      "metadata": {
        "id": "an0R7cguEFSJ"
      }
    },
    {
      "cell_type": "code",
      "source": [
        "# Figura com rácio Alunos/ETI por departamento \n",
        "plt.figure(1, figsize=(14, 3))\n",
        "alunos_per_eti_dept.plot.bar()\n",
        "plt.axhline(y=alunos_per_eti_isel,linewidth=2, color='#d62728')\n",
        "plt.suptitle('Alunos / ETI')"
      ],
      "metadata": {
        "id": "2WtDsfhaoGUU",
        "colab": {
          "base_uri": "https://localhost:8080/",
          "height": 0
        },
        "outputId": "c9a772e7-725c-447f-8c61-b051d6030c6f"
      },
      "execution_count": 24,
      "outputs": [
        {
          "output_type": "execute_result",
          "data": {
            "text/plain": [
              "Text(0.5, 0.98, 'Alunos / ETI')"
            ]
          },
          "metadata": {},
          "execution_count": 24
        },
        {
          "output_type": "display_data",
          "data": {
            "image/png": "[encoded data removed]",
            "text/plain": [
              "<Figure size 1008x216 with 1 Axes>"
            ]
          },
          "metadata": {
            "needs_background": "light"
          }
        }
      ]
    },
    {
      "cell_type": "markdown",
      "source": [
        "### ETIs em falta\n",
        "\n"
      ],
      "metadata": {
        "id": "7o9YF3e6sAiQ"
      }
    },
    {
      "cell_type": "code",
      "source": [
        "# VIANA (Valor Ideal Atendendo ao Número de Alunos)\n",
        "alunos_per_eti_ideal = alunos_per_eti_isel\n",
        "viana = alunos_per_dept / alunos_per_eti_ideal\n",
        "fana = viana - eti_per_dept"
      ],
      "metadata": {
        "id": "pn0AigK0rrlJ"
      },
      "execution_count": 25,
      "outputs": []
    },
    {
      "cell_type": "code",
      "source": [
        "plt.figure(1, figsize=(12, 3))\n",
        "fana.plot.bar()\n",
        "plt.axhline(y=0,linewidth=2, color='#d62728')"
      ],
      "metadata": {
        "colab": {
          "base_uri": "https://localhost:8080/",
          "height": 0
        },
        "id": "PXX8bhWirrUw",
        "outputId": "bd260305-376c-4d84-8581-5d7ebf33b3aa"
      },
      "execution_count": 26,
      "outputs": [
        {
          "output_type": "execute_result",
          "data": {
            "text/plain": [
              "<matplotlib.lines.Line2D at 0x7f35a18b9610>"
            ]
          },
          "metadata": {},
          "execution_count": 26
        },
        {
          "output_type": "display_data",
          "data": {
            "image/png": "[encoded data removed]",
            "text/plain": [
              "<Figure size 864x216 with 1 Axes>"
            ]
          },
          "metadata": {
            "needs_background": "light"
          }
        }
      ]
    },
    {
      "cell_type": "markdown",
      "source": [
        "### Docentes por categoria"
      ],
      "metadata": {
        "id": "iVLYsbG3wQ-b"
      }
    },
    {
      "cell_type": "code",
      "source": [
        "categoria = cat_assistente"
      ],
      "metadata": {
        "id": "hjKUf5Jirc6I"
      },
      "execution_count": 27,
      "outputs": []
    },
    {
      "cell_type": "code",
      "source": [
        "# Ritmo de aposentações na categoria\n",
        "ano_inicial = 2022\n",
        "ano_final = ano_inicial + 10\n",
        "df = pd.DataFrame()\n",
        "for ano in range(ano_inicial, ano_final+1):\n",
        "  ap, at = aposentados_e_ativos(docentes, ano, IDADE_REFORMA)\n",
        "  s = docentes_per_categoria(at, categoria)\n",
        "  s.name = str(ano)\n",
        "  df = df.append(s)\n",
        "\n",
        "percentage = df /df.loc[str(ano_inicial)]\n",
        "plt.figure(1, figsize=(12, 3))\n",
        "percentage.plot()\n",
        "plt.suptitle('Ritmo de aposentações na categoria por departamento')"
      ],
      "metadata": {
        "colab": {
          "base_uri": "https://localhost:8080/",
          "height": 0
        },
        "id": "g1D_xRyY6Lk3",
        "outputId": "d45dc33c-3d63-47c1-b549-4e02352b8521"
      },
      "execution_count": 28,
      "outputs": [
        {
          "output_type": "execute_result",
          "data": {
            "text/plain": [
              "Text(0.5, 0.98, 'Ritmo de aposentações na categoria por departamento')"
            ]
          },
          "metadata": {},
          "execution_count": 28
        },
        {
          "output_type": "display_data",
          "data": {
            "text/plain": [
              "<Figure size 864x216 with 0 Axes>"
            ]
          },
          "metadata": {}
        },
        {
          "output_type": "display_data",
          "data": {
            "image/png": "[encoded data removed]",
            "text/plain": [
              "<Figure size 432x288 with 1 Axes>"
            ]
          },
          "metadata": {
            "needs_background": "light"
          }
        }
      ]
    },
    {
      "cell_type": "code",
      "source": [
        "plt.figure(1, figsize=(14, 3))\n",
        "docentes_per_categoria(ativos, categoria).plot.bar()\n",
        "plt.suptitle(f'{categoria}')"
      ],
      "metadata": {
        "colab": {
          "base_uri": "https://localhost:8080/",
          "height": 0
        },
        "id": "6l_p0zxvoGGo",
        "outputId": "9cca8546-272e-410b-ab19-d22cc0b21c24"
      },
      "execution_count": 29,
      "outputs": [
        {
          "output_type": "execute_result",
          "data": {
            "text/plain": [
              "Text(0.5, 0.98, \"['Assistente do 2. Trienio', 'Assistente', 'Equiparado Assistente 2. Trienio']\")"
            ]
          },
          "metadata": {},
          "execution_count": 29
        },
        {
          "output_type": "display_data",
          "data": {
            "image/png": "[encoded data removed]",
            "text/plain": [
              "<Figure size 1008x216 with 1 Axes>"
            ]
          },
          "metadata": {
            "needs_background": "light"
          }
        }
      ]
    },
    {
      "cell_type": "markdown",
      "source": [
        "# Equalização de recursos docentes"
      ],
      "metadata": {
        "id": "Lh3qVBW4wlZ2"
      }
    },
    {
      "cell_type": "markdown",
      "source": [
        "## Definir o rácio que se pretende uniformizar"
      ],
      "metadata": {
        "id": "2oR94jjKxDvf"
      }
    },
    {
      "cell_type": "code",
      "source": [
        "ratio_numerator = docentes_per_categoria(ativos, cat_prof_coord)"
      ],
      "metadata": {
        "id": "ijqlkfB1ybe_"
      },
      "execution_count": 30,
      "outputs": []
    },
    {
      "cell_type": "code",
      "source": [
        "ratio_denominator_1 = docentes_per_categoria(ativos, cat_quadro)\n",
        "ratio_denominator_2 = docentes_per_categoria(ativos, cat_quadro) + \\\n",
        "          0.3*docentes_per_categoria(ativos, cat_convidado)\n",
        "ratio_denominator_3 = docentes_per_categoria(ativos, cat_quadro) + \\\n",
        "          0.3*docentes_per_categoria(ativos, cat_convidado) + fana"
      ],
      "metadata": {
        "id": "V0qB3Zd9xLQM"
      },
      "execution_count": 31,
      "outputs": []
    },
    {
      "cell_type": "code",
      "source": [
        "ratio_denominator = ratio_denominator_1"
      ],
      "metadata": {
        "id": "R-_ct7F9y3Pt"
      },
      "execution_count": 32,
      "outputs": []
    },
    {
      "cell_type": "code",
      "source": [
        "ratio = ratio_numerator / ratio_denominator"
      ],
      "metadata": {
        "id": "b8AEYL4d0Bk5"
      },
      "execution_count": 33,
      "outputs": []
    },
    {
      "cell_type": "markdown",
      "source": [
        "## Bolo a distribuir"
      ],
      "metadata": {
        "id": "JId4ZrwP6aN1"
      }
    },
    {
      "cell_type": "code",
      "source": [
        "cake = 16\n",
        "target = 0.25"
      ],
      "metadata": {
        "id": "WJuw7No01kqH"
      },
      "execution_count": 34,
      "outputs": []
    },
    {
      "cell_type": "markdown",
      "source": [
        "## Critérios de distribuição"
      ],
      "metadata": {
        "id": "S54Z8J2X6kBy"
      }
    },
    {
      "cell_type": "code",
      "source": [
        "def how_many_to_target(target):\n",
        "  s = ratio_denominator * target - ratio_numerator\n",
        "  s.clip(lower=0, inplace=True)\n",
        "  return s"
      ],
      "metadata": {
        "id": "EnKPrWo766Lk"
      },
      "execution_count": 35,
      "outputs": []
    },
    {
      "cell_type": "code",
      "source": [
        "# METHOD 1 - Linear mapping\n",
        "def linear_map_to_cake(target, cake):\n",
        "  s = how_many_to_target(target)\n",
        "  return s / s.sum() * cake "
      ],
      "metadata": {
        "id": "PH-hcltM7rdX"
      },
      "execution_count": 36,
      "outputs": []
    },
    {
      "cell_type": "code",
      "source": [
        "# METHOD 2 - D'Hondt\n",
        "def method_hondt_to_cake(target, cake):\n",
        "  s = how_many_to_target(target)\n",
        "  list_of_series = [s/i for i in range(1, cake+1)]\n",
        "  df = pd.concat(list_of_series, axis=1)\n",
        "  vals = np.sort(np.ravel(df.to_numpy(copy=True)))[-1::-1]\n",
        "  df = df >= vals[cake-1]\n",
        "  return df.sum(axis=1)"
      ],
      "metadata": {
        "id": "I2y870wg7vTN"
      },
      "execution_count": 37,
      "outputs": []
    },
    {
      "cell_type": "code",
      "source": [
        "# METHOD 3 - Greedy iteration\n",
        "def one_at_a_time(cake):\n",
        "  numerator = ratio_numerator\n",
        "  denominator = ratio_denominator\n",
        "  s = pd.Series(data=0, index=LISTA_DEPTS)\n",
        "  for i in range(cake):\n",
        "    ratio = numerator / denominator\n",
        "    ix = ratio.idxmin()\n",
        "    s[ix] += 1\n",
        "    numerator[ix] += 1\n",
        "  return s"
      ],
      "metadata": {
        "id": "lZgexubL7u_T"
      },
      "execution_count": 38,
      "outputs": []
    },
    {
      "cell_type": "code",
      "source": [
        "linear_map_to_cake(target, cake)"
      ],
      "metadata": {
        "colab": {
          "base_uri": "https://localhost:8080/"
        },
        "id": "P8rsYgLk9vLi",
        "outputId": "87877a34-2069-4547-d358-85722c7760a9"
      },
      "execution_count": 39,
      "outputs": [
        {
          "output_type": "execute_result",
          "data": {
            "text/plain": [
              "DEEEA   0.5\n",
              "DEETC   7.6\n",
              "DEQ     0.5\n",
              "DEM     0.0\n",
              "DEC     2.8\n",
              "DF      0.0\n",
              "DM      4.6\n",
              "Name: ETI, dtype: float64"
            ]
          },
          "metadata": {},
          "execution_count": 39
        }
      ]
    },
    {
      "cell_type": "code",
      "source": [
        "method_hondt_to_cake(target, cake)"
      ],
      "metadata": {
        "colab": {
          "base_uri": "https://localhost:8080/"
        },
        "id": "Vl0iuc6a953M",
        "outputId": "62b306a8-4a21-40ae-da00-c7fd86f55c26"
      },
      "execution_count": 40,
      "outputs": [
        {
          "output_type": "execute_result",
          "data": {
            "text/plain": [
              "DEEEA    0\n",
              "DEETC    8\n",
              "DEQ      0\n",
              "DEM      0\n",
              "DEC      3\n",
              "DF       0\n",
              "DM       5\n",
              "dtype: int64"
            ]
          },
          "metadata": {},
          "execution_count": 40
        }
      ]
    },
    {
      "cell_type": "code",
      "source": [
        "one_at_a_time(cake)"
      ],
      "metadata": {
        "colab": {
          "base_uri": "https://localhost:8080/"
        },
        "id": "2rFBrIbI-EhJ",
        "outputId": "6b8ba4ab-1ce9-417c-a35b-83a502936a16"
      },
      "execution_count": 41,
      "outputs": [
        {
          "output_type": "execute_result",
          "data": {
            "text/plain": [
              "DEEEA    1\n",
              "DEETC    7\n",
              "DEQ      1\n",
              "DEM      0\n",
              "DEC      3\n",
              "DF       0\n",
              "DM       4\n",
              "dtype: int64"
            ]
          },
          "metadata": {},
          "execution_count": 41
        }
      ]
    },
    {
      "cell_type": "markdown",
      "source": [
        "# Testes"
      ],
      "metadata": {
        "id": "5tE2_Y7NzK7M"
      }
    },
    {
      "cell_type": "code",
      "execution_count": 42,
      "metadata": {
        "id": "mS2FEAGtw5mp",
        "colab": {
          "base_uri": "https://localhost:8080/",
          "height": 35
        },
        "outputId": "a0b5fd4b-2d67-48df-d71b-0b5f0533cf26"
      },
      "outputs": [
        {
          "output_type": "display_data",
          "data": {
            "text/plain": [
              "<Figure size 936x288 with 0 Axes>"
            ]
          },
          "metadata": {}
        }
      ],
      "source": [
        "plt.figure(1, figsize=(13, 4))\n",
        "def func(ano):\n",
        "  IDADE_REFORMA = 70\n",
        "  aposentados, ativos = aposentados_e_ativos(docentes, ano, IDADE_REFORMA)\n",
        "  categorias = ['Professor Adjunto', 'Prof. Coordenador']\n",
        "  subset = ativos.groupby(['Departamento', 'Categoria'])['ETI'].count()\n",
        "  subset = subset.loc[(slice(None), categorias)]\n",
        "  subset = subset.droplevel(level=1)\n",
        "  subset = subset.groupby(subset.index).sum()\n",
        "  subset.plot.bar()"
      ]
    },
    {
      "cell_type": "code",
      "execution_count": 43,
      "metadata": {
        "id": "kHOuu35ew5mq",
        "colab": {
          "base_uri": "https://localhost:8080/",
          "height": 353,
          "referenced_widgets": [
            "fc6582104c764000adb536c96c4a6c9f",
            "4b1948171712479d955bcb7aceaddaf5",
            "ccbad668ed3b4ba19fa2c49db54bf317",
            "ae7bb18cc02a410c9ea408bd288744e6",
            "f795215433e649078e89a5ac399e0ce2",
            "a0c91ab089544242a50c4e6a46f13e8b",
            "20d0de7b8d2d4d12a4b4f10e5cfb422d"
          ]
        },
        "outputId": "8eef80a1-bd02-4a65-8ed6-0f4fa5d1a866"
      },
      "outputs": [
        {
          "output_type": "display_data",
          "data": {
            "application/vnd.jupyter.widget-view+json": {
              "model_id": "fc6582104c764000adb536c96c4a6c9f",
              "version_minor": 0,
              "version_major": 2
            },
            "text/plain": [
              "interactive(children=(IntSlider(value=2032, description='ano', max=2042, min=2022), Output()), _dom_classes=('…"
            ]
          },
          "metadata": {}
        },
        {
          "output_type": "execute_result",
          "data": {
            "text/plain": [
              "<function __main__.func>"
            ]
          },
          "metadata": {},
          "execution_count": 43
        }
      ],
      "source": [
        "interact(func, ano=(2022, 2042))        "
      ]
    },
    {
      "cell_type": "code",
      "source": [
        "docentes.describe()"
      ],
      "metadata": {
        "colab": {
          "base_uri": "https://localhost:8080/",
          "height": 300
        },
        "id": "Qkr_OAo8edMP",
        "outputId": "abbdaf79-0a87-48a3-9790-770b9916e23e"
      },
      "execution_count": 44,
      "outputs": [
        {
          "output_type": "execute_result",
          "data": {
            "text/html": [
              "\n",
              "  <div id=\"df-b370079d-f37f-4fbd-abc3-55756e7d61ff\">\n",
              "    <div class=\"colab-df-container\">\n",
              "      <div>\n",
              "<style scoped>\n",
              "    .dataframe tbody tr th:only-of-type {\n",
              "        vertical-align: middle;\n",
              "    }\n",
              "\n",
              "    .dataframe tbody tr th {\n",
              "        vertical-align: top;\n",
              "    }\n",
              "\n",
              "    .dataframe thead th {\n",
              "        text-align: right;\n",
              "    }\n",
              "</style>\n",
              "<table border=\"1\" class=\"dataframe\">\n",
              "  <thead>\n",
              "    <tr style=\"text-align: right;\">\n",
              "      <th></th>\n",
              "      <th>ETI</th>\n",
              "    </tr>\n",
              "  </thead>\n",
              "  <tbody>\n",
              "    <tr>\n",
              "      <th>count</th>\n",
              "      <td>353.0</td>\n",
              "    </tr>\n",
              "    <tr>\n",
              "      <th>mean</th>\n",
              "      <td>0.9</td>\n",
              "    </tr>\n",
              "    <tr>\n",
              "      <th>std</th>\n",
              "      <td>0.2</td>\n",
              "    </tr>\n",
              "    <tr>\n",
              "      <th>min</th>\n",
              "      <td>0.1</td>\n",
              "    </tr>\n",
              "    <tr>\n",
              "      <th>25%</th>\n",
              "      <td>1.0</td>\n",
              "    </tr>\n",
              "    <tr>\n",
              "      <th>50%</th>\n",
              "      <td>1.0</td>\n",
              "    </tr>\n",
              "    <tr>\n",
              "      <th>75%</th>\n",
              "      <td>1.0</td>\n",
              "    </tr>\n",
              "    <tr>\n",
              "      <th>max</th>\n",
              "      <td>1.0</td>\n",
              "    </tr>\n",
              "  </tbody>\n",
              "</table>\n",
              "</div>\n",
              "      <button class=\"colab-df-convert\" onclick=\"convertToInteractive('df-b370079d-f37f-4fbd-abc3-55756e7d61ff')\"\n",
              "              title=\"Convert this dataframe to an interactive table.\"\n",
              "              style=\"display:none;\">\n",
              "        \n",
              "  <svg xmlns=\"http://www.w3.org/2000/svg\" height=\"24px\"viewBox=\"0 0 24 24\"\n",
              "       width=\"24px\">\n",
              "    <path d=\"M0 0h24v24H0V0z\" fill=\"none\"/>\n",
              "    <path d=\"M18.56 5.44l.94 2.06.94-2.06 2.06-.94-2.06-.94-.94-2.06-.94 2.06-2.06.94zm-11 1L8.5 8.5l.94-2.06 2.06-.94-2.06-.94L8.5 2.5l-.94 2.06-2.06.94zm10 10l.94 2.06.94-2.06 2.06-.94-2.06-.94-.94-2.06-.94 2.06-2.06.94z\"/><path d=\"M17.41 7.96l-1.37-1.37c-.4-.4-.92-.59-1.43-.59-.52 0-1.04.2-1.43.59L10.3 9.45l-7.72 7.72c-.78.78-.78 2.05 0 2.83L4 21.41c.39.39.9.59 1.41.59.51 0 1.02-.2 1.41-.59l7.78-7.78 2.81-2.81c.8-.78.8-2.07 0-2.86zM5.41 20L4 18.59l7.72-7.72 1.47 1.35L5.41 20z\"/>\n",
              "  </svg>\n",
              "      </button>\n",
              "      \n",
              "  <style>\n",
              "    .colab-df-container {\n",
              "      display:flex;\n",
              "      flex-wrap:wrap;\n",
              "      gap: 12px;\n",
              "    }\n",
              "\n",
              "    .colab-df-convert {\n",
              "      background-color: #E8F0FE;\n",
              "      border: none;\n",
              "      border-radius: 50%;\n",
              "      cursor: pointer;\n",
              "      display: none;\n",
              "      fill: #1967D2;\n",
              "      height: 32px;\n",
              "      padding: 0 0 0 0;\n",
              "      width: 32px;\n",
              "    }\n",
              "\n",
              "    .colab-df-convert:hover {\n",
              "      background-color: #E2EBFA;\n",
              "      box-shadow: 0px 1px 2px rgba(60, 64, 67, 0.3), 0px 1px 3px 1px rgba(60, 64, 67, 0.15);\n",
              "      fill: #174EA6;\n",
              "    }\n",
              "\n",
              "    [theme=dark] .colab-df-convert {\n",
              "      background-color: #3B4455;\n",
              "      fill: #D2E3FC;\n",
              "    }\n",
              "\n",
              "    [theme=dark] .colab-df-convert:hover {\n",
              "      background-color: #434B5C;\n",
              "      box-shadow: 0px 1px 3px 1px rgba(0, 0, 0, 0.15);\n",
              "      filter: drop-shadow(0px 1px 2px rgba(0, 0, 0, 0.3));\n",
              "      fill: #FFFFFF;\n",
              "    }\n",
              "  </style>\n",
              "\n",
              "      <script>\n",
              "        const buttonEl =\n",
              "          document.querySelector('#df-b370079d-f37f-4fbd-abc3-55756e7d61ff button.colab-df-convert');\n",
              "        buttonEl.style.display =\n",
              "          google.colab.kernel.accessAllowed ? 'block' : 'none';\n",
              "\n",
              "        async function convertToInteractive(key) {\n",
              "          const element = document.querySelector('#df-b370079d-f37f-4fbd-abc3-55756e7d61ff');\n",
              "          const dataTable =\n",
              "            await google.colab.kernel.invokeFunction('convertToInteractive',\n",
              "                                                     [key], {});\n",
              "          if (!dataTable) return;\n",
              "\n",
              "          const docLinkHtml = 'Like what you see? Visit the ' +\n",
              "            '<a target=\"_blank\" href=https://colab.research.google.com/notebooks/data_table.ipynb>data table notebook</a>'\n",
              "            + ' to learn more about interactive tables.';\n",
              "          element.innerHTML = '';\n",
              "          dataTable['output_type'] = 'display_data';\n",
              "          await google.colab.output.renderOutput(dataTable, element);\n",
              "          const docLink = document.createElement('div');\n",
              "          docLink.innerHTML = docLinkHtml;\n",
              "          element.appendChild(docLink);\n",
              "        }\n",
              "      </script>\n",
              "    </div>\n",
              "  </div>\n",
              "  "
            ],
            "text/plain": [
              "        ETI\n",
              "count 353.0\n",
              "mean    0.9\n",
              "std     0.2\n",
              "min     0.1\n",
              "25%     1.0\n",
              "50%     1.0\n",
              "75%     1.0\n",
              "max     1.0"
            ]
          },
          "metadata": {},
          "execution_count": 44
        }
      ]
    }
  ],
  "metadata": {
    "kernelspec": {
      "display_name": "Python 3 (ipykernel)",
      "language": "python",
      "name": "python3"
    },
    "language_info": {
      "codemirror_mode": {
        "name": "ipython",
        "version": 3
      },
      "file_extension": ".py",
      "mimetype": "text/x-python",
      "name": "python",
      "nbconvert_exporter": "python",
      "pygments_lexer": "ipython3",
      "version": "3.9.7"
    },
    "colab": {
      "name": "RHDocentes_third_draft.ipynb",
      "provenance": [],
      "toc_visible": true,
      "include_colab_link": true
    },
    "widgets": {
      "application/vnd.jupyter.widget-state+json": {
        "e57776eab2824fc780687cb563df3421": {
          "model_module": "@jupyter-widgets/controls",
          "model_name": "VBoxModel",
          "model_module_version": "1.5.0",
          "state": {
            "_view_name": "VBoxView",
            "_dom_classes": [
              "widget-interact"
            ],
            "_model_name": "VBoxModel",
            "_view_module": "@jupyter-widgets/controls",
            "_model_module_version": "1.5.0",
            "_view_count": null,
            "_view_module_version": "1.5.0",
            "box_style": "",
            "layout": "IPY_MODEL_4754b014e69b4d4785c48afd80069378",
            "_model_module": "@jupyter-widgets/controls",
            "children": [
              "IPY_MODEL_bfe4ea1e397641e2873c2ca5b6c38584",
              "IPY_MODEL_f86db7bc48d749f3a21211716e5647ea"
            ]
          }
        },
        "4754b014e69b4d4785c48afd80069378": {
          "model_module": "@jupyter-widgets/base",
          "model_name": "LayoutModel",
          "model_module_version": "1.2.0",
          "state": {
            "_view_name": "LayoutView",
            "grid_template_rows": null,
            "right": null,
            "justify_content": null,
            "_view_module": "@jupyter-widgets/base",
            "overflow": null,
            "_model_module_version": "1.2.0",
            "_view_count": null,
            "flex_flow": null,
            "width": null,
            "min_width": null,
            "border": null,
            "align_items": null,
            "bottom": null,
            "_model_module": "@jupyter-widgets/base",
            "top": null,
            "grid_column": null,
            "overflow_y": null,
            "overflow_x": null,
            "grid_auto_flow": null,
            "grid_area": null,
            "grid_template_columns": null,
            "flex": null,
            "_model_name": "LayoutModel",
            "justify_items": null,
            "grid_row": null,
            "max_height": null,
            "align_content": null,
            "visibility": null,
            "align_self": null,
            "height": null,
            "min_height": null,
            "padding": null,
            "grid_auto_rows": null,
            "grid_gap": null,
            "max_width": null,
            "order": null,
            "_view_module_version": "1.2.0",
            "grid_template_areas": null,
            "object_position": null,
            "object_fit": null,
            "grid_auto_columns": null,
            "margin": null,
            "display": null,
            "left": null
          }
        },
        "bfe4ea1e397641e2873c2ca5b6c38584": {
          "model_module": "@jupyter-widgets/controls",
          "model_name": "DropdownModel",
          "model_module_version": "1.5.0",
          "state": {
            "_options_labels": [
              "DEEEA",
              "DEETC",
              "DEQ",
              "DEM",
              "DEC",
              "DF",
              "DM"
            ],
            "_view_name": "DropdownView",
            "style": "IPY_MODEL_6d8263a003c84c7ba11b5ec598c52041",
            "_dom_classes": [],
            "description": "dep",
            "_model_name": "DropdownModel",
            "index": 2,
            "_view_module": "@jupyter-widgets/controls",
            "_model_module_version": "1.5.0",
            "_view_count": null,
            "disabled": false,
            "_view_module_version": "1.5.0",
            "description_tooltip": null,
            "_model_module": "@jupyter-widgets/controls",
            "layout": "IPY_MODEL_9371c424aed146a9bda7a10a42dbd68a"
          }
        },
        "f86db7bc48d749f3a21211716e5647ea": {
          "model_module": "@jupyter-widgets/output",
          "model_name": "OutputModel",
          "model_module_version": "1.0.0",
          "state": {
            "_view_name": "OutputView",
            "msg_id": "",
            "_dom_classes": [],
            "_model_name": "OutputModel",
            "outputs": [
              {
                "output_type": "display_data",
                "data": {
                  "image/png": "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\n",
                  "text/plain": "<Figure size 432x288 with 1 Axes>"
                },
                "metadata": {
                  "needs_background": "light"
                }
              }
            ],
            "_view_module": "@jupyter-widgets/output",
            "_model_module_version": "1.0.0",
            "_view_count": null,
            "_view_module_version": "1.0.0",
            "layout": "IPY_MODEL_dca3a882264341028fe22e2cc16f742f",
            "_model_module": "@jupyter-widgets/output"
          }
        },
        "6d8263a003c84c7ba11b5ec598c52041": {
          "model_module": "@jupyter-widgets/controls",
          "model_name": "DescriptionStyleModel",
          "model_module_version": "1.5.0",
          "state": {
            "_view_name": "StyleView",
            "_model_name": "DescriptionStyleModel",
            "description_width": "",
            "_view_module": "@jupyter-widgets/base",
            "_model_module_version": "1.5.0",
            "_view_count": null,
            "_view_module_version": "1.2.0",
            "_model_module": "@jupyter-widgets/controls"
          }
        },
        "9371c424aed146a9bda7a10a42dbd68a": {
          "model_module": "@jupyter-widgets/base",
          "model_name": "LayoutModel",
          "model_module_version": "1.2.0",
          "state": {
            "_view_name": "LayoutView",
            "grid_template_rows": null,
            "right": null,
            "justify_content": null,
            "_view_module": "@jupyter-widgets/base",
            "overflow": null,
            "_model_module_version": "1.2.0",
            "_view_count": null,
            "flex_flow": null,
            "width": null,
            "min_width": null,
            "border": null,
            "align_items": null,
            "bottom": null,
            "_model_module": "@jupyter-widgets/base",
            "top": null,
            "grid_column": null,
            "overflow_y": null,
            "overflow_x": null,
            "grid_auto_flow": null,
            "grid_area": null,
            "grid_template_columns": null,
            "flex": null,
            "_model_name": "LayoutModel",
            "justify_items": null,
            "grid_row": null,
            "max_height": null,
            "align_content": null,
            "visibility": null,
            "align_self": null,
            "height": null,
            "min_height": null,
            "padding": null,
            "grid_auto_rows": null,
            "grid_gap": null,
            "max_width": null,
            "order": null,
            "_view_module_version": "1.2.0",
            "grid_template_areas": null,
            "object_position": null,
            "object_fit": null,
            "grid_auto_columns": null,
            "margin": null,
            "display": null,
            "left": null
          }
        },
        "dca3a882264341028fe22e2cc16f742f": {
          "model_module": "@jupyter-widgets/base",
          "model_name": "LayoutModel",
          "model_module_version": "1.2.0",
          "state": {
            "_view_name": "LayoutView",
            "grid_template_rows": null,
            "right": null,
            "justify_content": null,
            "_view_module": "@jupyter-widgets/base",
            "overflow": null,
            "_model_module_version": "1.2.0",
            "_view_count": null,
            "flex_flow": null,
            "width": null,
            "min_width": null,
            "border": null,
            "align_items": null,
            "bottom": null,
            "_model_module": "@jupyter-widgets/base",
            "top": null,
            "grid_column": null,
            "overflow_y": null,
            "overflow_x": null,
            "grid_auto_flow": null,
            "grid_area": null,
            "grid_template_columns": null,
            "flex": null,
            "_model_name": "LayoutModel",
            "justify_items": null,
            "grid_row": null,
            "max_height": null,
            "align_content": null,
            "visibility": null,
            "align_self": null,
            "height": null,
            "min_height": null,
            "padding": null,
            "grid_auto_rows": null,
            "grid_gap": null,
            "max_width": null,
            "order": null,
            "_view_module_version": "1.2.0",
            "grid_template_areas": null,
            "object_position": null,
            "object_fit": null,
            "grid_auto_columns": null,
            "margin": null,
            "display": null,
            "left": null
          }
        },
        "3dd8b59401394afeb04c11d3ae4a10cb": {
          "model_module": "@jupyter-widgets/controls",
          "model_name": "VBoxModel",
          "model_module_version": "1.5.0",
          "state": {
            "_view_name": "VBoxView",
            "_dom_classes": [
              "widget-interact"
            ],
            "_model_name": "VBoxModel",
            "_view_module": "@jupyter-widgets/controls",
            "_model_module_version": "1.5.0",
            "_view_count": null,
            "_view_module_version": "1.5.0",
            "box_style": "",
            "layout": "IPY_MODEL_4d16904e7de848aeac4ab32de6328347",
            "_model_module": "@jupyter-widgets/controls",
            "children": [
              "IPY_MODEL_b79a625c7f794b5bb0f7aec3c4db8654",
              "IPY_MODEL_f9c94eb89653497faa5829a109b8b693"
            ]
          }
        },
        "4d16904e7de848aeac4ab32de6328347": {
          "model_module": "@jupyter-widgets/base",
          "model_name": "LayoutModel",
          "model_module_version": "1.2.0",
          "state": {
            "_view_name": "LayoutView",
            "grid_template_rows": null,
            "right": null,
            "justify_content": null,
            "_view_module": "@jupyter-widgets/base",
            "overflow": null,
            "_model_module_version": "1.2.0",
            "_view_count": null,
            "flex_flow": null,
            "width": null,
            "min_width": null,
            "border": null,
            "align_items": null,
            "bottom": null,
            "_model_module": "@jupyter-widgets/base",
            "top": null,
            "grid_column": null,
            "overflow_y": null,
            "overflow_x": null,
            "grid_auto_flow": null,
            "grid_area": null,
            "grid_template_columns": null,
            "flex": null,
            "_model_name": "LayoutModel",
            "justify_items": null,
            "grid_row": null,
            "max_height": null,
            "align_content": null,
            "visibility": null,
            "align_self": null,
            "height": null,
            "min_height": null,
            "padding": null,
            "grid_auto_rows": null,
            "grid_gap": null,
            "max_width": null,
            "order": null,
            "_view_module_version": "1.2.0",
            "grid_template_areas": null,
            "object_position": null,
            "object_fit": null,
            "grid_auto_columns": null,
            "margin": null,
            "display": null,
            "left": null
          }
        },
        "b79a625c7f794b5bb0f7aec3c4db8654": {
          "model_module": "@jupyter-widgets/controls",
          "model_name": "ComboboxModel",
          "model_module_version": "1.5.0",
          "state": {
            "_view_name": "ComboboxView",
            "style": "IPY_MODEL_bc43fb593a0e4944b7e36c9a0d282de6",
            "_dom_classes": [],
            "description": "x",
            "_model_name": "ComboboxModel",
            "placeholder": "​",
            "_view_module": "@jupyter-widgets/controls",
            "_model_module_version": "1.5.0",
            "value": "DEC",
            "_view_count": null,
            "disabled": false,
            "_view_module_version": "1.5.0",
            "continuous_update": true,
            "description_tooltip": null,
            "ensure_option": false,
            "_model_module": "@jupyter-widgets/controls",
            "options": [
              "DEETC",
              "DEC",
              "DEQ"
            ],
            "layout": "IPY_MODEL_ac63a4a3629f4628ada9bb2c24ae1968"
          }
        },
        "f9c94eb89653497faa5829a109b8b693": {
          "model_module": "@jupyter-widgets/output",
          "model_name": "OutputModel",
          "model_module_version": "1.0.0",
          "state": {
            "_view_name": "OutputView",
            "msg_id": "",
            "_dom_classes": [],
            "_model_name": "OutputModel",
            "outputs": [],
            "_view_module": "@jupyter-widgets/output",
            "_model_module_version": "1.0.0",
            "_view_count": null,
            "_view_module_version": "1.0.0",
            "layout": "IPY_MODEL_5adb5536e9cb48a49ffa7a01a8d6eaef",
            "_model_module": "@jupyter-widgets/output"
          }
        },
        "bc43fb593a0e4944b7e36c9a0d282de6": {
          "model_module": "@jupyter-widgets/controls",
          "model_name": "DescriptionStyleModel",
          "model_module_version": "1.5.0",
          "state": {
            "_view_name": "StyleView",
            "_model_name": "DescriptionStyleModel",
            "description_width": "",
            "_view_module": "@jupyter-widgets/base",
            "_model_module_version": "1.5.0",
            "_view_count": null,
            "_view_module_version": "1.2.0",
            "_model_module": "@jupyter-widgets/controls"
          }
        },
        "ac63a4a3629f4628ada9bb2c24ae1968": {
          "model_module": "@jupyter-widgets/base",
          "model_name": "LayoutModel",
          "model_module_version": "1.2.0",
          "state": {
            "_view_name": "LayoutView",
            "grid_template_rows": null,
            "right": null,
            "justify_content": null,
            "_view_module": "@jupyter-widgets/base",
            "overflow": null,
            "_model_module_version": "1.2.0",
            "_view_count": null,
            "flex_flow": null,
            "width": null,
            "min_width": null,
            "border": null,
            "align_items": null,
            "bottom": null,
            "_model_module": "@jupyter-widgets/base",
            "top": null,
            "grid_column": null,
            "overflow_y": null,
            "overflow_x": null,
            "grid_auto_flow": null,
            "grid_area": null,
            "grid_template_columns": null,
            "flex": null,
            "_model_name": "LayoutModel",
            "justify_items": null,
            "grid_row": null,
            "max_height": null,
            "align_content": null,
            "visibility": null,
            "align_self": null,
            "height": null,
            "min_height": null,
            "padding": null,
            "grid_auto_rows": null,
            "grid_gap": null,
            "max_width": null,
            "order": null,
            "_view_module_version": "1.2.0",
            "grid_template_areas": null,
            "object_position": null,
            "object_fit": null,
            "grid_auto_columns": null,
            "margin": null,
            "display": null,
            "left": null
          }
        },
        "5adb5536e9cb48a49ffa7a01a8d6eaef": {
          "model_module": "@jupyter-widgets/base",
          "model_name": "LayoutModel",
          "model_module_version": "1.2.0",
          "state": {
            "_view_name": "LayoutView",
            "grid_template_rows": null,
            "right": null,
            "justify_content": null,
            "_view_module": "@jupyter-widgets/base",
            "overflow": null,
            "_model_module_version": "1.2.0",
            "_view_count": null,
            "flex_flow": null,
            "width": null,
            "min_width": null,
            "border": null,
            "align_items": null,
            "bottom": null,
            "_model_module": "@jupyter-widgets/base",
            "top": null,
            "grid_column": null,
            "overflow_y": null,
            "overflow_x": null,
            "grid_auto_flow": null,
            "grid_area": null,
            "grid_template_columns": null,
            "flex": null,
            "_model_name": "LayoutModel",
            "justify_items": null,
            "grid_row": null,
            "max_height": null,
            "align_content": null,
            "visibility": null,
            "align_self": null,
            "height": null,
            "min_height": null,
            "padding": null,
            "grid_auto_rows": null,
            "grid_gap": null,
            "max_width": null,
            "order": null,
            "_view_module_version": "1.2.0",
            "grid_template_areas": null,
            "object_position": null,
            "object_fit": null,
            "grid_auto_columns": null,
            "margin": null,
            "display": null,
            "left": null
          }
        },
        "fc6582104c764000adb536c96c4a6c9f": {
          "model_module": "@jupyter-widgets/controls",
          "model_name": "VBoxModel",
          "model_module_version": "1.5.0",
          "state": {
            "_view_name": "VBoxView",
            "_dom_classes": [
              "widget-interact"
            ],
            "_model_name": "VBoxModel",
            "_view_module": "@jupyter-widgets/controls",
            "_model_module_version": "1.5.0",
            "_view_count": null,
            "_view_module_version": "1.5.0",
            "box_style": "",
            "layout": "IPY_MODEL_4b1948171712479d955bcb7aceaddaf5",
            "_model_module": "@jupyter-widgets/controls",
            "children": [
              "IPY_MODEL_ccbad668ed3b4ba19fa2c49db54bf317",
              "IPY_MODEL_ae7bb18cc02a410c9ea408bd288744e6"
            ]
          }
        },
        "4b1948171712479d955bcb7aceaddaf5": {
          "model_module": "@jupyter-widgets/base",
          "model_name": "LayoutModel",
          "model_module_version": "1.2.0",
          "state": {
            "_view_name": "LayoutView",
            "grid_template_rows": null,
            "right": null,
            "justify_content": null,
            "_view_module": "@jupyter-widgets/base",
            "overflow": null,
            "_model_module_version": "1.2.0",
            "_view_count": null,
            "flex_flow": null,
            "width": null,
            "min_width": null,
            "border": null,
            "align_items": null,
            "bottom": null,
            "_model_module": "@jupyter-widgets/base",
            "top": null,
            "grid_column": null,
            "overflow_y": null,
            "overflow_x": null,
            "grid_auto_flow": null,
            "grid_area": null,
            "grid_template_columns": null,
            "flex": null,
            "_model_name": "LayoutModel",
            "justify_items": null,
            "grid_row": null,
            "max_height": null,
            "align_content": null,
            "visibility": null,
            "align_self": null,
            "height": null,
            "min_height": null,
            "padding": null,
            "grid_auto_rows": null,
            "grid_gap": null,
            "max_width": null,
            "order": null,
            "_view_module_version": "1.2.0",
            "grid_template_areas": null,
            "object_position": null,
            "object_fit": null,
            "grid_auto_columns": null,
            "margin": null,
            "display": null,
            "left": null
          }
        },
        "ccbad668ed3b4ba19fa2c49db54bf317": {
          "model_module": "@jupyter-widgets/controls",
          "model_name": "IntSliderModel",
          "model_module_version": "1.5.0",
          "state": {
            "_view_name": "IntSliderView",
            "style": "IPY_MODEL_f795215433e649078e89a5ac399e0ce2",
            "_dom_classes": [],
            "description": "ano",
            "step": 1,
            "_model_name": "IntSliderModel",
            "orientation": "horizontal",
            "max": 2042,
            "_view_module": "@jupyter-widgets/controls",
            "_model_module_version": "1.5.0",
            "value": 2032,
            "_view_count": null,
            "disabled": false,
            "_view_module_version": "1.5.0",
            "min": 2022,
            "continuous_update": true,
            "readout_format": "d",
            "description_tooltip": null,
            "readout": true,
            "_model_module": "@jupyter-widgets/controls",
            "layout": "IPY_MODEL_a0c91ab089544242a50c4e6a46f13e8b"
          }
        },
        "ae7bb18cc02a410c9ea408bd288744e6": {
          "model_module": "@jupyter-widgets/output",
          "model_name": "OutputModel",
          "model_module_version": "1.0.0",
          "state": {
            "_view_name": "OutputView",
            "msg_id": "",
            "_dom_classes": [],
            "_model_name": "OutputModel",
            "outputs": [
              {
                "output_type": "display_data",
                "data": {
                  "image/png": "iVBORw0KGgoAAAANSUhEUgAAAXAAAAEeCAYAAACT504VAAAABHNCSVQICAgIfAhkiAAAAAlwSFlzAAALEgAACxIB0t1+/AAAADh0RVh0U29mdHdhcmUAbWF0cGxvdGxpYiB2ZXJzaW9uMy4yLjIsIGh0dHA6Ly9tYXRwbG90bGliLm9yZy+WH4yJAAAUAElEQVR4nO3df7DldX3f8ecrC0Y0WIJet0Q0C5EmwQhLshATtIkQHC1WaUpJiOLaEjeTiWlDkiqkjtaOSbFaTWLamDVmXNtEoCoDlSZiF6mTtCKLovyKFXEZYcBdUhRsGQnLu3+c75XL5e695969957zXp+PmTv3+/v7nt3vfZ3P+Zzv53tSVUiS+vmuSRcgSVoZA1ySmjLAJakpA1ySmjLAJakpA1ySmjpkPU/2jGc8ozZt2rSep5Sk9m644Yb7qmpm/vJ1DfBNmzaxa9eu9TylJLWX5M6FltuFIklNGeCS1JQBLklNGeCS1JQBLklNGeCS1JQBLklNGeCS1NS6DuRRH5suvGpNj7/74jPX9PjSdwJb4JLUlAEuSU0Z4JLUlAEuSU0Z4JLUlAEuSU0Z4JLUlAEuSU0Z4JLUlAEuSU0Z4JLU1FjPQkmyG3gQ2Ac8UlVbkhwJXApsAnYD51TV/WtTpiRpvuW0wF9cVZurasswfyGws6qOA3YO85KkdXIgXSivBHYM0zuAsw68HEnSuMYN8AKuTnJDkm3Dso1Vdc8wfS+wcdWrkyTt17jPA39hVd2d5JnAJ5L89dyVVVVJaqEdh8DfBvCc5zzngIqVJD1mrBZ4Vd09/N4DXA6cAnwtyVEAw+89+9l3e1VtqaotMzMzq1O1JGnpAE/y1CSHz04DLwFuBq4Etg6bbQWuWKsiJUlPNE4Xykbg8iSz2/9ZVf1FkuuBy5KcD9wJnLN2ZUqS5lsywKvqDuDEBZb/DXD6WhQlSVqaIzElqSkDXJKaMsAlqSkDXJKaMsAlqSkDXJKaMsAlqSkDXJKaMsAlqSkDXJKaMsAlqSkDXJKaMsAlqSkDXJKaMsAlqSkDXJKaMsAlqSkDXJKaMsAlqSkDXJKaMsAlqSkDXJKaMsAlqSkDXJKaMsAlqSkDXJKaMsAlqSkDXJKaMsAlqamxAzzJhiSfS/KxYf6YJNcluT3JpUmetHZlSpLmW04L/F8At82Zfzvw7qp6LnA/cP5qFiZJWtxYAZ7kaOBM4I+H+QCnAR8eNtkBnLUWBUqSFjZuC/x3gTcAjw7zTwe+XlWPDPN3Ac9a5dokSYtYMsCTvBzYU1U3rOQESbYl2ZVk1969e1dyCEnSAsZpgZ8KvCLJbuASRl0nvwcckeSQYZujgbsX2rmqtlfVlqraMjMzswolS5JgjACvqouq6uiq2gT8PHBNVb0K+CRw9rDZVuCKNatSkvQEB3If+BuBX09yO6M+8fevTkmSpHEcsvQmj6mqa4Frh+k7gFNWvyRJ0jgciSlJTRngktSUAS5JTRngktSUAS5JTRngktSUAS5JTRngktSUAS5JTRngktSUAS5JTRngktSUAS5JTRngktSUAS5JTRngktSUAS5JTRngktTUsr5STZK+E2y68Ko1Pf7ui89clePYApekpgxwSWrKAJekpgxwSWrKAJekpgxwSWrKAJekpgxwSWrKAJekpgxwSWrKAJekppYM8CRPTvKZJJ9PckuStw7Lj0lyXZLbk1ya5ElrX64kadY4LfBvAadV1YnAZuClSV4AvB14d1U9F7gfOH/typQkzbdkgNfIN4fZQ4efAk4DPjws3wGctSYVSpIWNFYfeJINSW4E9gCfAL4MfL2qHhk2uQt41n723ZZkV5Jde/fuXY2aJUmMGeBVta+qNgNHA6cAPzTuCapqe1VtqaotMzMzKyxTkjTfsu5CqaqvA58EfgI4IsnsF0IcDdy9yrVJkhYxzl0oM0mOGKYPA84AbmMU5GcPm20FrlirIiVJTzTOV6odBexIsoFR4F9WVR9LcitwSZK3AZ8D3r+GdUqS5lkywKvqC8BJCyy/g1F/uCRpAhyJKUlNGeCS1JQBLklNGeCS1JQBLklNGeCS1JQBLklNGeCS1JQBLklNGeCS1NQ4z0KR2tl04VVrevzdF5+5pseXxmELXJKaMsAlqSkDXJKasg9cmkL24WsctsAlqSkDXJKaMsAlqSkDXJKaMsAlqSkDXJKaMsAlqSkDXJKaMsAlqSkDXJKaMsAlqSkDXJKaMsAlqSkDXJKaWvJxskmeDXwQ2AgUsL2qfi/JkcClwCZgN3BOVd2/dqX24yNBJa2lcVrgjwC/UVXHAy8AfiXJ8cCFwM6qOg7YOcxLktbJkgFeVfdU1WeH6QeB24BnAa8Edgyb7QDOWqsiJUlPtKw+8CSbgJOA64CNVXXPsOpeRl0skqR1MnaAJ/ke4CPAr1XVA3PXVVUx6h9faL9tSXYl2bV3794DKlaS9JixAjzJoYzC+0+r6qPD4q8lOWpYfxSwZ6F9q2p7VW2pqi0zMzOrUbMkiTECPEmA9wO3VdW75qy6Etg6TG8Frlj98iRJ+zPOt9KfCpwH3JTkxmHZbwEXA5clOR+4EzhnbUqUJC1kyQCvqr8Esp/Vp69uOY/nfdSStH+OxJSkpgxwSWrKAJekpgxwSWrKAJekpgxwSWrKAJekpgxwSWrKAJekpgxwSWrKAJekpgxwSWrKAJekpgxwSWrKAJekpgxwSWrKAJekpgxwSWpqnO/ElKRl8esQ14ctcElqygCXpKYMcElqygCXpKYMcElqygCXpKYMcElqygCXpKYMcElqygCXpKaWDPAkf5JkT5Kb5yw7Msknknxp+P29a1umJGm+cVrgHwBeOm/ZhcDOqjoO2DnMS5LW0ZIBXlWfAv7PvMWvBHYM0zuAs1a5LknSElbaB76xqu4Zpu8FNq5SPZKkMR3wh5hVVUDtb32SbUl2Jdm1d+/eAz2dJGmw0gD/WpKjAIbfe/a3YVVtr6otVbVlZmZmhaeTJM230gC/Etg6TG8FrlidciRJ4xrnNsIPAf8L+MEkdyU5H7gYOCPJl4CfGeYlSetoya9Uq6pz97Pq9FWuRZK0DI7ElKSmDHBJasoAl6SmDHBJasoAl6SmDHBJasoAl6SmDHBJasoAl6SmDHBJasoAl6SmDHBJasoAl6SmDHBJasoAl6SmDHBJasoAl6SmDHBJasoAl6SmDHBJasoAl6SmDHBJasoAl6SmDHBJasoAl6SmDHBJasoAl6SmDHBJasoAl6SmDHBJauqAAjzJS5N8McntSS5craIkSUtbcYAn2QD8B+BlwPHAuUmOX63CJEmLO5AW+CnA7VV1R1U9DFwCvHJ1ypIkLSVVtbIdk7OBl1bVLw7z5wE/XlWvn7fdNmDbMPuDwBdXXu6SngHct4bHX2ud6+9cO1j/pFn/4r6/qmbmLzxkDU8IQFVtB7av9XkAkuyqqi3rca610Ln+zrWD9U+a9a/MgXSh3A08e8780cMySdI6OJAAvx44LskxSZ4E/Dxw5eqUJUlayoq7UKrqkSSvBz4ObAD+pKpuWbXKVmZdumrWUOf6O9cO1j9p1r8CK/4QU5I0WY7ElKSmDHBJasoAl6SmDPAplGTjpGvQ9EvylCQnDD/fPel6tP7WfCDPWknyXGBjVf3VvOWnAvdW1ZcnU9nKJDkC+MfALwA/DHzfZCvavyTvYPQYhT+at/yXgGOqaqofbJZk0dtdq+oV61XLSiQ5FHgH8BrgK0CAjUneU1UXJ9lcVTdOtMhFJLm6ql4yTF9UVf920jUtR5JfX2x9Vb1r3WrpehdKko8BF1XVTfOWPx/4nar6h5OpbHxJDmP0/JhfAE4CDgfOAj5VVY9OsrbFJLkB2FLzLp4k3wV8oap+ZDKVjSfJXuCrwIeA6xgF4LdV1f+YRF3jSvL7wFOAC6rqwWHZ04B3AvsYPeLimAmWuKgkn6uqk4bpz1bVj066puVI8ihwI/DnwLd44vXz1vWqpW0LnFHr+6b5C6vqpiSb1r+c5UnyZ8CLgKuB9wDXMGrVXjvJusb03fPDG6CqHk2ShXaYMn8XOAM4l9GL51XAh6ZgHMO4/gFw3Nz/g6p6IMkvM3oex8smVtl4erYaH3MSo2vnTOAGRg2BnQv9Tay1zn3gRyyy7rB1q2LljgfuB24DbquqffS5sB9Kctz8hcOyhyZQz7JU1b6q+ouq2gq8ALgduHYYmNbBo/t5Ad0H7K2qT0+gpuU4NsmVSf7rnOlv/0y6uKVU1eer6sKq2gy8n9G76FuTrHvXW+cW+K4kr6uq981dmOQXGb0qTrWq2pzkhxi9kv/3JPcBhyfZWFVfm3B5S3kz8OdJ3sZj/9ZbgIuAX5tYVcswfOh3JqN//03A7wOXT7KmZbg1yWuq6oNzFyZ5NaMGwbSb+9jpd06sigOUZIZRa/z5wF3AnnWvoXEf+EZGf3AP8/gQeRLwj6rq3knVthJJfoxRmJwD3FVVPznhkvYryQuAB4E3ALP93TcD71yoW2vaJPkgo7r/G3BJVd084ZKWJcmzgI8yercz99o/jNG13+ahckMIUlV7J13LuJL8M0Z/p08GPgxcVlXrHt7QOMBnJXkxj4XILVV1zSTrOVBDH/KLqupTk65lfzp+8DTX8CHU/x1m5/4BBKiqetr6V7V8SU4DnjfM3lpVOydZz7iGa/zNwK8y6sYN8Ajwnqr6N5OsbRzD9XMzcOew6HEhup53MbXtQklyWlVdU1WfTLK7qr4yZ93PVtVHJ1nfUpJcVlXnDNNvr6o3wig9krwJeMlECzyIVVXnz37mXvvXJPlKt2sfuAB4IXDybO1JjgX+MMkFVfXuiVa3tBdPuoBZbVvgc1uB81uEHVqIi91KNXfdNErydWC/7xAa3Ed92uw7tSTHdAvAg+HaB86oqvvmLZ8Brp7ma3++SXcBtW2B8/h7L+ffutbhVrbFXjmn/VV1L/DvJ13EAXgnMBtyH5kzDfAmRv3L06z7tX/o/PCGUQgOg5Sm2tAF9Bbg9QxdQEkm0gXUOcBrP9MLzU+jpyQ5idEFcNgwneFn2m+D/Oa0D3ZZQvcA7H7tP7zCddPiAuBUpqALqHOAHzvcM5o50wzzUzsKbY57gXctMD07P82+svQmU617AHa/9k9M8sACy8Pozo5pdx7zuoCq6o7hNs6rgXUL8M594D+12PrmLcSpluQNVfXvhul/UlX/Zc6636mq35pcdUub04cfRqNhZ/vzA7ywqr53UrWNw2t/spLcvL/HRSy2bk1q6Rrgc036g4SV6ByCB8GHaAdNAHa89rtb7Bpf7+u/bYAfBPeStg3BeXfQPO6OmWm/g2a+jgHY/drvLsk+HhtH8LhVwJOrat0+iO18P+zce0mPHN72/jhwapILJlvaWDp/kNa6DzkjbxkeX/BF4H8n2ZvkzZOubUzdr/3WqmpDVT1tgZ/D1zO8oXeAnwecO/ce3qq6A3g1o+ckT7vOIXhikgeSPAicMEzPzj9/0sWNoXsAdr/2tUo6d6FMzQcJKzHnbdjsbYP/b3YV6/w27DtN94Ek3a99rZ7OLfDW95LOeRt2eFUdMsm3Ycs1PINjdvqYeet+dv0rWrb9DiQBpvrfftD62tfq6RzgJ8556/5At7fxzUNw7iNAPzJv3ZvWs5AV6h6Ara99rZ62A3mqasOkazhAnYdzd/4AFpoPJDkIrn2tkrYBfhDoHIKdP4A1AHXQMMAnp3MIdh/KLR0U2t6F0l3n4dwH00hGqTMDfEIOlhDsOJJROlgY4FOgWwg6lFuaDp1vI2yt+XDu7iMZpYOCAT45nUPQodzSFLALZUI6D+d2KLc0HWyBT07n4dzdRzJKBwXvA5+cziHYeiSjdLCwC2VCpumh8JJ6MsAlqSn7wCWpKQNckpoywDUxSfYluTHJLUk+n+Q3kqz5NZnktUm+b63Ps8j5z0py/KTOr4OHAa5JeqiqNlfV84AzgJcBb1nLEybZALwWmFiAA2cBBrgOmAGuqVBVe4BtwOuHxwxsSPKOJNcn+UKSXwJI8tNJPpXkqiRfTPLe2VZ7kj9Msmto0b919thJdid5e5LPAucCW4A/HVr/hyV583Cem5NsH571QpJrk7x7OOZtSU5O8tEkX0rytjnHf3WSzwzH+6PhRYIk30zy28O7i08n2ZjkJ4FXAO8Ytv+BJJuH9V9IcnmSqX0SpaaLAa6pMQzH3wA8Ezgf+EZVnQycDLxuzlfPncLoQVrHAz8AzH4F3b+qqi3ACcBPJTlhzuH/pqp+tKr+M7ALeNXQ+n8I+IOqOnkYQXoY8PI5+z08HPO9wBXArwA/Arw2ydOT/DDwc8CpVbUZ2Ae8atj3qcCnq+pERo8Lfl1V/U/gSuBfDuf/MvBB4I1VdQJwE2v8LkQHDwNc0+olwGuS3AhcBzwdOG5Y95mquqOq9gEfYvRMGYBzhlb254Dn8fhuiksXOdeLk1yX5CbgtGHfWbNfVnETcEtV3VNV3wLuAJ4NnA78GHD9UOvpwLHDPg8DHxumbwA2zT9xkr8DHDHn8cE7gL+/SK3StzkSU1MjybGMWrB7GA1o+tWq+vi8bX6aBb7BaGid/yajh4Pdn+QDPH5U6EKDpkjyZOA/Aluq6qtJ/vW8/b41/H50zvTs/CFDnTuq6qIFDv+39dhAi33496ZVZgtcU2F4iNd7GXVnFPBx4JeTHDqs/3tJnjpsfkqSY4a+758D/hJ4GqOQ/kaSjYw+EN2fB4HDh+nZsL4vyfcAZy+z9J3A2UmeOdR5ZJLvX2Kfb5+/qr4B3J/kRcO684AWX+ahybNFoEk6bOh2OJTRF0L8J+Bdw7o/ZtTl8NnhQ8W9jO7eALge+APgucAngcur6tHhCY9/DXwV+KtFzvsB4L1JHgJ+AngfcDNw73DssVXVrUneBFw9vKD8LaN+8jsX2e0S4H1J/jmjF4ytQz1PYdQ180+XU4O+czmUXq0MXSi/WVUvX2pb6WBnF4okNWULXJKasgUuSU0Z4JLUlAEuSU0Z4JLUlAEuSU0Z4JLU1P8HzD3CeU8Vfd4AAAAASUVORK5CYII=\n",
                  "text/plain": "<Figure size 432x288 with 1 Axes>"
                },
                "metadata": {
                  "needs_background": "light"
                }
              }
            ],
            "_view_module": "@jupyter-widgets/output",
            "_model_module_version": "1.0.0",
            "_view_count": null,
            "_view_module_version": "1.0.0",
            "layout": "IPY_MODEL_20d0de7b8d2d4d12a4b4f10e5cfb422d",
            "_model_module": "@jupyter-widgets/output"
          }
        },
        "f795215433e649078e89a5ac399e0ce2": {
          "model_module": "@jupyter-widgets/controls",
          "model_name": "SliderStyleModel",
          "model_module_version": "1.5.0",
          "state": {
            "_view_name": "StyleView",
            "handle_color": null,
            "_model_name": "SliderStyleModel",
            "description_width": "",
            "_view_module": "@jupyter-widgets/base",
            "_model_module_version": "1.5.0",
            "_view_count": null,
            "_view_module_version": "1.2.0",
            "_model_module": "@jupyter-widgets/controls"
          }
        },
        "a0c91ab089544242a50c4e6a46f13e8b": {
          "model_module": "@jupyter-widgets/base",
          "model_name": "LayoutModel",
          "model_module_version": "1.2.0",
          "state": {
            "_view_name": "LayoutView",
            "grid_template_rows": null,
            "right": null,
            "justify_content": null,
            "_view_module": "@jupyter-widgets/base",
            "overflow": null,
            "_model_module_version": "1.2.0",
            "_view_count": null,
            "flex_flow": null,
            "width": null,
            "min_width": null,
            "border": null,
            "align_items": null,
            "bottom": null,
            "_model_module": "@jupyter-widgets/base",
            "top": null,
            "grid_column": null,
            "overflow_y": null,
            "overflow_x": null,
            "grid_auto_flow": null,
            "grid_area": null,
            "grid_template_columns": null,
            "flex": null,
            "_model_name": "LayoutModel",
            "justify_items": null,
            "grid_row": null,
            "max_height": null,
            "align_content": null,
            "visibility": null,
            "align_self": null,
            "height": null,
            "min_height": null,
            "padding": null,
            "grid_auto_rows": null,
            "grid_gap": null,
            "max_width": null,
            "order": null,
            "_view_module_version": "1.2.0",
            "grid_template_areas": null,
            "object_position": null,
            "object_fit": null,
            "grid_auto_columns": null,
            "margin": null,
            "display": null,
            "left": null
          }
        },
        "20d0de7b8d2d4d12a4b4f10e5cfb422d": {
          "model_module": "@jupyter-widgets/base",
          "model_name": "LayoutModel",
          "model_module_version": "1.2.0",
          "state": {
            "_view_name": "LayoutView",
            "grid_template_rows": null,
            "right": null,
            "justify_content": null,
            "_view_module": "@jupyter-widgets/base",
            "overflow": null,
            "_model_module_version": "1.2.0",
            "_view_count": null,
            "flex_flow": null,
            "width": null,
            "min_width": null,
            "border": null,
            "align_items": null,
            "bottom": null,
            "_model_module": "@jupyter-widgets/base",
            "top": null,
            "grid_column": null,
            "overflow_y": null,
            "overflow_x": null,
            "grid_auto_flow": null,
            "grid_area": null,
            "grid_template_columns": null,
            "flex": null,
            "_model_name": "LayoutModel",
            "justify_items": null,
            "grid_row": null,
            "max_height": null,
            "align_content": null,
            "visibility": null,
            "align_self": null,
            "height": null,
            "min_height": null,
            "padding": null,
            "grid_auto_rows": null,
            "grid_gap": null,
            "max_width": null,
            "order": null,
            "_view_module_version": "1.2.0",
            "grid_template_areas": null,
            "object_position": null,
            "object_fit": null,
            "grid_auto_columns": null,
            "margin": null,
            "display": null,
            "left": null
          }
        }
      }
    }
  },
  "nbformat": 4,
  "nbformat_minor": 0
}