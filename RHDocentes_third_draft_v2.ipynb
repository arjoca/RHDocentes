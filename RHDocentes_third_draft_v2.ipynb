{
  "cells": [
    {
      "cell_type": "markdown",
      "metadata": {
        "id": "view-in-github",
        "colab_type": "text"
      },
      "source": [
        "<a href=\"https://colab.research.google.com/github/arjoca/RHDocentes/blob/main/RHDocentes_third_draft_v2.ipynb\" target=\"_parent\"><img src=\"https://colab.research.google.com/assets/colab-badge.svg\" alt=\"Open In Colab\"/></a>"
      ]
    },
    {
      "cell_type": "markdown",
      "source": [
        "# Narrativa\n",
        "\n",
        "![foto infância.jpg](data:image/jpeg;base64,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)"
      ],
      "metadata": {
        "id": "4DFNGvwF466I"
      }
    },
    {
      "cell_type": "markdown",
      "source": [
        "# Preparação"
      ],
      "metadata": {
        "id": "0yCt8aqB5l7E"
      }
    },
    {
      "cell_type": "markdown",
      "source": [
        "## Fontes de informação\n",
        "\n",
        "*   Ficheiro \"Afetacao_Financeira_ADs_Cursos_2021_v01.xlsx\"\n",
        "*   Ficheiro \"RAIDES_0.xlsx\" \n",
        "\n",
        "Essa informação depois de filtrada e anonimizada deu origem aos dados guardados no ficheiro [clean_data.xlsx](https://github.com/arjoca/RHDocentes/blob/main/clean_data.xlsx), usados neste estudo."
      ],
      "metadata": {
        "id": "pXnpQt3WX4Gx"
      }
    },
    {
      "cell_type": "markdown",
      "source": [
        "## Importação de módulos e leitura de dados"
      ],
      "metadata": {
        "id": "xJSzWgluYn23"
      }
    },
    {
      "cell_type": "code",
      "source": [
        "# instalação de módulos\n",
        "!pip install squarify"
      ],
      "metadata": {
        "colab": {
          "base_uri": "https://localhost:8080/"
        },
        "id": "1g-lq__b6Ouk",
        "outputId": "23cf357f-7a26-49ca-a02d-7061d27578df"
      },
      "execution_count": 237,
      "outputs": [
        {
          "output_type": "stream",
          "name": "stdout",
          "text": [
            "Requirement already satisfied: squarify in /usr/local/lib/python3.7/dist-packages (0.4.3)\n"
          ]
        }
      ]
    },
    {
      "cell_type": "code",
      "source": [
        "# importação de módulos\n",
        "import numpy as np\n",
        "import pandas as pd\n",
        "import matplotlib\n",
        "import matplotlib.pyplot as plt\n",
        "from datetime import datetime, timedelta\n",
        "import squarify\n",
        "from ipywidgets import interact"
      ],
      "metadata": {
        "id": "7ixqURkcmS3k"
      },
      "execution_count": 238,
      "outputs": []
    },
    {
      "cell_type": "code",
      "source": [
        "# Leitura de dados\n",
        "base_url = 'https://raw.githubusercontent.com/arjoca/RHDocentes/main/'\n",
        "docentes = pd.read_csv(base_url + 'docentes.csv', encoding= 'unicode_escape', \n",
        "                       parse_dates=['Data Nascimento'], infer_datetime_format=True)\n",
        "alunos_per_curso = pd.read_csv(base_url + 'alunos.csv', encoding= 'unicode_escape', index_col=0)\n",
        "horas = pd.read_csv(base_url + 'horas.csv', encoding= 'unicode_escape', index_col=0)"
      ],
      "metadata": {
        "id": "zrRGfIA3NOss"
      },
      "execution_count": 239,
      "outputs": []
    },
    {
      "cell_type": "code",
      "source": [
        "pd.options.display.float_format = \"{:,.1f}\".format"
      ],
      "metadata": {
        "id": "2fYAT4juJHFR"
      },
      "execution_count": 240,
      "outputs": []
    },
    {
      "cell_type": "markdown",
      "source": [
        "## Designações de cenas"
      ],
      "metadata": {
        "id": "9mRMNRKk9cY2"
      }
    },
    {
      "cell_type": "code",
      "source": [
        "# Designações dos cursos e departamentos\n",
        "LISTA_DEPTS = docentes['Departamento'].unique()\n",
        "LISTA_CURSOS = alunos_per_curso.index.unique()"
      ],
      "metadata": {
        "id": "2cJVoDWu818g"
      },
      "execution_count": 241,
      "outputs": []
    },
    {
      "cell_type": "code",
      "source": [
        "# Designações das categorias de docentes\n",
        "cat_prof_coord = ['Prof. Coordenador', 'Prof. Coordenador c/ Agreg. ', 'Professor Coordenador Principal']\n",
        "cat_convidado = ['Assistente Convidado', 'Professor Adjunto Convidado']\n",
        "cat_adjunto = ['Professor Adjunto']\n",
        "cat_assistente = ['Assistente do 2.Âº TriÃ©nio', 'Assistente', 'Equiparado Assistente 2Âº TriÃ©nio']\n",
        "cat_monitor = ['Monitor']\n",
        "cat_quadro = cat_prof_coord + cat_adjunto"
      ],
      "metadata": {
        "id": "kq3S29pd66vU"
      },
      "execution_count": 242,
      "outputs": []
    },
    {
      "cell_type": "markdown",
      "metadata": {
        "id": "HVQRAlitw5mf"
      },
      "source": [
        "## Definição de funções"
      ]
    },
    {
      "cell_type": "code",
      "source": [
        "# Filtragem de docentes atendendo à sua idade de aposentação \n",
        "def aposentados_e_ativos(df, ano, idade_reforma):\n",
        "    idade = (datetime(ano, 1, 1) - df['Data Nascimento'])/timedelta(days=365.25)\n",
        "    aposentados = df[idade > idade_reforma]\n",
        "    ativos = df.drop(index=aposentados.index)\n",
        "    return aposentados, ativos"
      ],
      "metadata": {
        "id": "2zOZwwGOLYRm"
      },
      "execution_count": 243,
      "outputs": []
    },
    {
      "cell_type": "code",
      "source": [
        "# Filtragem de docentes atendendo à sua categoria\n",
        "def docentes_per_categoria(df, categoria):\n",
        "  s = df.groupby(['Departamento', 'Categoria'])['ETI'].count()\n",
        "  s = s.loc[(slice(None), categoria)].droplevel(level=1)\n",
        "  s = s.groupby(s.index).sum()\n",
        "  s = pd.Series(s, index=LISTA_DEPTS)\n",
        "  return s.fillna(0)"
      ],
      "metadata": {
        "id": "WrlMDKJQ-Fub"
      },
      "execution_count": 244,
      "outputs": []
    },
    {
      "cell_type": "code",
      "source": [
        "# Prepara dados para visualizar com treemap\n",
        "def prepare_to_treemap(tabela_horas, dept='DEETC', threshold_percentage=0.01):\n",
        "  s = tabela_horas[dept].copy()\n",
        "  total = s.values.sum()\n",
        "  threshold = threshold_percentage * total\n",
        "  s = s[s > threshold]\n",
        "  remainder = total - s.values.sum()\n",
        "  s = s.append(pd.Series(data=[remainder], index=['OUTROS']))\n",
        "  return s.sort_values(ascending=False)"
      ],
      "metadata": {
        "id": "X-4fLAFKjnZC"
      },
      "execution_count": 245,
      "outputs": []
    },
    {
      "cell_type": "markdown",
      "source": [
        "# Exploração de dados"
      ],
      "metadata": {
        "id": "wwRnjBWD6e8O"
      }
    },
    {
      "cell_type": "markdown",
      "source": [
        "## Elementos constantes (para simplificar)"
      ],
      "metadata": {
        "id": "uATfuhqX6uT6"
      }
    },
    {
      "cell_type": "code",
      "execution_count": 246,
      "metadata": {
        "pycharm": {
          "name": "#%%\n"
        },
        "id": "_ttb1fV3w5mm"
      },
      "outputs": [],
      "source": [
        "# Elementos constantes (time independent features)\n",
        "# Simplificação: constância do número de alunos e das horas de contacto \n",
        "horas_per_dept = horas.sum()\n",
        "horas_per_curso = horas.sum(axis=1)\n",
        "\n",
        "pesos_dept_per_curso = horas.T / horas_per_curso\n",
        "pesos_curso_per_dept = horas / horas_per_dept\n",
        "alunos_per_dept = pd.DataFrame(np.dot(pesos_dept_per_curso, alunos_per_curso),\n",
        "                              index=pesos_dept_per_curso.index, columns=['Alunos'])\n",
        "alunos_per_dept = alunos_per_dept['Alunos']\n",
        "alunos_per_curso = alunos_per_curso['Alunos']"
      ]
    },
    {
      "cell_type": "markdown",
      "source": [
        "### Fotografia do ISEL hoje (2022)"
      ],
      "metadata": {
        "id": "wk8xq6FrmvJa"
      }
    },
    {
      "cell_type": "markdown",
      "source": [
        "#### Eficiência relativa de cada departamento"
      ],
      "metadata": {
        "id": "-ImN48VSYM8Z"
      }
    },
    {
      "cell_type": "code",
      "source": [
        "# Eficiência relativa dos departamentos/cursos\n",
        "ratio_aluno_hora_ISEL = alunos_per_curso.sum() / horas_per_curso.sum()\n",
        "eff_per_dept = 100 * alunos_per_dept / horas_per_dept / ratio_aluno_hora_ISEL\n",
        "eff_per_curso = 100 * alunos_per_curso / horas_per_curso / ratio_aluno_hora_ISEL\n",
        "eff_per_curso.dropna(inplace=True)"
      ],
      "metadata": {
        "id": "IR2mH2_ZmvJb"
      },
      "execution_count": 247,
      "outputs": []
    },
    {
      "cell_type": "code",
      "source": [
        "# Figura com eficiência relativa de cada departamento\n",
        "eff_per_dept.name = \"Eficiência relativa de cada departamento\"\n",
        "ax = eff_per_dept.plot(kind='bar', figsize=(14,3))\n",
        "ax.set_xlabel('Departamento')\n",
        "ax.set_ylabel('Eficiência relativa')\n",
        "ax.set_title(eff_per_dept.name)\n",
        "ax.axhline(y=100,linewidth=2, color='#d62728')"
      ],
      "metadata": {
        "id": "lsH1kmnBD3xe",
        "outputId": "e5d70f22-bad6-4155-879b-6901242b7d6c",
        "colab": {
          "base_uri": "https://localhost:8080/",
          "height": 248
        }
      },
      "execution_count": 248,
      "outputs": [
        {
          "output_type": "execute_result",
          "data": {
            "text/plain": [
              "<matplotlib.lines.Line2D at 0x7fe34b56db90>"
            ]
          },
          "metadata": {},
          "execution_count": 248
        },
        {
          "output_type": "display_data",
          "data": {
            "image/png": "[encoded data removed]",
            "text/plain": [
              "<Figure size 1008x216 with 1 Axes>"
            ]
          },
          "metadata": {
            "needs_background": "light"
          }
        }
      ]
    },
    {
      "cell_type": "code",
      "source": [
        "eff_per_dept.to_frame()"
      ],
      "metadata": {
        "id": "pmZcqkDCXvWS",
        "outputId": "145ab332-512a-4675-ba2a-4b4b6e1e3ea6",
        "colab": {
          "base_uri": "https://localhost:8080/",
          "height": 269
        }
      },
      "execution_count": 249,
      "outputs": [
        {
          "output_type": "execute_result",
          "data": {
            "text/html": [
              "\n",
              "  <div id=\"df-d8cf1e43-1389-4725-8fe1-f54c5ca7fc53\">\n",
              "    <div class=\"colab-df-container\">\n",
              "      <div>\n",
              "<style scoped>\n",
              "    .dataframe tbody tr th:only-of-type {\n",
              "        vertical-align: middle;\n",
              "    }\n",
              "\n",
              "    .dataframe tbody tr th {\n",
              "        vertical-align: top;\n",
              "    }\n",
              "\n",
              "    .dataframe thead th {\n",
              "        text-align: right;\n",
              "    }\n",
              "</style>\n",
              "<table border=\"1\" class=\"dataframe\">\n",
              "  <thead>\n",
              "    <tr style=\"text-align: right;\">\n",
              "      <th></th>\n",
              "      <th>Eficiência relativa de cada departamento</th>\n",
              "    </tr>\n",
              "  </thead>\n",
              "  <tbody>\n",
              "    <tr>\n",
              "      <th>DF</th>\n",
              "      <td>95.1</td>\n",
              "    </tr>\n",
              "    <tr>\n",
              "      <th>DM</th>\n",
              "      <td>98.6</td>\n",
              "    </tr>\n",
              "    <tr>\n",
              "      <th>DEM</th>\n",
              "      <td>112.7</td>\n",
              "    </tr>\n",
              "    <tr>\n",
              "      <th>DEC</th>\n",
              "      <td>71.9</td>\n",
              "    </tr>\n",
              "    <tr>\n",
              "      <th>DEQ</th>\n",
              "      <td>84.5</td>\n",
              "    </tr>\n",
              "    <tr>\n",
              "      <th>DEETC</th>\n",
              "      <td>113.6</td>\n",
              "    </tr>\n",
              "    <tr>\n",
              "      <th>DEEEA</th>\n",
              "      <td>99.2</td>\n",
              "    </tr>\n",
              "  </tbody>\n",
              "</table>\n",
              "</div>\n",
              "      <button class=\"colab-df-convert\" onclick=\"convertToInteractive('df-d8cf1e43-1389-4725-8fe1-f54c5ca7fc53')\"\n",
              "              title=\"Convert this dataframe to an interactive table.\"\n",
              "              style=\"display:none;\">\n",
              "        \n",
              "  <svg xmlns=\"http://www.w3.org/2000/svg\" height=\"24px\"viewBox=\"0 0 24 24\"\n",
              "       width=\"24px\">\n",
              "    <path d=\"M0 0h24v24H0V0z\" fill=\"none\"/>\n",
              "    <path d=\"M18.56 5.44l.94 2.06.94-2.06 2.06-.94-2.06-.94-.94-2.06-.94 2.06-2.06.94zm-11 1L8.5 8.5l.94-2.06 2.06-.94-2.06-.94L8.5 2.5l-.94 2.06-2.06.94zm10 10l.94 2.06.94-2.06 2.06-.94-2.06-.94-.94-2.06-.94 2.06-2.06.94z\"/><path d=\"M17.41 7.96l-1.37-1.37c-.4-.4-.92-.59-1.43-.59-.52 0-1.04.2-1.43.59L10.3 9.45l-7.72 7.72c-.78.78-.78 2.05 0 2.83L4 21.41c.39.39.9.59 1.41.59.51 0 1.02-.2 1.41-.59l7.78-7.78 2.81-2.81c.8-.78.8-2.07 0-2.86zM5.41 20L4 18.59l7.72-7.72 1.47 1.35L5.41 20z\"/>\n",
              "  </svg>\n",
              "      </button>\n",
              "      \n",
              "  <style>\n",
              "    .colab-df-container {\n",
              "      display:flex;\n",
              "      flex-wrap:wrap;\n",
              "      gap: 12px;\n",
              "    }\n",
              "\n",
              "    .colab-df-convert {\n",
              "      background-color: #E8F0FE;\n",
              "      border: none;\n",
              "      border-radius: 50%;\n",
              "      cursor: pointer;\n",
              "      display: none;\n",
              "      fill: #1967D2;\n",
              "      height: 32px;\n",
              "      padding: 0 0 0 0;\n",
              "      width: 32px;\n",
              "    }\n",
              "\n",
              "    .colab-df-convert:hover {\n",
              "      background-color: #E2EBFA;\n",
              "      box-shadow: 0px 1px 2px rgba(60, 64, 67, 0.3), 0px 1px 3px 1px rgba(60, 64, 67, 0.15);\n",
              "      fill: #174EA6;\n",
              "    }\n",
              "\n",
              "    [theme=dark] .colab-df-convert {\n",
              "      background-color: #3B4455;\n",
              "      fill: #D2E3FC;\n",
              "    }\n",
              "\n",
              "    [theme=dark] .colab-df-convert:hover {\n",
              "      background-color: #434B5C;\n",
              "      box-shadow: 0px 1px 3px 1px rgba(0, 0, 0, 0.15);\n",
              "      filter: drop-shadow(0px 1px 2px rgba(0, 0, 0, 0.3));\n",
              "      fill: #FFFFFF;\n",
              "    }\n",
              "  </style>\n",
              "\n",
              "      <script>\n",
              "        const buttonEl =\n",
              "          document.querySelector('#df-d8cf1e43-1389-4725-8fe1-f54c5ca7fc53 button.colab-df-convert');\n",
              "        buttonEl.style.display =\n",
              "          google.colab.kernel.accessAllowed ? 'block' : 'none';\n",
              "\n",
              "        async function convertToInteractive(key) {\n",
              "          const element = document.querySelector('#df-d8cf1e43-1389-4725-8fe1-f54c5ca7fc53');\n",
              "          const dataTable =\n",
              "            await google.colab.kernel.invokeFunction('convertToInteractive',\n",
              "                                                     [key], {});\n",
              "          if (!dataTable) return;\n",
              "\n",
              "          const docLinkHtml = 'Like what you see? Visit the ' +\n",
              "            '<a target=\"_blank\" href=https://colab.research.google.com/notebooks/data_table.ipynb>data table notebook</a>'\n",
              "            + ' to learn more about interactive tables.';\n",
              "          element.innerHTML = '';\n",
              "          dataTable['output_type'] = 'display_data';\n",
              "          await google.colab.output.renderOutput(dataTable, element);\n",
              "          const docLink = document.createElement('div');\n",
              "          docLink.innerHTML = docLinkHtml;\n",
              "          element.appendChild(docLink);\n",
              "        }\n",
              "      </script>\n",
              "    </div>\n",
              "  </div>\n",
              "  "
            ],
            "text/plain": [
              "       Eficiência relativa de cada departamento\n",
              "DF                                         95.1\n",
              "DM                                         98.6\n",
              "DEM                                       112.7\n",
              "DEC                                        71.9\n",
              "DEQ                                        84.5\n",
              "DEETC                                     113.6\n",
              "DEEEA                                      99.2"
            ]
          },
          "metadata": {},
          "execution_count": 249
        }
      ]
    },
    {
      "cell_type": "markdown",
      "source": [
        "#### Eficiência relativa de cada curso"
      ],
      "metadata": {
        "id": "OcRDDqKrYkwP"
      }
    },
    {
      "cell_type": "code",
      "source": [
        "# Figura com eficiência relativa de cada curso\n",
        "eff_per_curso.name = \"Eficiência relativa de cada curso\"\n",
        "ax = eff_per_curso.plot(kind='bar', figsize=(14,3))\n",
        "ax.set_xlabel('Curso')\n",
        "ax.set_ylabel('Eficiência relativa')\n",
        "ax.set_title(eff_per_curso.name)\n",
        "ax.axhline(y=100,linewidth=2, color='#d62728')\n"
      ],
      "metadata": {
        "colab": {
          "base_uri": "https://localhost:8080/",
          "height": 258
        },
        "outputId": "ad77fce0-34a7-4406-b4c3-d7f50577e4e6",
        "id": "Arc6MijzmvJl"
      },
      "execution_count": 250,
      "outputs": [
        {
          "output_type": "execute_result",
          "data": {
            "text/plain": [
              "<matplotlib.lines.Line2D at 0x7fe34b4450d0>"
            ]
          },
          "metadata": {},
          "execution_count": 250
        },
        {
          "output_type": "display_data",
          "data": {
            "image/png": "[encoded data removed]",
            "text/plain": [
              "<Figure size 1008x216 with 1 Axes>"
            ]
          },
          "metadata": {
            "needs_background": "light"
          }
        }
      ]
    },
    {
      "cell_type": "code",
      "source": [
        "eff_per_curso.to_frame()"
      ],
      "metadata": {
        "id": "e2N2lXd8ZCkc",
        "outputId": "2175ce00-78a5-4bfd-a81a-cee2c11c840b",
        "colab": {
          "base_uri": "https://localhost:8080/",
          "height": 771
        }
      },
      "execution_count": 251,
      "outputs": [
        {
          "output_type": "execute_result",
          "data": {
            "text/html": [
              "\n",
              "  <div id=\"df-a65b025b-57dc-4943-8333-6b21b1083924\">\n",
              "    <div class=\"colab-df-container\">\n",
              "      <div>\n",
              "<style scoped>\n",
              "    .dataframe tbody tr th:only-of-type {\n",
              "        vertical-align: middle;\n",
              "    }\n",
              "\n",
              "    .dataframe tbody tr th {\n",
              "        vertical-align: top;\n",
              "    }\n",
              "\n",
              "    .dataframe thead th {\n",
              "        text-align: right;\n",
              "    }\n",
              "</style>\n",
              "<table border=\"1\" class=\"dataframe\">\n",
              "  <thead>\n",
              "    <tr style=\"text-align: right;\">\n",
              "      <th></th>\n",
              "      <th>Eficiência relativa de cada curso</th>\n",
              "    </tr>\n",
              "    <tr>\n",
              "      <th>Curso</th>\n",
              "      <th></th>\n",
              "    </tr>\n",
              "  </thead>\n",
              "  <tbody>\n",
              "    <tr>\n",
              "      <th>LEB</th>\n",
              "      <td>93.4</td>\n",
              "    </tr>\n",
              "    <tr>\n",
              "      <th>LEC</th>\n",
              "      <td>63.8</td>\n",
              "    </tr>\n",
              "    <tr>\n",
              "      <th>LEE</th>\n",
              "      <td>98.6</td>\n",
              "    </tr>\n",
              "    <tr>\n",
              "      <th>LEETC</th>\n",
              "      <td>88.5</td>\n",
              "    </tr>\n",
              "    <tr>\n",
              "      <th>LEIC</th>\n",
              "      <td>126.9</td>\n",
              "    </tr>\n",
              "    <tr>\n",
              "      <th>LEIM</th>\n",
              "      <td>126.1</td>\n",
              "    </tr>\n",
              "    <tr>\n",
              "      <th>LEIRT</th>\n",
              "      <td>106.3</td>\n",
              "    </tr>\n",
              "    <tr>\n",
              "      <th>LEM</th>\n",
              "      <td>101.1</td>\n",
              "    </tr>\n",
              "    <tr>\n",
              "      <th>LEQB</th>\n",
              "      <td>73.8</td>\n",
              "    </tr>\n",
              "    <tr>\n",
              "      <th>LMATE</th>\n",
              "      <td>123.0</td>\n",
              "    </tr>\n",
              "    <tr>\n",
              "      <th>LTGM</th>\n",
              "      <td>58.8</td>\n",
              "    </tr>\n",
              "    <tr>\n",
              "      <th>MEC</th>\n",
              "      <td>100.4</td>\n",
              "    </tr>\n",
              "    <tr>\n",
              "      <th>MEE</th>\n",
              "      <td>99.5</td>\n",
              "    </tr>\n",
              "    <tr>\n",
              "      <th>MEET</th>\n",
              "      <td>73.0</td>\n",
              "    </tr>\n",
              "    <tr>\n",
              "      <th>MEGI</th>\n",
              "      <td>188.4</td>\n",
              "    </tr>\n",
              "    <tr>\n",
              "      <th>MEIC</th>\n",
              "      <td>116.1</td>\n",
              "    </tr>\n",
              "    <tr>\n",
              "      <th>MEIM</th>\n",
              "      <td>184.4</td>\n",
              "    </tr>\n",
              "    <tr>\n",
              "      <th>MEM</th>\n",
              "      <td>130.1</td>\n",
              "    </tr>\n",
              "    <tr>\n",
              "      <th>MEQA</th>\n",
              "      <td>90.7</td>\n",
              "    </tr>\n",
              "    <tr>\n",
              "      <th>MEQB</th>\n",
              "      <td>70.8</td>\n",
              "    </tr>\n",
              "    <tr>\n",
              "      <th>PG-CRC</th>\n",
              "      <td>173.1</td>\n",
              "    </tr>\n",
              "    <tr>\n",
              "      <th>PG-EGER</th>\n",
              "      <td>127.5</td>\n",
              "    </tr>\n",
              "  </tbody>\n",
              "</table>\n",
              "</div>\n",
              "      <button class=\"colab-df-convert\" onclick=\"convertToInteractive('df-a65b025b-57dc-4943-8333-6b21b1083924')\"\n",
              "              title=\"Convert this dataframe to an interactive table.\"\n",
              "              style=\"display:none;\">\n",
              "        \n",
              "  <svg xmlns=\"http://www.w3.org/2000/svg\" height=\"24px\"viewBox=\"0 0 24 24\"\n",
              "       width=\"24px\">\n",
              "    <path d=\"M0 0h24v24H0V0z\" fill=\"none\"/>\n",
              "    <path d=\"M18.56 5.44l.94 2.06.94-2.06 2.06-.94-2.06-.94-.94-2.06-.94 2.06-2.06.94zm-11 1L8.5 8.5l.94-2.06 2.06-.94-2.06-.94L8.5 2.5l-.94 2.06-2.06.94zm10 10l.94 2.06.94-2.06 2.06-.94-2.06-.94-.94-2.06-.94 2.06-2.06.94z\"/><path d=\"M17.41 7.96l-1.37-1.37c-.4-.4-.92-.59-1.43-.59-.52 0-1.04.2-1.43.59L10.3 9.45l-7.72 7.72c-.78.78-.78 2.05 0 2.83L4 21.41c.39.39.9.59 1.41.59.51 0 1.02-.2 1.41-.59l7.78-7.78 2.81-2.81c.8-.78.8-2.07 0-2.86zM5.41 20L4 18.59l7.72-7.72 1.47 1.35L5.41 20z\"/>\n",
              "  </svg>\n",
              "      </button>\n",
              "      \n",
              "  <style>\n",
              "    .colab-df-container {\n",
              "      display:flex;\n",
              "      flex-wrap:wrap;\n",
              "      gap: 12px;\n",
              "    }\n",
              "\n",
              "    .colab-df-convert {\n",
              "      background-color: #E8F0FE;\n",
              "      border: none;\n",
              "      border-radius: 50%;\n",
              "      cursor: pointer;\n",
              "      display: none;\n",
              "      fill: #1967D2;\n",
              "      height: 32px;\n",
              "      padding: 0 0 0 0;\n",
              "      width: 32px;\n",
              "    }\n",
              "\n",
              "    .colab-df-convert:hover {\n",
              "      background-color: #E2EBFA;\n",
              "      box-shadow: 0px 1px 2px rgba(60, 64, 67, 0.3), 0px 1px 3px 1px rgba(60, 64, 67, 0.15);\n",
              "      fill: #174EA6;\n",
              "    }\n",
              "\n",
              "    [theme=dark] .colab-df-convert {\n",
              "      background-color: #3B4455;\n",
              "      fill: #D2E3FC;\n",
              "    }\n",
              "\n",
              "    [theme=dark] .colab-df-convert:hover {\n",
              "      background-color: #434B5C;\n",
              "      box-shadow: 0px 1px 3px 1px rgba(0, 0, 0, 0.15);\n",
              "      filter: drop-shadow(0px 1px 2px rgba(0, 0, 0, 0.3));\n",
              "      fill: #FFFFFF;\n",
              "    }\n",
              "  </style>\n",
              "\n",
              "      <script>\n",
              "        const buttonEl =\n",
              "          document.querySelector('#df-a65b025b-57dc-4943-8333-6b21b1083924 button.colab-df-convert');\n",
              "        buttonEl.style.display =\n",
              "          google.colab.kernel.accessAllowed ? 'block' : 'none';\n",
              "\n",
              "        async function convertToInteractive(key) {\n",
              "          const element = document.querySelector('#df-a65b025b-57dc-4943-8333-6b21b1083924');\n",
              "          const dataTable =\n",
              "            await google.colab.kernel.invokeFunction('convertToInteractive',\n",
              "                                                     [key], {});\n",
              "          if (!dataTable) return;\n",
              "\n",
              "          const docLinkHtml = 'Like what you see? Visit the ' +\n",
              "            '<a target=\"_blank\" href=https://colab.research.google.com/notebooks/data_table.ipynb>data table notebook</a>'\n",
              "            + ' to learn more about interactive tables.';\n",
              "          element.innerHTML = '';\n",
              "          dataTable['output_type'] = 'display_data';\n",
              "          await google.colab.output.renderOutput(dataTable, element);\n",
              "          const docLink = document.createElement('div');\n",
              "          docLink.innerHTML = docLinkHtml;\n",
              "          element.appendChild(docLink);\n",
              "        }\n",
              "      </script>\n",
              "    </div>\n",
              "  </div>\n",
              "  "
            ],
            "text/plain": [
              "         Eficiência relativa de cada curso\n",
              "Curso                                     \n",
              "LEB                                   93.4\n",
              "LEC                                   63.8\n",
              "LEE                                   98.6\n",
              "LEETC                                 88.5\n",
              "LEIC                                 126.9\n",
              "LEIM                                 126.1\n",
              "LEIRT                                106.3\n",
              "LEM                                  101.1\n",
              "LEQB                                  73.8\n",
              "LMATE                                123.0\n",
              "LTGM                                  58.8\n",
              "MEC                                  100.4\n",
              "MEE                                   99.5\n",
              "MEET                                  73.0\n",
              "MEGI                                 188.4\n",
              "MEIC                                 116.1\n",
              "MEIM                                 184.4\n",
              "MEM                                  130.1\n",
              "MEQA                                  90.7\n",
              "MEQB                                  70.8\n",
              "PG-CRC                               173.1\n",
              "PG-EGER                              127.5"
            ]
          },
          "metadata": {},
          "execution_count": 251
        }
      ]
    },
    {
      "cell_type": "markdown",
      "source": [
        "#### Treemaps"
      ],
      "metadata": {
        "id": "WEvemQ_gZhQw"
      }
    },
    {
      "cell_type": "code",
      "source": [
        "#@title  { run: \"auto\" }\n",
        "departamento = \"DF\" #@param [\"DEC\", \"DEEEA\", \"DEETC\", \"DEM\", \"DEQ\", \"DF\", \"DM\"]\n",
        "# Treemap com horas de cada departamento\n",
        "cm = matplotlib.cm.get_cmap('Pastel1')\n",
        "plt.figure(figsize=(8, 4))\n",
        "s = prepare_to_treemap(horas, departamento)\n",
        "squarify.plot(sizes=s.values, label=s.index, pad=True, color=cm.colors)\n",
        "plt.axis('off')\n",
        "plt.suptitle('Recursos docentes por curso')"
      ],
      "metadata": {
        "colab": {
          "base_uri": "https://localhost:8080/",
          "height": 295
        },
        "id": "pbL9qP2Rgltt",
        "outputId": "02487054-402c-499d-e5c3-652013eb0ad5"
      },
      "execution_count": 281,
      "outputs": [
        {
          "output_type": "execute_result",
          "data": {
            "text/plain": [
              "Text(0.5, 0.98, 'Recursos docentes por curso')"
            ]
          },
          "metadata": {},
          "execution_count": 281
        },
        {
          "output_type": "display_data",
          "data": {
            "image/png": "[encoded data removed]",
            "text/plain": [
              "<Figure size 576x288 with 1 Axes>"
            ]
          },
          "metadata": {
            "needs_background": "light"
          }
        }
      ]
    },
    {
      "cell_type": "code",
      "source": [
        "s.to_frame()/s.values.sum()*100"
      ],
      "metadata": {
        "id": "Vu2zYORYlVS4",
        "outputId": "c7395925-f73d-4f1f-96b9-ffaa32e05783",
        "colab": {
          "base_uri": "https://localhost:8080/",
          "height": 425
        }
      },
      "execution_count": 280,
      "outputs": [
        {
          "output_type": "execute_result",
          "data": {
            "text/html": [
              "\n",
              "  <div id=\"df-9cee0de9-02c6-4ffb-a456-787da7618c3e\">\n",
              "    <div class=\"colab-df-container\">\n",
              "      <div>\n",
              "<style scoped>\n",
              "    .dataframe tbody tr th:only-of-type {\n",
              "        vertical-align: middle;\n",
              "    }\n",
              "\n",
              "    .dataframe tbody tr th {\n",
              "        vertical-align: top;\n",
              "    }\n",
              "\n",
              "    .dataframe thead th {\n",
              "        text-align: right;\n",
              "    }\n",
              "</style>\n",
              "<table border=\"1\" class=\"dataframe\">\n",
              "  <thead>\n",
              "    <tr style=\"text-align: right;\">\n",
              "      <th></th>\n",
              "      <th>0</th>\n",
              "    </tr>\n",
              "  </thead>\n",
              "  <tbody>\n",
              "    <tr>\n",
              "      <th>LEM</th>\n",
              "      <td>17.9</td>\n",
              "    </tr>\n",
              "    <tr>\n",
              "      <th>LEIC</th>\n",
              "      <td>13.5</td>\n",
              "    </tr>\n",
              "    <tr>\n",
              "      <th>LEE</th>\n",
              "      <td>12.6</td>\n",
              "    </tr>\n",
              "    <tr>\n",
              "      <th>LEC</th>\n",
              "      <td>11.8</td>\n",
              "    </tr>\n",
              "    <tr>\n",
              "      <th>LEETC</th>\n",
              "      <td>11.2</td>\n",
              "    </tr>\n",
              "    <tr>\n",
              "      <th>LMATE</th>\n",
              "      <td>10.4</td>\n",
              "    </tr>\n",
              "    <tr>\n",
              "      <th>LEQB</th>\n",
              "      <td>6.1</td>\n",
              "    </tr>\n",
              "    <tr>\n",
              "      <th>LEIM</th>\n",
              "      <td>4.9</td>\n",
              "    </tr>\n",
              "    <tr>\n",
              "      <th>LEB</th>\n",
              "      <td>3.7</td>\n",
              "    </tr>\n",
              "    <tr>\n",
              "      <th>LTGM</th>\n",
              "      <td>3.4</td>\n",
              "    </tr>\n",
              "    <tr>\n",
              "      <th>LEIRT</th>\n",
              "      <td>3.2</td>\n",
              "    </tr>\n",
              "    <tr>\n",
              "      <th>OUTROS</th>\n",
              "      <td>1.3</td>\n",
              "    </tr>\n",
              "  </tbody>\n",
              "</table>\n",
              "</div>\n",
              "      <button class=\"colab-df-convert\" onclick=\"convertToInteractive('df-9cee0de9-02c6-4ffb-a456-787da7618c3e')\"\n",
              "              title=\"Convert this dataframe to an interactive table.\"\n",
              "              style=\"display:none;\">\n",
              "        \n",
              "  <svg xmlns=\"http://www.w3.org/2000/svg\" height=\"24px\"viewBox=\"0 0 24 24\"\n",
              "       width=\"24px\">\n",
              "    <path d=\"M0 0h24v24H0V0z\" fill=\"none\"/>\n",
              "    <path d=\"M18.56 5.44l.94 2.06.94-2.06 2.06-.94-2.06-.94-.94-2.06-.94 2.06-2.06.94zm-11 1L8.5 8.5l.94-2.06 2.06-.94-2.06-.94L8.5 2.5l-.94 2.06-2.06.94zm10 10l.94 2.06.94-2.06 2.06-.94-2.06-.94-.94-2.06-.94 2.06-2.06.94z\"/><path d=\"M17.41 7.96l-1.37-1.37c-.4-.4-.92-.59-1.43-.59-.52 0-1.04.2-1.43.59L10.3 9.45l-7.72 7.72c-.78.78-.78 2.05 0 2.83L4 21.41c.39.39.9.59 1.41.59.51 0 1.02-.2 1.41-.59l7.78-7.78 2.81-2.81c.8-.78.8-2.07 0-2.86zM5.41 20L4 18.59l7.72-7.72 1.47 1.35L5.41 20z\"/>\n",
              "  </svg>\n",
              "      </button>\n",
              "      \n",
              "  <style>\n",
              "    .colab-df-container {\n",
              "      display:flex;\n",
              "      flex-wrap:wrap;\n",
              "      gap: 12px;\n",
              "    }\n",
              "\n",
              "    .colab-df-convert {\n",
              "      background-color: #E8F0FE;\n",
              "      border: none;\n",
              "      border-radius: 50%;\n",
              "      cursor: pointer;\n",
              "      display: none;\n",
              "      fill: #1967D2;\n",
              "      height: 32px;\n",
              "      padding: 0 0 0 0;\n",
              "      width: 32px;\n",
              "    }\n",
              "\n",
              "    .colab-df-convert:hover {\n",
              "      background-color: #E2EBFA;\n",
              "      box-shadow: 0px 1px 2px rgba(60, 64, 67, 0.3), 0px 1px 3px 1px rgba(60, 64, 67, 0.15);\n",
              "      fill: #174EA6;\n",
              "    }\n",
              "\n",
              "    [theme=dark] .colab-df-convert {\n",
              "      background-color: #3B4455;\n",
              "      fill: #D2E3FC;\n",
              "    }\n",
              "\n",
              "    [theme=dark] .colab-df-convert:hover {\n",
              "      background-color: #434B5C;\n",
              "      box-shadow: 0px 1px 3px 1px rgba(0, 0, 0, 0.15);\n",
              "      filter: drop-shadow(0px 1px 2px rgba(0, 0, 0, 0.3));\n",
              "      fill: #FFFFFF;\n",
              "    }\n",
              "  </style>\n",
              "\n",
              "      <script>\n",
              "        const buttonEl =\n",
              "          document.querySelector('#df-9cee0de9-02c6-4ffb-a456-787da7618c3e button.colab-df-convert');\n",
              "        buttonEl.style.display =\n",
              "          google.colab.kernel.accessAllowed ? 'block' : 'none';\n",
              "\n",
              "        async function convertToInteractive(key) {\n",
              "          const element = document.querySelector('#df-9cee0de9-02c6-4ffb-a456-787da7618c3e');\n",
              "          const dataTable =\n",
              "            await google.colab.kernel.invokeFunction('convertToInteractive',\n",
              "                                                     [key], {});\n",
              "          if (!dataTable) return;\n",
              "\n",
              "          const docLinkHtml = 'Like what you see? Visit the ' +\n",
              "            '<a target=\"_blank\" href=https://colab.research.google.com/notebooks/data_table.ipynb>data table notebook</a>'\n",
              "            + ' to learn more about interactive tables.';\n",
              "          element.innerHTML = '';\n",
              "          dataTable['output_type'] = 'display_data';\n",
              "          await google.colab.output.renderOutput(dataTable, element);\n",
              "          const docLink = document.createElement('div');\n",
              "          docLink.innerHTML = docLinkHtml;\n",
              "          element.appendChild(docLink);\n",
              "        }\n",
              "      </script>\n",
              "    </div>\n",
              "  </div>\n",
              "  "
            ],
            "text/plain": [
              "          0\n",
              "LEM    17.9\n",
              "LEIC   13.5\n",
              "LEE    12.6\n",
              "LEC    11.8\n",
              "LEETC  11.2\n",
              "LMATE  10.4\n",
              "LEQB    6.1\n",
              "LEIM    4.9\n",
              "LEB     3.7\n",
              "LTGM    3.4\n",
              "LEIRT   3.2\n",
              "OUTROS  1.3"
            ]
          },
          "metadata": {},
          "execution_count": 280
        }
      ]
    },
    {
      "cell_type": "markdown",
      "source": [
        "## Elementos que variam no tempo"
      ],
      "metadata": {
        "id": "rviuPpZs64JN"
      }
    },
    {
      "cell_type": "code",
      "source": [
        "ANO = 2022\n",
        "IDADE_REFORMA = 67\n",
        "aposentados, ativos = aposentados_e_ativos(docentes, ANO, IDADE_REFORMA)"
      ],
      "metadata": {
        "id": "5Q-1mg3eqctK"
      },
      "execution_count": 254,
      "outputs": []
    },
    {
      "cell_type": "code",
      "source": [
        "# Rácio Alunos / ETI\n",
        "alunos_per_eti_isel = alunos_per_curso.sum() / ativos['ETI'].sum()\n",
        "eti_per_dept = ativos.groupby(['Departamento'])['ETI'].sum()\n",
        "alunos_per_eti_dept = alunos_per_dept / eti_per_dept\n",
        "alunos_per_eti_dept.dropna(inplace=True)"
      ],
      "metadata": {
        "id": "I2mGlnUZmvJm"
      },
      "execution_count": 255,
      "outputs": []
    },
    {
      "cell_type": "markdown",
      "source": [
        "### ETIs por departamento"
      ],
      "metadata": {
        "id": "Jyxhm7-CxeWg"
      }
    },
    {
      "cell_type": "code",
      "source": [
        "# Figura com ETI por departamento\n",
        "plt.figure(1, figsize=(12, 3))\n",
        "eti_per_dept.plot.bar()\n",
        "plt.suptitle('Total de ETIs por departamento')"
      ],
      "metadata": {
        "colab": {
          "base_uri": "https://localhost:8080/",
          "height": 0
        },
        "id": "2MHENvtzxoWk",
        "outputId": "5a16c350-cf2e-412d-897e-a06d5ccd5b17"
      },
      "execution_count": 256,
      "outputs": [
        {
          "output_type": "execute_result",
          "data": {
            "text/plain": [
              "Text(0.5, 0.98, 'Total de ETIs por departamento')"
            ]
          },
          "metadata": {},
          "execution_count": 256
        },
        {
          "output_type": "display_data",
          "data": {
            "image/png": "[encoded data removed]",
            "text/plain": [
              "<Figure size 864x216 with 1 Axes>"
            ]
          },
          "metadata": {
            "needs_background": "light"
          }
        }
      ]
    },
    {
      "cell_type": "markdown",
      "source": [
        "Fazer figura com os ETIs a diminuir com os anos"
      ],
      "metadata": {
        "id": "0lqxlYCdFOnp"
      }
    },
    {
      "cell_type": "code",
      "source": [
        "# Ritmo de aposentações\n",
        "ano_inicial = 2022\n",
        "ano_final = ano_inicial + 20\n",
        "df = pd.DataFrame()\n",
        "for ano in range(ano_inicial, ano_final+1):\n",
        "  ap, at = aposentados_e_ativos(docentes, ano, IDADE_REFORMA)\n",
        "  s = at.groupby(['Departamento'])['ETI'].sum()\n",
        "  s.name = str(ano)\n",
        "  df = df.append(s)\n",
        "\n",
        "percentage = df /df.loc[str(ano_inicial)]\n",
        "plt.figure(1, figsize=(12, 3))\n",
        "percentage.plot()\n",
        "plt.suptitle('Ritmo de aposentações por departamento')"
      ],
      "metadata": {
        "colab": {
          "base_uri": "https://localhost:8080/",
          "height": 0
        },
        "id": "4mbDs9d4s8R_",
        "outputId": "d3bc1562-394f-4478-80d1-62bd8cc8ab22"
      },
      "execution_count": 257,
      "outputs": [
        {
          "output_type": "execute_result",
          "data": {
            "text/plain": [
              "Text(0.5, 0.98, 'Ritmo de aposentações por departamento')"
            ]
          },
          "metadata": {},
          "execution_count": 257
        },
        {
          "output_type": "display_data",
          "data": {
            "text/plain": [
              "<Figure size 864x216 with 0 Axes>"
            ]
          },
          "metadata": {}
        },
        {
          "output_type": "display_data",
          "data": {
            "image/png": "[encoded data removed]",
            "text/plain": [
              "<Figure size 432x288 with 1 Axes>"
            ]
          },
          "metadata": {
            "needs_background": "light"
          }
        }
      ]
    },
    {
      "cell_type": "markdown",
      "source": [
        "### Rácio Alunos por ETI"
      ],
      "metadata": {
        "id": "an0R7cguEFSJ"
      }
    },
    {
      "cell_type": "code",
      "source": [
        "# Figura com rácio Alunos/ETI por departamento \n",
        "plt.figure(1, figsize=(14, 3))\n",
        "alunos_per_eti_dept.plot.bar()\n",
        "plt.axhline(y=alunos_per_eti_isel,linewidth=2, color='#d62728')\n",
        "plt.suptitle('Alunos / ETI')"
      ],
      "metadata": {
        "id": "2WtDsfhaoGUU",
        "colab": {
          "base_uri": "https://localhost:8080/",
          "height": 0
        },
        "outputId": "4b1d1448-07f4-463e-c65f-f318d80bc6ca"
      },
      "execution_count": 258,
      "outputs": [
        {
          "output_type": "execute_result",
          "data": {
            "text/plain": [
              "Text(0.5, 0.98, 'Alunos / ETI')"
            ]
          },
          "metadata": {},
          "execution_count": 258
        },
        {
          "output_type": "display_data",
          "data": {
            "image/png": "[encoded data removed]",
            "text/plain": [
              "<Figure size 1008x216 with 1 Axes>"
            ]
          },
          "metadata": {
            "needs_background": "light"
          }
        }
      ]
    },
    {
      "cell_type": "markdown",
      "source": [
        "### ETIs em falta\n",
        "\n"
      ],
      "metadata": {
        "id": "7o9YF3e6sAiQ"
      }
    },
    {
      "cell_type": "code",
      "source": [
        "# VIANA (Valor Ideal Atendendo ao Número de Alunos)\n",
        "alunos_per_eti_ideal = alunos_per_eti_isel\n",
        "viana = alunos_per_dept / alunos_per_eti_ideal\n",
        "fana = viana - eti_per_dept"
      ],
      "metadata": {
        "id": "pn0AigK0rrlJ"
      },
      "execution_count": 259,
      "outputs": []
    },
    {
      "cell_type": "code",
      "source": [
        "plt.figure(1, figsize=(12, 3))\n",
        "fana.plot.bar()\n",
        "plt.axhline(y=0,linewidth=2, color='#d62728')"
      ],
      "metadata": {
        "colab": {
          "base_uri": "https://localhost:8080/",
          "height": 0
        },
        "id": "PXX8bhWirrUw",
        "outputId": "4fcc52ed-e13b-442b-f6a1-eb798683de38"
      },
      "execution_count": 260,
      "outputs": [
        {
          "output_type": "execute_result",
          "data": {
            "text/plain": [
              "<matplotlib.lines.Line2D at 0x7fe34bc55950>"
            ]
          },
          "metadata": {},
          "execution_count": 260
        },
        {
          "output_type": "display_data",
          "data": {
            "image/png": "[encoded data removed]",
            "text/plain": [
              "<Figure size 864x216 with 1 Axes>"
            ]
          },
          "metadata": {
            "needs_background": "light"
          }
        }
      ]
    },
    {
      "cell_type": "markdown",
      "source": [
        "### Docentes por categoria"
      ],
      "metadata": {
        "id": "iVLYsbG3wQ-b"
      }
    },
    {
      "cell_type": "code",
      "source": [
        "categoria = cat_prof_coord"
      ],
      "metadata": {
        "id": "hjKUf5Jirc6I"
      },
      "execution_count": 261,
      "outputs": []
    },
    {
      "cell_type": "code",
      "source": [
        "# Ritmo de aposentações na categoria\n",
        "ano_inicial = 2022\n",
        "ano_final = ano_inicial + 10\n",
        "df = pd.DataFrame()\n",
        "for ano in range(ano_inicial, ano_final+1):\n",
        "  ap, at = aposentados_e_ativos(docentes, ano, IDADE_REFORMA)\n",
        "  s = docentes_per_categoria(at, categoria)\n",
        "  s.name = str(ano)\n",
        "  df = df.append(s)\n",
        "\n",
        "percentage = df /df.loc[str(ano_inicial)]\n",
        "plt.figure(1, figsize=(12, 3))\n",
        "percentage.plot()\n",
        "plt.suptitle('Ritmo de aposentações na categoria por departamento')"
      ],
      "metadata": {
        "colab": {
          "base_uri": "https://localhost:8080/",
          "height": 0
        },
        "id": "g1D_xRyY6Lk3",
        "outputId": "cb22f11f-7337-498c-b869-bbc36ad7c4e2"
      },
      "execution_count": 262,
      "outputs": [
        {
          "output_type": "execute_result",
          "data": {
            "text/plain": [
              "Text(0.5, 0.98, 'Ritmo de aposentações na categoria por departamento')"
            ]
          },
          "metadata": {},
          "execution_count": 262
        },
        {
          "output_type": "display_data",
          "data": {
            "text/plain": [
              "<Figure size 864x216 with 0 Axes>"
            ]
          },
          "metadata": {}
        },
        {
          "output_type": "display_data",
          "data": {
            "image/png": "[encoded data removed]",
            "text/plain": [
              "<Figure size 432x288 with 1 Axes>"
            ]
          },
          "metadata": {
            "needs_background": "light"
          }
        }
      ]
    },
    {
      "cell_type": "code",
      "source": [
        "plt.figure(1, figsize=(14, 3))\n",
        "docentes_per_categoria(ativos, categoria).plot.bar()\n",
        "plt.suptitle(f'{categoria}')"
      ],
      "metadata": {
        "colab": {
          "base_uri": "https://localhost:8080/",
          "height": 0
        },
        "id": "6l_p0zxvoGGo",
        "outputId": "0bdf725a-5b3c-49dc-f2b8-6b65f94f799a"
      },
      "execution_count": 263,
      "outputs": [
        {
          "output_type": "execute_result",
          "data": {
            "text/plain": [
              "Text(0.5, 0.98, \"['Prof. Coordenador', 'Prof. Coordenador c/ Agreg. ', 'Professor Coordenador Principal']\")"
            ]
          },
          "metadata": {},
          "execution_count": 263
        },
        {
          "output_type": "display_data",
          "data": {
            "image/png": "[encoded data removed]",
            "text/plain": [
              "<Figure size 1008x216 with 1 Axes>"
            ]
          },
          "metadata": {
            "needs_background": "light"
          }
        }
      ]
    },
    {
      "cell_type": "markdown",
      "source": [
        "# Equalização de recursos docentes"
      ],
      "metadata": {
        "id": "Lh3qVBW4wlZ2"
      }
    },
    {
      "cell_type": "markdown",
      "source": [
        "## Definir o rácio que se pretende uniformizar"
      ],
      "metadata": {
        "id": "2oR94jjKxDvf"
      }
    },
    {
      "cell_type": "code",
      "source": [
        "ratio_numerator = docentes_per_categoria(ativos, cat_prof_coord)"
      ],
      "metadata": {
        "id": "ijqlkfB1ybe_"
      },
      "execution_count": 264,
      "outputs": []
    },
    {
      "cell_type": "code",
      "source": [
        "ratio_denominator_1 = docentes_per_categoria(ativos, cat_quadro)\n",
        "ratio_denominator_2 = docentes_per_categoria(ativos, cat_quadro) + \\\n",
        "          0.3*docentes_per_categoria(ativos, cat_convidado)\n",
        "ratio_denominator_3 = docentes_per_categoria(ativos, cat_quadro) + \\\n",
        "          0.3*docentes_per_categoria(ativos, cat_convidado) + fana"
      ],
      "metadata": {
        "id": "V0qB3Zd9xLQM"
      },
      "execution_count": 265,
      "outputs": []
    },
    {
      "cell_type": "code",
      "source": [
        "ratio_denominator = ratio_denominator_1"
      ],
      "metadata": {
        "id": "R-_ct7F9y3Pt"
      },
      "execution_count": 266,
      "outputs": []
    },
    {
      "cell_type": "code",
      "source": [
        "ratio = ratio_numerator / ratio_denominator"
      ],
      "metadata": {
        "id": "b8AEYL4d0Bk5"
      },
      "execution_count": 267,
      "outputs": []
    },
    {
      "cell_type": "markdown",
      "source": [
        "## Bolo a distribuir"
      ],
      "metadata": {
        "id": "JId4ZrwP6aN1"
      }
    },
    {
      "cell_type": "code",
      "source": [
        "cake = 16\n",
        "target = 0.25"
      ],
      "metadata": {
        "id": "WJuw7No01kqH"
      },
      "execution_count": 268,
      "outputs": []
    },
    {
      "cell_type": "markdown",
      "source": [
        "## Critérios de distribuição"
      ],
      "metadata": {
        "id": "S54Z8J2X6kBy"
      }
    },
    {
      "cell_type": "code",
      "source": [
        "def how_many_to_target(target):\n",
        "  s = ratio_denominator * target - ratio_numerator\n",
        "  s.clip(lower=0, inplace=True)\n",
        "  return s"
      ],
      "metadata": {
        "id": "EnKPrWo766Lk"
      },
      "execution_count": 269,
      "outputs": []
    },
    {
      "cell_type": "code",
      "source": [
        "# METHOD 1 - Linear mapping\n",
        "def linear_map_to_cake(target, cake):\n",
        "  s = how_many_to_target(target)\n",
        "  return s / s.sum() * cake "
      ],
      "metadata": {
        "id": "PH-hcltM7rdX"
      },
      "execution_count": 270,
      "outputs": []
    },
    {
      "cell_type": "code",
      "source": [
        "# METHOD 2 - D'Hondt\n",
        "def method_hondt_to_cake(target, cake):\n",
        "  s = how_many_to_target(target)\n",
        "  list_of_series = [s/i for i in range(1, cake+1)]\n",
        "  df = pd.concat(list_of_series, axis=1)\n",
        "  vals = np.sort(np.ravel(df.to_numpy(copy=True)))[-1::-1]\n",
        "  df = df >= vals[cake-1]\n",
        "  return df.sum(axis=1)"
      ],
      "metadata": {
        "id": "I2y870wg7vTN"
      },
      "execution_count": 271,
      "outputs": []
    },
    {
      "cell_type": "code",
      "source": [
        "# METHOD 3 - Greedy iteration\n",
        "def one_at_a_time(cake):\n",
        "  numerator = ratio_numerator\n",
        "  denominator = ratio_denominator\n",
        "  s = pd.Series(data=0, index=LISTA_DEPTS)\n",
        "  for i in range(cake):\n",
        "    ratio = numerator / denominator\n",
        "    ix = ratio.idxmin()\n",
        "    s[ix] += 1\n",
        "    numerator[ix] += 1\n",
        "  return s"
      ],
      "metadata": {
        "id": "lZgexubL7u_T"
      },
      "execution_count": 272,
      "outputs": []
    },
    {
      "cell_type": "code",
      "source": [
        "linear_map_to_cake(target, cake)"
      ],
      "metadata": {
        "colab": {
          "base_uri": "https://localhost:8080/"
        },
        "id": "P8rsYgLk9vLi",
        "outputId": "6c2b0855-a47a-4b50-c4b8-fcf2bcd15cc9"
      },
      "execution_count": 273,
      "outputs": [
        {
          "output_type": "execute_result",
          "data": {
            "text/plain": [
              "DEEEA   0.5\n",
              "DEETC   7.6\n",
              "DEQ     0.5\n",
              "DEM     0.0\n",
              "DEC     2.8\n",
              "DF      0.0\n",
              "DM      4.6\n",
              "Name: ETI, dtype: float64"
            ]
          },
          "metadata": {},
          "execution_count": 273
        }
      ]
    },
    {
      "cell_type": "code",
      "source": [
        "method_hondt_to_cake(target, cake)"
      ],
      "metadata": {
        "colab": {
          "base_uri": "https://localhost:8080/"
        },
        "id": "Vl0iuc6a953M",
        "outputId": "9dc61404-c2e9-4c28-f8c0-b68fc76ea555"
      },
      "execution_count": 274,
      "outputs": [
        {
          "output_type": "execute_result",
          "data": {
            "text/plain": [
              "DEEEA    0\n",
              "DEETC    8\n",
              "DEQ      0\n",
              "DEM      0\n",
              "DEC      3\n",
              "DF       0\n",
              "DM       5\n",
              "dtype: int64"
            ]
          },
          "metadata": {},
          "execution_count": 274
        }
      ]
    },
    {
      "cell_type": "code",
      "source": [
        "one_at_a_time(cake)"
      ],
      "metadata": {
        "colab": {
          "base_uri": "https://localhost:8080/"
        },
        "id": "2rFBrIbI-EhJ",
        "outputId": "e229f266-e716-4cb4-e7de-1b663705441b"
      },
      "execution_count": 275,
      "outputs": [
        {
          "output_type": "execute_result",
          "data": {
            "text/plain": [
              "DEEEA    1\n",
              "DEETC    7\n",
              "DEQ      1\n",
              "DEM      0\n",
              "DEC      3\n",
              "DF       0\n",
              "DM       4\n",
              "dtype: int64"
            ]
          },
          "metadata": {},
          "execution_count": 275
        }
      ]
    },
    {
      "cell_type": "markdown",
      "source": [
        "# Testes"
      ],
      "metadata": {
        "id": "5tE2_Y7NzK7M"
      }
    },
    {
      "cell_type": "code",
      "execution_count": 276,
      "metadata": {
        "id": "mS2FEAGtw5mp",
        "colab": {
          "base_uri": "https://localhost:8080/",
          "height": 35
        },
        "outputId": "621560ce-a5c8-4124-9cd9-8750d3899736"
      },
      "outputs": [
        {
          "output_type": "display_data",
          "data": {
            "text/plain": [
              "<Figure size 936x288 with 0 Axes>"
            ]
          },
          "metadata": {}
        }
      ],
      "source": [
        "plt.figure(1, figsize=(13, 4))\n",
        "def func(ano):\n",
        "  IDADE_REFORMA = 70\n",
        "  aposentados, ativos = aposentados_e_ativos(docentes, ano, IDADE_REFORMA)\n",
        "  categorias = ['Professor Adjunto', 'Prof. Coordenador']\n",
        "  subset = ativos.groupby(['Departamento', 'Categoria'])['ETI'].count()\n",
        "  subset = subset.loc[(slice(None), categorias)]\n",
        "  subset = subset.droplevel(level=1)\n",
        "  subset = subset.groupby(subset.index).sum()\n",
        "  subset.plot.bar()"
      ]
    },
    {
      "cell_type": "code",
      "execution_count": 277,
      "metadata": {
        "id": "kHOuu35ew5mq",
        "colab": {
          "base_uri": "https://localhost:8080/",
          "height": 353,
          "referenced_widgets": [
            "6340e6b796dc431685688bd986654ab6",
            "2c2b120210c44f008ce833a17a3ac001",
            "d8261166153f46bfaa7339b2e18edb56",
            "725c2ed7942149a9a9ce6dd1eb3b993d",
            "6fca4a7f4fb84ee8affd69b696ceb72a",
            "be52d962067049e49b4876e9d7faf044",
            "a35b5036492c40dbb3a817bd5328406c"
          ]
        },
        "outputId": "63b84651-b7e6-44c2-f352-b965c031cabe"
      },
      "outputs": [
        {
          "output_type": "display_data",
          "data": {
            "application/vnd.jupyter.widget-view+json": {
              "model_id": "6340e6b796dc431685688bd986654ab6",
              "version_minor": 0,
              "version_major": 2
            },
            "text/plain": [
              "interactive(children=(IntSlider(value=2032, description='ano', max=2042, min=2022), Output()), _dom_classes=('…"
            ]
          },
          "metadata": {}
        },
        {
          "output_type": "execute_result",
          "data": {
            "text/plain": [
              "<function __main__.func>"
            ]
          },
          "metadata": {},
          "execution_count": 277
        }
      ],
      "source": [
        "interact(func, ano=(2022, 2042))        "
      ]
    }
  ],
  "metadata": {
    "kernelspec": {
      "display_name": "Python 3 (ipykernel)",
      "language": "python",
      "name": "python3"
    },
    "language_info": {
      "codemirror_mode": {
        "name": "ipython",
        "version": 3
      },
      "file_extension": ".py",
      "mimetype": "text/x-python",
      "name": "python",
      "nbconvert_exporter": "python",
      "pygments_lexer": "ipython3",
      "version": "3.9.7"
    },
    "colab": {
      "name": "RHDocentes_third_draft.ipynb",
      "provenance": [],
      "toc_visible": true,
      "include_colab_link": true
    },
    "widgets": {
      "application/vnd.jupyter.widget-state+json": {
        "6340e6b796dc431685688bd986654ab6": {
          "model_module": "@jupyter-widgets/controls",
          "model_name": "VBoxModel",
          "model_module_version": "1.5.0",
          "state": {
            "_view_name": "VBoxView",
            "_dom_classes": [
              "widget-interact"
            ],
            "_model_name": "VBoxModel",
            "_view_module": "@jupyter-widgets/controls",
            "_model_module_version": "1.5.0",
            "_view_count": null,
            "_view_module_version": "1.5.0",
            "box_style": "",
            "layout": "IPY_MODEL_2c2b120210c44f008ce833a17a3ac001",
            "_model_module": "@jupyter-widgets/controls",
            "children": [
              "IPY_MODEL_d8261166153f46bfaa7339b2e18edb56",
              "IPY_MODEL_725c2ed7942149a9a9ce6dd1eb3b993d"
            ]
          }
        },
        "2c2b120210c44f008ce833a17a3ac001": {
          "model_module": "@jupyter-widgets/base",
          "model_name": "LayoutModel",
          "model_module_version": "1.2.0",
          "state": {
            "_view_name": "LayoutView",
            "grid_template_rows": null,
            "right": null,
            "justify_content": null,
            "_view_module": "@jupyter-widgets/base",
            "overflow": null,
            "_model_module_version": "1.2.0",
            "_view_count": null,
            "flex_flow": null,
            "width": null,
            "min_width": null,
            "border": null,
            "align_items": null,
            "bottom": null,
            "_model_module": "@jupyter-widgets/base",
            "top": null,
            "grid_column": null,
            "overflow_y": null,
            "overflow_x": null,
            "grid_auto_flow": null,
            "grid_area": null,
            "grid_template_columns": null,
            "flex": null,
            "_model_name": "LayoutModel",
            "justify_items": null,
            "grid_row": null,
            "max_height": null,
            "align_content": null,
            "visibility": null,
            "align_self": null,
            "height": null,
            "min_height": null,
            "padding": null,
            "grid_auto_rows": null,
            "grid_gap": null,
            "max_width": null,
            "order": null,
            "_view_module_version": "1.2.0",
            "grid_template_areas": null,
            "object_position": null,
            "object_fit": null,
            "grid_auto_columns": null,
            "margin": null,
            "display": null,
            "left": null
          }
        },
        "d8261166153f46bfaa7339b2e18edb56": {
          "model_module": "@jupyter-widgets/controls",
          "model_name": "IntSliderModel",
          "model_module_version": "1.5.0",
          "state": {
            "_view_name": "IntSliderView",
            "style": "IPY_MODEL_6fca4a7f4fb84ee8affd69b696ceb72a",
            "_dom_classes": [],
            "description": "ano",
            "step": 1,
            "_model_name": "IntSliderModel",
            "orientation": "horizontal",
            "max": 2042,
            "_view_module": "@jupyter-widgets/controls",
            "_model_module_version": "1.5.0",
            "value": 2032,
            "_view_count": null,
            "disabled": false,
            "_view_module_version": "1.5.0",
            "min": 2022,
            "continuous_update": true,
            "readout_format": "d",
            "description_tooltip": null,
            "readout": true,
            "_model_module": "@jupyter-widgets/controls",
            "layout": "IPY_MODEL_be52d962067049e49b4876e9d7faf044"
          }
        },
        "725c2ed7942149a9a9ce6dd1eb3b993d": {
          "model_module": "@jupyter-widgets/output",
          "model_name": "OutputModel",
          "model_module_version": "1.0.0",
          "state": {
            "_view_name": "OutputView",
            "msg_id": "",
            "_dom_classes": [],
            "_model_name": "OutputModel",
            "outputs": [
              {
                "output_type": "display_data",
                "data": {
                  "image/png": "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\n",
                  "text/plain": "<Figure size 432x288 with 1 Axes>"
                },
                "metadata": {
                  "needs_background": "light"
                }
              }
            ],
            "_view_module": "@jupyter-widgets/output",
            "_model_module_version": "1.0.0",
            "_view_count": null,
            "_view_module_version": "1.0.0",
            "layout": "IPY_MODEL_a35b5036492c40dbb3a817bd5328406c",
            "_model_module": "@jupyter-widgets/output"
          }
        },
        "6fca4a7f4fb84ee8affd69b696ceb72a": {
          "model_module": "@jupyter-widgets/controls",
          "model_name": "SliderStyleModel",
          "model_module_version": "1.5.0",
          "state": {
            "_view_name": "StyleView",
            "handle_color": null,
            "_model_name": "SliderStyleModel",
            "description_width": "",
            "_view_module": "@jupyter-widgets/base",
            "_model_module_version": "1.5.0",
            "_view_count": null,
            "_view_module_version": "1.2.0",
            "_model_module": "@jupyter-widgets/controls"
          }
        },
        "be52d962067049e49b4876e9d7faf044": {
          "model_module": "@jupyter-widgets/base",
          "model_name": "LayoutModel",
          "model_module_version": "1.2.0",
          "state": {
            "_view_name": "LayoutView",
            "grid_template_rows": null,
            "right": null,
            "justify_content": null,
            "_view_module": "@jupyter-widgets/base",
            "overflow": null,
            "_model_module_version": "1.2.0",
            "_view_count": null,
            "flex_flow": null,
            "width": null,
            "min_width": null,
            "border": null,
            "align_items": null,
            "bottom": null,
            "_model_module": "@jupyter-widgets/base",
            "top": null,
            "grid_column": null,
            "overflow_y": null,
            "overflow_x": null,
            "grid_auto_flow": null,
            "grid_area": null,
            "grid_template_columns": null,
            "flex": null,
            "_model_name": "LayoutModel",
            "justify_items": null,
            "grid_row": null,
            "max_height": null,
            "align_content": null,
            "visibility": null,
            "align_self": null,
            "height": null,
            "min_height": null,
            "padding": null,
            "grid_auto_rows": null,
            "grid_gap": null,
            "max_width": null,
            "order": null,
            "_view_module_version": "1.2.0",
            "grid_template_areas": null,
            "object_position": null,
            "object_fit": null,
            "grid_auto_columns": null,
            "margin": null,
            "display": null,
            "left": null
          }
        },
        "a35b5036492c40dbb3a817bd5328406c": {
          "model_module": "@jupyter-widgets/base",
          "model_name": "LayoutModel",
          "model_module_version": "1.2.0",
          "state": {
            "_view_name": "LayoutView",
            "grid_template_rows": null,
            "right": null,
            "justify_content": null,
            "_view_module": "@jupyter-widgets/base",
            "overflow": null,
            "_model_module_version": "1.2.0",
            "_view_count": null,
            "flex_flow": null,
            "width": null,
            "min_width": null,
            "border": null,
            "align_items": null,
            "bottom": null,
            "_model_module": "@jupyter-widgets/base",
            "top": null,
            "grid_column": null,
            "overflow_y": null,
            "overflow_x": null,
            "grid_auto_flow": null,
            "grid_area": null,
            "grid_template_columns": null,
            "flex": null,
            "_model_name": "LayoutModel",
            "justify_items": null,
            "grid_row": null,
            "max_height": null,
            "align_content": null,
            "visibility": null,
            "align_self": null,
            "height": null,
            "min_height": null,
            "padding": null,
            "grid_auto_rows": null,
            "grid_gap": null,
            "max_width": null,
            "order": null,
            "_view_module_version": "1.2.0",
            "grid_template_areas": null,
            "object_position": null,
            "object_fit": null,
            "grid_auto_columns": null,
            "margin": null,
            "display": null,
            "left": null
          }
        }
      }
    }
  },
  "nbformat": 4,
  "nbformat_minor": 0
}