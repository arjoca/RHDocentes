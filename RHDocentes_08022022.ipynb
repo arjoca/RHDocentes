{
  "nbformat": 4,
  "nbformat_minor": 0,
  "metadata": {
    "colab": {
      "name": "RHDocentes_08022022.ipynb",
      "provenance": [],
      "toc_visible": true,
      "authorship_tag": "ABX9TyPonTssQuzDHq1ssr4yHg35",
      "include_colab_link": true
    },
    "kernelspec": {
      "name": "python3",
      "display_name": "Python 3"
    },
    "language_info": {
      "name": "python"
    }
  },
  "cells": [
    {
      "cell_type": "markdown",
      "metadata": {
        "id": "view-in-github",
        "colab_type": "text"
      },
      "source": [
        "<a href=\"https://colab.research.google.com/github/arjoca/RHDocentes/blob/main/RHDocentes_08022022.ipynb\" target=\"_parent\"><img src=\"https://colab.research.google.com/assets/colab-badge.svg\" alt=\"Open In Colab\"/></a>"
      ]
    },
    {
      "cell_type": "markdown",
      "source": [
        "# Índice"
      ],
      "metadata": {
        "id": "Je1aUjfP0yOq"
      }
    },
    {
      "cell_type": "markdown",
      "source": [
        "# Narrativa"
      ],
      "metadata": {
        "id": "cpkkE7jH0sy_"
      }
    },
    {
      "cell_type": "markdown",
      "source": [
        "# Fontes de informação\n",
        "\n",
        "*   Ficheiro \"Afetacao_Financeira_ADs_Cursos_2021_v01.xlsx\"\n",
        "*   Ficheiro \"RAIDES_0.xlsx\"\n",
        "\n",
        "Informação que depois de filtrada e anonimizada deu origem aos dados guardados no ficheiro [clean_data.xlsx](https://github.com/arjoca/RHDocentes/blob/main/clean_data.xlsx), usados neste estudo."
      ],
      "metadata": {
        "id": "D--VSWG109MQ"
      }
    },
    {
      "cell_type": "markdown",
      "source": [
        "# Preparação"
      ],
      "metadata": {
        "id": "25yEfwrF1hQd"
      }
    },
    {
      "cell_type": "markdown",
      "source": [
        "## Importação de módulos e leitura de dados"
      ],
      "metadata": {
        "id": "_baJCALaUHhc"
      }
    },
    {
      "cell_type": "code",
      "source": [
        "# Importação de módulos\n",
        "import numpy as np\n",
        "import pandas as pd\n",
        "import matplotlib.pyplot as plt\n",
        "from datetime import datetime, timedelta"
      ],
      "metadata": {
        "id": "UF6cJzSF0xSB"
      },
      "execution_count": 1,
      "outputs": []
    },
    {
      "cell_type": "code",
      "source": [
        "# Leitura de dados\n",
        "base_url = 'https://raw.githubusercontent.com/arjoca/RHDocentes/main/'\n",
        "docentes = pd.read_csv(base_url + 'docentes.csv', encoding= 'unicode_escape', \n",
        "                       parse_dates=['Data Nascimento'], infer_datetime_format=True)\n",
        "alunos_per_curso = pd.read_csv(base_url + 'alunos.csv', encoding= 'unicode_escape', index_col=0)\n",
        "horas = pd.read_csv(base_url + 'horas.csv', encoding= 'unicode_escape', index_col=0)"
      ],
      "metadata": {
        "id": "ptxmB1t613TV"
      },
      "execution_count": 2,
      "outputs": []
    },
    {
      "cell_type": "markdown",
      "source": [
        "## Inicializações"
      ],
      "metadata": {
        "id": "p65zNlZgUTeG"
      }
    },
    {
      "cell_type": "code",
      "source": [
        "# Formatação de números decimais\n",
        "pd.options.display.float_format = \"{:,.1f}\".format"
      ],
      "metadata": {
        "id": "9Yqfq8tn2CUw"
      },
      "execution_count": 3,
      "outputs": []
    },
    {
      "cell_type": "code",
      "source": [
        "# Designações dos cursos e departamentos\n",
        "LISTA_DEPTS = docentes['Departamento'].unique()\n",
        "LISTA_CURSOS = alunos_per_curso.index.unique()"
      ],
      "metadata": {
        "id": "hzleD5Mj2LWI"
      },
      "execution_count": 4,
      "outputs": []
    },
    {
      "cell_type": "code",
      "source": [
        "# Designações das categorias de docentes\n",
        "cat_prof_coord = ['Prof. Coordenador', 'Prof. Coordenador c/ Agreg. ', 'Professor Coordenador Principal']\n",
        "cat_convidado = ['Assistente Convidado', 'Professor Adjunto Convidado']\n",
        "cat_adjunto = ['Professor Adjunto']\n",
        "cat_assistente = ['Assistente do 2. Trienio', 'Assistente', 'Equiparado Assistente 2. Trienio']\n",
        "cat_monitor = ['Monitor']\n",
        "cat_quadro = cat_prof_coord + cat_adjunto\n",
        "cat_todas = cat_quadro + cat_convidado + cat_assistente + cat_monitor"
      ],
      "metadata": {
        "id": "wzavEGUX2Pew"
      },
      "execution_count": 5,
      "outputs": []
    },
    {
      "cell_type": "markdown",
      "source": [
        "## Definição de funções"
      ],
      "metadata": {
        "id": "aDhoCFK6T9Bt"
      }
    },
    {
      "cell_type": "code",
      "source": [
        "# Filtragem de docentes atendendo à sua idade de aposentação \n",
        "def aposentados_e_ativos(df, ano, idade_reforma):\n",
        "  idade = (datetime(ano, 1, 1) - df['Data Nascimento'])/timedelta(days=365.25)\n",
        "  aposentados = df[idade > idade_reforma]\n",
        "  ativos = df.drop(index=aposentados.index)\n",
        "  return aposentados, ativos"
      ],
      "metadata": {
        "id": "l2mTrprr2S8p"
      },
      "execution_count": 6,
      "outputs": []
    },
    {
      "cell_type": "code",
      "source": [
        "# Filtragem de docentes atendendo à sua categoria\n",
        "def docentes_per_categoria(df, categoria):\n",
        "  s = df.groupby(['Departamento', 'Categoria'])['ETI'].count()\n",
        "  s = s.loc[(slice(None), categoria)].droplevel(level=1)\n",
        "  s = s.groupby(s.index).sum()\n",
        "  s = pd.Series(s, index=LISTA_DEPTS)\n",
        "  return s.fillna(0)"
      ],
      "metadata": {
        "id": "ApJsbc5DUcfm"
      },
      "execution_count": 7,
      "outputs": []
    },
    {
      "cell_type": "code",
      "source": [
        "# Prepara para visualizar hierarquias de dados (tipo treemaps)\n",
        "def prepare_to_treemap(tabela_horas, dept=None, threshold_percentage=0.01):\n",
        "  s = tabela_horas[dept].copy() if dept is not None else tabela_horas.sum(axis=1)\n",
        "  total = s.values.sum()\n",
        "  threshold = threshold_percentage * total\n",
        "  s = s[s > threshold]\n",
        "  remainder = total - s.values.sum()\n",
        "  s = s.append(pd.Series(data=[remainder], index=['OUTROS']))\n",
        "  return s.sort_values(ascending=False)"
      ],
      "metadata": {
        "id": "-Z8pRwIqUcTB"
      },
      "execution_count": 8,
      "outputs": []
    },
    {
      "cell_type": "code",
      "source": [
        "# Gráfico simples com barras/tabela e linha de referência\n",
        "def plot_table_series(s, title='', ref=None, size=(12,3)):\n",
        "  fig, ax = plt.subplots(1, 1, figsize=size)\n",
        "  s.name = ''\n",
        "  df = s.to_frame()\n",
        "  df.plot(kind='bar', table=np.round(df.T, 1), ax=ax, legend=None)\n",
        "  if ref is not None:\n",
        "    ax.axhline(y=ref, linewidth=2, color='#d62728')\n",
        "  ax.xaxis.set_visible(False)\n",
        "  ax.set_title(title);"
      ],
      "metadata": {
        "id": "z-T-G2_3PY6j"
      },
      "execution_count": 9,
      "outputs": []
    },
    {
      "cell_type": "markdown",
      "source": [
        "# Exploração de dados"
      ],
      "metadata": {
        "id": "gnfc1o0Q3asl"
      }
    },
    {
      "cell_type": "markdown",
      "source": [
        "## Fotografia do ISEL (hoje)"
      ],
      "metadata": {
        "id": "bvDbQwXF3nNa"
      }
    },
    {
      "cell_type": "code",
      "source": [
        "# Horas de contacto usadas para determinar relações entre cursos e departamentos\n",
        "horas_per_dept = horas.sum()\n",
        "horas_per_curso = horas.sum(axis=1)\n",
        "\n",
        "pesos_dept_per_curso = horas.T / horas_per_curso\n",
        "pesos_curso_per_dept = horas / horas_per_dept\n",
        "\n",
        "# Alunos por departamento\n",
        "alunos_per_dept = pd.DataFrame(np.dot(pesos_dept_per_curso, alunos_per_curso),\n",
        "                              index=pesos_dept_per_curso.index, columns=['Alunos'])\n",
        "alunos_per_curso = alunos_per_curso['Alunos']\n",
        "alunos_per_dept = alunos_per_dept['Alunos']\n",
        "alunos_per_dept.name = ''\n",
        "alunos_per_dept = alunos_per_dept.sort_index()\n",
        "\n",
        "# ETIs e rácios alunos/ETI\n",
        "eti_per_dept = docentes.groupby(['Departamento'])['ETI'].sum()\n",
        "eti_per_dept.name = ''\n",
        "alunos_per_eti_isel = alunos_per_dept.sum() / eti_per_dept.sum()\n",
        "alunos_per_eti_dept = alunos_per_dept / eti_per_dept"
      ],
      "metadata": {
        "id": "12OkqrtG31X9"
      },
      "execution_count": 10,
      "outputs": []
    },
    {
      "cell_type": "markdown",
      "source": [
        "### Visão geral"
      ],
      "metadata": {
        "id": "OWzdUiio5dx_"
      }
    },
    {
      "cell_type": "code",
      "source": [
        "# Alunos por departamento\n",
        "plot_table_series(alunos_per_dept, 'Alunos por departamento')"
      ],
      "metadata": {
        "colab": {
          "base_uri": "https://localhost:8080/",
          "height": 234
        },
        "id": "MXRV4sQS4IHs",
        "outputId": "b991816a-f848-42bc-bb69-6c246a448c68"
      },
      "execution_count": 11,
      "outputs": [
        {
          "output_type": "display_data",
          "data": {
            "image/png": "[encoded data removed]",
            "text/plain": [
              "<Figure size 864x216 with 1 Axes>"
            ]
          },
          "metadata": {
            "needs_background": "light"
          }
        }
      ]
    },
    {
      "cell_type": "code",
      "source": [
        "# ETIs por departamento\n",
        "plot_table_series(eti_per_dept, 'ETIs por departamento')"
      ],
      "metadata": {
        "colab": {
          "base_uri": "https://localhost:8080/",
          "height": 234
        },
        "id": "FsJ50AQl5F32",
        "outputId": "9a970165-795c-422a-f1ba-04e2df184d07"
      },
      "execution_count": 12,
      "outputs": [
        {
          "output_type": "display_data",
          "data": {
            "image/png": "[encoded data removed]",
            "text/plain": [
              "<Figure size 864x216 with 1 Axes>"
            ]
          },
          "metadata": {
            "needs_background": "light"
          }
        }
      ]
    },
    {
      "cell_type": "markdown",
      "source": [
        "### Assimetrias"
      ],
      "metadata": {
        "id": "AyUzBqWzFoWo"
      }
    },
    {
      "cell_type": "code",
      "source": [
        "# Rácio Alunos / ETI\n",
        "plot_table_series(alunos_per_dept / eti_per_dept, 'Rácio Alunos/ETI', \n",
        "            ref=alunos_per_eti_isel)"
      ],
      "metadata": {
        "colab": {
          "base_uri": "https://localhost:8080/",
          "height": 234
        },
        "id": "LjJh5Siv5qnP",
        "outputId": "7e12c772-fe46-4479-e79b-8e56a199b343"
      },
      "execution_count": 13,
      "outputs": [
        {
          "output_type": "display_data",
          "data": {
            "image/png": "[encoded data removed]",
            "text/plain": [
              "<Figure size 864x216 with 1 Axes>"
            ]
          },
          "metadata": {
            "needs_background": "light"
          }
        }
      ]
    },
    {
      "cell_type": "markdown",
      "source": [
        "### Eficiências relativas dos departamentos"
      ],
      "metadata": {
        "id": "QOSPrkaMGMnR"
      }
    },
    {
      "cell_type": "code",
      "source": [
        "# Eficiência relativa dos departamentos/cursos\n",
        "alunos_per_hora_isel = alunos_per_dept.sum() / horas_per_dept.sum()\n",
        "horas_per_eti_isel = horas_per_curso.sum() / eti_per_dept.sum()\n",
        "eff_alunos_per_hora_dept = 100 * alunos_per_dept / horas_per_dept / alunos_per_hora_isel\n",
        "eff_horas_per_eti_dept = 100 * horas_per_dept / eti_per_dept / horas_per_eti_isel\n",
        "eff_alunos_per_hora_curso = 100 * alunos_per_curso / horas_per_curso / alunos_per_hora_isel\n",
        "eff_alunos_per_hora_curso.dropna(inplace=True)"
      ],
      "metadata": {
        "id": "DcpMI1GyF8Kz"
      },
      "execution_count": 14,
      "outputs": []
    },
    {
      "cell_type": "code",
      "source": [
        "# Horas de contacto por ETI\n",
        "plot_table_series(eff_horas_per_eti_dept, 'Horas de contacto por ETI', \n",
        "            ref=100)"
      ],
      "metadata": {
        "colab": {
          "base_uri": "https://localhost:8080/",
          "height": 234
        },
        "id": "icONGmM9LaYk",
        "outputId": "b04e5dcd-a12f-4790-84e8-71fe046a3086"
      },
      "execution_count": 15,
      "outputs": [
        {
          "output_type": "display_data",
          "data": {
            "image/png": "[encoded data removed]",
            "text/plain": [
              "<Figure size 864x216 with 1 Axes>"
            ]
          },
          "metadata": {
            "needs_background": "light"
          }
        }
      ]
    },
    {
      "cell_type": "code",
      "source": [
        "# Alunos por hora de contacto\n",
        "plot_table_series(eff_alunos_per_hora_dept, 'Alunos por hora de contacto', ref=100)\n"
      ],
      "metadata": {
        "colab": {
          "base_uri": "https://localhost:8080/",
          "height": 234
        },
        "id": "J6ReWFalGeh3",
        "outputId": "2c230cb5-51a7-4265-ca6e-4267389acbcc"
      },
      "execution_count": 16,
      "outputs": [
        {
          "output_type": "display_data",
          "data": {
            "image/png": "[encoded data removed]",
            "text/plain": [
              "<Figure size 864x216 with 1 Axes>"
            ]
          },
          "metadata": {
            "needs_background": "light"
          }
        }
      ]
    },
    {
      "cell_type": "code",
      "source": [
        "\n",
        "fig, ax = plt.subplots(1, 1, figsize=(12,3))\n",
        "df = pd.DataFrame(data={'Horas/ETI':eff_horas_per_eti_dept,'Alunos/Hora':eff_alunos_per_hora_dept})\n",
        "df.plot(kind='bar', ax=ax);"
      ],
      "metadata": {
        "colab": {
          "base_uri": "https://localhost:8080/",
          "height": 234
        },
        "id": "LaAKLEkOL_-D",
        "outputId": "07aee537-9a34-4b26-ca2c-e8c20ad16e88"
      },
      "execution_count": 17,
      "outputs": [
        {
          "output_type": "display_data",
          "data": {
            "image/png": "[encoded data removed]",
            "text/plain": [
              "<Figure size 864x216 with 1 Axes>"
            ]
          },
          "metadata": {
            "needs_background": "light"
          }
        }
      ]
    },
    {
      "cell_type": "markdown",
      "source": [
        "Notar que:\n",
        "\n",
        "$\\frac{\\text{Alunos}}{\\text{ETI}} = \\frac{\\text{Hora}}{\\text{ETI}} \\frac{\\text{Alunos}}{\\text{Hora}}$ \n",
        "\n",
        "Carga docente x Dimensão de turmas"
      ],
      "metadata": {
        "id": "Y6okPELsXSQO"
      }
    },
    {
      "cell_type": "markdown",
      "source": [
        "### Eficiência relativa de cada curso"
      ],
      "metadata": {
        "id": "52xCg3R3ZwsO"
      }
    },
    {
      "cell_type": "code",
      "source": [
        "# Figura com eficiência relativa de cada curso (licenciatura)\n",
        "plot_table_series(eff_alunos_per_hora_curso[:11], 'Alunos por hora de contacto', ref=100)"
      ],
      "metadata": {
        "colab": {
          "base_uri": "https://localhost:8080/",
          "height": 234
        },
        "id": "SIF12rQ5Z6y0",
        "outputId": "19e5672c-6e75-4ce1-8bf0-c34d4267257c"
      },
      "execution_count": 18,
      "outputs": [
        {
          "output_type": "display_data",
          "data": {
            "image/png": "[encoded data removed]",
            "text/plain": [
              "<Figure size 864x216 with 1 Axes>"
            ]
          },
          "metadata": {
            "needs_background": "light"
          }
        }
      ]
    },
    {
      "cell_type": "code",
      "source": [
        "# Figura com eficiência relativa de cada curso (mestrado)\n",
        "plot_table_series(eff_alunos_per_hora_curso[11:], 'Alunos por hora de contacto', ref=100)"
      ],
      "metadata": {
        "colab": {
          "base_uri": "https://localhost:8080/",
          "height": 234
        },
        "id": "qapihvZyaVs_",
        "outputId": "9c6975c7-74d3-44fb-856a-10ebf637f8ac"
      },
      "execution_count": 19,
      "outputs": [
        {
          "output_type": "display_data",
          "data": {
            "image/png": "[encoded data removed]",
            "text/plain": [
              "<Figure size 864x216 with 1 Axes>"
            ]
          },
          "metadata": {
            "needs_background": "light"
          }
        }
      ]
    },
    {
      "cell_type": "markdown",
      "source": [
        "### ETIs em Falta"
      ],
      "metadata": {
        "id": "Nudt20WnD56M"
      }
    },
    {
      "cell_type": "code",
      "source": [
        "# VIANA (Valor Ideal Atendendo ao Número de Alunos)\n",
        "# FANA (em Falta Atendendo ao Número de Alunos)\n",
        "alunos_per_eti_ideal = alunos_per_eti_isel\n",
        "viana = alunos_per_dept / alunos_per_eti_ideal\n",
        "fana = viana - eti_per_dept"
      ],
      "metadata": {
        "id": "1C37frPjEB9A"
      },
      "execution_count": 20,
      "outputs": []
    },
    {
      "cell_type": "code",
      "source": [
        "plot_table_series(fana, 'ETIs em Falta', ref=0)"
      ],
      "metadata": {
        "colab": {
          "base_uri": "https://localhost:8080/",
          "height": 234
        },
        "id": "KWP8RjOhE8ER",
        "outputId": "70135811-a976-4642-b7b5-fc988000a4a8"
      },
      "execution_count": 21,
      "outputs": [
        {
          "output_type": "display_data",
          "data": {
            "image/png": "[encoded data removed]",
            "text/plain": [
              "<Figure size 864x216 with 1 Axes>"
            ]
          },
          "metadata": {
            "needs_background": "light"
          }
        }
      ]
    },
    {
      "cell_type": "markdown",
      "source": [
        "## Olhar para o Futuro"
      ],
      "metadata": {
        "id": "INk4c54b3uKR"
      }
    },
    {
      "cell_type": "code",
      "source": [
        ""
      ],
      "metadata": {
        "id": "1al9hp4G2ihZ"
      },
      "execution_count": 21,
      "outputs": []
    }
  ]
}